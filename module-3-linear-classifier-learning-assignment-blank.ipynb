{
 "cells": [
  {
   "cell_type": "markdown",
   "metadata": {},
   "source": [
    "# Implementing logistic regression from scratch\n",
    "\n",
    "The goal of this notebook is to implement your own logistic regression classifier. You will:\n",
    "\n",
    " * Extract features from Amazon product reviews.\n",
    " * Convert an SFrame into a NumPy array.\n",
    " * Implement the link function for logistic regression.\n",
    " * Write a function to compute the derivative of the log likelihood function with respect to a single coefficient.\n",
    " * Implement gradient ascent.\n",
    " * Given a set of coefficients, predict sentiments.\n",
    " * Compute classification accuracy for the logistic regression model.\n",
    " \n",
    "Let's get started!\n",
    "    \n",
    "## Fire up GraphLab Create\n",
    "\n",
    "Make sure you have the latest version of GraphLab Create. Upgrade by\n",
    "```\n",
    "   pip install graphlab-create --upgrade\n",
    "```\n",
    "See [this page](https://dato.com/download/) for detailed instructions on upgrading."
   ]
  },
  {
   "cell_type": "code",
   "execution_count": 1,
   "metadata": {},
   "outputs": [],
   "source": [
    "import graphlab"
   ]
  },
  {
   "cell_type": "markdown",
   "metadata": {},
   "source": [
    "## Load review dataset"
   ]
  },
  {
   "cell_type": "markdown",
   "metadata": {},
   "source": [
    "For this assignment, we will use a subset of the Amazon product review dataset. The subset was chosen to contain similar numbers of positive and negative reviews, as the original dataset consisted primarily of positive reviews."
   ]
  },
  {
   "cell_type": "code",
   "execution_count": 2,
   "metadata": {},
   "outputs": [
    {
     "name": "stdout",
     "output_type": "stream",
     "text": [
      "This non-commercial license of GraphLab Create for academic use is assigned to pratyush.kerhalkar@learner.manipal.edu and will expire on February 05, 2020.\n"
     ]
    },
    {
     "name": "stderr",
     "output_type": "stream",
     "text": [
      "[INFO] graphlab.cython.cy_server: GraphLab Create v2.1 started. Logging: /tmp/graphlab_server_1569609179.log\n"
     ]
    }
   ],
   "source": [
    "products = graphlab.SFrame('amazon_baby_subset.gl/')"
   ]
  },
  {
   "cell_type": "markdown",
   "metadata": {},
   "source": [
    "One column of this dataset is 'sentiment', corresponding to the class label with +1 indicating a review with positive sentiment and -1 indicating one with negative sentiment."
   ]
  },
  {
   "cell_type": "code",
   "execution_count": 9,
   "metadata": {},
   "outputs": [
    {
     "data": {
      "text/plain": [
       "dtype: int\n",
       "Rows: 53072\n",
       "[1, 1, 1, 1, 1, 1, 1, 1, 1, 1, 1, 1, 1, 1, 1, 1, 1, 1, 1, 1, 1, 1, 1, 1, 1, 1, 1, 1, 1, 1, 1, 1, 1, 1, 1, 1, 1, 1, 1, 1, 1, 1, 1, 1, 1, 1, 1, 1, 1, 1, 1, 1, 1, 1, 1, 1, 1, 1, 1, 1, 1, 1, 1, 1, 1, 1, 1, 1, 1, 1, 1, 1, 1, 1, 1, 1, 1, 1, 1, 1, 1, 1, 1, 1, 1, 1, 1, 1, 1, 1, 1, 1, 1, 1, 1, 1, 1, 1, 1, 1, ... ]"
      ]
     },
     "execution_count": 9,
     "metadata": {},
     "output_type": "execute_result"
    }
   ],
   "source": [
    "products['sentiment']"
   ]
  },
  {
   "cell_type": "code",
   "execution_count": 4,
   "metadata": {},
   "outputs": [
    {
     "data": {
      "text/html": [
       "<div style=\"max-height:1000px;max-width:1500px;overflow:auto;\"><table frame=\"box\" rules=\"cols\">\n",
       "    <tr>\n",
       "        <th style=\"padding-left: 1em; padding-right: 1em; text-align: center\">name</th>\n",
       "        <th style=\"padding-left: 1em; padding-right: 1em; text-align: center\">review</th>\n",
       "        <th style=\"padding-left: 1em; padding-right: 1em; text-align: center\">rating</th>\n",
       "        <th style=\"padding-left: 1em; padding-right: 1em; text-align: center\">sentiment</th>\n",
       "    </tr>\n",
       "    <tr>\n",
       "        <td style=\"padding-left: 1em; padding-right: 1em; text-align: center; vertical-align: top\">Stop Pacifier Sucking<br>without tears with ...</td>\n",
       "        <td style=\"padding-left: 1em; padding-right: 1em; text-align: center; vertical-align: top\">All of my kids have cried<br>non-stop when I tried to ...</td>\n",
       "        <td style=\"padding-left: 1em; padding-right: 1em; text-align: center; vertical-align: top\">5.0</td>\n",
       "        <td style=\"padding-left: 1em; padding-right: 1em; text-align: center; vertical-align: top\">1</td>\n",
       "    </tr>\n",
       "    <tr>\n",
       "        <td style=\"padding-left: 1em; padding-right: 1em; text-align: center; vertical-align: top\">Nature's Lullabies Second<br>Year Sticker Calendar ...</td>\n",
       "        <td style=\"padding-left: 1em; padding-right: 1em; text-align: center; vertical-align: top\">We wanted to get<br>something to keep track ...</td>\n",
       "        <td style=\"padding-left: 1em; padding-right: 1em; text-align: center; vertical-align: top\">5.0</td>\n",
       "        <td style=\"padding-left: 1em; padding-right: 1em; text-align: center; vertical-align: top\">1</td>\n",
       "    </tr>\n",
       "    <tr>\n",
       "        <td style=\"padding-left: 1em; padding-right: 1em; text-align: center; vertical-align: top\">Nature's Lullabies Second<br>Year Sticker Calendar ...</td>\n",
       "        <td style=\"padding-left: 1em; padding-right: 1em; text-align: center; vertical-align: top\">My daughter had her 1st<br>baby over a year ago. ...</td>\n",
       "        <td style=\"padding-left: 1em; padding-right: 1em; text-align: center; vertical-align: top\">5.0</td>\n",
       "        <td style=\"padding-left: 1em; padding-right: 1em; text-align: center; vertical-align: top\">1</td>\n",
       "    </tr>\n",
       "    <tr>\n",
       "        <td style=\"padding-left: 1em; padding-right: 1em; text-align: center; vertical-align: top\">Lamaze Peekaboo, I Love<br>You ...</td>\n",
       "        <td style=\"padding-left: 1em; padding-right: 1em; text-align: center; vertical-align: top\">One of baby's first and<br>favorite books, and i ...</td>\n",
       "        <td style=\"padding-left: 1em; padding-right: 1em; text-align: center; vertical-align: top\">4.0</td>\n",
       "        <td style=\"padding-left: 1em; padding-right: 1em; text-align: center; vertical-align: top\">1</td>\n",
       "    </tr>\n",
       "    <tr>\n",
       "        <td style=\"padding-left: 1em; padding-right: 1em; text-align: center; vertical-align: top\">SoftPlay Peek-A-Boo<br>Where's Elmo A Childr ...</td>\n",
       "        <td style=\"padding-left: 1em; padding-right: 1em; text-align: center; vertical-align: top\">Very cute interactive<br>book! My son loves this ...</td>\n",
       "        <td style=\"padding-left: 1em; padding-right: 1em; text-align: center; vertical-align: top\">5.0</td>\n",
       "        <td style=\"padding-left: 1em; padding-right: 1em; text-align: center; vertical-align: top\">1</td>\n",
       "    </tr>\n",
       "    <tr>\n",
       "        <td style=\"padding-left: 1em; padding-right: 1em; text-align: center; vertical-align: top\">Our Baby Girl Memory Book</td>\n",
       "        <td style=\"padding-left: 1em; padding-right: 1em; text-align: center; vertical-align: top\">Beautiful book, I love it<br>to record cherished t ...</td>\n",
       "        <td style=\"padding-left: 1em; padding-right: 1em; text-align: center; vertical-align: top\">5.0</td>\n",
       "        <td style=\"padding-left: 1em; padding-right: 1em; text-align: center; vertical-align: top\">1</td>\n",
       "    </tr>\n",
       "    <tr>\n",
       "        <td style=\"padding-left: 1em; padding-right: 1em; text-align: center; vertical-align: top\">Hunnt&amp;reg; Falling<br>Flowers and Birds Kids ...</td>\n",
       "        <td style=\"padding-left: 1em; padding-right: 1em; text-align: center; vertical-align: top\">Try this out for a spring<br>project !Easy ,fun and ...</td>\n",
       "        <td style=\"padding-left: 1em; padding-right: 1em; text-align: center; vertical-align: top\">5.0</td>\n",
       "        <td style=\"padding-left: 1em; padding-right: 1em; text-align: center; vertical-align: top\">1</td>\n",
       "    </tr>\n",
       "    <tr>\n",
       "        <td style=\"padding-left: 1em; padding-right: 1em; text-align: center; vertical-align: top\">Blessed By Pope Benedict<br>XVI Divine Mercy Full ...</td>\n",
       "        <td style=\"padding-left: 1em; padding-right: 1em; text-align: center; vertical-align: top\">very nice Divine Mercy<br>Pendant of Jesus now on ...</td>\n",
       "        <td style=\"padding-left: 1em; padding-right: 1em; text-align: center; vertical-align: top\">5.0</td>\n",
       "        <td style=\"padding-left: 1em; padding-right: 1em; text-align: center; vertical-align: top\">1</td>\n",
       "    </tr>\n",
       "    <tr>\n",
       "        <td style=\"padding-left: 1em; padding-right: 1em; text-align: center; vertical-align: top\">Cloth Diaper Pins<br>Stainless Steel ...</td>\n",
       "        <td style=\"padding-left: 1em; padding-right: 1em; text-align: center; vertical-align: top\">We bought the pins as my<br>6 year old Autistic son ...</td>\n",
       "        <td style=\"padding-left: 1em; padding-right: 1em; text-align: center; vertical-align: top\">4.0</td>\n",
       "        <td style=\"padding-left: 1em; padding-right: 1em; text-align: center; vertical-align: top\">1</td>\n",
       "    </tr>\n",
       "    <tr>\n",
       "        <td style=\"padding-left: 1em; padding-right: 1em; text-align: center; vertical-align: top\">Cloth Diaper Pins<br>Stainless Steel ...</td>\n",
       "        <td style=\"padding-left: 1em; padding-right: 1em; text-align: center; vertical-align: top\">It has been many years<br>since we needed diaper ...</td>\n",
       "        <td style=\"padding-left: 1em; padding-right: 1em; text-align: center; vertical-align: top\">5.0</td>\n",
       "        <td style=\"padding-left: 1em; padding-right: 1em; text-align: center; vertical-align: top\">1</td>\n",
       "    </tr>\n",
       "</table>\n",
       "[53072 rows x 4 columns]<br/>Note: Only the head of the SFrame is printed.<br/>You can use print_rows(num_rows=m, num_columns=n) to print more rows and columns.\n",
       "</div>"
      ],
      "text/plain": [
       "Columns:\n",
       "\tname\tstr\n",
       "\treview\tstr\n",
       "\trating\tfloat\n",
       "\tsentiment\tint\n",
       "\n",
       "Rows: 53072\n",
       "\n",
       "Data:\n",
       "+-------------------------------+-------------------------------+--------+-----------+\n",
       "|              name             |             review            | rating | sentiment |\n",
       "+-------------------------------+-------------------------------+--------+-----------+\n",
       "| Stop Pacifier Sucking with... | All of my kids have cried ... |  5.0   |     1     |\n",
       "| Nature's Lullabies Second ... | We wanted to get something... |  5.0   |     1     |\n",
       "| Nature's Lullabies Second ... | My daughter had her 1st ba... |  5.0   |     1     |\n",
       "|  Lamaze Peekaboo, I Love You  | One of baby's first and fa... |  4.0   |     1     |\n",
       "| SoftPlay Peek-A-Boo Where'... | Very cute interactive book... |  5.0   |     1     |\n",
       "|   Our Baby Girl Memory Book   | Beautiful book, I love it ... |  5.0   |     1     |\n",
       "| Hunnt&reg; Falling Flowers... | Try this out for a spring ... |  5.0   |     1     |\n",
       "| Blessed By Pope Benedict X... | very nice Divine Mercy Pen... |  5.0   |     1     |\n",
       "| Cloth Diaper Pins Stainles... | We bought the pins as my 6... |  4.0   |     1     |\n",
       "| Cloth Diaper Pins Stainles... | It has been many years sin... |  5.0   |     1     |\n",
       "+-------------------------------+-------------------------------+--------+-----------+\n",
       "[53072 rows x 4 columns]\n",
       "Note: Only the head of the SFrame is printed.\n",
       "You can use print_rows(num_rows=m, num_columns=n) to print more rows and columns."
      ]
     },
     "execution_count": 4,
     "metadata": {},
     "output_type": "execute_result"
    }
   ],
   "source": [
    "products"
   ]
  },
  {
   "cell_type": "markdown",
   "metadata": {},
   "source": [
    "Let us quickly explore more of this dataset.  The 'name' column indicates the name of the product.  Here we list the first 10 products in the dataset.  We then count the number of positive and negative reviews."
   ]
  },
  {
   "cell_type": "code",
   "execution_count": 10,
   "metadata": {},
   "outputs": [
    {
     "data": {
      "text/plain": [
       "dtype: str\n",
       "Rows: 10\n",
       "[\"Stop Pacifier Sucking without tears with Thumbuddy To Love's Binky Fairy Puppet and Adorable Book\", \"Nature's Lullabies Second Year Sticker Calendar\", \"Nature's Lullabies Second Year Sticker Calendar\", 'Lamaze Peekaboo, I Love You', \"SoftPlay Peek-A-Boo Where's Elmo A Children's Book\", 'Our Baby Girl Memory Book', 'Hunnt&reg; Falling Flowers and Birds Kids Nursery Home Decor Vinyl Mural Art Wall Paper Stickers', 'Blessed By Pope Benedict XVI Divine Mercy Full Color Medal', 'Cloth Diaper Pins Stainless Steel Traditional Safety Pin (Black)', 'Cloth Diaper Pins Stainless Steel Traditional Safety Pin (Black)']"
      ]
     },
     "execution_count": 10,
     "metadata": {},
     "output_type": "execute_result"
    }
   ],
   "source": [
    "products.head(10)['name']"
   ]
  },
  {
   "cell_type": "code",
   "execution_count": 11,
   "metadata": {},
   "outputs": [
    {
     "name": "stdout",
     "output_type": "stream",
     "text": [
      "# of positive reviews = 26579\n",
      "# of negative reviews = 26493\n"
     ]
    }
   ],
   "source": [
    "print '# of positive reviews =', len(products[products['sentiment']==1])\n",
    "print '# of negative reviews =', len(products[products['sentiment']==-1])"
   ]
  },
  {
   "cell_type": "markdown",
   "metadata": {},
   "source": [
    "**Note:** For this assignment, we eliminated class imbalance by choosing \n",
    "a subset of the data with a similar number of positive and negative reviews. \n",
    "\n",
    "## Apply text cleaning on the review data\n",
    "\n",
    "In this section, we will perform some simple feature cleaning using **SFrames**. The last assignment used all words in building bag-of-words features, but here we limit ourselves to 193 words (for simplicity). We compiled a list of 193 most frequent words into a JSON file. \n",
    "\n",
    "Now, we will load these words from this JSON file:"
   ]
  },
  {
   "cell_type": "code",
   "execution_count": 12,
   "metadata": {},
   "outputs": [],
   "source": [
    "import json\n",
    "with open('important_words.json', 'r') as f: # Reads the list of most frequent words\n",
    "    important_words = json.load(f)\n",
    "important_words = [str(s) for s in important_words]"
   ]
  },
  {
   "cell_type": "code",
   "execution_count": 13,
   "metadata": {},
   "outputs": [
    {
     "name": "stdout",
     "output_type": "stream",
     "text": [
      "['baby', 'one', 'great', 'love', 'use', 'would', 'like', 'easy', 'little', 'seat', 'old', 'well', 'get', 'also', 'really', 'son', 'time', 'bought', 'product', 'good', 'daughter', 'much', 'loves', 'stroller', 'put', 'months', 'car', 'still', 'back', 'used', 'recommend', 'first', 'even', 'perfect', 'nice', 'bag', 'two', 'using', 'got', 'fit', 'around', 'diaper', 'enough', 'month', 'price', 'go', 'could', 'soft', 'since', 'buy', 'room', 'works', 'made', 'child', 'keep', 'size', 'small', 'need', 'year', 'big', 'make', 'take', 'easily', 'think', 'crib', 'clean', 'way', 'quality', 'thing', 'better', 'without', 'set', 'new', 'every', 'cute', 'best', 'bottles', 'work', 'purchased', 'right', 'lot', 'side', 'happy', 'comfortable', 'toy', 'able', 'kids', 'bit', 'night', 'long', 'fits', 'see', 'us', 'another', 'play', 'day', 'money', 'monitor', 'tried', 'thought', 'never', 'item', 'hard', 'plastic', 'however', 'disappointed', 'reviews', 'something', 'going', 'pump', 'bottle', 'cup', 'waste', 'return', 'amazon', 'different', 'top', 'want', 'problem', 'know', 'water', 'try', 'received', 'sure', 'times', 'chair', 'find', 'hold', 'gate', 'open', 'bottom', 'away', 'actually', 'cheap', 'worked', 'getting', 'ordered', 'came', 'milk', 'bad', 'part', 'worth', 'found', 'cover', 'many', 'design', 'looking', 'weeks', 'say', 'wanted', 'look', 'place', 'purchase', 'looks', 'second', 'piece', 'box', 'pretty', 'trying', 'difficult', 'together', 'though', 'give', 'started', 'anything', 'last', 'company', 'come', 'returned', 'maybe', 'took', 'broke', 'makes', 'stay', 'instead', 'idea', 'head', 'said', 'less', 'went', 'working', 'high', 'unit', 'seems', 'picture', 'completely', 'wish', 'buying', 'babies', 'won', 'tub', 'almost', 'either']\n"
     ]
    }
   ],
   "source": [
    "print important_words"
   ]
  },
  {
   "cell_type": "markdown",
   "metadata": {},
   "source": [
    "Now, we will perform 2 simple data transformations:\n",
    "\n",
    "1. Remove punctuation using [Python's built-in](https://docs.python.org/2/library/string.html) string functionality.\n",
    "2. Compute word counts (only for **important_words**)\n",
    "\n",
    "We start with *Step 1* which can be done as follows:"
   ]
  },
  {
   "cell_type": "code",
   "execution_count": 14,
   "metadata": {},
   "outputs": [],
   "source": [
    "def remove_punctuation(text):\n",
    "    import string\n",
    "    return text.translate(None, string.punctuation) \n",
    "\n",
    "products['review_clean'] = products['review'].apply(remove_punctuation)"
   ]
  },
  {
   "cell_type": "code",
   "execution_count": 15,
   "metadata": {},
   "outputs": [
    {
     "data": {
      "text/plain": [
       "dtype: str\n",
       "Rows: 53072\n",
       "['All of my kids have cried nonstop when I tried to ween them off their pacifier until I found Thumbuddy To Loves Binky Fairy Puppet  It is an easy way to work with your kids to allow them to understand where their pacifier is going and help them part from itThis is a must buy book and a great gift for expecting parents  You will save them soo many headachesThanks for this book  You all rock', 'We wanted to get something to keep track of our childs milestones and this is a cute option There arent many other choices out there and this does exactly what we wanted', 'My daughter had her 1st baby over a year ago She did receive and fill up a First Year Calendar When her son was nearing his first birthday she was looking for a Second Year Calendar to record his milestones Thanks to Amazon I was able to get this for her and she LOVES it Tender sweet art work  helpful stickers  unique pages to fill A nice keepsake A wonderful gift for a oneyear old', 'One of babys first and favorite books and it is washable I gave 1 less star than perfect because Id like to see some diversity in the people  not just your typical white family ', 'Very cute interactive book My son loves this book The bright colorful illustrations make this great for babies  toddlers', 'Beautiful book I love it to record cherished times in my great granddaughters life with the beautiful pastel pink color', 'Try this out for a spring project Easy fun and affordable wall decals Fine quality and brightens up any room 5 ', 'very nice Divine Mercy Pendant of Jesus now on chain around my neck  Love It  Divine Mercy represents Jesuswho offers us an ocean of divine mercy  Pray to God for our country You need HIM in your lives', 'We bought the pins as my 6 year old Autistic son was able to open or break open normal safety pins we needed to use for his night time clothes  These new pins are significantly more sturdy and he hasnt learned how to open them and only once has he broken one open  I seem to recall that their shipping price was more than a bit on the high side of reasonable though given the size of the package', 'It has been many years since we needed diaper pins but I do like to pin my socks together through the wash and have never lost one yet I was using brass dressmaker pins but they tended to open up during the wash cycle My wife suggested diaper pins and we tried them Theryre working perfectly and staying together through the washing Matter of fact they can get a little tricky to open but of course that was the idea Recommended to keep your socks 34friended up34', 'We found this book at a rummage sale and found it to be so useful especially when several people are helping with the baby ex visiting family etc  We loved it so much that Ive bought another one and have almost filled that one too  I like having the room to write things about our babys day and development plus use the Notes section to write some story etc  It also helps Dad see what has happened that day and feels more connected  I will be buying another one soon', 'Im a new mom and I was looking for something to record my babys daily activities and patterns and it is perfect It has a lot of space to write down anything extra beyond the diaper changes feedings and sleeping I like that it has an area to write down medications It is a great reminder for dr appointments and to track your babys patterns I am extremely happy with this book and will be ordering another one for when I run out of pages in 3 months', 'I loved how this book was set up to keep track of everything important about baby  I used it for the first year  I always took it to doctor appointments to share how often she was eating and everything', 'I received this at my baby shower and it has been a wonderful gift I had no idea when I received it what fun it would be to record all this information I have done this for 2 children now and only wish I would have had it for my first 2 kids', 'My daughter started playing with her Music Blocks set when she was just a few months old  She spent hours entertaining herself  She is now 18 months old and still loves this toy  Now she understands how to arrange the blocks and has great fun making new musical patterns  I highly recommend the Jumpin Jive Jazz cartridge  its her favorite  and the Bach cartridge when you want calmer music', 'It takes a youthful spirit of inquiry and fascination to play with blocks and preprogrammed music Anyone too old to play with blocks or to young to play with them again may back off But theyre missing a revolution in interactive toys Each colored block represents part of a musical score and each side on the block represents one way of delivering that piece such as horn violin or voice Turning and swapping blocks thus generates changes in the music played with incredible variety You and oh yes the child too will run out of steam long before you run out of interest And the use of additional block sets expands the use and interest even more Bravo', 'This is an interesting and educational toy  I got it for my 2 year old and while she loved mixing up the blocks she also loved pulling out the cartridge and couldnt put it back in  That means I had to go put the cartridge back every 5 minutes  If the cartridge were placed on the side or back I dont think the littler ones would be so inclined to pull itout of sight out of mind', 'Recently I have purchased the musical mozart blocks set for my two and a half year old daughter at a toys r us department store near me as a Christmas gift for her this year and they had one of the toys out on display She loved the toy and it is very educational I had a hard time leaving the store because she wanted to continue to play with it although she is young enough that even though she was with me while I purchased her toys for Christmas this year that she had completely forgotten about it and that I haought this toy for her My only complaint is that I had to pay  for this toy and they had told me that the sale on the toy had ended yesterday but this toy I knew was still available online here for  which is a really good price and I do not think it is right for them to sell it for the other price when it can be bought cheaper Anyways I liked the toy alot and my daughter did too and that is why I purchased the toy even at the price I  had to pay for it I think it will get a lot of use out of it and so will my 8 month old daughter when she is old enough as well', 'We first bought this toy for our oldest child when she was just beginning to sit up and play with toys  She would sit in her crib and play for a hour or more just putting the sea creatures in and out  It gave Mommy shower and makeup time  We believe she loved the clear plastic on the bowl and the shape and feel of the pieces  We had the same experience with daughter 2  We have bought this several times for other new parents  Our girls have also received similar toys not Lamaze ex a cookie jar and have not enjoyed it anywhere near as much  A little toy with big entertainment value', 'We bought this tractor for our 2 and a halfyearold son and he is able to pedal and manuever this vehicle very well despite the recommended age of 36 years This tractor is very sturdy and nearly impossible to tip over My son has deserted all other riding toys in favor of this tractor I highly recommend purchasing the yellow trailer that is specifically made for this tractor but is sold separately  My son loads all kinds of treasures into the trailer and farms the yard for long periods of time', 'This is a great toy  The wheels really work and each car has a special feature  They store easily for packing on trips and putting away  Both of my kids boy and girl have played with them  They are brightly colored  And best of all these do not use batteries', 'After being inundated with toys that require batteries and make so much noise this was a breath of fresh air My son loves these vehicles We got this when he was 6 months old We stack them on top and he loves to knock it over We nest them and he loves to find the surprise vehicle underneath Now that he is 8 months old he is figuring out that the wheels move as well as some of the other moving features on each vehicle I highly recommend this toy', 'We bought these trucks for our 15 mo old daughter and 4 mo old son We love them  They are nesting which is fun for our daughter to look underneath the trucks to find the next one or they can stack one on top of the other to make a tower  Perfect first trucks  And they arent too big a perfect size', 'For well over a year my son has enjoyed stacking and playing with these cars They have held up brilliantly to his abuse  they still look like new Fun to stack fun to roll Clever toy that has been a winner with my son since he was one', 'We just bought this for my 9 month old daughtershe loves these cars loves to turn the wheels and lookat the faces She especially loves the little green carits the perfect size to fit in her tiny hand and it rattlesThis toy is a hit I highly recommend it', 'This is a wonderful toy that is fun educational and affordable The cars are different colors and each has a different number 1  4 to help a child learn counting and colors They also stack on top of each other and nest inside of each otherThe nesting feature is great for storage too Each car has a neat fun feature for little ones to explore eg the small car is also a rattle the large fire trucks ladder moves etc The cars are also very sturdy as has been proven by my son repeatedly banging them together and they are easy for little hands to grab onto At 6 months of age my son really enjoys looking at the toys passing them from one hand to the other banging them together and of course putting them in his mouth I imagine this toy will remain one of my sons favorites as he learns to stack them and roll them on the floor I would highly recommend this item', 'I bought this for a new granddaughter  I will not get to see her often as she lives in another state  This book is great for out pictures and she can carry it around and look at the pictures as she would a book  This way she can recognize us when we show up  It is easy to carry and cleaning it is simple  It is a great little photo book', 'We received an Earl E Bird as a gift when we had our first baby eleven years ago Since then Earl has seen us through teething for three kids and is still in good condition for our fourth baby  Hes a little faded around the edges but just as loveable and soft with difference textures for a chewy drooly baby to gnaw onI like that hes fully washable and a nice quiet toy at least in ours the squeaker was very quiet to begin with and has since kind of stopped squeakingbut the squeaker was never the big attraction with Earl  Perfect for taking on planes or in church or in the car A great baby shower gift since Earl is perfect for a boy or a girl', 'This little toy is safe for infants and offers great color texture and even sound  Very Sweet though a little pricey', 'This is exactly like the one I had when I was a kid My son really enjoys it and it keeps him entertained', 'I had a book similar to this as a child and it brings back wonderful memories My 20 month old struggles with several of the items such as the shoe laces and snaps But he loves the zipper and the Velcro shapes and the other pages give him a great way to learn and practice Overall its an item that he can grow into and its super cute', 'My 8 month toddler enjoys this book Very good idea with mindstimulating activities on each page Well worth it for the price', 'Well made and quite a few different texturesToddler loved this book and Mom approved tooEveryone was happy with this selection', 'My 2 yr old grand daughter liked this book a lot  She did have a hard time with some the buttons or snaps  They were sewn pretty tight to the backing and was kind of hard to get her fingers under to be able to button or snap  Overall she did enjoy each activity', 'I ordered this book for the upcoming birthday of a grandson It really is cute and an excellent quality It comes with a small stuffed bear that you can remove from the book Each page of the book has a different nighttime activity for the bear to do such as have a glass of milk brush his teeth etc Im not exactly sure what I was expecting because even though it is a quality toy Im not sure that Liam will use it enough to make it worth the price I paid  The Pockets of Learning toys all seem to be very high quality if somewhat pricy', 'This is an iteresting ball that my baby has loved from about 6 months to 18 months  The chime is pleasant not annoying and this ball is easy for a baby to pick up and manipulate  It is my understanding that the Sassy line is BPA and Phalate free so you dont have to worry about your child putting this toy in her mouth', 'Perfect for young children and overall good quality for the price', 'This is a must have for any toddler  I bought one for my brothers triplets who were 1 12 years old at the time  They loved it  One would push  the other 2 would chase after it  They love watching the duck waddle  its feet go round  round  Best of all no batteries  YaayyyyFifteen years ago I bought my daughter a little push clown from the same company  It was her favorite toy  was passed onto her brother  With heavy playing by 2 children it never lost any of its paint or parts  Its something we are saving for grandchildren one day', 'We found this at a garage sale and I read about it and it seemed really interesting so I bought it This is for the first few months of a babys life and should not move much contrary to what the first poster said because you want stimulation but you dont want to overstimulate a baby However we did notice that sometiems our baby does like the mobile to move and it is summer here but the air conditioner blowing air around the room should be enough movement When its not moving we can just put a small fan on its lowest setting about 6 feet from the crib and the small wiggling was enough movement to keep her stimulated but not so much movement that she cant keep track of the object babies this young are not good at tracking so you dont want a lot of motion but still we only do this once in a while not at all timesOne of the best things about this mobile is that our baby only wakes us up at night to feed If she wakes herself up she will sit and stare at it for a long time and be happy since we have a small nightlight in the room Any time we put her in the crib we can see her staring at the simple shapes Shown in the picture on the product page is the detailed shapes you flip the cardboard from the simple to the detailed shapes when they are about 2 months old then remove this mobile for a more traditional one with movement and objects the baby can grab at about 4 months This is a somewhat delicate mobile since it uses air currents to move so you need to keep it safe from a grabbingeating babyAlso one nice feature is that ours came with a travel pack or at least thats how Im using it Besides the crib mount there is an 8 inch circular plastic ring with fishing wire for hanging the mobile You can hang it anywhere with a string either taping string to the ceiling or tying it to any overhang It also came with a cardboard carrying case thing which is very thin and easy to take with you on a tripFor those with a mathscience background its really interesting to note that first side of the cards have objects with very low spatial frequency The detailed sides are actually the same patterns but with a moderately higher spatial frequency After 4 months you use standard mobiles which have very high spatial frequencies as well as colors and things the baby can grab to improve handeye coordination Basically you start showing the child very low frequency objects that are easy to observe and track then gradually move up until they can use the high frequency informationNow I want to explain why I did not give this item 5 stars even though its an amazing product Before my baby was a month old I noticed that she was already able to detect some colors and this stimmobile is only black and white This is from 1990 so I guess over the last 20 years they have refined the product so that the simple side has some red first color a baby sees and other simple colors while the reverse side has more vivid colors but uses the same idea of going from low spatial frequencies to higher spatial frequencies I ordered the newest version but still kept this around for changing table and pack n play entertainment since she loves it If I had not known about the improved version I would have given it 5 stars but there is something better available so I highly recommend getting the updated version for every newborn', 'This product was very innovative when introduced in 19978  It sold at FAO Schwarts for about 100 and we got it for our 18 month old daughter  She used it until she was at least 3 we then moved to Reader Rabbit  The way it worked then   you plugged the key board into the printer port and the sw was on two CDs The keyboard did not require mouse skills just visual selection of very large buttons  Very interactive very educational for the toddlerpreschool set  The developer was Israeli and they did not have good US distribution  It now seems that they finally found someone to distribute it', 'all three of my kids have had one of these teethers and its been the favorite for all of them i buy one for any expectant friend or family member in our experience the batteries last about a year  12', 'Great teether as it has a good texture is easy to handle and massages the gums while baby is chewing on it', 'My 10 month old grandson thought the movement of this toy was funny He laughs when it moves Saying this he does put it in his mouth but pulls it out to laugh So I love this Teether because it makes him so happy NOT because it massages his teeth', 'It is a great toy for them to chew and play with but it is a bit harder for smaller babies to chew on The vibration was a bit stronger than I was expecting but it does not seem to bother my son a bit', 'My son is 4 months old and can not quite get a hang of other teethers Some of them you have to bend in a specific direction to make the vibration happen This teether is great They just bite down naturally and the vibration helps with the comfort I love it', 'This arrived the next day after I bought it and I was very grateful  We had one other one that my son managed to lose and he was miserable without it  It really helped soothe his mouth while he was teething', 'I know its a safety feature but it is unfortunate that the batteries are not replaceable in this because I will probably have to buy another one of these soon because my little one LOVES this  He seemed to hate all other teething options out thereeven Sophie he had to learn to love hes does like it now but this he gnaws away on vigorouslyThe star shaped chewing part is a little big and that worried me a bit when I first got it but it actually hasnt seemed to bother him that much  So far he got this at 5 months he cant always make the vibration happen himself but 1Its not that difficult for me to just push down on it as Im holding it for him since I like how it calms him down and 2 even when it doesnt vibrate he still loves to chew away at it  He has learned over time a bit better about how hard to bite down to make it go too and that it will go by chewing on any of the three available 34tips34 to the starHe also really likes the little spinning rattle on the end and it has little nibs that he likes to chomp on too even though it is hard plastic and the star is rubber like  It is a 34substantial34  toy though so if your little one is in the phase of swinging toys around really hard they may bonk themselves now and again but our son seemed relatively unphased by that', 'I got this for my son when he was about 8 months he loved bitting it and he carry it all over the house He is now 18 months and it still works plus he still bits on it too I found it very easy to clean too', 'I am the the mother of a 14 week old who has reflux and is uncomfortable sleeping in a crib or anywhere flat She wants to be held all the time and it was getting pretty exhausting in our arms and my chronic tendonitis was flaring up until we ordered the sling after reading about it in Dr Searss The Baby Book  I had my doubts but boy has it been a lifesaverThe sling has been invaluable for me my husband and our regular sitter With it we are able to walk bounce give the calming pinky finger treatment and see whats going on with the baby She started using the sling at 2 weeks when she was about 7 pounds It took a few times but she is now completely comfortable in it and it is a favorite napping spotAs I am largebreasted I did find it awkward to breastfeed in it although Ive been able to do it successfully a couple of times in public sitting down  The fabric is soft and easily washable important for those baby mishaps  The padding helps me feel comfortable as a bit of protection in case of bumping  The size is very adjustable for different height people although you may need to pull through a lot of fabric to bring small babies in tightly especially if you have a smaller chest sizeThe NoJo sling would benefit from having some loose fabric at the end to cover the babys head in the sun and provide more coverage during breastfeeding The stopper piece of plastic at the end of the fabric adds safety it wont pull through however it can whack the baby if you arent careful when getting it on or off  It could also use a zippered storage area a feature of some other slings  Also the blue with plaid seems to be the only fabric sold these days although I have seen other patterns and colors on eBay  This is fine with jeans but not great when you have to go to a wedding as I did with the sling earlier this summer I think it also makes people think that shes a boy for some reason  Maybe its the blue and the fact that they cant see her cute dressesThe sling is also helpful in keeping interested strangers at a slight distance away from the baby  they are less able to grab at her which I think is good from a germ perspective especially for newborns When it is very hot or humid out this sling can be a bit heavy for the baby especially up against a hot mama but on cooler days the fabric adds just the right amount of warmth like a light blanketWhen I was pregnant I assumed the Baby Bjorn would be all we would need Instead it hangs on a hook most of the time unless were going for a long walk or shopping  activities where having two hands is important and youll be doing them for a while That thing is so hard to get on and off Plus you arent supposed to use it until they are 8 lbs The baby seems to really like the flexibility of positioning with the sling  especially curling up happily in a womblike ball  and sometimes gets irritated by being all dangled out in the BjornCarrying the baby in the sling makes you so much more mobile than using a stroller or lugging her around in her heavy carseat so I use it whenever I anticipate being in public where they are stairs space issues or other impediments  Its good for short shopping trips as well especially if youre with a friend who can carry things or push a cart both of which are harder to do with the sling onShes also a million times more comfortable in the sling than in her car seat where she often cries  Our NoJo Babysling has been in constant use since it arrived and ties the bouncy seat where she mostly sleeps by day as the best return on investment of any of the baby gizmos we bought  Our sitter will often wear the baby for her entire nap The sitter just sits often in a rocking chair or porch swing to provide some more movement and reads while the baby sleepsOne last thing thats great is that when the baby falls asleep she can be laid down on the bed or bouncy chair and the sling just slips off the wearer without waking the babyI did not watch the video but did read the sling chapter in the Baby Book which was helpful We have recently started using the kangaroo facing out position as the baby loves looking at the outside world now Its nice to have this sort of flexibility  If you are getting tired carrying around your baby and would like an extra hand free a sling is a great investment and while not the most elegant the NoJo is a good workhorse one to use on a daily basis', 'Excellent diaper disposal unit  I used it in conjunction with Glad 3ply kitchen trash bags with odor control scented  I am soooo pleased with this product A wise investment for the pocketbook  for the nose', 'I originally put this item on my baby registry because friends of mine highly recommended the use of a diaper pail  I decided to go with the Diaper Champ rather than the more popular Diaper Genie because I didnt like the idea of having to buy special bags  Too costly and not efficient if you ask meTHIS PRODUCT IS A LIFESAVER I HAVE NEVER HAD AN ODOR PROBLEMNo one has ever come to my house and noticed diaper odor  In fact people who have been present while I changed my almost 3 month old sons diaper have been amazed at how the very potent smell of the dirty diaper seems to disappear once I dispose of the diaper in the Diaper ChampFor those who are experiencing odor problems here are some suggestions which should solve the problem1 CHANGE BAGS FREQUENTLY  I change mine about 1 or 2 times a week  For those who complain that the pail gets stuck that is probably a good indication that the BAG IS GETTING TOO FULL Also making sure that the tape on the diapers is secure will prevent that from happening as well2 YOU STILL HAVE TO CLEAN THE THING  Hello it does house dirty diapers All I do is wipe it down with some antibacterial wipes takes about 10 seconds and then maybe spray some Lysol in it and let it air out for a minute or two  SIMPLE AND IT WORKSAlso for those that complain that the Diaper Champ isnt as effective as time passes keep the following in mindAS BABIES GET OLDER THEIR DIETS CHANGES aka SOLID FOODS AND SO DOES THE SMELL OF THEIR DIAPERSIn talking with other parents I get the same feedback  as babies get older and become toddlers ALL DIAPER PAILS become gradually less and less effective until they are just no longer useful  Again this is because as their diet changes so does the consistency and odor of their stool in other words it gets stinkierAll in all this product is definitely one I would recommend and certainly worth the very reasonable price', 'I am so glad I got the Diaper Champ instead of the Diaper Genie  You can use pretty much any plastic bag  even a grocery bag will do in a pinch  My baby is 6 weeks and I have never smelled any odors at all from the Champ  I especially like the way you close it  you just flip the handle and thats it  The Champ is definitely the best', 'Our daughter is 13 months old and weve been using the Diaper Champ ever since she was born I highly recommend it because its a great value  However there are a few things to be aware of which is why I only gave 4 stars1 Make sure the grip part of the diaper is not loose when placed in the DC My husband learned the hard way that the grips get stuck on the seal and the diaper wont drop into the bag  Then you have to pull the diaper out and the grips slowly pull away the seal  It didnt seem to affect the odor control but it did make it difficult to move the handleshoot back and forth  The company does send free replacement seals and instructions if you call and ask2 The unit is top heavy when its empty I learned this one the hard way  When pulling out a full bag of diapers be sure to put your foot on the base to keep it from banging you in the shin as it falls backward  Ouch3 No the stink isnt completely trapped but its pretty darn close The stinkiest part is emptying a full bag  I found that putting a stickup inside the lid has made it much more tolerable', 'We originally had the diaper genie which we found to be a pain after the top broke off twice and all those replacement specialty bags we had to buy were getting expensive but not controlling the odors  All that sausage shaped smelly garbage eeeewwww had to be put in another garbage bag just to get it out of the house  My sisin law had the diaper champ  I couldnt believe she even had any dirty diapers aroundthere was no smell  We chucked the genie and bought the champ It was so much easier to usejust roll the diaper into a little ball and drop into the hole on top flip the handle and bye bye smelly diaper my 16 month old can do it And there were no special bags to buy just the same regular garbage bags we used already in the kitchen Experienced parents will understand and appreciate that it comes apart for easier cleaning for those times when it may become a mess  We had a problem with odors after about a year of use so I called BabyTrend to see what they recommended  They sent me these replacement sponge gaskets free of charge and we were once again odor free Now on my 3rd child and almost 3 years later I just called them again to get another set of replacement gaskets again free of charge they will be here in about a week  THIS IS A GREAT ITEM and the company stands behind their product even years later', 'I wasnt sure which to get between this and the Diaper Genie I am so glad that I chose this one I love that I can buy the scented bags of my choice It really holds in the horrible diaper smell I love it and wouldnt trade it in for anything', 'I chose the Diaper Champ over the Diaper Genie because of its moneysaving feature of being able to accomodate most plastic bags with handles  The Genie requires use of their own bags  The plastic bags that work best are the larger kinds like the ones you get from Toys R Us or Ikea  The plastic supermarket bags are a little too smallIn regards to odor control the DC has been successful for 34 of the year  There is a noticeable smell during the summertime so Ive had to change the bags more frequently on hot days or else face the consequence of suffering the aroma of baking poopMy only negative comment about this product is concerning the lid  For those who take great pride in your manicured nails ask someone else to open it for you  Even though I have short uncared for nails Ive had a few bent nails from trying to pull open the lid  Then the next problem is that the lid doesnt open all the way like a cigarette lighter  It opens up to about a 75 degree angle  This makes it inconvenient when you are trying to remove a stuffed bag of diapers  Also the underside of the lid has several plastic sharp juttings against which my hands would occasionally get scratched  And during the removal of the full bag this is when you get the full blast of your little ones excretions quite possibly 35 days worth of them so hold your breathAlthough there is room for improvement on this design I havent seen or heard of any other model that can do this job nearly as well for as reasonable a price', 'You really can not appreciate this device until youve used itNo smell unless you dont empty it for a week or more An airtight vault its notbut it does what its designed to do very wellWho doesnt take out the trash more than once a week  Same concept with this diaper pail From a Dad of a Newborn whos thankful he ignored the negative reviews', 'This is my first baby so I have nothing to compare this product to But I have heard horror stories of stinky diaper pails My baby is now six months old and the only time I smell her diapers is when I change them and when I open the pail to replace the bag I use the same garbage bags that I use in my 13gallon kitchen trash can Its so simple and userfriendly its ridiculous Put in a trash bag old plastic grocery bag yard waste bag whatever put down the top youre ready to go The top acts like a chute and whisks the dirty diaper away When full pop the top hold your breath pull out the bag and put in a new one No jamming or any other kind of technical difficulty whatsoever And again no leaking smells Dont waste your money on anything else', 'We originally registered and received the safety 1st pail what a disappointment  the latch never worked we purchased this pail and what a wonder  my busy toddler cant get into the diaper pail and it really works well with controlling odor hint use the scented garbage bags and little blue diaper sacks for smelly poops  I have recommended this pail to all my friends and they love it as well', 'Let me just say I LOVE THIS PRODUCT  I used the diaper genie from the time my daughter was born until the time she was 16 months  That was all I could take  Constantly buying expensive refills emptying it every couple of days juggling a wiggly baby while trying to open lift push spin and close the genie was just too much  Then I was shopping at Babies R Us and in the STOREs changing room is the Diaper Champ  It was easy didnt smell and used regular trash bags  I was soldAfter using the Diaper Champ for 2 months now I am confident I made the right choice  Yes when it gets too full you have to change the bag or the weight will get stuck duh  Yes if you dont wrap up the poopy wipies in the dirty diaper you will have to clean poop from the chute just wrap it up  Yes poop does smell not like roses but my daughters room doesnt smell like poop because the Diaper Champ does a great job of containing odor  You do need to disenfect it when you change the bag but I would recommend that with any product that is a holding tank for feces you have to disinfect your toilets tooI have recommended the Diaper Champ over the genie to every one of my friends  It is fantastic', 'I checked out all of the available diaper disposal systems  This by far is the best no refillable special bags no stink and very easy to use  It is great Those exploding diapers for newborns cant even crack this', 'Weve been using the Diaper Champ for about 4 months now and have had NO problems whatsoever  The design is absolutely ingenious and the fact that it takes regular trash bags is a definite plus  We bought a box of Hefty Trash Bags with that odor patch to use in the Champ and we change the bag about 23 times a week and weve have had no problems with smell  I usually wipe the Champ off with a Clorox Wipe each time I change the bag but my husband decided to take apart the Champ a few weeks ago to give it a thorough cleaning with some bleach water and he mentioned that the gaskets were looking worn out  So I called Baby Trend Diaper Champ manufacturer and they sent me to two new gaskets and two new piston rings which I didnt even ask for for FREE  The customer service rep even told me to call and request more gaskets and rings when we notice that the new ones start to wear out usually after about 6 months  Overall I am very pleased with our purchase', 'I started off with the Genie but quickly realized that I had to keep buying the special pricey Genie bags The Champ is great takes any appropriate sized plastic bag and contains stinky diaper smells well A MUST have', 'I chose the Diaper Champ because you are able to use standard trash bags  I hate to buy replacement items such as bags  i usually forget  I works great  The only thing is when it is full it is full  It is very difficult to squeeze anything else into it  I have not noticed any lingering oder in the babys room and would recommend this item', 'Ive never even had a problem with it  There is no odor and I find it very convenient to use garbage bags  The only thing I do is spray the inside with lysol once in a while  Even when I change the bag the only smell is the diapers  Once they are out the diaper champ really doesnt have a smell', 'This is the only diaper pail weve had and our son is now 2  We use scented kitchen trash bags 34 for a huge roll at Target and that seems to improve its olfactoryblunting performance even more  For especially messy and stinky diapers Ill prebag the whole bundle in a small scented bag 1 for 100 at Dollar Tree that I can rest in the opening of the ChampThis may seem like a lot of bother but its not  I havent even washed the Diaper Champ out or Lysold it in 2 years  Did I really just admit that  We empty it no more than 2x per week on average 1x per week  If theres ever a smell in the nursery its from the dipaers presence preDiaper Champ entryI do wish the Diaper Champ people could find a way to have some button the parent can push to flip the handle while keeping the 1 hand operation  My son likes to put toys in the Champ and weve had several close calls when he was about to send a toy into the pail never to be seen again becasue who wants to retrieve it let alone let their child play with it  Some simple childproof mechanism would be a GodsendEven with that said  the Diaper Champ is a great product and Id recommend it to anyone', 'Like other reviewers I put this diaper pail on my registry because I just didnt want the hassle of having to buy special bagswhat happens when you run out in the middle of the night  I liked the fact that you can use regular bags in this diaper pail in fact I frequently recycle BabiesRUs bags by using them in the Diaper CHamp  I have twinsso you can imagine how much poop goes into this pail and Ive never had a problem with smell Ive been using it for two months now  You just put the diaper in the hole flip the lid and the counterweight pushes the diaper down into the bag underneath and its ready for the next diaperthen you flip it back  The flip handle does get stuck sometimes but only when its TIME TO EMPTY THE PAIL  Some reviewers seem to think the pail should empty itself but unfortunately nothing on the market will do that for you  When you change the bag which is incredibly easy to do you can just spray the inside with a little lysol and then periodically wipe it out with a sponge and some bleach  Id do that much even with the more expensive diaper pails and Id still have to buy expensive special bags You cant expect something that contains poop to smell like a rose or to be germ free without a little work on your part but with the Diaper Champ you can have a smellfree nursery AND save money by using plain ordinary garbage bags or recycled plastic bags', 'Simply put the Diaper Champ is much easier to use less expensive and most importantly MUCH better at keeping those odors locked away when compared to the Diaper Genie  Even the smell of my nieces soy diapers dont seep through this  I have been thoroughly impressed  even the nurses at the hospital where I had my baby recommended it', 'I love my Diaper Champ My son is 3 months old and we have had a great experience with it Its simple to use and is cost efficient The biggest plus to this diaper pail is that you can use any plastic bag you want As far as some people saying it smells I havent had a problem Once a week I soak it with Lysol and water to keep germs away I highly recommed this product if you want a clean simple and convenient diaper pail', 'I agree its better than the genie  I own the genie and served us well  But when I had the chance to use this product at Babies R Us store I was so impressed  Its very easy to use and it seals out the odor as well  I wanted to get this for our use but my genie is still in good use  Too bad the champ came late or we should have gotten this instead', 'I have to say I really like the Diaper Champ with one exceptionit is definitely NOT always odor free  I have had to put it in the bathroom now instead of the baby room because smells from quotstinkyquot diapers will seep out  I think the best advice is to wrap the really smelly ones in a plastic bag before putting them in Another word of advicekeep a can of Lysol next to it to spray when you throw a diaper away It can also be hard to openIve broken several nails on it  Ive only had it a few weeks Ive been using it for my toddlers diapers until my new baby comes and Im hoping that the latch on it loosens up a bit with opening and shutting Otherwise its great that it holds more diapers and its SO much easier to put the diapers in it than the Diaper Genie I had  I dont need two hands for it', 'This is an excellent idea having the lid to dispose of diapersThere is no odor and extremely easy to use Having one of these helps from needing to take out the trash daily for the guys', 'This is a great diaper disposal system but from reading many of the negative reviews I think there are many individuals who did not bother to read the instructions the bag goes through the hole in the blue retaining ring  then gets folded over the retaing ring and locked in place at no point should any of the bag be out side the pale and if the bag is put in place like a regular trash can it will not seal properly and you will probaly get a smell I can not comment on the few reviews who had a seal falure for I have not had mine long enough', 'I read many reviews about diaper disposals and decided on the Diaper Champ and am VERY glad I did  I had only heard about diaper genie but had never used it until I was visiting my brother who had one  Now that I have used both I am even more certain that I like the diaper champ  With the diaper genie you have to push the dirty diaper low enough so you can then twist the lid the whole diaper sausage thing  I didnt know that until I used it  YUCK  Plus what a pain when you have a baby in your hand  The diaper champ is much easierput the diaper in the lid and then flip the lid from one side to the other  Being able to use regular trash bags is what hooked me in but now that I have used it Im sold  Theres no smell except for the brief moments when you change the bag  Just keep a stickup in the diaper champ and youll be fine', 'Love it love it love it  This lives up to the hype  You cannot smell diapersunless of course you dont change it or clean out  You can also use any trash bags you already have around the house which is why we purchased this particular diaper pail  It can be hard to open if you have long nails but I have found that if you just use the side of your finger instead of your fingertips then its no problem  I have recommended this to all new parents', 'Ive given this can as a gift a few times now  Once to a couple who were on their second child their response was howd we survive through the first baby without that canIts easy ordourless and clean  What more could new parents on', 'I have 2 kids in diapers and the diaper champ has been great for us for 2 12 years Easy to use and change I love that it uses reg bags ', 'I love this pail  You just drop the diaper in the hole and flip the handlelid  Sooooo simple  It does not smell and it holds any garbage bags  With the Diaper Genie you have to open the lid shove your arm in the pail twist 3 times then wipe off your arm if you know what I mean  It also needs special cartridges  With the Diaper Champ there is no mess and the diaper is gone in 1 second  It holds more diapers too  I definitely recommend it', 'My son is now 18 months old and I have to say that the diaper champ is one of our favorite purchases We got it when I was pregnant in hopes it would keep our house smelling ok Well it does pretty well at that you still have to change it out everyday it is poop however But the thing I love most is that I can just use my kroger bags With buying diapers and toys I didnt need something else on my list to buy What a great invention', 'Its so much better then the diaper genie No special bags necessary Occasionally there are some bad odors but its nothing that cant be fixed with some febreeze or lysol', 'If you really want to save money but still get a quality product buy the Diaper ChampI had a friend recommend it to me and another friend recommend the Diaper Dekor  When it came down to it I couldnt make myself spend the extra money for something that needed expensive refills Every time you have to buy refills it is almost as expensive as buying a new diaper pail  Lets face it babies are expensive and whenever you can save  you shouldI buy a box of bags at Target that I use for the kitchen and the Diaper Champ and they cost less than ten dollars for over 100 bagsMy only complaint is that it is hard to get the pail open at first to change the bags but it gets easier over time as it loosens up and you get the hang of itIf I had it to do over again I would still buy the Diaper Champ  I think it is great', 'Hands downget this diaper pail The only reason I ever even need to empty it is when it cant hold anymore NEVER smellsever I change mine about every 2 weeks like I said only because thats when it seems to fill Dont bother w the cheapies this one is IT Seriouslytrust me The reason why it never smells is because the diaper goes into like a seperate chamber before it gets to the bag so the air never transfersTheres nothing else I can say This is perfection', 'Weve been using the Diaper Champ for almost 5 months now and love it It works like advertised and keeps the odors at bay I would recommend hosing the inside with Lysol after each bag change', 'I have a friend that had the Diaper Genie and complained of it smelling on occasion  My husband and I were a little leary of purchasing a diaper pail but decided to give the Diaper Champ a try  I am so glad that we did  We have been using it for almost a month and it is great  It is so easy to use never smells so far and I love that you can use your own garbage bags and do not have to purchase special bags to use with this diaper pail  I would definetely recommend', 'I think this should be a staple in every household with a child  It is so much easier to use than the diaper genie and the other brands  The fact that you can use regular trash bags is a BIG plus because you dont have to stock up on refills or run to the store when you realize you dont have anymore  There is no oder until you open it up to empty and it is easy to usegreat item', 'Got this for my baby shower after reading all the reviews  I have never had a problem with mine  I uses odor controlling garbage bags and you never smell any dirty diapersThis product is great', 'This is a great for dirty Diapers I have had no problem with smells And it is easy to empty out I love It', 'I was a diaper genie user until my son was about 1 month old  I thought that it was hard to use  We had a friend tell us about the Diaper CHAMP and told us to try it out  The name says it all  Our son is now almost 2 years old  We just quit using the diaper champ about 3 months ago just because it was just as easy to carry them out to the trash  We have had no problems at with the diaper champ at all  It does a great job on keeping the odor in the pail  Sure it smells when you change the bag but you just seal off the bag and smell is gone  NO refills to buy or anything  ITs great  ITs a breeze to clean and empty the bag  This is way better than the diaper genie', 'We like our diaper champ because you dont have to buy special bags and it lets you know when its full  We dont have any smell in our babies room and she poops a lot', 'Daiper Champ is a true champion Earlier i was planning to buy Diaper Genie as i had liked its innovative style However all my friends were sick and tired of its refill system Not only that it also gives out a stinky smell when the baby grows and starts eating solid food It also need some assembly while as CHAMP is so easy to use and can take any size diaper any trash bag and even a kid can handle it with ease', 'We like this diaper pail  Ive had two others with our older kidsone a diaper genie which I personally found to be a pain and another by fisher price that I dont know if they still  makeWe used this for all diapers for the first six months until our baby started having solid food  As an exclusively breast fed baby there were no odors escaping at all  Formula fed babies have stinkier diapers so I dont personally know if it would be as efficient for them  My older two actually enjoyed putting the diaper in  Its easy to change out  I always opened it up outside if you try to open it inside there will be some odors escape pulled out the full bag sprayed the can with lysol and kept a dryer sheet in the bottom which I changed every month or soNow that little one is having solids I personally dont expect any diaper pail to contain the smell so I put dirty ones directly outside  We still use it for the wet ones  It has worked out fine because at this point he only has one messy diaper a dayI had a little trouble with the adhesive on the gasket thingee coming loose but I emailed them and they very promptly sent me a new one for free along with a few extras in case it happened again which it hasnt so I think the customer service is goodThe only thing I dont like about it is that you have to empty it fairly often but I also recognize that honestly thats ridiculous on my part  The more it holds the more room it takes up the heavier it gets etc  And the fact that you cant go more than two or three days as a newborn anyway is probably one of the reasons it contains the smell  The longer they sit the more rank they get  Now that hes older and doesnt go through 15 diapers a day I only change it about once a week', 'The Diaper Champ was recommended to us in the Babies R Us asile by a nanny who was picking up one for one of the households that she was working with  She loved her previous experience with the product and we are glad that she spoke up to recommend it to usPluses It is a LOT easier to use than the Diaper Genie for example you can throw a diaper away with just one hand  Woohoo  Also you can use regular kitchen trash bags inside it so you dont have to buy special bags at an inflated price  Further due to its extra large containment area you dont have to take out the trash as often as you would have to with the smaller Diaper Genie and the smell seems to stay inside just fine The one minus that I experienced According to the directions that came in the box you can take apart the drumpiston assembly if you should wish to thoroughly clean the inside of it  When we first bought the Diaper Genie I tried to take it apart  I could not get it to come apart nor could my husband  It would not BUDGEso much so that if the directions didnt specifically mention that it could be separated I would have assumed that it was not built to come apart  After trying to get it apart for a ridiculous amount of time using practically everything from my nails to a crowbar I finally broke down and called the customer service number to see if I was missing some key a button or lever to push anything  The customer service person told me to try harder then call again if I couldnt get it openInsert long pause with upraised eyebrows hereNeedless to say I thought that was a bit less than helpful  So maybe my Diaper Genie was warped or maybe they are all impossible to get open its your gamble  I didnt take it back to the store because I assume that they are all that way  On the bright side I really havent felt that its gotten dirtier than a lysol wipe could handle so despite that lack of helpfulness that the customer service folks could offer me I would still recommend the product itself to a friend', 'I am glad I bought this It uses regular garbage bags and there is no odor at all It is so easy to use Thumbs up on this one I am glad I didnt get the diaper genieit wouldve been a waste of moneyI recommend this diaper champ to everyone', 'This truly is the champ of diapers This product unlike the genie and others is standalone of refills well you do need garbage bags but you should already have those It also does a very good job of keeping the stink away Not once has the smell came out in such a way that we noticeIt also kind of reminds me of the ghost jail thing in Ghostbusters you know where they put the trap in and release the ghostsIts a great product Its kind of big its well made and it will not need to be changed out for about a week Id advise anyone to buy it', 'Love this We keep several layers on the crib mattress mattress padprotector sheet then ultimate crib sheet In case of nighttime accidents or illness of any sort I can just pull the ultimate crib sheet off have another sheet ready to go and mattress is always protected Deducted one star bc both of our ultimate crib sheets balled up immediately with first wash Not as bad with second sheet since actually followed washing directions but still had some pilling of soft layers', 'I dont know how I would have managed without these My  twin boys wet through diapers like crazy and these sheets are a huge time saver just snap them out wash  dry and snap them back on They are really soft too', 'I purchased the Ultimate Crib Sheet for a baby gift Im that crazy about this product Like all of my favorite baby items my babies are now almost 10 and almost seven the crib sheet was a gift from a friend who too loved it You put your regular crib sheet down on the bed the fitted one This one snaps in over the fitted sheet around the rungs of the crib If your child poopspeesvomits in the middle of the night all you have to do is unsnap the top sheet its got a leak proof backing on it and then youve already got your regular sheet underneath ready to go No fighting with the mattress in the middle of the night Getting a fitted sheet on the mattress is hard enough during the day doing it when your child has other issues going on is a nightmare This really is the Ultimate', 'I really wish that I had this when my son was a newborn and all those midnight crib cya gongs could have been avoided This is a really great and easy to use product It is definitely one of the first things that I recommend to parents and Im glad that we will have it around for our second child Make sure tha you buy a backup one or teo for those late night changings This came in very handy when our 18 month old went through potty training and just for any other leakages or accidents that kids sometimes haveMy only complaint was that when we washed these in the wash some of the snaps would break off also on a side note as cheap as these are from Amazon I have also been able to find the same brand at TJMaxx and Marshalls for half the price', 'When my son was a newborn I was able to fold it in two and placed a blanket on top to make it a little more comfortable because it is kind of scratchy  Now at four months it is at is full length and I still put a blanket on top of it  Whenever he gets it wet I just take the blanket and the cover and wash it easily  I dont have to mess with the fitted sheet and trying to get it off of the mattress which is so hard since they are so tightly fitted against the crib  This makes life simple and cleaner  You can use it anywhere', 'I have loved having these crib sheets  I only have to use one regular sheet and then this goes over the top  When it needs to be changed a few snaps does the trick and off it comes  Otherwise Id have to have a mattress pad a waterproof pad and a regular sheet and all three would have to come off for each change  With the thick mattress on the crib changing them would be a real chore  The Ultimate Crib Sheet saves time and money', ... ]"
      ]
     },
     "execution_count": 15,
     "metadata": {},
     "output_type": "execute_result"
    }
   ],
   "source": [
    "products['review_clean']"
   ]
  },
  {
   "cell_type": "markdown",
   "metadata": {},
   "source": [
    "Now we proceed with *Step 2*. For each word in **important_words**, we compute a count for the number of times the word occurs in the review. We will store this count in a separate column (one for each word). The result of this feature processing is a single column for each word in **important_words** which keeps a count of the number of times the respective word occurs in the review text.\n",
    "\n",
    "\n",
    "**Note:** There are several ways of doing this. In this assignment, we use the built-in *count* function for Python lists. Each review string is first split into individual words and the number of occurances of a given word is counted."
   ]
  },
  {
   "cell_type": "code",
   "execution_count": 16,
   "metadata": {},
   "outputs": [],
   "source": [
    "for word in important_words:\n",
    "    products[word] = products['review_clean'].apply(lambda s : s.split().count(word))"
   ]
  },
  {
   "cell_type": "markdown",
   "metadata": {},
   "source": [
    "The SFrame **products** now contains one column for each of the 193 **important_words**. As an example, the column **perfect** contains a count of the number of times the word **perfect** occurs in each of the reviews."
   ]
  },
  {
   "cell_type": "code",
   "execution_count": 17,
   "metadata": {},
   "outputs": [
    {
     "data": {
      "text/plain": [
       "dtype: int\n",
       "Rows: 53072\n",
       "[0, 0, 0, 1, 0, 0, 0, 0, 0, 0, 0, 1, 0, 0, 0, 0, 0, 0, 0, 0, 0, 0, 1, 0, 1, 0, 0, 1, 0, 0, 0, 0, 0, 0, 0, 0, 0, 0, 0, 0, 0, 0, 0, 0, 0, 0, 0, 0, 0, 0, 0, 0, 0, 0, 0, 0, 0, 0, 0, 0, 0, 0, 0, 0, 0, 0, 0, 0, 0, 0, 0, 0, 0, 0, 0, 0, 0, 0, 0, 0, 0, 0, 0, 0, 0, 0, 0, 0, 0, 0, 0, 0, 0, 0, 0, 0, 0, 0, 0, 0, ... ]"
      ]
     },
     "execution_count": 17,
     "metadata": {},
     "output_type": "execute_result"
    }
   ],
   "source": [
    "products['perfect']"
   ]
  },
  {
   "cell_type": "markdown",
   "metadata": {},
   "source": [
    "Now, write some code to compute the number of product reviews that contain the word **perfect**.\n",
    "\n",
    "**Hint**: \n",
    "* First create a column called `contains_perfect` which is set to 1 if the count of the word **perfect** (stored in column **perfect**) is >= 1.\n",
    "* Sum the number of 1s in the column `contains_perfect`."
   ]
  },
  {
   "cell_type": "code",
   "execution_count": 24,
   "metadata": {},
   "outputs": [
    {
     "name": "stdout",
     "output_type": "stream",
     "text": [
      "2955\n"
     ]
    }
   ],
   "source": [
    "# for i in range(len(products['perfect'])):\n",
    "#     if(products[products['perfect'][i] >= 1]):\n",
    "#         products['contains_perfect'][i] = 1\n",
    "#     else:\n",
    "#         products['contains_perfect'][i] = 0\n",
    "\n",
    "products['contains_perfect'] = products['perfect'].apply(lambda x: 1 if x>= 1 else 0)\n",
    "print(products['contains_perfect'].sum())\n"
   ]
  },
  {
   "cell_type": "markdown",
   "metadata": {},
   "source": [
    "**Quiz Question**. How many reviews contain the word **perfect**?"
   ]
  },
  {
   "cell_type": "markdown",
   "metadata": {},
   "source": [
    "## Convert SFrame to NumPy array\n",
    "\n",
    "As you have seen previously, NumPy is a powerful library for doing matrix manipulation. Let us convert our data to matrices and then implement our algorithms with matrices.\n",
    "\n",
    "First, make sure you can perform the following import."
   ]
  },
  {
   "cell_type": "code",
   "execution_count": 36,
   "metadata": {},
   "outputs": [],
   "source": [
    "import numpy as np"
   ]
  },
  {
   "cell_type": "markdown",
   "metadata": {},
   "source": [
    "We now provide you with a function that extracts columns from an SFrame and converts them into a NumPy array. Two arrays are returned: one representing features and another representing class labels. Note that the feature matrix includes an additional column 'intercept' to take account of the intercept term."
   ]
  },
  {
   "cell_type": "code",
   "execution_count": 37,
   "metadata": {
    "collapsed": true
   },
   "outputs": [],
   "source": [
    "def get_numpy_data(data_sframe, features, label):\n",
    "    data_sframe['intercept'] = 1\n",
    "    features = ['intercept'] + features\n",
    "    features_sframe = data_sframe[features]\n",
    "    feature_matrix = features_sframe.to_numpy()\n",
    "    label_sarray = data_sframe[label]\n",
    "    label_array = label_sarray.to_numpy()\n",
    "    return(feature_matrix, label_array)"
   ]
  },
  {
   "cell_type": "markdown",
   "metadata": {},
   "source": [
    "Let us convert the data into NumPy arrays."
   ]
  },
  {
   "cell_type": "code",
   "execution_count": 35,
   "metadata": {},
   "outputs": [
    {
     "ename": "AssertionError",
     "evalue": "numpy is not installed.",
     "output_type": "error",
     "traceback": [
      "\u001b[0;31m---------------------------------------------------------------------------\u001b[0m",
      "\u001b[0;31mAssertionError\u001b[0m                            Traceback (most recent call last)",
      "\u001b[0;32m<ipython-input-35-f444b3b84e92>\u001b[0m in \u001b[0;36m<module>\u001b[0;34m()\u001b[0m\n\u001b[1;32m      1\u001b[0m \u001b[0;31m# Warning: This may take a few minutes...\u001b[0m\u001b[0;34m\u001b[0m\u001b[0;34m\u001b[0m\u001b[0m\n\u001b[0;32m----> 2\u001b[0;31m \u001b[0mfeature_matrix\u001b[0m\u001b[0;34m,\u001b[0m \u001b[0msentiment\u001b[0m \u001b[0;34m=\u001b[0m \u001b[0mget_numpy_data\u001b[0m\u001b[0;34m(\u001b[0m\u001b[0mproducts\u001b[0m\u001b[0;34m,\u001b[0m \u001b[0mimportant_words\u001b[0m\u001b[0;34m,\u001b[0m \u001b[0;34m'sentiment'\u001b[0m\u001b[0;34m)\u001b[0m\u001b[0;34m\u001b[0m\u001b[0m\n\u001b[0m",
      "\u001b[0;32m<ipython-input-34-444b16c804e0>\u001b[0m in \u001b[0;36mget_numpy_data\u001b[0;34m(data_sframe, features, label)\u001b[0m\n\u001b[1;32m      3\u001b[0m     \u001b[0mfeatures\u001b[0m \u001b[0;34m=\u001b[0m \u001b[0;34m[\u001b[0m\u001b[0;34m'intercept'\u001b[0m\u001b[0;34m]\u001b[0m \u001b[0;34m+\u001b[0m \u001b[0mfeatures\u001b[0m\u001b[0;34m\u001b[0m\u001b[0m\n\u001b[1;32m      4\u001b[0m     \u001b[0mfeatures_sframe\u001b[0m \u001b[0;34m=\u001b[0m \u001b[0mdata_sframe\u001b[0m\u001b[0;34m[\u001b[0m\u001b[0mfeatures\u001b[0m\u001b[0;34m]\u001b[0m\u001b[0;34m\u001b[0m\u001b[0m\n\u001b[0;32m----> 5\u001b[0;31m     \u001b[0mfeature_matrix\u001b[0m \u001b[0;34m=\u001b[0m \u001b[0mfeatures_sframe\u001b[0m\u001b[0;34m.\u001b[0m\u001b[0mto_numpy\u001b[0m\u001b[0;34m(\u001b[0m\u001b[0;34m)\u001b[0m\u001b[0;34m\u001b[0m\u001b[0m\n\u001b[0m\u001b[1;32m      6\u001b[0m     \u001b[0mlabel_sarray\u001b[0m \u001b[0;34m=\u001b[0m \u001b[0mdata_sframe\u001b[0m\u001b[0;34m[\u001b[0m\u001b[0mlabel\u001b[0m\u001b[0;34m]\u001b[0m\u001b[0;34m\u001b[0m\u001b[0m\n\u001b[1;32m      7\u001b[0m     \u001b[0mlabel_array\u001b[0m \u001b[0;34m=\u001b[0m \u001b[0mlabel_sarray\u001b[0m\u001b[0;34m.\u001b[0m\u001b[0mto_numpy\u001b[0m\u001b[0;34m(\u001b[0m\u001b[0;34m)\u001b[0m\u001b[0;34m\u001b[0m\u001b[0m\n",
      "\u001b[0;32m/Users/pratyush/anaconda/envs/gl-env/lib/python2.7/site-packages/graphlab/data_structures/sframe.pyc\u001b[0m in \u001b[0;36mto_numpy\u001b[0;34m(self)\u001b[0m\n\u001b[1;32m   2937\u001b[0m \u001b[0;34m\u001b[0m\u001b[0m\n\u001b[1;32m   2938\u001b[0m         \"\"\"\n\u001b[0;32m-> 2939\u001b[0;31m         \u001b[0;32massert\u001b[0m \u001b[0mHAS_NUMPY\u001b[0m\u001b[0;34m,\u001b[0m \u001b[0;34m'numpy is not installed.'\u001b[0m\u001b[0;34m\u001b[0m\u001b[0m\n\u001b[0m\u001b[1;32m   2940\u001b[0m         \u001b[0;32mimport\u001b[0m \u001b[0mnumpy\u001b[0m\u001b[0;34m\u001b[0m\u001b[0m\n\u001b[1;32m   2941\u001b[0m         \u001b[0;32mreturn\u001b[0m \u001b[0mnumpy\u001b[0m\u001b[0;34m.\u001b[0m\u001b[0mtranspose\u001b[0m\u001b[0;34m(\u001b[0m\u001b[0mnumpy\u001b[0m\u001b[0;34m.\u001b[0m\u001b[0masarray\u001b[0m\u001b[0;34m(\u001b[0m\u001b[0;34m[\u001b[0m\u001b[0mself\u001b[0m\u001b[0;34m[\u001b[0m\u001b[0mx\u001b[0m\u001b[0;34m]\u001b[0m \u001b[0;32mfor\u001b[0m \u001b[0mx\u001b[0m \u001b[0;32min\u001b[0m \u001b[0mself\u001b[0m\u001b[0;34m.\u001b[0m\u001b[0mcolumn_names\u001b[0m\u001b[0;34m(\u001b[0m\u001b[0;34m)\u001b[0m\u001b[0;34m]\u001b[0m\u001b[0;34m)\u001b[0m\u001b[0;34m)\u001b[0m\u001b[0;34m\u001b[0m\u001b[0m\n",
      "\u001b[0;31mAssertionError\u001b[0m: numpy is not installed."
     ]
    }
   ],
   "source": [
    "# Warning: This may take a few minutes...\n",
    "feature_matrix, sentiment = get_numpy_data(products, important_words, 'sentiment') "
   ]
  },
  {
   "cell_type": "markdown",
   "metadata": {},
   "source": [
    "**Are you running this notebook on an Amazon EC2 t2.micro instance?** (If you are using your own machine, please skip this section)\n",
    "\n",
    "It has been reported that t2.micro instances do not provide sufficient power to complete the conversion in acceptable amount of time. For interest of time, please refrain from running `get_numpy_data` function. Instead, download the [binary file](https://s3.amazonaws.com/static.dato.com/files/coursera/course-3/numpy-arrays/module-3-assignment-numpy-arrays.npz) containing the four NumPy arrays you'll need for the assignment. To load the arrays, run the following commands:\n",
    "```\n",
    "arrays = np.load('module-3-assignment-numpy-arrays.npz')\n",
    "feature_matrix, sentiment = arrays['feature_matrix'], arrays['sentiment']\n",
    "```"
   ]
  },
  {
   "cell_type": "code",
   "execution_count": 39,
   "metadata": {
    "collapsed": true
   },
   "outputs": [],
   "source": [
    "arrays = np.load('module-3-assignment-numpy-arrays.npz')"
   ]
  },
  {
   "cell_type": "code",
   "execution_count": 40,
   "metadata": {
    "collapsed": true
   },
   "outputs": [],
   "source": [
    "feature_matrix, sentiment = arrays['feature_matrix'], arrays['sentiment']"
   ]
  },
  {
   "cell_type": "code",
   "execution_count": 41,
   "metadata": {},
   "outputs": [
    {
     "data": {
      "text/plain": [
       "(53072, 194)"
      ]
     },
     "execution_count": 41,
     "metadata": {},
     "output_type": "execute_result"
    }
   ],
   "source": [
    "feature_matrix.shape"
   ]
  },
  {
   "cell_type": "markdown",
   "metadata": {},
   "source": [
    "** Quiz Question:** How many features are there in the **feature_matrix**?\n",
    "\n",
    "** Quiz Question:** Assuming that the intercept is present, how does the number of features in **feature_matrix** relate to the number of features in the logistic regression model?"
   ]
  },
  {
   "cell_type": "markdown",
   "metadata": {},
   "source": [
    "Now, let us see what the **sentiment** column looks like:"
   ]
  },
  {
   "cell_type": "code",
   "execution_count": 42,
   "metadata": {},
   "outputs": [
    {
     "data": {
      "text/plain": [
       "array([ 1,  1,  1, ..., -1, -1, -1])"
      ]
     },
     "execution_count": 42,
     "metadata": {},
     "output_type": "execute_result"
    }
   ],
   "source": [
    "sentiment"
   ]
  },
  {
   "cell_type": "markdown",
   "metadata": {},
   "source": [
    "## Estimating conditional probability with link function"
   ]
  },
  {
   "cell_type": "markdown",
   "metadata": {},
   "source": [
    "Recall from lecture that the link function is given by:\n",
    "$$\n",
    "P(y_i = +1 | \\mathbf{x}_i,\\mathbf{w}) = \\frac{1}{1 + \\exp(-\\mathbf{w}^T h(\\mathbf{x}_i))},\n",
    "$$\n",
    "\n",
    "where the feature vector $h(\\mathbf{x}_i)$ represents the word counts of **important_words** in the review  $\\mathbf{x}_i$. Complete the following function that implements the link function:"
   ]
  },
  {
   "cell_type": "code",
   "execution_count": 47,
   "metadata": {},
   "outputs": [
    {
     "name": "stdout",
     "output_type": "stream",
     "text": [
      "\n"
     ]
    }
   ],
   "source": [
    "'''\n",
    "produces probablistic estimate for P(y_i = +1 | x_i, w).\n",
    "estimate ranges between 0 and 1.\n",
    "'''\n",
    "def predict_probability(feature_matrix, coefficients):\n",
    "    # Take dot product of feature_matrix and coefficients  \n",
    "    # YOUR CODE HERE\n",
    "    dot_product = np.dot(feature_matrix, coefficients)\n",
    "    \n",
    "    # Compute P(y_i = +1 | x_i, w) using the link function\n",
    "    # YOUR CODE HERE\n",
    "    predictions = 1/(1+np.exp(-dot_product))\n",
    "    \n",
    "    # return predictions\n",
    "    return predictions"
   ]
  },
  {
   "cell_type": "markdown",
   "metadata": {},
   "source": [
    "**Aside**. How the link function works with matrix algebra\n",
    "\n",
    "Since the word counts are stored as columns in **feature_matrix**, each $i$-th row of the matrix corresponds to the feature vector $h(\\mathbf{x}_i)$:\n",
    "$$\n",
    "[\\text{feature_matrix}] =\n",
    "\\left[\n",
    "\\begin{array}{c}\n",
    "h(\\mathbf{x}_1)^T \\\\\n",
    "h(\\mathbf{x}_2)^T \\\\\n",
    "\\vdots \\\\\n",
    "h(\\mathbf{x}_N)^T\n",
    "\\end{array}\n",
    "\\right] =\n",
    "\\left[\n",
    "\\begin{array}{cccc}\n",
    "h_0(\\mathbf{x}_1) & h_1(\\mathbf{x}_1) & \\cdots & h_D(\\mathbf{x}_1) \\\\\n",
    "h_0(\\mathbf{x}_2) & h_1(\\mathbf{x}_2) & \\cdots & h_D(\\mathbf{x}_2) \\\\\n",
    "\\vdots & \\vdots & \\ddots & \\vdots \\\\\n",
    "h_0(\\mathbf{x}_N) & h_1(\\mathbf{x}_N) & \\cdots & h_D(\\mathbf{x}_N)\n",
    "\\end{array}\n",
    "\\right]\n",
    "$$\n",
    "\n",
    "By the rules of matrix multiplication, the score vector containing elements $\\mathbf{w}^T h(\\mathbf{x}_i)$ is obtained by multiplying **feature_matrix** and the coefficient vector $\\mathbf{w}$.\n",
    "$$\n",
    "[\\text{score}] =\n",
    "[\\text{feature_matrix}]\\mathbf{w} =\n",
    "\\left[\n",
    "\\begin{array}{c}\n",
    "h(\\mathbf{x}_1)^T \\\\\n",
    "h(\\mathbf{x}_2)^T \\\\\n",
    "\\vdots \\\\\n",
    "h(\\mathbf{x}_N)^T\n",
    "\\end{array}\n",
    "\\right]\n",
    "\\mathbf{w}\n",
    "= \\left[\n",
    "\\begin{array}{c}\n",
    "h(\\mathbf{x}_1)^T\\mathbf{w} \\\\\n",
    "h(\\mathbf{x}_2)^T\\mathbf{w} \\\\\n",
    "\\vdots \\\\\n",
    "h(\\mathbf{x}_N)^T\\mathbf{w}\n",
    "\\end{array}\n",
    "\\right]\n",
    "= \\left[\n",
    "\\begin{array}{c}\n",
    "\\mathbf{w}^T h(\\mathbf{x}_1) \\\\\n",
    "\\mathbf{w}^T h(\\mathbf{x}_2) \\\\\n",
    "\\vdots \\\\\n",
    "\\mathbf{w}^T h(\\mathbf{x}_N)\n",
    "\\end{array}\n",
    "\\right]\n",
    "$$"
   ]
  },
  {
   "cell_type": "markdown",
   "metadata": {},
   "source": [
    "**Checkpoint**\n",
    "\n",
    "Just to make sure you are on the right track, we have provided a few examples. If your `predict_probability` function is implemented correctly, then the outputs will match:"
   ]
  },
  {
   "cell_type": "code",
   "execution_count": 48,
   "metadata": {},
   "outputs": [
    {
     "name": "stdout",
     "output_type": "stream",
     "text": [
      "The following outputs must match \n",
      "------------------------------------------------\n",
      "correct_predictions           = [0.98201379 0.26894142]\n",
      "output of predict_probability = [0.98201379 0.26894142]\n"
     ]
    }
   ],
   "source": [
    "dummy_feature_matrix = np.array([[1.,2.,3.], [1.,-1.,-1]])\n",
    "dummy_coefficients = np.array([1., 3., -1.])\n",
    "\n",
    "correct_scores      = np.array( [ 1.*1. + 2.*3. + 3.*(-1.),          1.*1. + (-1.)*3. + (-1.)*(-1.) ] )\n",
    "correct_predictions = np.array( [ 1./(1+np.exp(-correct_scores[0])), 1./(1+np.exp(-correct_scores[1])) ] )\n",
    "\n",
    "print 'The following outputs must match '\n",
    "print '------------------------------------------------'\n",
    "print 'correct_predictions           =', correct_predictions\n",
    "print 'output of predict_probability =', predict_probability(dummy_feature_matrix, dummy_coefficients)"
   ]
  },
  {
   "cell_type": "markdown",
   "metadata": {},
   "source": [
    "## Compute derivative of log likelihood with respect to a single coefficient\n",
    "\n",
    "Recall from lecture:\n",
    "$$\n",
    "\\frac{\\partial\\ell}{\\partial w_j} = \\sum_{i=1}^N h_j(\\mathbf{x}_i)\\left(\\mathbf{1}[y_i = +1] - P(y_i = +1 | \\mathbf{x}_i, \\mathbf{w})\\right)\n",
    "$$\n",
    "\n",
    "We will now write a function that computes the derivative of log likelihood with respect to a single coefficient $w_j$. The function accepts two arguments:\n",
    "* `errors` vector containing $\\mathbf{1}[y_i = +1] - P(y_i = +1 | \\mathbf{x}_i, \\mathbf{w})$ for all $i$.\n",
    "* `feature` vector containing $h_j(\\mathbf{x}_i)$  for all $i$. \n",
    "\n",
    "Complete the following code block:"
   ]
  },
  {
   "cell_type": "code",
   "execution_count": 49,
   "metadata": {
    "collapsed": true
   },
   "outputs": [],
   "source": [
    "def feature_derivative(errors, feature):     \n",
    "    # Compute the dot product of errors and feature\n",
    "    derivative = np.dot(errors, feature)\n",
    "    \n",
    "    # Return the derivative\n",
    "    return derivative"
   ]
  },
  {
   "cell_type": "markdown",
   "metadata": {},
   "source": [
    "In the main lecture, our focus was on the likelihood.  In the advanced optional video, however, we introduced a transformation of this likelihood---called the log likelihood---that simplifies the derivation of the gradient and is more numerically stable.  Due to its numerical stability, we will use the log likelihood instead of the likelihood to assess the algorithm.\n",
    "\n",
    "The log likelihood is computed using the following formula (see the advanced optional video if you are curious about the derivation of this equation):\n",
    "\n",
    "$$\\ell\\ell(\\mathbf{w}) = \\sum_{i=1}^N \\Big( (\\mathbf{1}[y_i = +1] - 1)\\mathbf{w}^T h(\\mathbf{x}_i) - \\ln\\left(1 + \\exp(-\\mathbf{w}^T h(\\mathbf{x}_i))\\right) \\Big) $$\n",
    "\n",
    "We provide a function to compute the log likelihood for the entire dataset. "
   ]
  },
  {
   "cell_type": "code",
   "execution_count": 50,
   "metadata": {},
   "outputs": [],
   "source": [
    "def compute_log_likelihood(feature_matrix, sentiment, coefficients):\n",
    "    indicator = (sentiment==+1)\n",
    "    scores = np.dot(feature_matrix, coefficients)\n",
    "    logexp = np.log(1. + np.exp(-scores))\n",
    "    \n",
    "    # Simple check to prevent overflow\n",
    "    mask = np.isinf(logexp)\n",
    "    logexp[mask] = -scores[mask]\n",
    "    \n",
    "    lp = np.sum((indicator-1)*scores - logexp)\n",
    "    return lp"
   ]
  },
  {
   "cell_type": "markdown",
   "metadata": {},
   "source": [
    "**Checkpoint**\n",
    "\n",
    "Just to make sure we are on the same page, run the following code block and check that the outputs match."
   ]
  },
  {
   "cell_type": "code",
   "execution_count": 51,
   "metadata": {},
   "outputs": [
    {
     "name": "stdout",
     "output_type": "stream",
     "text": [
      "The following outputs must match \n",
      "------------------------------------------------\n",
      "correct_log_likelihood           = -5.331411615436032\n",
      "output of compute_log_likelihood = -5.331411615436032\n"
     ]
    }
   ],
   "source": [
    "dummy_feature_matrix = np.array([[1.,2.,3.], [1.,-1.,-1]])\n",
    "dummy_coefficients = np.array([1., 3., -1.])\n",
    "dummy_sentiment = np.array([-1, 1])\n",
    "\n",
    "correct_indicators  = np.array( [ -1==+1,                                       1==+1 ] )\n",
    "correct_scores      = np.array( [ 1.*1. + 2.*3. + 3.*(-1.),                     1.*1. + (-1.)*3. + (-1.)*(-1.) ] )\n",
    "correct_first_term  = np.array( [ (correct_indicators[0]-1)*correct_scores[0],  (correct_indicators[1]-1)*correct_scores[1] ] )\n",
    "correct_second_term = np.array( [ np.log(1. + np.exp(-correct_scores[0])),      np.log(1. + np.exp(-correct_scores[1])) ] )\n",
    "\n",
    "correct_ll          =      sum( [ correct_first_term[0]-correct_second_term[0], correct_first_term[1]-correct_second_term[1] ] ) \n",
    "\n",
    "print 'The following outputs must match '\n",
    "print '------------------------------------------------'\n",
    "print 'correct_log_likelihood           =', correct_ll\n",
    "print 'output of compute_log_likelihood =', compute_log_likelihood(dummy_feature_matrix, dummy_sentiment, dummy_coefficients)"
   ]
  },
  {
   "cell_type": "markdown",
   "metadata": {},
   "source": [
    "## Taking gradient steps"
   ]
  },
  {
   "cell_type": "markdown",
   "metadata": {},
   "source": [
    "Now we are ready to implement our own logistic regression. All we have to do is to write a gradient ascent function that takes gradient steps towards the optimum. \n",
    "\n",
    "Complete the following function to solve the logistic regression model using gradient ascent:"
   ]
  },
  {
   "cell_type": "code",
   "execution_count": 52,
   "metadata": {},
   "outputs": [],
   "source": [
    "from math import sqrt\n",
    "\n",
    "def logistic_regression(feature_matrix, sentiment, initial_coefficients, step_size, max_iter):\n",
    "    coefficients = np.array(initial_coefficients) # make sure it's a numpy array\n",
    "    for itr in xrange(max_iter):\n",
    "\n",
    "        # Predict P(y_i = +1|x_i,w) using your predict_probability() function\n",
    "        # YOUR CODE HERE\n",
    "        predictions = predict_probability(feature_matrix, initial_coefficients)\n",
    "        \n",
    "        # Compute indicator value for (y_i = +1)\n",
    "        indicator = (sentiment==+1)\n",
    "        \n",
    "        # Compute the errors as indicator - predictions\n",
    "        errors = indicator - predictions\n",
    "        for j in xrange(len(coefficients)): # loop over each coefficient\n",
    "            \n",
    "            # Recall that feature_matrix[:,j] is the feature column associated with coefficients[j].\n",
    "            # Compute the derivative for coefficients[j]. Save it in a variable called derivative\n",
    "            # YOUR CODE HERE\n",
    "            derivative = feature_derivative(errors, feature_matrix[:,j])\n",
    "            \n",
    "            # add the step size times the derivative to the current coefficient\n",
    "            ## YOUR CODE HERE\n",
    "            coefficients[j] += step_size*derivative\n",
    "        \n",
    "        # Checking whether log likelihood is increasing\n",
    "        if itr <= 15 or (itr <= 100 and itr % 10 == 0) or (itr <= 1000 and itr % 100 == 0) \\\n",
    "        or (itr <= 10000 and itr % 1000 == 0) or itr % 10000 == 0:\n",
    "            lp = compute_log_likelihood(feature_matrix, sentiment, coefficients)\n",
    "            print 'iteration %*d: log likelihood of observed labels = %.8f' % \\\n",
    "                (int(np.ceil(np.log10(max_iter))), itr, lp)\n",
    "    return coefficients"
   ]
  },
  {
   "cell_type": "markdown",
   "metadata": {},
   "source": [
    "Now, let us run the logistic regression solver."
   ]
  },
  {
   "cell_type": "code",
   "execution_count": 53,
   "metadata": {},
   "outputs": [
    {
     "name": "stdout",
     "output_type": "stream",
     "text": [
      "iteration   0: log likelihood of observed labels = -36780.91768478\n",
      "iteration   1: log likelihood of observed labels = -36775.13127954\n",
      "iteration   2: log likelihood of observed labels = -36769.34795095\n",
      "iteration   3: log likelihood of observed labels = -36763.56769899\n",
      "iteration   4: log likelihood of observed labels = -36757.79052366\n",
      "iteration   5: log likelihood of observed labels = -36752.01642492\n",
      "iteration   6: log likelihood of observed labels = -36746.24540276\n",
      "iteration   7: log likelihood of observed labels = -36740.47745714\n",
      "iteration   8: log likelihood of observed labels = -36734.71258803\n",
      "iteration   9: log likelihood of observed labels = -36728.95079539\n",
      "iteration  10: log likelihood of observed labels = -36723.19207918\n",
      "iteration  11: log likelihood of observed labels = -36717.43643934\n",
      "iteration  12: log likelihood of observed labels = -36711.68387583\n",
      "iteration  13: log likelihood of observed labels = -36705.93438858\n",
      "iteration  14: log likelihood of observed labels = -36700.18797754\n",
      "iteration  15: log likelihood of observed labels = -36694.44464262\n",
      "iteration  20: log likelihood of observed labels = -36665.77410742\n",
      "iteration  30: log likelihood of observed labels = -36608.66369535\n",
      "iteration  40: log likelihood of observed labels = -36551.86072283\n",
      "iteration  50: log likelihood of observed labels = -36495.36502431\n",
      "iteration  60: log likelihood of observed labels = -36439.17638957\n",
      "iteration  70: log likelihood of observed labels = -36383.29456460\n",
      "iteration  80: log likelihood of observed labels = -36327.71925271\n",
      "iteration  90: log likelihood of observed labels = -36272.45011567\n",
      "iteration 100: log likelihood of observed labels = -36217.48677511\n",
      "iteration 200: log likelihood of observed labels = -35684.56313478\n",
      "iteration 300: log likelihood of observed labels = -35181.56106069\n"
     ]
    }
   ],
   "source": [
    "coefficients = logistic_regression(feature_matrix, sentiment, initial_coefficients=np.zeros(194),\n",
    "                                   step_size=1e-7, max_iter=301)"
   ]
  },
  {
   "cell_type": "markdown",
   "metadata": {},
   "source": [
    "**Quiz Question:** As each iteration of gradient ascent passes, does the log likelihood increase or decrease?"
   ]
  },
  {
   "cell_type": "markdown",
   "metadata": {},
   "source": [
    "## Predicting sentiments"
   ]
  },
  {
   "cell_type": "markdown",
   "metadata": {},
   "source": [
    "Recall from lecture that class predictions for a data point $\\mathbf{x}$ can be computed from the coefficients $\\mathbf{w}$ using the following formula:\n",
    "$$\n",
    "\\hat{y}_i = \n",
    "\\left\\{\n",
    "\\begin{array}{ll}\n",
    "      +1 & \\mathbf{x}_i^T\\mathbf{w} > 0 \\\\\n",
    "      -1 & \\mathbf{x}_i^T\\mathbf{w} \\leq 0 \\\\\n",
    "\\end{array} \n",
    "\\right.\n",
    "$$\n",
    "\n",
    "Now, we will write some code to compute class predictions. We will do this in two steps:\n",
    "* **Step 1**: First compute the **scores** using **feature_matrix** and **coefficients** using a dot product.\n",
    "* **Step 2**: Using the formula above, compute the class predictions from the scores.\n",
    "\n",
    "Step 1 can be implemented as follows:"
   ]
  },
  {
   "cell_type": "code",
   "execution_count": 54,
   "metadata": {
    "collapsed": true
   },
   "outputs": [],
   "source": [
    "# Compute the scores as a dot product between feature_matrix and coefficients.\n",
    "scores = np.dot(feature_matrix, coefficients)"
   ]
  },
  {
   "cell_type": "code",
   "execution_count": 57,
   "metadata": {
    "collapsed": true
   },
   "outputs": [],
   "source": [
    "import pandas as pd"
   ]
  },
  {
   "cell_type": "markdown",
   "metadata": {},
   "source": [
    "Now, complete the following code block for **Step 2** to compute the class predictions using the **scores** obtained above:"
   ]
  },
  {
   "cell_type": "code",
   "execution_count": 68,
   "metadata": {},
   "outputs": [
    {
     "name": "stdout",
     "output_type": "stream",
     "text": [
      "<PandasArray>\n",
      "[ 1.0, -1.0,  1.0, -1.0,  1.0,  1.0,  1.0,  1.0, -1.0, -1.0,\n",
      " ...\n",
      " -1.0,  1.0, -1.0, -1.0, -1.0, -1.0, -1.0, -1.0, -1.0, -1.0]\n",
      "Length: 53072, dtype: float64\n"
     ]
    }
   ],
   "source": [
    "# class_predictions = np.array(pd.array(scores).apply(lambda x: 1 if x> 0 else -1))\n",
    "# print class_predictions\n",
    "\n",
    "class_predictions = pd.array(scores)\n",
    "for i in range(len(class_predictions)):\n",
    "    if(class_predictions[i] > 0):\n",
    "        class_predictions[i] = 1\n",
    "    else:\n",
    "        class_predictions[i] = -1\n",
    "print class_predictions"
   ]
  },
  {
   "cell_type": "markdown",
   "metadata": {},
   "source": [
    "** Quiz Question: ** How many reviews were predicted to have positive sentiment?"
   ]
  },
  {
   "cell_type": "code",
   "execution_count": 70,
   "metadata": {},
   "outputs": [
    {
     "name": "stdout",
     "output_type": "stream",
     "text": [
      "[-1.  1.] [31724 21348]\n"
     ]
    }
   ],
   "source": [
    "unique, counts = np.unique(class_predictions, return_counts=True)\n",
    "print unique, counts"
   ]
  },
  {
   "cell_type": "markdown",
   "metadata": {},
   "source": [
    "## Measuring accuracy\n",
    "\n",
    "We will now measure the classification accuracy of the model. Recall from the lecture that the classification accuracy can be computed as follows:\n",
    "\n",
    "$$\n",
    "\\mbox{accuracy} = \\frac{\\mbox{# correctly classified data points}}{\\mbox{# total data points}}\n",
    "$$\n",
    "\n",
    "Complete the following code block to compute the accuracy of the model."
   ]
  },
  {
   "cell_type": "code",
   "execution_count": 72,
   "metadata": {},
   "outputs": [
    {
     "name": "stdout",
     "output_type": "stream",
     "text": [
      "-----------------------------------------------------\n",
      "# Reviews   correctly classified = 39325\n",
      "# Reviews incorrectly classified = 13747\n",
      "# Reviews total                  = 53072\n",
      "-----------------------------------------------------\n",
      "Accuracy = 0.74\n"
     ]
    }
   ],
   "source": [
    "num_mistakes = (class_predictions != sentiment).sum()\n",
    "num_correct = len(sentiment) - num_mistakes\n",
    "accuracy = num_correct/(float(len(sentiment)))\n",
    "print \"-----------------------------------------------------\"\n",
    "print '# Reviews   correctly classified =', len(products) - num_mistakes\n",
    "print '# Reviews incorrectly classified =', num_mistakes\n",
    "print '# Reviews total                  =', len(products)\n",
    "print \"-----------------------------------------------------\"\n",
    "print 'Accuracy = %.2f' % accuracy"
   ]
  },
  {
   "cell_type": "markdown",
   "metadata": {},
   "source": [
    "**Quiz Question**: What is the accuracy of the model on predictions made above? (round to 2 digits of accuracy)"
   ]
  },
  {
   "cell_type": "markdown",
   "metadata": {},
   "source": [
    "## Which words contribute most to positive & negative sentiments?"
   ]
  },
  {
   "cell_type": "markdown",
   "metadata": {},
   "source": [
    "Recall that in Module 2 assignment, we were able to compute the \"**most positive words**\". These are words that correspond most strongly with positive reviews. In order to do this, we will first do the following:\n",
    "* Treat each coefficient as a tuple, i.e. (**word**, **coefficient_value**).\n",
    "* Sort all the (**word**, **coefficient_value**) tuples by **coefficient_value** in descending order."
   ]
  },
  {
   "cell_type": "code",
   "execution_count": 73,
   "metadata": {
    "scrolled": true
   },
   "outputs": [],
   "source": [
    "coefficients = list(coefficients[1:]) # exclude intercept\n",
    "word_coefficient_tuples = [(word, coefficient) for word, coefficient in zip(important_words, coefficients)]\n",
    "word_coefficient_tuples = sorted(word_coefficient_tuples, key=lambda x:x[1], reverse=True)"
   ]
  },
  {
   "cell_type": "markdown",
   "metadata": {},
   "source": [
    "Now, **word_coefficient_tuples** contains a sorted list of (**word**, **coefficient_value**) tuples. The first 10 elements in this list correspond to the words that are most positive."
   ]
  },
  {
   "cell_type": "markdown",
   "metadata": {},
   "source": [
    "### Ten \"most positive\" words\n",
    "\n",
    "Now, we compute the 10 words that have the most positive coefficient values. These words are associated with positive sentiment."
   ]
  },
  {
   "cell_type": "code",
   "execution_count": 75,
   "metadata": {},
   "outputs": [
    {
     "data": {
      "text/plain": [
       "[('great', 0.06927514999999965),\n",
       " ('love', 0.06900425000000007),\n",
       " ('easy', 0.06748420000000005),\n",
       " ('little', 0.04679045000000026),\n",
       " ('loves', 0.046414200000000044),\n",
       " ('well', 0.030355849999999917),\n",
       " ('perfect', 0.030355849999999917),\n",
       " ('old', 0.020272350000000126),\n",
       " ('nice', 0.018481399999999922),\n",
       " ('soft', 0.017954649999999985)]"
      ]
     },
     "execution_count": 75,
     "metadata": {},
     "output_type": "execute_result"
    }
   ],
   "source": [
    "word_coefficient_tuples[0:10]"
   ]
  },
  {
   "cell_type": "markdown",
   "metadata": {},
   "source": [
    "** Quiz Question:** Which word is **not** present in the top 10 \"most positive\" words?"
   ]
  },
  {
   "cell_type": "markdown",
   "metadata": {},
   "source": [
    "### Ten \"most negative\" words\n",
    "\n",
    "Next, we repeat this exercise on the 10 most negative words.  That is, we compute the 10 words that have the most negative coefficient values. These words are associated with negative sentiment."
   ]
  },
  {
   "cell_type": "code",
   "execution_count": 79,
   "metadata": {},
   "outputs": [
    {
     "data": {
      "text/plain": [
       "[('return', -0.027977950000000137),\n",
       " ('monitor', -0.028324099999999935),\n",
       " ('disappointed', -0.03005484999999982),\n",
       " ('back', -0.031589949999999895),\n",
       " ('even', -0.03347119999999984),\n",
       " ('get', -0.03396785000000007),\n",
       " ('work', -0.03619524999999997),\n",
       " ('money', -0.04141760000000029),\n",
       " ('product', -0.047452650000000124),\n",
       " ('would', -0.06381199999999962)]"
      ]
     },
     "execution_count": 79,
     "metadata": {},
     "output_type": "execute_result"
    }
   ],
   "source": [
    "word_coefficient_tuples[-10:]"
   ]
  },
  {
   "cell_type": "markdown",
   "metadata": {},
   "source": [
    "** Quiz Question:** Which word is **not** present in the top 10 \"most negative\" words?"
   ]
  },
  {
   "cell_type": "code",
   "execution_count": null,
   "metadata": {
    "collapsed": true
   },
   "outputs": [],
   "source": []
  }
 ],
 "metadata": {
  "kernelspec": {
   "display_name": "Python 2",
   "language": "python",
   "name": "python2"
  },
  "language_info": {
   "codemirror_mode": {
    "name": "ipython",
    "version": 2
   },
   "file_extension": ".py",
   "mimetype": "text/x-python",
   "name": "python",
   "nbconvert_exporter": "python",
   "pygments_lexer": "ipython2",
   "version": "2.7.13"
  }
 },
 "nbformat": 4,
 "nbformat_minor": 1
}
