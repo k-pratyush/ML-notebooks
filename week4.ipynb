{
 "cells": [
  {
   "cell_type": "code",
   "execution_count": 2,
   "metadata": {
    "collapsed": true
   },
   "outputs": [],
   "source": [
    "import graphlab"
   ]
  },
  {
   "cell_type": "code",
   "execution_count": 3,
   "metadata": {},
   "outputs": [
    {
     "name": "stdout",
     "output_type": "stream",
     "text": [
      "This non-commercial license of GraphLab Create for academic use is assigned to pratyush.kerhalkar@learner.manipal.edu and will expire on February 05, 2020.\n"
     ]
    },
    {
     "name": "stderr",
     "output_type": "stream",
     "text": [
      "[INFO] graphlab.cython.cy_server: GraphLab Create v2.1 started. Logging: /tmp/graphlab_server_1551684489.log\n"
     ]
    }
   ],
   "source": [
    "people = graphlab.SFrame('people_wiki.gl/')"
   ]
  },
  {
   "cell_type": "code",
   "execution_count": 4,
   "metadata": {},
   "outputs": [
    {
     "data": {
      "text/html": [
       "<div style=\"max-height:1000px;max-width:1500px;overflow:auto;\"><table frame=\"box\" rules=\"cols\">\n",
       "    <tr>\n",
       "        <th style=\"padding-left: 1em; padding-right: 1em; text-align: center\">URI</th>\n",
       "        <th style=\"padding-left: 1em; padding-right: 1em; text-align: center\">name</th>\n",
       "        <th style=\"padding-left: 1em; padding-right: 1em; text-align: center\">text</th>\n",
       "    </tr>\n",
       "    <tr>\n",
       "        <td style=\"padding-left: 1em; padding-right: 1em; text-align: center; vertical-align: top\">&lt;http://dbpedia.org/resou<br>rce/Digby_Morrell&gt; ...</td>\n",
       "        <td style=\"padding-left: 1em; padding-right: 1em; text-align: center; vertical-align: top\">Digby Morrell</td>\n",
       "        <td style=\"padding-left: 1em; padding-right: 1em; text-align: center; vertical-align: top\">digby morrell born 10<br>october 1979 is a former ...</td>\n",
       "    </tr>\n",
       "    <tr>\n",
       "        <td style=\"padding-left: 1em; padding-right: 1em; text-align: center; vertical-align: top\">&lt;http://dbpedia.org/resou<br>rce/Alfred_J._Lewy&gt; ...</td>\n",
       "        <td style=\"padding-left: 1em; padding-right: 1em; text-align: center; vertical-align: top\">Alfred J. Lewy</td>\n",
       "        <td style=\"padding-left: 1em; padding-right: 1em; text-align: center; vertical-align: top\">alfred j lewy aka sandy<br>lewy graduated from ...</td>\n",
       "    </tr>\n",
       "    <tr>\n",
       "        <td style=\"padding-left: 1em; padding-right: 1em; text-align: center; vertical-align: top\">&lt;http://dbpedia.org/resou<br>rce/Harpdog_Brown&gt; ...</td>\n",
       "        <td style=\"padding-left: 1em; padding-right: 1em; text-align: center; vertical-align: top\">Harpdog Brown</td>\n",
       "        <td style=\"padding-left: 1em; padding-right: 1em; text-align: center; vertical-align: top\">harpdog brown is a singer<br>and harmonica player who ...</td>\n",
       "    </tr>\n",
       "    <tr>\n",
       "        <td style=\"padding-left: 1em; padding-right: 1em; text-align: center; vertical-align: top\">&lt;http://dbpedia.org/resou<br>rce/Franz_Rottensteiner&gt; ...</td>\n",
       "        <td style=\"padding-left: 1em; padding-right: 1em; text-align: center; vertical-align: top\">Franz Rottensteiner</td>\n",
       "        <td style=\"padding-left: 1em; padding-right: 1em; text-align: center; vertical-align: top\">franz rottensteiner born<br>in waidmannsfeld lower ...</td>\n",
       "    </tr>\n",
       "    <tr>\n",
       "        <td style=\"padding-left: 1em; padding-right: 1em; text-align: center; vertical-align: top\">&lt;http://dbpedia.org/resou<br>rce/G-Enka&gt; ...</td>\n",
       "        <td style=\"padding-left: 1em; padding-right: 1em; text-align: center; vertical-align: top\">G-Enka</td>\n",
       "        <td style=\"padding-left: 1em; padding-right: 1em; text-align: center; vertical-align: top\">henry krvits born 30<br>december 1974 in tallinn ...</td>\n",
       "    </tr>\n",
       "    <tr>\n",
       "        <td style=\"padding-left: 1em; padding-right: 1em; text-align: center; vertical-align: top\">&lt;http://dbpedia.org/resou<br>rce/Sam_Henderson&gt; ...</td>\n",
       "        <td style=\"padding-left: 1em; padding-right: 1em; text-align: center; vertical-align: top\">Sam Henderson</td>\n",
       "        <td style=\"padding-left: 1em; padding-right: 1em; text-align: center; vertical-align: top\">sam henderson born<br>october 18 1969 is an ...</td>\n",
       "    </tr>\n",
       "    <tr>\n",
       "        <td style=\"padding-left: 1em; padding-right: 1em; text-align: center; vertical-align: top\">&lt;http://dbpedia.org/resou<br>rce/Aaron_LaCrate&gt; ...</td>\n",
       "        <td style=\"padding-left: 1em; padding-right: 1em; text-align: center; vertical-align: top\">Aaron LaCrate</td>\n",
       "        <td style=\"padding-left: 1em; padding-right: 1em; text-align: center; vertical-align: top\">aaron lacrate is an<br>american music producer ...</td>\n",
       "    </tr>\n",
       "    <tr>\n",
       "        <td style=\"padding-left: 1em; padding-right: 1em; text-align: center; vertical-align: top\">&lt;http://dbpedia.org/resou<br>rce/Trevor_Ferguson&gt; ...</td>\n",
       "        <td style=\"padding-left: 1em; padding-right: 1em; text-align: center; vertical-align: top\">Trevor Ferguson</td>\n",
       "        <td style=\"padding-left: 1em; padding-right: 1em; text-align: center; vertical-align: top\">trevor ferguson aka john<br>farrow born 11 november ...</td>\n",
       "    </tr>\n",
       "    <tr>\n",
       "        <td style=\"padding-left: 1em; padding-right: 1em; text-align: center; vertical-align: top\">&lt;http://dbpedia.org/resou<br>rce/Grant_Nelson&gt; ...</td>\n",
       "        <td style=\"padding-left: 1em; padding-right: 1em; text-align: center; vertical-align: top\">Grant Nelson</td>\n",
       "        <td style=\"padding-left: 1em; padding-right: 1em; text-align: center; vertical-align: top\">grant nelson born 27<br>april 1971 in london  ...</td>\n",
       "    </tr>\n",
       "    <tr>\n",
       "        <td style=\"padding-left: 1em; padding-right: 1em; text-align: center; vertical-align: top\">&lt;http://dbpedia.org/resou<br>rce/Cathy_Caruth&gt; ...</td>\n",
       "        <td style=\"padding-left: 1em; padding-right: 1em; text-align: center; vertical-align: top\">Cathy Caruth</td>\n",
       "        <td style=\"padding-left: 1em; padding-right: 1em; text-align: center; vertical-align: top\">cathy caruth born 1955 is<br>frank h t rhodes ...</td>\n",
       "    </tr>\n",
       "</table>\n",
       "[59071 rows x 3 columns]<br/>Note: Only the head of the SFrame is printed.<br/>You can use print_rows(num_rows=m, num_columns=n) to print more rows and columns.\n",
       "</div>"
      ],
      "text/plain": [
       "Columns:\n",
       "\tURI\tstr\n",
       "\tname\tstr\n",
       "\ttext\tstr\n",
       "\n",
       "Rows: 59071\n",
       "\n",
       "Data:\n",
       "+-------------------------------+---------------------+\n",
       "|              URI              |         name        |\n",
       "+-------------------------------+---------------------+\n",
       "| <http://dbpedia.org/resour... |    Digby Morrell    |\n",
       "| <http://dbpedia.org/resour... |    Alfred J. Lewy   |\n",
       "| <http://dbpedia.org/resour... |    Harpdog Brown    |\n",
       "| <http://dbpedia.org/resour... | Franz Rottensteiner |\n",
       "| <http://dbpedia.org/resour... |        G-Enka       |\n",
       "| <http://dbpedia.org/resour... |    Sam Henderson    |\n",
       "| <http://dbpedia.org/resour... |    Aaron LaCrate    |\n",
       "| <http://dbpedia.org/resour... |   Trevor Ferguson   |\n",
       "| <http://dbpedia.org/resour... |     Grant Nelson    |\n",
       "| <http://dbpedia.org/resour... |     Cathy Caruth    |\n",
       "+-------------------------------+---------------------+\n",
       "+-------------------------------+\n",
       "|              text             |\n",
       "+-------------------------------+\n",
       "| digby morrell born 10 octo... |\n",
       "| alfred j lewy aka sandy le... |\n",
       "| harpdog brown is a singer ... |\n",
       "| franz rottensteiner born i... |\n",
       "| henry krvits born 30 decem... |\n",
       "| sam henderson born october... |\n",
       "| aaron lacrate is an americ... |\n",
       "| trevor ferguson aka john f... |\n",
       "| grant nelson born 27 april... |\n",
       "| cathy caruth born 1955 is ... |\n",
       "+-------------------------------+\n",
       "[59071 rows x 3 columns]\n",
       "Note: Only the head of the SFrame is printed.\n",
       "You can use print_rows(num_rows=m, num_columns=n) to print more rows and columns."
      ]
     },
     "execution_count": 4,
     "metadata": {},
     "output_type": "execute_result"
    }
   ],
   "source": [
    "people\n"
   ]
  },
  {
   "cell_type": "code",
   "execution_count": 5,
   "metadata": {
    "collapsed": true
   },
   "outputs": [],
   "source": [
    "obama = people[people['name'] == 'Barack Obama']"
   ]
  },
  {
   "cell_type": "code",
   "execution_count": 6,
   "metadata": {},
   "outputs": [
    {
     "data": {
      "text/html": [
       "<div style=\"max-height:1000px;max-width:1500px;overflow:auto;\"><table frame=\"box\" rules=\"cols\">\n",
       "    <tr>\n",
       "        <th style=\"padding-left: 1em; padding-right: 1em; text-align: center\">URI</th>\n",
       "        <th style=\"padding-left: 1em; padding-right: 1em; text-align: center\">name</th>\n",
       "        <th style=\"padding-left: 1em; padding-right: 1em; text-align: center\">text</th>\n",
       "    </tr>\n",
       "    <tr>\n",
       "        <td style=\"padding-left: 1em; padding-right: 1em; text-align: center; vertical-align: top\">&lt;http://dbpedia.org/resou<br>rce/Barack_Obama&gt; ...</td>\n",
       "        <td style=\"padding-left: 1em; padding-right: 1em; text-align: center; vertical-align: top\">Barack Obama</td>\n",
       "        <td style=\"padding-left: 1em; padding-right: 1em; text-align: center; vertical-align: top\">barack hussein obama ii<br>brk husen bm born august ...</td>\n",
       "    </tr>\n",
       "</table>\n",
       "[? rows x 3 columns]<br/>Note: Only the head of the SFrame is printed. This SFrame is lazily evaluated.<br/>You can use sf.materialize() to force materialization.\n",
       "</div>"
      ],
      "text/plain": [
       "Columns:\n",
       "\tURI\tstr\n",
       "\tname\tstr\n",
       "\ttext\tstr\n",
       "\n",
       "Rows: Unknown\n",
       "\n",
       "Data:\n",
       "+-------------------------------+--------------+-------------------------------+\n",
       "|              URI              |     name     |              text             |\n",
       "+-------------------------------+--------------+-------------------------------+\n",
       "| <http://dbpedia.org/resour... | Barack Obama | barack hussein obama ii br... |\n",
       "+-------------------------------+--------------+-------------------------------+\n",
       "[? rows x 3 columns]\n",
       "Note: Only the head of the SFrame is printed. This SFrame is lazily evaluated.\n",
       "You can use sf.materialize() to force materialization."
      ]
     },
     "execution_count": 6,
     "metadata": {},
     "output_type": "execute_result"
    }
   ],
   "source": [
    "obama"
   ]
  },
  {
   "cell_type": "code",
   "execution_count": 7,
   "metadata": {},
   "outputs": [
    {
     "data": {
      "text/plain": [
       "dtype: str\n",
       "Rows: ?\n",
       "['barack hussein obama ii brk husen bm born august 4 1961 is the 44th and current president of the united states and the first african american to hold the office born in honolulu hawaii obama is a graduate of columbia university and harvard law school where he served as president of the harvard law review he was a community organizer in chicago before earning his law degree he worked as a civil rights attorney and taught constitutional law at the university of chicago law school from 1992 to 2004 he served three terms representing the 13th district in the illinois senate from 1997 to 2004 running unsuccessfully for the united states house of representatives in 2000in 2004 obama received national attention during his campaign to represent illinois in the united states senate with his victory in the march democratic party primary his keynote address at the democratic national convention in july and his election to the senate in november he began his presidential campaign in 2007 and after a close primary campaign against hillary rodham clinton in 2008 he won sufficient delegates in the democratic party primaries to receive the presidential nomination he then defeated republican nominee john mccain in the general election and was inaugurated as president on january 20 2009 nine months after his election obama was named the 2009 nobel peace prize laureateduring his first two years in office obama signed into law economic stimulus legislation in response to the great recession in the form of the american recovery and reinvestment act of 2009 and the tax relief unemployment insurance reauthorization and job creation act of 2010 other major domestic initiatives in his first term included the patient protection and affordable care act often referred to as obamacare the doddfrank wall street reform and consumer protection act and the dont ask dont tell repeal act of 2010 in foreign policy obama ended us military involvement in the iraq war increased us troop levels in afghanistan signed the new start arms control treaty with russia ordered us military involvement in libya and ordered the military operation that resulted in the death of osama bin laden in january 2011 the republicans regained control of the house of representatives as the democratic party lost a total of 63 seats and after a lengthy debate over federal spending and whether or not to raise the nations debt limit obama signed the budget control act of 2011 and the american taxpayer relief act of 2012obama was reelected president in november 2012 defeating republican nominee mitt romney and was sworn in for a second term on january 20 2013 during his second term obama has promoted domestic policies related to gun control in response to the sandy hook elementary school shooting and has called for full equality for lgbt americans while his administration has filed briefs which urged the supreme court to strike down the defense of marriage act of 1996 and californias proposition 8 as unconstitutional in foreign policy obama ordered us military involvement in iraq in response to gains made by the islamic state in iraq after the 2011 withdrawal from iraq continued the process of ending us combat operations in afghanistan and has sought to normalize us relations with cuba', ... ]"
      ]
     },
     "execution_count": 7,
     "metadata": {},
     "output_type": "execute_result"
    }
   ],
   "source": [
    "obama['text']"
   ]
  },
  {
   "cell_type": "code",
   "execution_count": 8,
   "metadata": {
    "collapsed": true
   },
   "outputs": [],
   "source": [
    "obama['word count'] = graphlab.text_analytics.count_words(obama['text'])"
   ]
  },
  {
   "cell_type": "code",
   "execution_count": 9,
   "metadata": {},
   "outputs": [
    {
     "data": {
      "text/plain": [
       "dtype: dict\n",
       "Rows: 1\n",
       "[{'operations': 1, 'represent': 1, 'office': 2, 'unemployment': 1, 'is': 2, 'doddfrank': 1, 'over': 1, 'unconstitutional': 1, 'domestic': 2, 'named': 1, 'ending': 1, 'ended': 1, 'proposition': 1, 'seats': 1, 'graduate': 1, 'worked': 1, 'before': 1, 'death': 1, '20': 2, 'taxpayer': 1, 'inaugurated': 1, 'obamacare': 1, 'civil': 1, 'mccain': 1, 'to': 14, '4': 1, 'policy': 2, '8': 1, 'has': 4, '2011': 3, '2010': 2, '2013': 1, '2012': 1, 'bin': 1, 'then': 1, 'his': 11, 'march': 1, 'gains': 1, 'cuba': 1, 'californias': 1, '1992': 1, 'new': 1, 'not': 1, 'during': 2, 'years': 1, 'continued': 1, 'presidential': 2, 'husen': 1, 'osama': 1, 'term': 3, 'equality': 1, 'prize': 1, 'lost': 1, 'stimulus': 1, 'january': 3, 'university': 2, 'rights': 1, 'gun': 1, 'republican': 2, 'rodham': 1, 'troop': 1, 'withdrawal': 1, 'involvement': 3, 'response': 3, 'where': 1, 'referred': 1, 'affordable': 1, 'attorney': 1, 'school': 3, 'senate': 3, 'house': 2, 'national': 2, 'creation': 1, 'related': 1, 'hawaii': 1, 'born': 2, 'second': 2, 'street': 1, 'election': 3, 'close': 1, 'operation': 1, 'insurance': 1, 'sandy': 1, 'afghanistan': 2, 'initiatives': 1, 'for': 4, 'reform': 1, 'federal': 1, 'review': 1, 'representatives': 2, 'debate': 1, 'current': 1, 'state': 1, 'won': 1, 'marriage': 1, 'victory': 1, 'unsuccessfully': 1, 'reauthorization': 1, 'keynote': 1, 'full': 1, 'patient': 1, 'august': 1, 'degree': 1, '44th': 1, 'bm': 1, 'mitt': 1, 'attention': 1, 'delegates': 1, 'lgbt': 1, 'job': 1, 'protection': 2, 'address': 1, 'ask': 1, 'november': 2, 'debt': 1, 'by': 1, 'care': 1, 'on': 2, 'great': 1, 'defense': 1, 'signed': 3, 'libya': 1, 'receive': 1, 'of': 18, 'months': 1, 'against': 1, 'foreign': 2, 'spending': 1, 'american': 3, 'harvard': 2, 'act': 8, 'military': 4, 'hussein': 1, 'or': 1, 'first': 3, 'and': 21, 'major': 1, 'clinton': 1, '1997': 1, 'campaign': 3, 'russia': 1, 'wall': 1, 'legislation': 1, 'into': 1, 'primary': 2, 'community': 1, 'three': 1, 'down': 1, 'hook': 1, 'ii': 1, '63': 1, 'americans': 1, 'elementary': 1, 'total': 1, 'earning': 1, 'often': 1, 'barack': 1, 'law': 6, 'from': 3, 'raise': 1, 'district': 1, 'representing': 1, 'nine': 1, 'reinvestment': 1, 'arms': 1, 'relations': 1, 'nobel': 1, 'start': 1, 'dont': 2, 'tell': 1, 'iraq': 4, 'convention': 1, 'strike': 1, 'served': 2, 'john': 1, 'was': 5, 'war': 1, 'form': 1, 'that': 1, 'tax': 1, 'sufficient': 1, 'republicans': 1, 'resulted': 1, 'hillary': 1, 'taught': 1, 'honolulu': 1, 'filed': 1, 'regained': 1, 'july': 1, 'hold': 1, 'with': 3, 'he': 7, '13th': 1, 'made': 1, 'brk': 1, '1996': 1, 'whether': 1, 'reelected': 1, 'budget': 1, 'us': 6, 'nations': 1, 'recession': 1, 'while': 1, 'economic': 1, 'limit': 1, 'policies': 1, 'promoted': 1, 'called': 1, 'at': 2, 'control': 4, 'supreme': 1, 'ordered': 3, 'nominee': 2, 'process': 1, '2000in': 1, '2012obama': 1, 'received': 1, 'romney': 1, 'briefs': 1, 'defeated': 1, 'general': 1, 'states': 3, 'as': 6, 'urged': 1, 'in': 30, 'sought': 1, 'organizer': 1, 'shooting': 1, 'increased': 1, 'normalize': 1, 'lengthy': 1, 'united': 3, 'court': 1, 'recovery': 1, 'laden': 1, 'laureateduring': 1, 'peace': 1, 'administration': 1, '1961': 1, 'illinois': 2, 'other': 1, 'which': 1, 'party': 3, 'primaries': 1, 'sworn': 1, '2007': 1, 'obama': 9, 'columbia': 1, 'combat': 1, 'after': 4, 'islamic': 1, 'running': 1, 'levels': 1, 'two': 1, 'included': 1, 'president': 4, 'repeal': 1, 'nomination': 1, 'the': 40, 'a': 7, '2009': 3, 'chicago': 2, 'constitutional': 1, 'defeating': 1, 'treaty': 1, 'relief': 2, '2004': 3, 'african': 1, '2008': 1, 'democratic': 4, 'consumer': 1, 'began': 1, 'terms': 1}]"
      ]
     },
     "execution_count": 9,
     "metadata": {},
     "output_type": "execute_result"
    }
   ],
   "source": [
    "obama['word count']"
   ]
  },
  {
   "cell_type": "code",
   "execution_count": 10,
   "metadata": {
    "collapsed": true
   },
   "outputs": [],
   "source": [
    "obama_word_count_table = obama[['word count']].stack('word count', new_column_name = ['word','count'])"
   ]
  },
  {
   "cell_type": "code",
   "execution_count": 11,
   "metadata": {},
   "outputs": [
    {
     "data": {
      "text/html": [
       "<div style=\"max-height:1000px;max-width:1500px;overflow:auto;\"><table frame=\"box\" rules=\"cols\">\n",
       "    <tr>\n",
       "        <th style=\"padding-left: 1em; padding-right: 1em; text-align: center\">word</th>\n",
       "        <th style=\"padding-left: 1em; padding-right: 1em; text-align: center\">count</th>\n",
       "    </tr>\n",
       "    <tr>\n",
       "        <td style=\"padding-left: 1em; padding-right: 1em; text-align: center; vertical-align: top\">cuba</td>\n",
       "        <td style=\"padding-left: 1em; padding-right: 1em; text-align: center; vertical-align: top\">1</td>\n",
       "    </tr>\n",
       "    <tr>\n",
       "        <td style=\"padding-left: 1em; padding-right: 1em; text-align: center; vertical-align: top\">relations</td>\n",
       "        <td style=\"padding-left: 1em; padding-right: 1em; text-align: center; vertical-align: top\">1</td>\n",
       "    </tr>\n",
       "    <tr>\n",
       "        <td style=\"padding-left: 1em; padding-right: 1em; text-align: center; vertical-align: top\">sought</td>\n",
       "        <td style=\"padding-left: 1em; padding-right: 1em; text-align: center; vertical-align: top\">1</td>\n",
       "    </tr>\n",
       "    <tr>\n",
       "        <td style=\"padding-left: 1em; padding-right: 1em; text-align: center; vertical-align: top\">combat</td>\n",
       "        <td style=\"padding-left: 1em; padding-right: 1em; text-align: center; vertical-align: top\">1</td>\n",
       "    </tr>\n",
       "    <tr>\n",
       "        <td style=\"padding-left: 1em; padding-right: 1em; text-align: center; vertical-align: top\">ending</td>\n",
       "        <td style=\"padding-left: 1em; padding-right: 1em; text-align: center; vertical-align: top\">1</td>\n",
       "    </tr>\n",
       "    <tr>\n",
       "        <td style=\"padding-left: 1em; padding-right: 1em; text-align: center; vertical-align: top\">withdrawal</td>\n",
       "        <td style=\"padding-left: 1em; padding-right: 1em; text-align: center; vertical-align: top\">1</td>\n",
       "    </tr>\n",
       "    <tr>\n",
       "        <td style=\"padding-left: 1em; padding-right: 1em; text-align: center; vertical-align: top\">state</td>\n",
       "        <td style=\"padding-left: 1em; padding-right: 1em; text-align: center; vertical-align: top\">1</td>\n",
       "    </tr>\n",
       "    <tr>\n",
       "        <td style=\"padding-left: 1em; padding-right: 1em; text-align: center; vertical-align: top\">islamic</td>\n",
       "        <td style=\"padding-left: 1em; padding-right: 1em; text-align: center; vertical-align: top\">1</td>\n",
       "    </tr>\n",
       "    <tr>\n",
       "        <td style=\"padding-left: 1em; padding-right: 1em; text-align: center; vertical-align: top\">by</td>\n",
       "        <td style=\"padding-left: 1em; padding-right: 1em; text-align: center; vertical-align: top\">1</td>\n",
       "    </tr>\n",
       "    <tr>\n",
       "        <td style=\"padding-left: 1em; padding-right: 1em; text-align: center; vertical-align: top\">gains</td>\n",
       "        <td style=\"padding-left: 1em; padding-right: 1em; text-align: center; vertical-align: top\">1</td>\n",
       "    </tr>\n",
       "</table>\n",
       "[273 rows x 2 columns]<br/>Note: Only the head of the SFrame is printed.<br/>You can use print_rows(num_rows=m, num_columns=n) to print more rows and columns.\n",
       "</div>"
      ],
      "text/plain": [
       "Columns:\n",
       "\tword\tstr\n",
       "\tcount\tint\n",
       "\n",
       "Rows: 273\n",
       "\n",
       "Data:\n",
       "+------------+-------+\n",
       "|    word    | count |\n",
       "+------------+-------+\n",
       "|    cuba    |   1   |\n",
       "| relations  |   1   |\n",
       "|   sought   |   1   |\n",
       "|   combat   |   1   |\n",
       "|   ending   |   1   |\n",
       "| withdrawal |   1   |\n",
       "|   state    |   1   |\n",
       "|  islamic   |   1   |\n",
       "|     by     |   1   |\n",
       "|   gains    |   1   |\n",
       "+------------+-------+\n",
       "[273 rows x 2 columns]\n",
       "Note: Only the head of the SFrame is printed.\n",
       "You can use print_rows(num_rows=m, num_columns=n) to print more rows and columns."
      ]
     },
     "execution_count": 11,
     "metadata": {},
     "output_type": "execute_result"
    }
   ],
   "source": [
    "obama_word_count_table"
   ]
  },
  {
   "cell_type": "code",
   "execution_count": 12,
   "metadata": {},
   "outputs": [
    {
     "data": {
      "text/html": [
       "<div style=\"max-height:1000px;max-width:1500px;overflow:auto;\"><table frame=\"box\" rules=\"cols\">\n",
       "    <tr>\n",
       "        <th style=\"padding-left: 1em; padding-right: 1em; text-align: center\">word</th>\n",
       "        <th style=\"padding-left: 1em; padding-right: 1em; text-align: center\">count</th>\n",
       "    </tr>\n",
       "    <tr>\n",
       "        <td style=\"padding-left: 1em; padding-right: 1em; text-align: center; vertical-align: top\">the</td>\n",
       "        <td style=\"padding-left: 1em; padding-right: 1em; text-align: center; vertical-align: top\">40</td>\n",
       "    </tr>\n",
       "    <tr>\n",
       "        <td style=\"padding-left: 1em; padding-right: 1em; text-align: center; vertical-align: top\">in</td>\n",
       "        <td style=\"padding-left: 1em; padding-right: 1em; text-align: center; vertical-align: top\">30</td>\n",
       "    </tr>\n",
       "    <tr>\n",
       "        <td style=\"padding-left: 1em; padding-right: 1em; text-align: center; vertical-align: top\">and</td>\n",
       "        <td style=\"padding-left: 1em; padding-right: 1em; text-align: center; vertical-align: top\">21</td>\n",
       "    </tr>\n",
       "    <tr>\n",
       "        <td style=\"padding-left: 1em; padding-right: 1em; text-align: center; vertical-align: top\">of</td>\n",
       "        <td style=\"padding-left: 1em; padding-right: 1em; text-align: center; vertical-align: top\">18</td>\n",
       "    </tr>\n",
       "    <tr>\n",
       "        <td style=\"padding-left: 1em; padding-right: 1em; text-align: center; vertical-align: top\">to</td>\n",
       "        <td style=\"padding-left: 1em; padding-right: 1em; text-align: center; vertical-align: top\">14</td>\n",
       "    </tr>\n",
       "    <tr>\n",
       "        <td style=\"padding-left: 1em; padding-right: 1em; text-align: center; vertical-align: top\">his</td>\n",
       "        <td style=\"padding-left: 1em; padding-right: 1em; text-align: center; vertical-align: top\">11</td>\n",
       "    </tr>\n",
       "    <tr>\n",
       "        <td style=\"padding-left: 1em; padding-right: 1em; text-align: center; vertical-align: top\">obama</td>\n",
       "        <td style=\"padding-left: 1em; padding-right: 1em; text-align: center; vertical-align: top\">9</td>\n",
       "    </tr>\n",
       "    <tr>\n",
       "        <td style=\"padding-left: 1em; padding-right: 1em; text-align: center; vertical-align: top\">act</td>\n",
       "        <td style=\"padding-left: 1em; padding-right: 1em; text-align: center; vertical-align: top\">8</td>\n",
       "    </tr>\n",
       "    <tr>\n",
       "        <td style=\"padding-left: 1em; padding-right: 1em; text-align: center; vertical-align: top\">he</td>\n",
       "        <td style=\"padding-left: 1em; padding-right: 1em; text-align: center; vertical-align: top\">7</td>\n",
       "    </tr>\n",
       "    <tr>\n",
       "        <td style=\"padding-left: 1em; padding-right: 1em; text-align: center; vertical-align: top\">a</td>\n",
       "        <td style=\"padding-left: 1em; padding-right: 1em; text-align: center; vertical-align: top\">7</td>\n",
       "    </tr>\n",
       "</table>\n",
       "[273 rows x 2 columns]<br/>Note: Only the head of the SFrame is printed.<br/>You can use print_rows(num_rows=m, num_columns=n) to print more rows and columns.\n",
       "</div>"
      ],
      "text/plain": [
       "Columns:\n",
       "\tword\tstr\n",
       "\tcount\tint\n",
       "\n",
       "Rows: 273\n",
       "\n",
       "Data:\n",
       "+-------+-------+\n",
       "|  word | count |\n",
       "+-------+-------+\n",
       "|  the  |   40  |\n",
       "|   in  |   30  |\n",
       "|  and  |   21  |\n",
       "|   of  |   18  |\n",
       "|   to  |   14  |\n",
       "|  his  |   11  |\n",
       "| obama |   9   |\n",
       "|  act  |   8   |\n",
       "|   he  |   7   |\n",
       "|   a   |   7   |\n",
       "+-------+-------+\n",
       "[273 rows x 2 columns]\n",
       "Note: Only the head of the SFrame is printed.\n",
       "You can use print_rows(num_rows=m, num_columns=n) to print more rows and columns."
      ]
     },
     "execution_count": 12,
     "metadata": {},
     "output_type": "execute_result"
    }
   ],
   "source": [
    "obama_word_count_table.sort('count', ascending=False)"
   ]
  },
  {
   "cell_type": "code",
   "execution_count": 13,
   "metadata": {},
   "outputs": [],
   "source": [
    "people['word_count'] = graphlab.text_analytics.count_words(people['text'])"
   ]
  },
  {
   "cell_type": "code",
   "execution_count": 14,
   "metadata": {},
   "outputs": [
    {
     "data": {
      "text/plain": [
       "dtype: dict\n",
       "Rows: 59071\n",
       "[{'selection': 1, 'carltons': 1, 'being': 1, '2005': 1, 'coach': 2, 'its': 1, 'before': 2, '21': 1, 'northern': 1, 'bullants': 1, 'to': 5, 'perth': 1, 'sydney': 1, '2014': 1, 'has': 1, '2011': 1, '2013': 1, 'division': 1, 'his': 3, 'rules': 1, 'assistant': 1, 'spanned': 1, 'early': 1, 'game': 1, 'five': 1, 'during': 1, 'continued': 1, '44game': 1, 'kangaroos': 3, 'twice': 1, 'round': 1, 'the': 27, 'parade': 1, 'born': 1, 'clubs': 1, 'college': 1, 'blues': 1, 'for': 4, 'falcons': 1, 'currently': 1, 'hill': 1, 'drawn': 1, 'cause': 1, 'kicked': 1, 'exchange': 1, 'mckernan': 1, '19982000': 1, 'brisbaneafter': 1, 'losing': 1, 'essendon': 1, 'along': 1, 'teaches': 1, 'by': 1, 'box': 1, 'league': 4, 'career': 1, 'of': 4, 'against': 2, 'david': 1, 'melbourne': 1, 'digby': 1, 'games': 1, 'leading': 2, 'traded': 1, 'first': 1, 'goalkicker': 1, 'morrell': 5, 'corey': 1, 'acted': 1, 'football': 10, 'carlton': 2, 'from': 2, 'district': 1, 'west': 2, 'hawks': 1, 'draft': 1, 'coburg': 1, 'forward': 1, 'australian': 3, 'was': 5, 'until': 1, 'shifted': 1, 'club': 5, 'season': 3, 'vflaffiliate': 1, 'western': 1, 'with': 5, 'former': 1, 'he': 6, '10': 1, 'october': 1, '1979': 1, 'recruited': 1, 'victorian': 1, 'played': 3, '32': 1, 'following': 1, 'teague': 1, 'and': 4, 'footballer': 1, 'strathmore': 1, 'is': 1, 'premier': 1, 'delisted': 1, 'as': 2, 'australia': 1, 'at': 4, 'in': 13, 'education': 1, 'physical': 1, 'afl': 1, 'end': 2, 'since': 1, '2003': 1, 'retiring': 1, 'edflhe': 1, 'also': 1, 'other': 1, 'rookie': 1, 'play': 1, 'coached': 1, 'who': 1, '2008': 1, 'a': 4, 'vfl': 1, 'third': 1, 'age': 1, '2002': 1, 'premiership': 1, '2000': 1, '2001': 1, '2006': 1, '2007': 1, 'time': 1, 'senior': 3, '2009': 1, 'aflfrom': 1, 'playing': 2, 'goals': 1}, {'precise': 1, 'thomas': 1, 'closely': 1, 'disturbances': 1, 'wehr': 1, 'bright': 1, 'sleep': 2, 'nimh': 1, 'monitored': 1, 'disorders': 4, 'had': 1, 'day': 2, 'to': 3, 'chronobiologic': 1, 'treatment': 3, 'rhythm': 1, 'maryland': 1, 'has': 2, 'plasma': 1, 'colleague': 1, 'his': 1, 'assay': 1, 'pharmacology': 1, 'very': 1, 'capsule': 1, 'every': 1, 'they': 1, 'chicago': 1, 'sandy': 1, 'follows': 1, 'university': 2, 'l': 1, 'morning': 2, 'individuals': 1, 'each': 1, 'biological': 1, 'j': 1, 'mental': 1, 'national': 1, 'circadian': 3, 'laboratory': 1, '24hour': 1, 'depression': 1, 'after': 1, 'mood': 1, 'for': 2, '25hour': 1, 'pattern': 1, 'robert': 1, 'research': 2, 'current': 1, 'health': 2, 'cause': 2, 'publications': 1, 'available': 1, 'be': 3, 'full': 1, 'drifting': 1, 'focused': 1, 'graduated': 1, 'relying': 1, 'lag': 1, 'on': 3, 'rhythms': 1, 'jet': 1, 'institute': 1, 'shift': 1, 'prior': 1, 'aka': 1, 'studies': 1, 'blind': 1, 'lewy': 3, 'modalities': 1, 'phasedelay': 1, 'sack': 1, 'precisely': 1, 'he': 4, 'from': 1, 'working': 1, '1981': 1, 'their': 1, 'describes': 1, 'alfred': 1, 'december': 1, 'was': 1, 'phaseadvance': 1, 'that': 1, 'secretion': 1, 'oregon': 3, 'worked': 1, 'with': 2, '94': 1, 'must': 1, 'md': 1, 'include': 1, 'hour': 1, 'developing': 1, 'these': 2, 'science': 1, 'work': 1, 'evening': 2, 'pubmed': 1, 'can': 2, 'of': 7, 'my': 1, 'and': 10, 'scheduled': 1, 'defined': 1, 'certain': 2, 'is': 2, 'an': 2, 'as': 3, 'hormone': 1, 'at': 3, 'have': 1, 'in': 4, 'melatonin': 5, 'vicechair': 1, 'clearly': 1, 'winter': 1, 'studying': 1, 'holds': 1, 'administration': 3, 'shifts': 2, 'take': 1, 'bethesda': 1, 'department': 1, 'unless': 1, 'maladaptation': 1, 'ohsu': 1, 'time': 1, 'phd': 1, 'moving': 1, 'assessed': 1, 'totally': 1, 'the': 2, 'types': 1, 'exposure': 3, 'a': 6, 'light': 3, 'professor': 1, 'later': 1, '1973': 1, 'ophthalmology': 1, '2005': 1, 'psychiatry': 2, 'senior': 1}, {'just': 1, 'issued': 1, 'mainly': 1, 'nominated': 1, 'years': 1, 'leads': 1, 'tours': 1, 'teamed': 1, 'cds': 1, 'harmonica': 2, 'gutsy': 1, 'voted': 1, '2014': 2, 'piano': 1, 'has': 2, 'thousands': 1, '2010': 1, 'brown': 2, 'his': 3, 'to': 1, 'big': 1, 'band': 3, 'hamilton': 1, 'they': 1, 'association': 1, 'northwestern': 1, 'performing': 1, 'comprising': 1, 'arthur': 1, 'broadcaster': 1, 'either': 1, 'release': 1, 'where': 1, 'few': 2, 'honored': 1, 'society': 1, 'year': 1, 'home': 2, 'portland': 1, 'best': 4, 'harp': 1, 'album': 1, 'what': 2, 'for': 4, 'chicago': 2, 'since': 1, 'extensively': 1, 'won': 1, 'tens': 1, 'hailing': 1, 'full': 1, 'canadian': 2, 'small': 1, 'active': 1, 'from': 2, 'by': 1, 'on': 1, 'dates': 1, 'holger': 1, 'influential': 1, 'many': 1, 'or': 1, 'blind': 1, 'canadas': 1, 'scene': 1, 'venues': 1, 'cd': 1, 'germanyover': 1, 'festivals': 1, 'maple': 1, '1982': 1, 'guest': 1, 'working': 1, 'duo': 1, 'muddy': 1, 'been': 1, 'awarded': 1, 'harpdog': 2, 'their': 1, 'was': 4, 'naturally': 1, 'juggles': 1, 'life': 1, 'that': 1, 'club': 1, 'oregon': 1, 'released': 1, 'with': 4, 'he': 5, 'toronto': 1, 'combos': 1, '1995': 1, 'j': 1, 'up': 1, 'promoter': 1, 'edmonds': 1, 'recording': 1, 'while': 1, 'crossed': 1, 'of': 3, 'petersen': 1, 'called': 1, 'and': 7, 'seven': 1, 'classic': 1, 'is': 7, 'it': 3, 'covers': 1, 'states': 1, 'player': 2, 'as': 2, 'in': 7, 'graham': 1, 'blues': 9, 'mid1950s': 1, 'united': 1, 'lemon': 1, 'guitarist': 1, 'who': 1, '1': 1, 'also': 1, 'vancouver': 1, 'which': 1, 'browns': 1, 'nw': 1, 'canada': 2, 'electric': 1, 'juno': 1, 'albumhe': 1, 'membership': 1, 'award': 2, 'a': 7, 'singer': 1, 'miles': 1, 'bluesgospel': 1, 'well': 1, 'surveybrown': 1, 'original': 1, 'traditional': 1, 'cascade': 1, 'time': 1, 'the': 12, 'playing': 1, 'songs': 1}, {'all': 1, 'bauforschung': 1, 'just': 1, 'kurdlawitzpreis': 1, 'german': 2, 'years': 3, 'illustrated': 1, 'through': 1, 'served': 1, 'austrian': 1, 'yet': 1, 'lower': 1, 'hundredth': 1, 'merkur': 1, '1942': 1, 'producing': 1, 'dick': 2, '28': 1, 'to': 3, 'praised': 1, 'factor': 1, 'stanisaw': 1, 'apek': 1, 'silverberg': 1, 'trnaslations': 1, 'jeanpierre': 1, 'klein': 1, 'was': 3, 'translations': 1, 'matters': 1, 'ones': 1, 'wellss': 1, 'negative': 1, 'olaf': 1, 'fifty': 1, 'him': 1, 'association': 1, 'produced': 2, 'heinlein': 1, 'h': 1, 'university': 1, 'journalism': 1, 'herbert': 1, 'book': 2, 'history': 1, '18': 1, 'including': 1, 'works': 3, 'zelazny': 1, 'view': 1, 'reference': 1, 'describedroger': 1, 'series': 1, 'some': 3, 'rottensteiner': 3, 'born': 1, 'books': 2, 'are': 1, 'die': 1, 'phantastische': 1, 'close': 1, 'recognition': 1, 'phantastischen': 1, 'fiction': 7, 'what': 1, 'abe': 1, 'for': 2, 'strugatski': 1, 'robert': 1, 'since': 1, 'nonwriter': 1, 'critical': 1, 'stapledon': 1, 'new': 2, 'receiving': 1, 'numerous': 1, 'public': 1, 'achievements': 1, 'edited': 1, 'comparable': 1, 'romane': 1, 'sterreichisches': 1, 'journal': 2, 'republished': 1, 'lem': 4, 'however': 1, 'betterknown': 1, 'york': 1, 'advisor': 1, 'franz': 1, 'from': 2, 'philip': 2, 'fifteen': 1, 'science': 6, 'on': 4, 'about': 2, '1980': 1, 'language': 1, 'asimov': 1, 'of': 20, 'k': 2, 'publisher': 1, 'controversy': 1, 'american': 1, 'und': 1, 'w': 2, 'leading': 2, 'promotion': 1, 'introduced': 1, 'or': 1, 'fields': 1, 'franke': 1, 'smith': 1, 'into': 1, 'number': 3, 'one': 1, 'karel': 1, 'fantasy': 1, 'austria': 2, 'kobo': 1, 'another': 1, 'bibliothek': 1, 'aldiss': 1, 'total': 1, 'institut': 1, 'working': 1, 'quarber': 1, 'addition': 1, 'barry': 1, 'there': 1, 'two': 1, 'been': 1, 'awarded': 1, 'continental': 1, 'start': 1, 'andersonare': 1, 'editor': 2, 'hundred': 1, 'assessment': 1, 'until': 1, 'vienna': 2, 'seriesrottensteiner': 1, 'both': 1, 'listing': 1, 'andrevonthe': 1, 'authors': 3, 'fantasticrottensteiner': 1, 'highest': 1, 'with': 3, 'hg': 1, 'he': 6, 'has': 3, '1995': 1, 'g': 1, 'this': 1, '1998': 1, 'work': 1, 'critic': 1, 'us': 1, 'n': 1, 'lesser': 1, 'suhrkamp': 1, 'eighteen': 1, 'travesties': 1, 'three': 1, 'doctorate': 1, 'verlags': 1, 'and': 13, 'nesvadba': 1, 'seven': 1, 'studied': 1, 'figure': 1, 'stated': 1, '1973': 1, 'is': 3, 'year': 1, 'it': 1, 'brothersin': 1, 'an': 2, 'as': 7, 'his': 5, 'at': 2, 'banal': 1, '19791985': 1, 'saw': 1, 'united': 1, '1969': 1, 'anthology': 1, 'january': 1, 'latter': 1, 'european': 1, 'waidmannsfeld': 1, '1963': 1, 'anthologies': 1, 'brian': 1, 'writers': 2, 'special': 1, 'which': 1, 'provoked': 1, 'out': 2, 'stanislaw': 2, 'malzberg': 1, 'statesrottensteiner': 1, 'fr': 1, '2004': 1, 'gerard': 1, 'josef': 1, 'wells': 1, 'produce': 1, 'librarian': 1, 'a': 7, 'englishreading': 1, 'in': 12, 'cordwainer': 1, '1978': 1, 'ending': 1, '1975': 2, 'well': 2, 'brought': 2, 'shore': 1, 'greatest': 1, 'volumes': 2, 'english': 1, 'occasion': 1, 'the': 22, 'sf': 2, 'typical': 1}, {'they': 1, 'gangstergenka': 1, 'legendaarne': 3, 'oja': 2, 'paul': 2, 'group': 1, '23': 1, 'had': 1, 'better': 1, 'real': 1, 'his': 3, 'hit': 1, 'big': 1, 'leegion': 1, 'band': 1, 'legendary': 1, 'during': 1, 'went': 1, '1996': 1, 'rapper': 1, 'joined': 1, '1998': 1, 'rapped': 1, 'back': 1, '50': 1, 'born': 1, 'second': 1, 'palm': 1, 'year': 2, 'schoolmate': 1, 'album': 6, 'genkas': 1, 'estonian': 3, 'for': 2, 'tallinn': 3, 'new': 1, 'bankruptcy': 1, 'europe': 1, 'solo': 1, 'rapping': 1, 'homophobes': 1, 'were': 3, 'genka': 5, 'studio': 1, 'along': 2, 'by': 1, 'on': 2, 'of': 1, '30': 1, 'tour': 2, 'arhm': 3, 'first': 1, 'own': 2, 'armchair': 1, 'tugitooli': 1, 'producergenka': 1, 'another': 1, 'droopy': 1, 'dj': 2, 'from': 2, 'famous': 3, 'vacation': 1, 'cent': 1, 'next': 1, 'their': 4, 'was': 4, 'toe': 4, 'started': 5, 'company': 1, 'henry': 1, 'released': 3, 'kuhnja': 1, 'known': 1, 'with': 2, 'pankrot': 1, 'warmup': 1, 'performers': 1, 'this': 1, '18': 1, 'gangster': 1, 'record': 2, 'island': 1, 'making': 1, 'called': 1, 'and': 10, 'december': 1, 'is': 1, 'an': 1, 'tag': 4, 'palmisaar': 1, 'rap': 1, 'in': 7, 'curtis': 1, 'revo': 2, 'same': 1, 'also': 2, 'which': 3, 'promo': 1, 'who': 1, 'most': 3, 'a': 2, 'stagename': 1, 'records': 1, '1974': 1, 'together': 2, '2001': 1, '2006': 1, '2007': 1, '2004': 1, 'the': 8, 'consisted': 1, 'krvits': 1, 'came': 1, 'songs': 5}, {'currently': 1, 'less': 1, 'being': 1, '19992004in': 1, 'bear': 1, 'nominated': 1, 'midtolate': 1, 'xeroxed': 1, 'niblit': 1, 'alternative': 1, 'captain': 1, 'weekly': 1, 'toilets': 1, 'busy': 1, 'title': 1, 'writer': 1, 'character': 1, 'weiss': 1, 'writing': 1, 'program': 1, '4': 1, 'has': 2, '2010': 1, 'henderson': 3, 'hendersons': 3, 'his': 3, 'march': 1, 'school': 2, 'scratchings': 1, 'number': 1, 'whistle': 4, 'simmons': 1, 'every': 1, 'not': 1, 'now': 1, 'him': 1, 'bigger': 2, 'penises': 1, 'storyboard': 1, 'magic': 4, 'bobby': 1, 'wordless': 1, '2010in': 1, 'nickelodeon': 1, 'bestknown': 1, 'squarepants': 1, 'earned': 1, 'emmy': 1, 'wrote': 1, 'spongebob': 1, 'series': 2, 'directing': 1, 'born': 2, 'college': 2, 'are': 1, 'year': 1, 'special': 1, 'out': 2, 'graduating': 1, 'humor': 1, 'expert': 1, 'harvey': 1, 'review': 1, 'since': 1, 'historyhenderson': 1, 'ended': 1, 'contained': 1, 'crude': 1, 'new': 4, '5009': 3, 'red': 1, 'attended': 1, 'yorks': 1, '1987': 1, 'journal': 1, 'little': 1, 'drew': 2, 'awardshis': 1, 'awards': 1, 'york': 2, 'starring': 1, 'graduated': 1, 'earliest': 1, 'by': 1, 'on': 2, 'of': 5, 'larger': 1, 'programming': 1, 'blobby': 1, 'where': 1, 'magazine': 1, 'published': 3, 'yorksince': 1, 'hometown': 1, 'scene': 1, 'one': 1, 'magazines': 1, 'woodstock': 2, 'strip': 2, 'comic': 5, 'city': 1, 'arts': 1, 'from': 1, '1980': 1, 'expressnews': 1, 'boiceville': 1, 'due': 1, 'been': 2, 'spaz': 1, 'their': 1, 'asses': 1, 'longestrunning': 1, 'featuring': 1, 'was': 5, 'friend': 1, '1988': 1, 'that': 1, 'some': 1, 'award': 1, 'visual': 1, 'lives': 1, 'known': 1, 'with': 1, 'than': 1, 'he': 7, '1980s': 1, '1993': 2, 'october': 1, 'hour': 1, 'comics': 2, '18': 1, 'work': 1, 'cartoonist': 1, 'onteora': 1, '1991henderson': 1, 'animated': 1, 'called': 1, 'and': 7, 'san': 1, 'sam': 1, 'is': 2, 'turned': 1, 'it': 1, 'an': 1, 'high': 1, 'heard': 1, 'as': 2, 'minicomics': 2, 'in': 16, 'monroe': 1, 'pink': 1, '1969': 1, 'began': 2, 'american': 2, 'sic': 1, 'also': 1, '55th': 1, 'best': 1, 'which': 1, 'comedy': 1, 'junk': 1, 'collection': 1, 'but': 1, 'nomination': 1, 'man': 1, 'a': 7, 'for': 4, 'antonio': 1, '2003': 1, 'funniest': 1, 'the': 10, 'selfpublishing': 2, 'reprinted': 1}, {'exclusive': 2, 'producer': 1, 'show': 2, 'being': 1, 'developed': 1, 'over': 1, 'designer': 2, 'produced': 3, 'helping': 1, 'including': 1, 'kanye': 1, 'specialedition': 1, 'jacobs': 1, 'based': 1, 'jay': 1, 'tracks': 1, 'mcs': 1, 'credited': 2, 'young': 1, 'writing': 1, 'to': 4, 'aaron': 5, 'vital': 1, 'black': 1, 'fade': 1, 'prison': 1, 'experimenting': 1, 'of': 4, 'syracuse': 1, 'local': 1, 'rascals': 1, 'started': 1, 'custom': 1, 'his': 5, 'dj': 3, 'which': 1, 'king': 1, 'nightclubs': 1, 'early': 1, 'records': 2, 'quest': 1, 'pop': 1, 'basement': 1, 'report': 1, 'world': 1, 'cool': 1, 'clan': 1, 'knock': 1, 'cable': 1, 'success': 1, 'called': 1, 'university': 1, 'mndr': 1, 'jayz': 1, 'this': 1, 'diy': 1, 'reasonable': 1, 'rock': 1, 'cashmere': 1, 'soulja': 1, 'athletics': 3, 'artist': 1, 'amanda': 1, 'em': 1, 'entourage': 1, 'lucien': 1, 'series': 2, 'artists': 1, 'paris': 1, 'colette': 1, 'culture': 2, 'doolittleat': 1, 'productions': 1, 'recently': 1, 'cocacola': 1, 'album': 1, 'wire': 3, 'ricks': 1, 'for': 6, 'has': 5, 'tribe': 1, 'eliza': 2, 'rascal': 2, 'slick': 1, 'label': 2, 'collaborated': 2, 'performanceslacrate': 1, 'jayzs': 1, 'lacrate': 12, 'wide': 1, 'milkcrate': 6, 'new': 1, 'ever': 1, '2009': 1, 'shows': 1, 'director': 1, 'videogame': 1, 'hero': 1, 'outkast': 1, 'doubt': 1, 'sold': 1, 'dazed': 1, 'ferrariwhich': 1, 'highlandtown': 1, 'youngest': 1, 'attending': 1, 'recordings': 1, 'studio': 1, 'vinyl': 1, 'starring': 1, 'x': 1, 'tshirtin': 1, 'ragehbo': 1, 'baltimores': 1, 'by': 1, 'rocafella': 1, 'boy': 1, 'hbo': 4, 'kids': 1, 'launch': 1, 'many': 1, 'rogenrecently': 1, 'lacrates': 1, 'nightclub': 1, 'where': 2, 'american': 1, 'doolittle': 1, 'djing': 1, 'create': 1, 'road': 1, 'york': 1, 'and': 21, 'major': 2, 'via': 1, 'features': 1, 'scene': 1, 'spank': 1, 'highly': 1, 'gorillaz': 1, 'featured': 1, 'delicious': 1, 'blank': 1, 'throughout': 1, 'platinum': 1, 'city': 1, 'from': 2, 'working': 1, 'marc': 1, 'bmore': 3, 'west': 1, 'support': 1, 'classic': 1, 'music': 7, 'verb': 1, 'been': 1, 'mark': 1, 'parties': 1, 'live': 1, 'jam': 1, 'created': 1, 'house': 1, 'ronson': 1, 'featuring': 1, 'was': 5, 'tell': 1, '1999': 1, 'vans': 1, 'hard': 1, 'on': 3, 'successful': 1, 'crack': 1, 'took': 1, 'released': 3, 'remixed': 1, 'commissioned': 2, 'east': 1, 'level': 1, 'with': 5, 'maryland': 1, 'he': 4, '10': 1, 'television': 1, 'grew': 1, 'mixtapes': 1, 'mc': 1, 'born': 1, 'collaborations': 1, 'ultramagnetic': 1, 'official': 2, 'up': 1, 'recording': 1, 'record': 2, 'vegas': 1, 'historical': 1, 'mr': 1, 'making': 1, 'z': 1, 'dizzee': 3, 'def': 1, 'mz': 1, 'showlacrate': 1, 'fashion': 5, 'pellatfinet': 1, 'played': 1, 'interning': 1, 'is': 4, 'in': 9, 'confused': 1, 'an': 1, 'graffiti': 1, 'at': 2, 'allen': 3, 'madonna': 1, 'wutang': 1, 'eminems': 1, 'clothing': 2, 'campus': 1, 'film': 1, 'summers': 1, 'payday': 1, 'began': 2, 'song': 1, 'brandaaron': 1, 'tour': 1, 'epmd': 1, 'also': 2, 'that': 1, 'other': 1, 'role': 1, 'popularizing': 1, 'toured': 1, 'nyc': 2, 'lily': 3, 'life': 2, 'club': 2, 'even': 1, 'used': 1, 'star': 1, 'tshirts': 2, 'collaboration': 1, 'time': 1, 'upon': 1, 'soundtrack': 1, 'most': 1, 'sponsored': 1, 'prior': 1, 'range': 1, 'streetwear': 2, 'a': 6, 'rakim': 3, 'gutter': 2, 'tramps': 1, 'age': 1, 'later': 1, 'seth': 1, 'spent': 1, 'streamz': 1, 'baltimoreaaron': 1, 'observe': 1, 'ferrari': 1, 'baltimore': 8, '2005': 1, 'the': 15, 'first': 7, 'original': 1}, {'taxi': 1, 'salon': 1, 'gangs': 1, 'being': 1, 'text': 1, 'agreed': 1, 'authors': 1, 'thomas': 1, 'nominated': 1, 'years': 1, 'produced': 3, 'chair': 1, 'enjoyed': 1, 'before': 1, 'towards': 1, 'write': 2, 'simon': 1, 'also': 4, 'chosen': 1, 'regarded': 1, 'lake': 1, 'crime': 2, 'to': 10, 'wood': 1, 'kinkajou': 1, 'under': 1, 'alberta': 1, 'writersextraordinary': 1, 'equally': 1, 'he': 12, '2011': 1, '2013': 1, '2012': 1, 'toronto': 1, 'his': 8, 'march': 1, 'returned': 1, 'returning': 1, 'very': 1, 'commemorate': 1, 'next': 1, 'leon': 1, 'five': 1, 'ferguson': 2, 'canadian': 3, 'fall': 1, 'press': 1, 'aka': 1, 'du': 1, 'burnt': 1, 'day': 1, 'is': 5, '54': 1, 'worlds': 1, 'indeed': 1, 'prize': 1, 'countries': 1, 'die': 1, 'university': 2, 'night': 2, 'become': 2, 'guy': 2, 'river': 3, 'where': 2, 'dir': 2, 'declared': 1, 'work': 1, 'often': 1, 'fair': 1, 'people': 1, 'house': 1, 'some': 1, 'play': 5, 'library': 1, 'past': 1, 'born': 1, 'second': 3, 'booklist': 1, 'quebec': 2, 'miniseries': 1, 'writing': 2, 'novelist': 2, 'tenth': 1, 'special': 1, 'canada': 3, 'fiction': 3, 'said': 1, 'developed': 1, 'appear': 1, 'for': 5, 'livres': 1, 'sun': 1, 'northwest': 1, 'novels': 3, 'anniversary': 1, 'ice': 2, 'creative': 1, 'written': 1, 'critical': 1, '1947': 2, 'new': 4, 'ever': 1, 'sold': 1, '2015in': 1, 'europe': 1, 'be': 3, 'sixteen': 1, 'timekeeper': 1, 'run': 1, 'lee': 1, 'journal': 1, 'sprung': 2, 'french': 1, 'banff': 1, 'water': 1, 'series': 3, '1985': 1, 'studio': 2, 'york': 3, 'served': 1, 'genre': 1, 'from': 1, 'november': 2, 'teaches': 1, 'by': 7, 'starborn': 1, 'stage': 1, 'received': 2, 'qubcoise': 1, 'seaforth': 1, 'working': 1, 'language': 1, 'english': 1, 'midteens': 1, 'invited': 2, 'infinitheatre': 3, 'has': 6, 'americas': 1, 'april': 2, 'farrow': 3, 'place': 1, 'published': 3, 'won': 1, 'railway': 1, 'bestseller': 1, 'settled': 1, 'book': 2, 'plays': 1, 'twentieth': 1, 'among': 2, 'raised': 1, 'hudson': 2, 'bunkhousesin': 1, 'author': 1, 'canadas': 2, 'claim': 1, 'into': 2, 'paperback': 1, 'awaited': 1, 'highly': 2, 'sienna': 1, 'guests': 1, 'village': 1, 'ninth': 1, 'throughout': 1, 'city': 3, 'arts': 2, 'ontario': 1, 'dennis': 1, 'publication': 2, 'would': 1, 'hes': 1, 'union': 1, 'west': 1, 'trilogy': 1, 'three': 2, 'long': 3, 'france': 2, 'few': 1, 'barnacle': 1, 'twenties': 1, 'storm': 1, 'which': 1, 'travelled': 1, 'john': 4, 'was': 11, 'until': 1, 'opens': 1, 'more': 1, 'a': 13, 'option': 1, 'that': 1, 'successful': 1, 'company': 1, 'onyx': 1, 'fergusons': 2, 'award': 1, '2014city': 1, 'festival': 1, 'dunne': 1, 'zarathustra': 1, '20000': 1, 'maclennan': 1, 'worked': 2, 'highest': 1, 'with': 2, 'than': 1, 'invit': 1, '11': 1, 'states': 1, 'novel': 6, '17': 1, '1999': 1, 'lacadmie': 1, 'des': 2, 'seen': 1, 'will': 2, 'books': 1, 'nine': 1, 'today': 1, 'praise': 1, 'of': 23, 'newspaper': 1, 'trevor': 3, 'murders': 1, 'called': 4, 'history': 2, 'and': 13, 'bridge': 1, 'acclaim': 1, 'preeminent': 1, 'century': 1, 'cited': 1, 'in': 41, 'one': 4, 'it': 4, 'an': 1, 'high': 1, 'as': 3, 'concordia': 1, 'caused': 1, 'rooke': 1, 'gravitated': 1, 'been': 5, 'huron': 1, '1000': 1, 'film': 1, 'booksst': 1, 'dhonneur': 1, 'united': 1, 'both': 1, 'no': 1, 'things': 1, 'began': 1, 'hugh': 1, 'who': 1, '1': 1, 'chants': 1, 'writers': 3, 'vancouver': 1, 'best': 7, 'fourth': 1, 'paris': 2, 'arguably': 1, 'beach': 1, 'masque': 1, 'four': 1, 'all': 1, 'literature': 1, 'writerinresidence': 1, 'theatre': 3, 'centre': 1, 'may': 1, '2005': 1, 'upon': 1, 'schuster': 1, 'coproduced': 1, 'germany': 1, 'faculty': 1, 'frequently': 1, 'on': 2, 'pages': 1, 'major': 1, 'ziet': 1, 'early': 1, 'burns': 1, 'short': 1, 'penname': 1, 'driving': 1, 'third': 3, 'martins': 1, '1977': 1, 'age': 1, 'later': 1, 'well': 1, 'cultural': 1, 'county': 1, '2002': 4, '2006': 1, 'montreal': 6, '2004': 1, 'time': 1, 'at': 8, 'lives': 1, 'the': 53, 'first': 4}, {'houston': 1, 'frankie': 1, 'labels': 1, 'hardcores': 1, 'produced': 1, 'roy': 1, 'including': 2, 'teamed': 1, 'asylum': 1, 'worked': 1, '27': 1, 'also': 2, 'with': 4, 'mcneal': 1, 'to': 5, 'funk': 1, 'under': 1, 'heavies': 1, 'include': 1, 'gave': 1, 'flex': 2, '1971': 1, 'his': 5, 'dj': 2, 'producernelson': 1, 'continues': 1, 'birth': 1, 'swing': 1, 'early': 2, 'records': 3, 'they': 1, 'breakbeat': 1, 'using': 1, 'one': 1, 'name': 1, 'level': 1, 'knight': 1, 'garage': 1, 'vibes': 2, 'always': 1, 'x': 1, 'guy': 1, 'dodger': 1, 'tei': 1, 'bump': 2, 'house': 2, '19901993': 1, 'some': 2, 'thelma': 1, 'gilberto': 1, 'born': 1, 'uk': 3, 'towa': 1, 'juliet': 1, 'delivered': 2, 'jodeci': 1, 'since': 1, 'liberty': 1, 'label': 3, 'consistently': 1, 'wishdokta': 3, 'then': 1, 'new': 1, 'champagne': 1, 'numerous': 1, 'red': 1, 'rosie': 1, 'bass': 1, 'do': 1, 'kelis': 1, 'aaliyah': 1, 'others': 1, 'along': 1, 'by': 1, 'on': 3, 'hits': 1, 'brown': 2, 'of': 5, 'legendary': 1, 'days': 1, 'goldie': 1, 'april': 1, 'produce': 1, 'together': 1, 'into': 1, 'scene': 1, 'due': 1, 'misteeq': 1, 'simply': 1, 'another': 1, 'artists': 1, '1990s': 1, 'city': 1, 'knuckles': 1, 'from': 1, 'alterego': 1, '2step': 1, 'top': 1, 'lutricia': 1, 'ayers': 1, 'few': 1, 'music': 1, 'evelyn': 1, 'biggest': 2, 'heralded': 1, 'was': 2, 'is': 2, 'happy': 2, 'head': 1, 'bebel': 1, 'that': 2, 'started': 1, 'brand': 1, 'remixed': 1, 'known': 2, 'delivers': 1, 'producing': 1, 'present': 1, 'he': 2, 'sound': 1, 'king': 1, '1993': 1, 'has': 2, '1997': 1, 'musicsome': 1, 'scenes': 1, 'london': 2, 'n': 2, 'roberts': 1, 'record': 2, 'evolved': 1, 'and': 9, 'ripe': 2, 'remained': 1, 'nng': 1, 'ah': 1, 'hardcoredrum': 1, 'it': 1, 'an': 1, 'drawer': 1, 'as': 3, 'artful': 1, 'in': 3, 'beverley': 1, 'godfathers': 1, 'inc': 1, 'remixer': 1, 'james': 2, 'began': 1, 'when': 1, 'traxin': 1, 'club': 1, 'sunday': 1, 'other': 1, 'which': 1, 'anthems': 1, 'roll': 1, 'nice': 2, 'gaines': 1, 'garagehe': 1, 'negrocan': 1, 'a': 2, 'for': 1, 'up': 1, 'grant': 1, 'faithless': 1, 'so': 1, 'nelson': 4, 'jamiroquai': 1, 'english': 1, 'the': 10, 'kickin': 1, 'agnes': 1}, {'phenomenon': 1, 'deborash': 1, 'both': 1, 'innovative': 1, 'still': 1, 'caruths': 1, 'cornell': 1, 'writing': 1, 'to': 1, 'treatment': 1, '2014': 1, '2013': 1, 'explorations': 1, 'good': 1, 'conversations': 1, '1955': 1, 'listening': 1, 'press': 2, 'h': 1, 'university': 5, 'truths': 1, 'shoshana': 1, 'ashes': 1, 'roger': 1, 'she': 4, 'yale': 2, 'where': 1, 'felman': 1, 'leaders': 1, 'reference': 1, 'catastrophic': 1, 'empirical': 1, 'born': 1, 'see': 1, 'taught': 1, 'our': 1, 'kant': 1, 'forthcoming': 1, 'what': 1, 'conceptualizing': 1, 'ways': 1, 'coeditor': 1, 'robert': 1, 'critical': 2, 'trauma': 6, 'encounters': 1, 't': 1, 'we': 1, 'theory': 2, 'unconscious': 1, 'frank': 1, 'harvard': 1, 'twentieth': 1, 'received': 1, 'traumas': 1, 'hopkins': 5, 'of': 11, 'jay': 1, 'experience': 2, 'cathy': 1, '173182': 1, 'fictions': 1, 'letters': 1, 'previously': 1, 'johns': 5, 'one': 1, 'lifton': 1, 'pp': 1, 'from': 1, 'her': 2, 'emory': 1, 'locke': 1, 'question': 1, '1988': 1, 'describes': 1, 'call': 1, 'editor': 1, 'memory': 1, 'mysterious': 1, 'that': 1, 'caruth': 1, 'with': 2, 'appointed': 1, '1991': 1, 'md': 1, '1995': 2, '1996': 1, 'work': 1, 'up': 5, 'freud': 1, 'rutgers': 1, 'rhodes': 1, 'history': 2, 'and': 14, 'juridical': 1, 'century': 1, 'esch': 1, 'is': 4, 'helped': 1, 'deconstructive': 1, 'as': 1, 'at': 3, 'in': 7, 'comparative': 2, 'humane': 1, 'author': 1, 'trials': 1, 'discussion': 1, 'wordsworth': 1, 'also': 1, 'build': 1, 'department': 1, 'luckhurst': 1, 'literature': 3, 'english': 1, 'phd': 1, 'most': 1, 'unclaimed': 1, 'on': 3, 'scholars': 1, 'a': 1, 'for': 1, 'professor': 1, 'departments': 1, '2002': 1, 'perceiving': 1, 'responsibility': 1, 'narrative': 1, 'the': 9, 'n3': 1}, {'zwigoff': 2, 'september': 1, 'years': 1, 'fundamentalists': 1, 'drawings': 1, 'eli': 1, 'languageshe': 1, 'herself': 1, 'girlit': 1, 'father': 1, 'to': 4, 'parents': 2, 'teaching': 1, 'acrobatics': 1, '2010': 1, 'relocated': 1, '1991': 1, 'his': 1, 'underground': 1, 'they': 1, 'world': 1, 'secondary': 1, 'school': 1, 'artist': 2, 'remove': 1, 'comics': 3, 'mid2000s': 1, 'she': 5, 'earned': 1, 'husband': 1, 'old': 1, 'artists': 1, 'some': 1, 'born': 3, 'street': 1, 'violet': 1, 'mother': 1, 'living': 2, 'for': 1, 'robert': 1, 'daniel': 1, 'inquirer': 1, 'americanfrench': 1, 'told': 1, 'after': 1, 'christian': 1, 'aline': 1, 'sold': 1, 'french': 1, 'reported': 1, '27': 1, 'california': 1, 'conservatives': 1, 'wanted': 1, 'by': 1, 'stage': 1, 'on': 1, 'about': 1, 'daughter': 1, 'her': 8, 'of': 5, 'completing': 1, 'studied': 1, 'comedydrama': 1, 'foreign': 1, 'nameafter': 1, 'turn': 1, 'documentary': 1, 'nearby': 1, 'sophies': 1, 'comix': 1, 'sauve': 1, 'family': 2, 'inclusion': 1, 'political': 1, 'into': 1, 'son': 1, 'adaptation': 1, 'another': 1, 'village': 1, 'prepare': 1, 'from': 1, 'would': 1, 'kominskycrumbcrumb': 1, 'crumb': 4, 'relocation': 1, 'philadelphia': 1, 'france': 3, 'their': 2, 'valley': 1, 'was': 5, 'until': 1, 'a': 9, 'lived': 1, 'that': 3, 'worker': 1, 'apprenticed': 1, 'released': 1, 'construction': 1, 'lives': 1, 'clowes': 1, 'with': 3, 'town': 1, 'farming': 1, 'critically': 1, '1994': 1, 'this': 1, 'while': 1, 'nine': 1, 'sophie': 4, 'sophia': 1, 'and': 7, 'is': 2, 'circus': 1, 'an': 2, 'states': 1, '1981': 1, 'as': 1, 'at': 2, 'acclaimed': 1, 'in': 11, 'serial': 1, 'education': 1, 'film': 1, 'tattoo': 1, 'united': 1, 'woodland': 1, 'same': 1, 'interview': 1, 'who': 1, 'southern': 2, 'brooklyn': 1, 'afraid': 1, 'terry': 1, 'winters': 1, 'ghost': 1, 'later': 1, 'clowning': 1, '2001': 1, 'english': 1, 'commissioned': 1, 'the': 8, '2009': 1, 'original': 1}, {'gospels': 1, 'currently': 1, 'theft': 1, 'twoyear': 1, 'imagines': 1, 'mission': 1, 'lds': 2, 'cambridge': 2, 'manchester': 2, 'cold': 1, 'its': 1, 'death': 1, 'with': 3, 'winner': 1, 'saints': 1, 'writer': 1, 'writing': 8, 'to': 6, 'won': 1, 'relate': 1, 'circumstances': 1, '2011': 2, '2010': 1, '2013': 1, 'universityashworths': 1, 'eventually': 1, 'them': 1, 'lonely': 1, 'march': 1, 'runs': 1, 'dark': 1, 'department': 1, 'novel': 7, '2010two': 1, 'jesus': 1, 'is': 6, 'founded': 1, 'february': 1, 'prize': 1, 'lost': 2, 'january': 2, 'university': 4, 'renamed': 1, 'latterday': 1, 'betty': 1, 'found': 1, 'works': 1, 'set': 1, 'ashworth': 2, 'unpublished': 1, 'jenn': 2, 'quillercouch': 1, 'literature': 1, 'culture': 1, 'computer': 1, 'result': 1, 'lancashireshe': 1, 'home': 1, 'odd': 1, 'best': 1, 'christ': 1, 'for': 4, 'centre': 2, 'anniversary': 1, 'creative': 4, 'written': 1, 'unable': 1, 'closed': 1, 'hymas': 1, 'new': 3, 'teens': 1, 'shows': 1, 'body': 1, 'be': 1, 'full': 1, 'smithy': 1, 'friday': 1, 'however': 1, 'others': 1, 'graduated': 1, '1982': 1, 'strong': 1, 'come': 1, 'tragedy': 1, 'both': 2, 'central': 2, 'of': 18, 'violence': 1, 'according': 1, 'prisonshe': 1, 'mentor': 1, 'published': 2, 'first': 1, 'teenage': 1, 'own': 1, 'family': 1, 'previously': 1, 'bbc': 1, 'one': 3, 'brought': 1, 'featured': 1, 'lancasterin': 1, 'another': 1, 'church': 4, 'mens': 1, 'kind': 1, 'sarah': 1, 'has': 3, 'story': 2, 'from': 3, 'her': 4, 'whom': 1, 'there': 1, 'girls': 1, 'three': 1, 'consultancy': 1, 'their': 1, 'editor': 1, 'poet': 1, 'was': 6, 'until': 1, 'son': 1, 'hub': 1, 'on': 1, 'contains': 1, 'but': 1, 'tenth': 1, 'worked': 2, 'herself': 1, 'boyfriend': 1, 'account': 1, '12': 1, 'welcoming': 1, 'born': 1, 'this': 3, 'up': 1, 'aims': 1, 'novelistsshe': 1, 'taught': 1, 'stories': 1, 'called': 1, 'are': 1, 'and': 13, 'later': 1, 'preston': 2, 'suspicious': 1, 'it': 3, 'an': 3, 'coordinator': 1, 'as': 7, 'woman': 1, 'at': 6, 'in': 11, 'tells': 1, 'she': 6, 'funny': 1, 'memorial': 1, 'built': 1, 'extract': 1, 'when': 1, 'reality': 1, 'member': 1, 'also': 2, 'writers': 1, 'trask': 1, 'grips': 1, 'comedy': 1, 'lecturer': 1, 'elements': 1, 'novels': 1, 'dies': 1, 'earlier': 1, 'lancastrian': 1, 'selfdeception': 1, 'award': 1, 'lancs': 1, 'librarian': 1, 'intimacy': 1, 'network': 1, 'a': 13, 'summerhouse': 1, 'short': 1, 'third': 1, 'light': 1, 'failing': 1, '2003': 1, '2004': 1, 'english': 2, 'the': 22, '2009': 1, 'lancashire': 1, 'left': 1}, {'wordmark': 1, 'institutional': 1, 'text': 1, 'charles': 1, 'founded': 1, 'prix': 1, 'radio': 1, 'alternative': 1, 'contributions': 1, 'its': 1, 'designers': 1, '22': 1, 'to': 1, 'permanent': 1, 'under': 1, 'cooperhewitt': 1, 'might': 1, 'giants': 1, 'his': 1, 'band': 1, 'they': 1, 'now': 1, 'him': 1, 'association': 1, 'illustrated': 1, 'appearing': 1, 'name': 1, 'presented': 1, 'latterday': 1, 'including': 1, 'clients': 1, 'heffler': 1, 'national': 2, 'born': 1, 'computer': 1, 'design': 2, 'operated': 1, 'pronounced': 1, 'for': 3, 'forty': 1, 'current': 1, 'typographique': 1, 'new': 3, 'public': 2, 'bestknown': 1, 'be': 1, 'august': 1, 'tobias': 1, 'splithoefler': 1, 'operating': 1, 'york': 3, 'morninghoeflers': 1, 'bazaar': 1, 'by': 1, 'on': 1, 'stone': 1, 'hoefler': 8, 'of': 6, 'typeface': 1, 'times': 2, 'museums': 1, 'frerejones': 3, 'magazine': 5, 'harpers': 1, 'macintosh': 1, 'named': 1, 'apple': 1, 'family': 1, 'peignot': 1, 'one': 1, 'typefaces': 2, 'church': 1, 'sports': 1, 'from': 1, 'working': 1, 'museum': 1, 'system': 1, 'been': 1, '1989': 1, 'their': 1, 'jonathan': 1, 'was': 1, 'is': 3, 'a': 1, 'company': 1, 'award': 1, 'part': 2, 'with': 2, 'he': 1, 'has': 1, '1995': 1, 'prestigious': 1, '1999': 1, 'type': 4, 'work': 2, 'until': 1, 'influential': 1, 'solomon': 1, 'r': 1, 'internationale': 1, 'profiled': 1, 'and': 10, 'outstanding': 1, 'guggenheim': 1, 'an': 1, 'cbs': 1, 'as': 1, 'have': 1, 'in': 6, 'id': 1, 'perhaps': 1, 'began': 1, 'american': 1, 'also': 1, 'sunday': 1, 'esquire': 2, 'several': 1, 'designer': 2, 'appearances': 1, 'collection': 1, 'most': 2, 'designed': 3, 'rolling': 1, '20052014': 1, 'america': 1, 'atypi': 1, 'saintsin': 1, 'foundry': 2, '1970': 1, '2002': 1, 'time': 1, 'the': 15, 'original': 1}, {'sector': 1, 'all': 1, 'being': 2, 'both': 1, 'years': 1, 'eton': 1, 'bring': 1, 'including': 1, 'questions': 2, 'seats': 1, 'mice': 1, 'succeeding': 1, '20': 1, 'baron': 4, 'title': 1, 'removal': 1, 'to': 5, 'bicycles': 1, 'labour': 2, 'questioned': 1, 'tabled': 1, 'inherited': 1, 'lord': 1, 'has': 4, 'frsa': 1, '199697': 1, 'his': 2, 'sitting': 1, 'foleyberkeley': 1, 'maritime': 1, 'matters': 1, 'politician': 1, 'fitzhardinge': 1, 'association': 2, '17th': 1, 'held': 1, 'spokesperson': 1, 'positions': 1, 'gueterbock': 4, '8595gueterbock': 1, 'london': 1, 'went': 1, 'entitled': 1, 'automatic': 1, 'fcit': 1, 'secretary': 1, 'right': 1, 'freight': 3, 'ten': 1, 'house': 4, 'eurotunnel': 1, 'group': 2, 'born': 1, 'college': 2, 'laboratory': 1, 'port': 1, 'whip': 1, 'for': 3, 'plymouth': 1, 'hereditary': 2, 'conduct': 1, 'dsc': 1, 'body': 1, 'upon': 1, 'lordshe': 1, 'baroness': 1, 'ancient': 1, 'plc': 1, 'opposition': 2, 'berkeley': 9, 'peer': 3, 'police': 1, '1939': 1, 'marine': 1, 'polruan': 1, 'on': 3, 'about': 2, 'cranford': 1, 'created': 1, 'career': 1, 'of': 17, 'industry': 1, 'obe': 1, 'british': 1, 'where': 2, 'peerafter': 1, 'pilots': 1, 'asked': 1, 'first': 1, 'cambridge': 1, 'civil': 2, 'into': 1, 'harbour': 1, 'graduated': 1, 'wimpey': 1, 'guests': 1, 'tony': 1, 'george': 1, 'engineer': 2, '1985': 1, 'cycling': 1, 'fimeche': 1, 'next': 1, 'too': 1, 'entered': 1, 'was': 1, 'mary': 1, 'trinity': 1, 'board': 1, 'ceng': 1, 'commissioner': 1, 'educated': 1, 'restrictions': 1, 'cornwalllord': 1, 'anthony': 1, 'regards': 1, 'lives': 1, 'representative': 1, 'known': 1, 'worked': 2, 'september': 1, 'with': 1, 'he': 9, '1992': 2, 'ma': 1, 'embarked': 1, 'up': 1, 'until': 1, 'remain': 1, 'uk': 1, 'many': 1, 'following': 1, 'transport': 2, 'and': 6, 'lords': 3, 'then': 1, 'is': 6, 'life': 2, 'an': 3, 'engineering': 1, 'at': 1, 'in': 9, 'borough': 1, 'as': 6, 'trustee': 1, 'parliamentary': 1, 'ancestors': 1, 'hon': 2, 'member': 1, 'also': 4, 'fowey': 1, 'chairman': 1, 'party': 1, 'aunt': 1, 'european': 1, 'trains': 1, 'rail': 3, 'liberties': 1, '199697lord': 1, 'president': 1, 'a': 8, 'peers': 2, 'hillingdon': 1, '2000': 1, '18th': 1, 'so': 1, 'parliamentsince': 1, 'english': 1, 'the': 16, 'joining': 1}, {'science': 1, 'advisory': 1, 'since': 2, 'partial': 1, 'gold': 1, 'certification': 1, 'leadership': 2, 'electionon': 1, 'trade': 1, 'produced': 1, 'facilities': 1, 'including': 1, 'unep': 1, 'threshold': 1, 'earth': 1, 'paul': 1, 'graduate': 1, 'ward': 1, 'votes': 3, 'promote': 1, 'canadas': 2, 'candidate': 4, 'eligible': 1, 'with': 2, 'devote': 1, 'accredited': 1, 'appointed': 1, 'environment': 4, 'to': 10, 'bike': 1, 'citizen': 1, 'stephen': 1, '8': 1, 'centurion': 1, 'has': 5, 'local': 1, '2013chernushenko': 1, 'awareness': 1, 'advises': 1, 'then': 1, 'his': 1, 'municipal': 2, 'government': 2, 'powerful': 1, 'socially': 1, 'dfait': 1, 'documentaries': 1, 'partya': 1, 'champions': 1, 'advised': 1, 'communities': 1, 'prime': 1, '4730': 1, 'several': 1, 'committees': 2, 'elected': 1, 'university': 2, '4134': 1, 'leader': 2, 'excellence': 1, 'activity': 1, 'sustainable': 4, 'served': 4, 'works': 1, 'endorsed': 1, 'round': 1, 'programme': 1, 'reelection': 2, 'olympic': 1, 'everyone': 1, 'titled': 1, 'cofounded': 1, 'national': 2, 'society': 1, 'books': 1, 'nations': 1, 'election': 5, 'chernushenko': 7, 'resigned': 1, 'bodieschernushenko': 1, 'canada': 4, 'living': 1, 'born': 1, 'for': 8, 'campuses': 1, 'federal': 3, 'multimedia': 1, 'foreign': 1, 'public': 2, 'written': 1, 'won': 1, 'health': 1, 'capital': 1, 'new': 1, 'receiving': 1, 'worked': 1, 'integrated': 1, 'consultant': 1, 'be': 1, 'business': 1, 'ontario': 2, 'pursuit': 1, 'groups': 1, 'losing': 1, 'november': 1, 'by': 2, 'change': 2, 'panel': 1, 'both': 1, 'about': 1, 'benefits': 1, 'contestant': 1, 'canadian': 2, 'of': 14, 'united': 1, 'greening': 2, 'nrtee': 2, 'games': 1, 'social': 1, 'ndp': 1, 'nonprofit': 1, 'documentary': 2, 'south': 1, 'pollution': 1, 'consulting': 2, 'cambridge': 1, 'campaign': 1, 'deputy': 2, 'civil': 1, '20082009chernushenko': 1, 'centre': 2, 'private': 2, '102': 1, 'councillor': 1, 'alumnus': 1, 'alberta': 1, 'owner': 1, 'table': 1, 'david': 1, 'electronic': 1, 'cost': 1, 'city': 4, 'he': 14, 'management': 2, 'from': 2, 'publication': 1, 'commission': 1, '6766': 1, 'housing': 1, 'political': 1, 'three': 1, 'vote': 2, 'sports': 1, 'their': 1, 'program': 1, 'passed': 1, 'calgary': 1, 'was': 3, 'energy': 3, '2001': 2, 'firm': 1, 'a': 7, 'relations': 1, 'that': 4, 'cida': 1, 'becoming': 1, 'iisdacccunep': 1, 'great': 1, 'filmmaker': 1, 'policy': 1, 'finished': 1, 'minister': 1, 'former': 2, '2014': 2, 'adopting': 1, 'july': 1, 'highest': 1, 'nonpartisan': 1, 'than': 1, 'raising': 1, 'charity': 1, 'count': 1, '10': 2, 'politician': 1, '1994': 1, '1996': 1, '1998': 2, 'elections': 1, 'air': 2, 'project': 1, 'schools': 1, 'economic': 1, 'boards': 1, 'newspaper': 1, 'design': 1, 'more': 3, 'launched': 1, 'and': 28, 'lightly': 1, 'ran': 3, 'is': 6, 'received': 1, 'thus': 1, '2010': 3, 'general': 1, 'as': 6, 'sport': 2, 'council': 1, 'our': 1, 'vicechair': 1, 'dewar': 1, 'any': 2, 'inc': 1, 'again': 2, 'expenditures': 1, 'engages': 1, 'harper': 1, 'climate': 1, 'make': 1, 'responsible': 1, 'green': 8, '1963': 1, 'member': 1, 'also': 1, 'leed': 1, 'other': 1, 'speaker': 1, 'fourth': 2, 'department': 1, 'party': 6, 'physical': 1, 'events': 1, 'films': 1, 'economy': 1, 'development': 1, 'organizations': 1, '2004': 3, 'affairs': 1, 'june': 1, 'wont': 1, 'director': 1, 'sustainability': 1, 'running': 3, 'practicesfrom': 1, 'cooperativehe': 1, 'professional': 2, 'on': 8, 'the': 37, 'queens': 1, 'building': 1, 'reimbursement': 1, 'democratic': 1, 'in': 23, 'sectors': 1, 'environmental': 3, 'agency': 1, 'ottawa': 8, 'senior': 1, '2003': 1, 'practices': 2, '2006': 5, '2007': 1, 'clean': 1, 'time': 1, 'international': 5, '2008': 1, '2009': 1, 'athletes': 1, 'order': 1, 'came': 1}, {'stoner': 1, 'shot': 1, 'german': 1, 'produced': 1, 'including': 1, 'based': 1, 'lo': 1, 'josh': 1, 'to': 6, 'main': 1, 'truckfighters': 3, '2012': 1, 'designerartist': 1, 'his': 8, 'bands': 1, 'documentaries': 1, 'band': 1, '84minute': 1, 'during': 1, 'unique': 1, 'atmospheres': 1, 'artist': 1, 'fuzzomentary': 1, 'common': 2, 'rock': 2, 'release': 1, 'works': 1, 'set': 1, 'often': 1, 'people': 1, 'design': 1, 'are': 1, 'homme': 1, 'for': 2, 'since': 1, 'creative': 2, 'content': 1, 'attracted': 2, 'fans': 1, 'internet': 1, 'contributes': 1, 'seeks': 1, 'berlinduring': 1, 'available': 1, 'audiovisual': 1, 'attention': 2, 'story': 1, 'extraordinary': 1, 'genre': 1, 'generate': 1, 'on': 2, 'about': 1, 'of': 7, 'study': 1, 'musicians': 1, 'documentary': 2, 'or': 2, 'first': 1, 'subcultures': 1, 'childhood': 1, 'unconventional': 1, 'electronic': 1, 'combines': 1, 'from': 1, 'guest': 1, 'due': 1, 'parallel': 1, 'few': 1, 'joerg': 1, 'camera': 1, 'music': 3, 'editor': 1, 'way': 1, 'films': 2, 'photographing': 1, 'started': 1, 'but': 1, 'gap': 1, 'known': 1, 'with': 2, 'he': 4, 'sound': 1, 'graphic': 2, 'illustrator': 1, 'this': 1, 'societyhe': 1, 'vhs': 1, 'tell': 2, 'project': 1, 'stories': 1, 'thirteen': 1, 'and': 10, 'is': 4, 'influence': 1, 'topic': 1, 'as': 2, 'exist': 1, 'have': 1, 'in': 6, 'film': 3, 'swedish': 1, 'genres': 1, 'media': 1, 'feature': 1, 'also': 3, 'which': 1, 'underground': 1, 'development': 1, 'elements': 1, 'explores': 1, 'fu': 1, 'appearances': 1, 'who': 2, 'trailers': 1, 'most': 1, 'manchu': 1, 'steineck': 4, 'such': 1, 'filmmaker': 1, 'friends': 1, 'desert': 2, 'a': 7, 'short': 1, 'nevertheless': 1, 'age': 1, 'well': 1, 'fictional': 1, 'drawing': 1, 'edge': 1, '2006': 1, 'time': 2, 'the': 7, 'painting': 1, 'musical': 2}, {'focus': 1, 'course': 1, 'including': 1, 'research': 4, 'issues': 1, 'previous': 1, 'application': 1, 'character': 1, 'young': 1, 'to': 2, 'degrees': 1, 'has': 3, '2012': 1, 'kingdom': 1, 'his': 3, 'merton': 1, 'pocket': 1, 'oxford': 2, 'him': 1, 'ewtn': 1, 'prominent': 1, 'moral': 1, 'cognition': 1, 'university': 3, 'identified': 1, 'herald': 1, 'insights': 1, 'priest': 1, 'andrew': 1, 'louis': 1, 'birmingham': 1, 'apologia': 1, 'england': 1, 'diocese': 1, 'energy': 1, 'born': 1, 'books': 1, 'college': 2, 'perspective': 1, 'further': 1, 'philosophy': 2, 'august': 1, 'for': 3, 'delphi': 1, 'contributed': 1, 'coauthor': 2, 'religion': 1, 'written': 1, 'experiment': 1, 'various': 1, 'credo': 1, 'perception': 1, 'scientific': 1, 'degree': 1, 'virtues': 1, 'ramsey': 1, 'formation': 1, 'gregorian': 1, 'besides': 1, 'pinsent': 2, 'brighton': 1, 'faith': 1, 'institute': 2, 'of': 15, 'social': 1, 'first': 1, 'secondperson': 2, 'accounts': 1, 'ian': 1, 'from': 4, 'bbc': 1, 'three': 1, 'been': 1, 'tutor': 1, 'saint': 1, 'manchester': 1, 'lumen': 1, 'on': 1, 'interviewed': 1, 'evangelium': 1, 'arundel': 1, 'present': 1, 'he': 5, 'pontifical': 1, 'collaborationfr': 1, '19': 1, 'science': 2, 'cern': 1, 'publications': 2, 'and': 15, 'is': 6, 'fellow': 1, 'high': 1, 'as': 1, 'at': 2, 'in': 8, 'autism': 1, 'routledge': 1, 'catholic': 3, 'united': 1, 'media': 1, '1966': 1, 'maryvale': 1, 'member': 2, 'also': 2, 'book': 1, 'fr': 1, 'centre': 1, 'who': 1, 'aquinass': 1, 'phd': 1, 'gifts': 1, 'most': 1, 'harris': 1, 'director': 1, 'faculty': 1, 'ethics': 1, 'class': 1, 'recent': 1, 'a': 12, 'thirtyone': 1, 'theology': 2, 'academic': 1, 'rome': 1, 'catechetical': 1, 'the': 14, 'physics': 3, 'dphil': 1}, {'all': 2, 'selection': 1, 'managed': 1, 'they': 1, 'when': 1, '1952': 2, 'rest': 1, 'years': 2, '1950swith': 1, 'colm': 1, 'still': 1, '1949': 1, 'cup': 1, 'regarded': 1, 'winning': 1, 'to': 4, 'only': 1, 'suffered': 1, 'has': 1, 'his': 5, 'which': 1, 'dunnes': 1, 'famous': 2, '1951': 1, '1953': 2, 'half': 2, 'one': 2, '1959': 1, 'hall': 1, '59': 1, 'gaelic': 1, 'team': 4, 'lasting': 1, 'back': 4, 'titles': 1, 'blue': 1, 'captain': 1, 'for': 4, 'featdunne': 1, 'beaten': 1, 'senior': 2, 'won': 1, 'millennium': 1, 'consecutive': 1, 'tribute': 1, 'be': 2, 'football': 6, '1953called': 1, 'by': 1, 'on': 4, 'dunne': 2, 'of': 6, 'players': 1, 'due': 1, 'defeat': 1, 'railway': 1, 'jersey': 2, 'retired': 1, 'into': 1, 'meath': 1, 'two': 1, 'county': 1, 'selected': 2, 'another': 1, 'xv': 1, 'agonising': 1, 'finalhe': 1, 'from': 2, 'would': 1, 'there': 1, 'three': 1, 'few': 1, 'ireland': 2, '6': 1, 'white': 1, 'recurring': 1, 'final': 2, 'field': 1, 'club': 2, 'greatness': 1, 'park': 3, 'gaa': 1, 'he': 3, 'inducted': 1, 'this': 1, 'was': 7, 'up': 1, 'played': 3, 'were': 1, 'following': 2, 'and': 4, 'outstanding': 2, 'player': 2, 'as': 2, 'at': 1, 'in': 11, 'fame': 1, 'narrowly': 1, 'no': 1, 'leinster': 4, 'browne': 1, 'also': 1, 'other': 1, 'widely': 1, 'many': 1, 'medals': 1, 'paddy': 2, 'province': 1, 'play': 1, 'championship': 1, 'centre': 3, 'emulate': 1, 'who': 1, 'laois': 8, '2008': 1, 'problema': 1, 'a': 3, '1954': 2, 'performances': 1, 'laoishe': 1, 'position': 1, 'the': 15, 'backin': 1}, {'dance': 2, 'commissions': 1, 'ensemblehe': 1, 'sofia': 1, 'companyhis': 1, 'manager': 1, 'committee': 1, 'unionnaxos': 1, 'group': 1, 'ensembles': 1, 'production': 2, 'advanced': 1, 'under': 1, 'include': 2, 'activities': 2, 'them': 1, 'his': 2, 'founding': 1, 'documentaries': 1, 'cultural': 1, 'mouzas': 1, 'schools': 1, 'channelshe': 1, 'projects': 1, 'athenssince': 1, 'runs': 1, 'anax': 1, 'haris': 1, 'michos': 1, 'works': 1, 'dimitris': 1, 'programme': 1, 'olympic': 1, 'alexandros': 1, 'titled': 1, 'ergon': 1, 'choreographer': 1, 'series': 1, 'born': 1, 'productions': 1, 'papageno': 1, 'home': 1, 'dawn': 1, 'vironas': 1, 'organizing': 1, 'composers': 1, 'for': 5, 'electronic': 1, 'section': 1, 'orchestra': 1, 'label': 1, 'collaborated': 1, 'written': 1, 'various': 2, 'new': 1, 'xanthoudakis': 1, 'theory': 1, 'philharmonic': 1, 'performed': 1, 'never': 1, 'kamarotos': 1, 'imaginary': 1, 'teaches': 1, 'by': 2, 'received': 1, 'of': 10, 'konstantinos': 1, 'days': 1, 'games': 1, 'lathos': 1, 'composed': 2, 'among': 1, 'own': 1, 'cd': 2, 'composer': 1, 'imagerelated': 1, 'orchestrashe': 1, 'management': 1, 'from': 1, 'top': 1, 'athens': 2, 'been': 1, 'commission': 1, 'music': 9, 'films': 1, 'was': 1, 'is': 2, 'board': 1, 'kinissi': 1, 'releases': 1, 'orchestral': 2, 'company': 1, 'released': 1, 'with': 6, 'he': 7, 'organizations': 1, 'television': 2, 'has': 5, '1998': 1, 'project': 1, 'calamity': 1, 'many': 1, 'trisha': 1, 'and': 9, 'studied': 1, 'videos': 1, '2003in': 1, 'an': 1, 'at': 1, 'in': 2, 'technology': 1, 'film': 2, 'media': 1, 'commercials': 1, '1962': 1, 'member': 2, 'till': 1, 'composition': 1, 'european': 1, 'antoniou': 1, 'theodore': 1, 'director': 1, 'most': 1, 'important': 1, 'recent': 1, 'a': 2, 'short': 1, 'greek': 5, 'directors': 1, 'edge': 1, 'artistic': 1, '2004': 2, 'professional': 2, 'the': 15, 'airesis': 1, 'corporate': 1, 'original': 2, 'left': 1}, {'saying': 1, 'quoted': 1, 'schoolboard': 1, '19681995': 1, 'results': 1, 'unofficial': 1, 'held': 1, 'restore': 1, 'campbell': 3, 'conservative': 1, '2996': 1, 'votes': 1, 'retirement': 1, 'thinking': 1, 'memphis': 1, 'to': 6, 'board': 1, 'designcampbell': 1, 'stephen': 1, 'darwin': 1, 'debating': 1, 'scheduled': 1, 'his': 4, 'march': 1, 'branch': 1, 'assistant': 1, 'rhetoric': 2, 'kitzmiller': 1, 'closely': 1, 'not': 2, 'tank': 1, 'day': 1, 'articles': 1, 'school': 2, 'skills': 1, 'angus': 1, 'university': 2, 'serves': 1, 'public': 2, 'did': 1, 'served': 1, 'depositionin': 1, 'people': 2, 'dealing': 1, 'seat': 1, 'society': 2, 'defense': 1, 'design': 3, 'election': 1, 'portland': 1, 'witness': 1, 'appear': 1, 'for': 5, 'communications': 2, 'culture': 2, 'currently': 1, 'mason': 1, 'critical': 1, 'international': 1, '1406': 1, 'discovery': 1, 'disclose': 1, 'edited': 1, 'christian': 1, 'transparency': 1, 'darwinist': 1, 'associate': 1, 'journal': 1, 'slated': 1, 'demonizing': 1, 'november': 1, 'by': 1, 'improve': 1, 'on': 4, 'c': 1, 'engage': 1, 'would': 1, 'institute': 1, 'of': 13, 'could': 1, 'trial': 1, 'american': 1, 'promotion': 1, 'think': 2, 'retired': 1, 'study': 1, 'glenn': 1, 'washington': 2, 'usa': 1, 'county': 1, 'trust': 1, 'establish': 1, 'considers': 1, 'are': 1, 'use': 1, 'from': 3, 'district': 1, 'area': 1, 'there': 1, 'their': 2, '2': 1, 'interest': 1, '6': 1, 'darwinism': 2, 'was': 3, 'until': 1, 'more': 1, 'an': 1, 'that': 4, '6806': 1, 'offered': 1, '1942': 1, 'be': 1, 'believe': 1, 'with': 2, 'than': 1, 'meyer': 1, 'he': 7, '10': 1, 'john': 2, '1995': 1, 'showed': 1, 'born': 1, 'science': 2, 'oregon': 1, 'can': 1, 'landram': 1, 'v': 1, 'curricula': 1, 'withdrew': 1, 'at': 2, 'and': 13, 'dedicated': 1, 'links': 1, 'stated': 1, 'ran': 1, 'is': 4, 'telephone': 1, 'fellow': 2, 'as': 4, 'together': 1, 'in': 7, 'north': 1, 'education': 1, 'id': 1, 'information': 1, 'rather': 1, 'ideas': 1, 'also': 1, 'incumbent': 1, 'interview': 1, 'intelligent': 2, 'students': 1, 'who': 2, 'june': 1, 'collection': 1, 'but': 2, 'affairscampbell': 1, 'services': 1, 'a': 12, 'center': 2, 'i': 1, 'professor': 3, 'defeating': 1, 'ways': 1, 'complexity': 1, '3194': 1, '2007': 2, '2005': 2, 'professional': 1, 'the': 17, 'dover': 1}, {'all': 1, 'increasingly': 1, 'suburban': 4, 'ska': 1, 'produced': 1, 'cowriting': 1, 'tim': 4, 'rose': 1, 'had': 1, 'to': 2, 'only': 1, 'rejoined': 1, 'orange': 1, 'thirdwave': 1, 'has': 1, 'then': 1, 'song': 1, 'rerecorded': 1, 'early': 1, 'band': 9, 'cook': 1, 'world': 1, '20002002': 1, 'joined': 1, 'pursue': 1, 'benefit': 1, 'batstone': 2, 'found': 2, 'replacement': 1, 'because': 1, 'be': 2, 'careerhe': 1, 'edition': 1, 'decided': 1, 'video': 1, 'desperate': 1, 'ep': 2, 'lead': 2, 'recorded': 1, 'acting': 1, 'various': 1, 'tribute': 1, 'supporting': 1, 'we': 1, 'after': 1, 'maurer': 2, 'compilation': 2, 'albumchris': 1, 'tracks': 1, 'directions': 1, 'along': 1, 'by': 1, 'care': 1, 'on': 8, 'credits': 1, 'of': 4, 'taking': 1, 'became': 1, 'compilations': 1, 'create': 1, 'unreleased': 1, 'first': 2, 'origin': 1, 'childrens': 1, 'scene': 1, 'county': 1, 'singing': 2, 'tint': 1, 'legends': 4, 'bears': 1, 'hospital': 1, 'aaron': 1, 'their': 2, 'dissatisfied': 1, 'was': 4, 'more': 2, 'direction': 1, 'vince': 1, 'released': 1, 'gummi': 1, 'with': 5, 'remixchris': 1, 'he': 4, 'selftitled': 1, 'bertram': 1, 'official': 1, 'vocal': 1, 'recording': 2, 'replaced': 1, 'can': 2, 'my': 1, 'ephe': 1, 'and': 6, 'an': 2, 'as': 2, 'performed': 1, 'want': 2, 'in': 5, 'seen': 1, 'nights': 1, 'dallas': 1, 'also': 2, 'other': 1, 'reportedly': 1, 'who': 2, 'chris': 3, 'a': 1, 'singer': 2, 'for': 4, 'i': 2, 'cover': 1, '2002': 2, '2000': 1, '2001': 1, 'walker': 1, 'the': 21, 'left': 2, 'musical': 1, 'songs': 1}, {'thomas': 6, 'managed': 1, '200506': 1, 'including': 2, 'converting': 1, 'before': 2, 'scoring': 1, '25': 2, 'cup': 1, 'bench': 1, 'penalty': 1, 'to': 5, 'only': 2, 'stephen': 1, 'wales': 1, 'he': 6, 'footballer': 1, 'friendly': 1, '2012': 1, 'cornish': 1, 'them': 1, 'his': 8, 'return': 1, 'league': 3, 'regional': 1, 'game': 2, 'october': 1, 'five': 1, 'not': 2, 'world': 1, 'one': 1, 'bringing': 1, '14': 1, '200809': 1, 'lost': 1, 'did': 1, 'positions': 1, 'debut': 1, 'rfc': 1, 'rival': 1, 'priestland': 2, 'side': 2, 'rhys': 1, '200405': 1, 'signing': 1, 'pirates': 1, 'national': 1, 'born': 1, 'clubs': 1, '110': 1, 'ceiron': 1, 'out': 1, 'llanellibased': 1, 'for': 7, 'currently': 1, 'favour': 1, 'won': 1, 'falling': 1, 'previous': 1, 'after': 2, 'team': 1, 'llanelli': 2, 'leeds': 2, 'from': 1, 'on': 3, 'last': 1, 'career': 1, 'of': 4, 'region': 1, 'months': 1, 'against': 1, 'april': 2, 'place': 1, 'barry': 1, 'duty': 1, 'fullbackthomas': 1, 'leaguehowever': 1, 'pointsthomas': 1, 'number': 1, 'three': 2, 'down': 1, 'another': 1, '200708': 1, 'total': 1, 'often': 1, 'are': 1, '23': 1, 'magners': 3, '1983': 1, 'union': 1, 'transfer': 1, 'two': 2, 'france': 1, 'eleven': 1, 'much': 1, 'was': 2, 'until': 2, 'duties': 1, 'more': 2, 'a': 4, 'sharing': 1, 'that': 1, 'season': 4, 'but': 2, 'scarlets': 4, 'rugby': 3, 'hold': 1, 'with': 3, 'stoddart': 1, '10': 1, 'berth': 1, 'made': 6, 'resulting': 1, '18': 1, 'also': 1, 'appearance': 2, 'as': 1, 'ives': 1, 'while': 1, 'morgan': 1, 'starts': 1, 'making': 1, 'playing': 3, '200304': 2, 'and': 7, 'played': 2, 'almost': 1, 'december': 1, 'is': 3, '200607': 1, 'secondfiddle': 1, 'at': 5, 'in': 15, 'again': 2, '950': 1, 'began': 2, 'six': 1, 'when': 1, 'fullback': 1, 'majority': 1, 'other': 1, '2006': 1, 'scored': 2, 'play': 1, 'though': 1, 'welsh': 1, 'appearances': 5, 'time': 2, 'june': 2, 'carnegie': 2, 'slovenia': 1, 'tries': 1, 'regular': 2, '2008': 1, 'jones': 3, 'celtic': 1, 'spent': 2, 'st': 1, '2003': 1, 'points': 1, 'davies': 1, '2007': 1, '2005': 1, 'position': 1, 'the': 23, '2009': 2, 'starting': 1, 'wing': 1, 'flyhalf': 4}, {'coach': 2, 'sellimi': 7, 'eleven': 1, 'just': 2, 'september': 1, 'barren': 1, 'move': 1, 'mistaken': 1, 'years': 1, 'partnered': 1, 'breaka': 1, 'bright': 1, 'stayed': 1, 'pitch': 1, 'november': 1, 'japan': 1, 'enjoyed': 1, 'afterwards': 1, 'limelight': 1, 'baya': 1, 'number': 1, 'inspiration': 1, 'earned': 4, 'with': 4, 'had': 1, 'outside': 1, 'ligue': 2, 'jan': 1, 'failed': 1, 'finally': 1, 'squad': 1, 'under': 1, 'struck': 1, 'team': 4, 'strength': 1, 'achieve': 1, 'real': 1, 'division': 1, 'his': 11, 'hit': 1, 'returned': 1, 'mehdi': 1, 'internationals': 1, 'matches': 2, 'could': 1, 'showing': 1, 'stop': 1, 'possible': 1, 'nation': 1, 'jendouba': 1, 'of': 15, 'african': 3, 'tournamentthis': 1, 'not': 1, 'during': 4, 'now': 1, 'africain': 2, 'him': 4, 'is': 1, 'name': 1, 'promising': 1, 'impressive': 1, 'success': 1, 'level': 1, '1996': 2, 'list': 1, 'joined': 1, 'teams': 1, 'singularly': 1, 'twice': 1, '16': 1, 'bab': 1, 'recall': 1, 'quick': 1, 'found': 1, 'where': 1, 'side': 3, 'semifinal': 1, 'jedid': 1, 'olympic': 1, 'england': 1, 'yearstunisians': 1, 'distinguished': 1, 'national': 4, 'tunisian': 2, 'some': 1, 'back': 1, 'born': 1, 'second': 2, 'titles': 1, 'sellimis': 1, 'year': 1, 'home': 1, 'sport': 1, 'best': 3, 'really': 1, 'even': 1, 'throughout': 1, 'lead': 1, 'zoubeir': 1, 'life': 1, 'clocked': 1, 'competitions': 1, 'fans': 1, 'discretion': 1, 'new': 1, 'movement': 1, 'be': 1, 'korea': 1, 'recently': 1, 'missing': 1, 'got': 1, '1993': 1, 'never': 1, 'however': 1, 'french': 1, 'here': 2, 'although': 1, 'put': 1, 'picking': 1, 'fallout': 1, 'after': 3, 'firstclass': 1, 'league': 1, 'about': 1, 'goalscoring': 1, 'talented': 1, 'world': 4, 'wayhis': 1, 'dubbed': 1, 'country': 1, '19992000': 1, '30': 1, 'modest': 1, 'against': 3, 'surge': 1, 'players': 2, 'became': 2, 'games': 1, 'countrys': 1, 'freiburg': 2, 'promotion': 1, 'replacement': 1, 'settled': 1, 'south': 1, 'first': 5, 'drew': 1, 'cup': 7, 'retired': 1, 'frenchmans': 1, 'headed': 1, 'tunisia': 3, 'win': 1, 'into': 2, 'africa': 1, 'period': 1, 'marked': 1, 'one': 3, 'brought': 1, 'lung': 1, 'another': 2, 'spanish': 1, 'benslimane': 1, 'next': 2, 'kind': 1, 'belt': 1, 'he': 16, 'from': 2, 'district': 1, 'to': 12, 'transfer': 1, 'there': 1, 'creativity': 1, 'two': 2, 'long': 2, 'france': 1, 'start': 1, 'going': 1, 'too': 1, 'way': 1, 'nantes': 3, 'was': 3, 'final': 1, 'romaniabundesliga': 1, 'head': 1, 'himself': 2, 'anchorman': 1, 'form': 3, 'that': 1, 'club': 4, 'season': 3, 'took': 2, 'but': 3, 'striker': 1, 'goals': 2, 'child': 1, 'swansong': 1, 'atlanta': 1, 'true': 1, 'former': 1, 'carried': 1, 'football': 3, 'distance': 1, 'account': 1, 'grew': 1, '14': 1, 'henri': 1, 'this': 1, '1998': 1, 'cap': 1, 'up': 2, 'nations': 2, 'international': 3, 'pace': 1, 'atlantique': 1, 'determined': 1, 'tunis': 2, 'match': 2, 'mali': 1, 'following': 2, '31': 1, 'history': 1, 'and': 18, 'proved': 1, 'coupled': 1, 'appreciate': 1, 'household': 1, 'tournament': 3, 'turned': 1, 'it': 1, 'fellow': 1, 'disappointing': 2, 'player': 2, 'as': 3, 'out': 3, 'at': 6, 'callup': 2, 'bundesligas': 1, 'arabic': 1, 'their': 1, '199798': 1, 'place': 1, 'goal': 1, 'in': 22, 'friendlies': 1, 'skillful': 1, 'ammar': 1, 'premier': 1, 'who': 2, 'for': 5, '1': 2, 'other': 1, 'virtually': 1, 'widely': 1, 'finding': 1, 'performance': 1, 'many': 1, 'zambia': 1, 'gamble': 1, '10': 1, 'gaining': 1, 'ball': 1, 'appearances': 1, 'detractors': 1, 'permanent': 1, 'wrong': 1, 'fc': 1, 'germany': 1, 'scoring': 1, 'along': 1, 'drought': 1, 'on': 6, 'finals': 1, 'winter': 1, 'a': 17, 'purchase': 1, 'shortly': 2, 'adel': 2, '1978': 1, 'considered': 2, 'performances': 1, 'age': 2, 'steady': 1, '1972': 1, '2002': 2, '2001': 1, 'souayah': 1, 'time': 2, 'spark': 1, 'professional': 1, 'the': 42, 'carved': 1, 'michel': 1, 'left': 1}, {'essay': 1, 'summer': 1, 'all': 1, 'show': 2, 'charles': 1, 'domestic': 1, 'produce': 1, 'years': 1, 'produced': 1, 'not': 1, 'cambridge': 1, 'musicals': 2, 'controversial': 1, 'queer': 1, 'faith': 3, 'somerville': 1, 'soloways': 3, 'causes': 1, 'principal': 1, 'one': 2, 'comedic': 1, 'based': 1, 'womans': 1, 'with': 6, 'writer': 1, '28': 1, 'self': 2, 'rosenthal': 1, 'betsy': 2, 'to': 10, 'book': 2, 'parodied': 1, 'has': 3, 'interested': 1, 'regularly': 1, 'songwriting': 1, 'curtis': 1, 'university': 1, 'song': 3, 'very': 1, 'couple': 1, 'continues': 1, 'aizley': 2, 'earnest': 1, 'conceive': 1, 'dad': 1, 'falcon': 1, 'passim': 1, 'minimalist': 1, 'school': 1, 'several': 1, 'mothers': 1, 'expartner': 1, 'performing': 1, 'venue': 1, 'pursue': 1, 'benefit': 1, 'she': 6, 'rock': 1, 'works': 1, 'revere': 1, 'wrote': 2, 'respond': 1, 'stereotype': 1, 'edited': 1, 'series': 1, 'creation': 1, 'jennifer': 1, 'soloway': 9, 'second': 2, 'decided': 1, 'insemination': 1, 'musicians': 1, 'forthcoming': 1, 'folk': 4, 'album': 1, 'what': 1, 'homefront': 1, 'appear': 1, 'for': 3, 'catie': 1, 'miss': 2, 'tales': 1, 'both': 2, 'artificial': 1, 'creative': 1, 'written': 1, 'does': 1, 'features': 1, 'it': 1, 'new': 2, 'bunch': 1, 'across': 1, 'shows': 1, 'solo': 2, 'program': 1, 'led': 1, 'tour': 1, 'compilation': 1, 'careerafter': 1, 'notable': 1, 'jill': 1, 'crisissoloways': 1, 'ridge': 1, 'carol': 1, 'refers': 1, 'lesbo': 1, 'by': 3, 'on': 2, 'training': 1, 'river': 1, 'daughter': 1, 'norbert': 1, 'country': 1, 'larger': 1, 'harlyn': 1, 'leaving': 1, 'operas': 1, 'became': 1, 'signature': 1, 'action': 1, 'improv': 1, 'efforts': 1, 'womens': 1, 'or': 1, 'beany': 1, 'first': 1, 'via': 1, 'followed': 2, 'childrens': 1, 'evans': 1, 'potter': 1, 'scene': 1, 'jesus': 1, 'active': 1, 'featured': 3, 'performer': 1, 'open': 1, 'along': 1, 'city': 2, 'arts': 1, 'three': 1, 'from': 1, 'her': 6, 'songs': 1, 'creator': 1, 'lone': 1, 'two': 2, 'their': 1, 'of': 8, 'music': 3, 'debbie': 1, 'statement': 1, 'tom': 1, 'indiana': 1, 'hollywood': 2, 'humorless': 1, 'was': 6, 'tell': 1, 'separated': 1, 'mike': 1, 'that': 2, 'started': 2, 'premiered': 1, 'musician': 2, 'about': 1, 'but': 1, 'hamletta': 1, 'child': 1, 'producing': 1, 'buying': 1, 'boyfriend': 1, '1990': 1, 'television': 2, '1994': 1, 'born': 2, 'this': 1, 'also': 1, 'work': 2, 'will': 1, 'sexuality': 1, 'tweaking': 1, 'folkrock': 2, 'loves': 1, 'were': 1, 'sister': 1, 'at': 6, 'and': 10, 'real': 1, 'violence': 1, 'wheels': 1, 'is': 4, 'moved': 2, 'life': 1, 'an': 2, 'couples': 1, 'as': 3, 'nonbiological': 1, 'performed': 2, 'in': 12, 'partner': 1, 'nights': 1, 'heather': 1, 'anthology': 1, 'perform': 1, 'began': 1, 'bobbies': 1, 'march': 1, 'club': 1, 'kimballsoloway': 1, 'other': 1, 'which': 7, 'toured': 1, 'comedy': 1, 'entitled': 1, 'area': 1, 'briefly': 1, 'harrie': 1, 'collaboration': 1, 'after': 1, 'mommies': 2, 'director': 1, 'boston': 2, 'journey': 2, 'massachusetts': 2, 'studied': 1, 'sisters': 2, 'such': 1, 'america': 2, 'lesbian': 1, 'man': 1, 'a': 12, 'theater': 3, 'brady': 1, 'band': 1, 'american': 1, 'camp': 1, 'spent': 1, 'departments': 1, 'musical': 1, '2002': 1, '1964': 1, '2000': 1, 'mother': 1, 'title': 1, 'the': 24, 'once': 1, 'original': 1, 'dover': 1}, {'thomas': 1, 'particularly': 1, 'nihilson': 1, 'steve': 1, 'including': 1, 'gang': 1, 'computation': 1, 'queer': 1, 'protocol': 1, 'cold': 1, 'its': 1, 'issues': 1, 'internationally': 1, 'nicoletta': 1, 'josh': 1, 'editors': 1, 'writing': 1, 'deke': 2, 'technologywhile': 1, 'other': 4, 'yoyo': 1, 'activities': 1, 'his': 2, 'garden': 1, 'angelesbased': 1, 'beat': 1, 'bands': 1, 'rise': 1, 'coast': 1, '1955': 1, 'band': 1, 'they': 1, 'hands': 1, 'using': 1, 'stehlik': 1, 'zine': 2, 'name': 1, 'artist': 1, 'university': 1, 'irvines': 1, 'donna': 1, 'multiplicity': 1, 'found': 1, 'works': 1, 'where': 1, 'bios': 2, 'wrote': 1, 'gb': 1, 'calarts': 1, 'publications': 1, 'abbott': 1, 'born': 1, 'computer': 1, 'implemented': 2, 'organizing': 1, 'ultimately': 1, 'throughout': 1, 'network': 1, 'for': 3, 'coeditor': 1, 'currently': 1, 'daniel': 2, 'dresch': 1, 'internet': 2, 'issue': 1, 'across': 1, 'tlgnet': 1, 'shows': 1, 'homocore': 3, 'led': 1, 'creating': 2, 'maintains': 1, 'jennings': 5, 'little': 1, 'regional': 1, 'california': 2, 'networking': 2, 'along': 1, 'earliest': 1, 'by': 2, 'on': 1, 'comrade': 1, 'kids': 1, 'boards': 1, 'resides': 1, 'influential': 2, 'of': 9, 'publisher': 1, 'punk': 1, 'movement': 1, 'fidonet': 2, 'angeles': 1, 'informal': 1, 'fugazi': 1, 'musicians': 1, 'europejennings': 1, 'incorporated': 1, 'wired': 1, '512': 1, 'los': 2, 'south': 1, 'software': 1, 'named': 1, 'own': 1, 'presence': 1, 'appeared': 1, 'had': 1, 'into': 1, 'platformsaside': 1, 'one': 1, 'featured': 1, 'magazines': 1, 'message': 1, 'rarely': 1, 'portable': 1, 'arts': 1, 'from': 3, 'service': 1, 'to': 2, 'west': 1, 'create': 1, 'creator': 1, 'system': 1, '1988': 1, 'their': 1, 'program': 3, 'way': 1, 'tom': 1, 'films': 1, 'was': 2, 'until': 1, 'bbses': 1, 'jones': 1, 'lived': 1, 'north': 1, 'that': 1, 'zines': 2, 'but': 1, 'instrumental': 1, 'larry': 1, 'arms': 1, 'authors': 1, 'technician': 2, 'technologies': 1, 'with': 3, 'provider': 1, 'protocols': 1, 'he': 3, '1991': 1, 'science': 1, 'originally': 1, 'as': 8, 'war': 1, 'apostles': 1, 'authored': 1, 'were': 3, 'jds': 2, 'at': 2, 'and': 14, 'san': 1, 'ran': 1, 'boston': 1, 'is': 3, 'in': 9, 'an': 2, 'engineering': 1, 'performed': 1, 'file': 1, 'partner': 1, 'seen': 1, 'archive': 1, 'inc': 1, 'livermore': 1, 'built': 1, 'graduate': 1, 'also': 2, 'writers': 1, 'fido': 1, 'popularizing': 1, 'francisco': 1, 'phoenix': 1, 'most': 1, 'eight': 1, 'massachusetts': 1, 'faculty': 1, 'arttechnology': 1, 'such': 4, 'america': 2, 'pages': 1, 'a': 5, 'early': 1, 'happening': 1, 'queercore': 4, 'later': 1, 'the': 20, 'first': 2, 'bulletin': 1, 'came': 1}, {'leagues': 1, 'all': 1, 'coach': 1, 'minors': 3, '42': 1, '196970': 1, 'defensiveoriented': 1, 'seals': 1, 'playoffs': 2, 'hornets': 1, 'line': 2, 'winger': 1, 'before': 3, 'one': 1, 'bronco': 1, '20': 1, '23': 1, 'presence': 1, '3': 1, 'bench': 1, 'to': 7, 'coaching': 2, 'black': 2, 'hockey': 4, 'alberta': 1, 'edmonton': 1, 'then': 3, 'over': 1, 'his': 5, '1955': 1, '1954': 1, '1951': 1, '1953': 1, '1952': 1, 'lethbridge': 1, 'now': 1, 'him': 1, 'name': 1, 'capitals': 1, 'detroit': 4, 'assists': 1, 'team': 1, 'found': 1, 'finishing': 1, 'round': 1, 'grouping': 1, 'signing': 1, 'on': 1, 'fired': 2, 'often': 1, 'back': 1, 'born': 1, 'quebec': 1, 'ancestry': 1, 'year': 2, 'stanley': 2, 'odd': 1, 'wings': 4, 'victor': 1, 'crown1in': 1, 'for': 4, 'chicago': 3, 'sparingly': 1, 'recorded': 1, 'ice': 1, 'behind': 1, 'won': 1, 'captured': 1, 'red': 3, 'toiling': 1, 'led': 1, 'were': 1, 'however': 1, 'backtoback': 1, 'job': 2, 'calder': 1, 'california': 1, 'although': 1, 'by': 1, 'settling': 1, 'league': 2, 'instant': 1, 'canadian': 1, 'dubbed': 1, 'of': 8, 'cup': 3, 'players': 1, 'american': 1, 'became': 1, 'games': 2, 'traded': 3, 'first': 2, 'golden': 1, 'retired': 1, 'bucyk': 1, 'point': 1, 'nhl': 4, 'into': 2, 'flyers': 3, 'due': 1, 'coaching4': 1, 'formidable': 1, '68': 1, 'next': 1, 'bruins': 2, '254': 1, 'postseason': 1, 'management': 1, 'games2': 1, 'hawks': 2, 'three': 3, 'offensiverich': 1, 'mark': 1, '183': 1, 'much': 1, 'forward': 1, 'uke': 1, 'john': 1, 'was': 8, 'until': 1, 'canucks': 1, 'head': 2, 'stylistic': 1, 'pittsburgh': 1, 'season': 4, 'offered': 1, 'earned': 1, 'but': 1, 'finished': 1, 'because': 2, 'goals': 1, 'former': 1, 'eliminated': 1, 'with': 7, 'junior': 2, 'horvath': 1, 'he': 11, 'this': 2, 'as': 1, 'career': 4, 'native': 1, 'participants': 1, 'twoway': 1, 'history': 1, 'and': 11, 'losses': 1, '745': 1, 'johnny': 1, 'played': 4, 'boston': 2, 'is': 1, 'in': 17, 'moved': 1, 'high': 1, 'single': 1, '197071': 1, 'have': 1, '1929': 1, 'aces': 1, 'viewed': 1, 'physical': 1, 'goal': 1, 'retiring': 1, '1960': 1, '1961': 1, 'same': 1, '1963': 1, 'club': 1, 'vancouver': 1, 'out': 2, 'conflict': 1, 'difficult': 1, 'scored': 1, 'indianapolis': 1, 'philadelphia': 1, 'ukrainian': 1, 'may': 1, 'after': 4, 'reach': 1, 'stasiuk': 11, 'took': 2, 'regular': 1, 'two': 1, 'significant': 1, 'position': 1, 'seasons': 1, '195758': 1, 'finals': 1, 'man': 1, 'a': 12, 'early': 1, 'scouting': 1, 'off': 1, 'later': 1, 'spent': 3, 'portion': 1, 'points': 1, 'time': 1, 'professional': 1, 'the': 38, 'chemistry': 1, 'playing': 1, 'left': 2}, {'yearshe': 1, 'being': 1, 'radio': 1, 'decisions': 1, 'before': 1, 'flynnin': 1, 'based': 1, 'also': 2, 'freelance': 2, 'writing': 1, 'to': 5, 'program': 1, 'under': 1, 'has': 2, 'local': 1, '2012': 3, 'regularly': 2, 'his': 1, 'march': 1, 'early': 1, 'made': 1, 'every': 1, 'blogging': 1, 'articles': 1, 'several': 2, 'january': 2, 'wednesday': 1, 'journalist': 1, 'team': 1, 'where': 1, 'wrote': 1, 'successful': 1, 'born': 1, 'titles': 1, 'apc': 1, 'wire': 1, 'for': 5, 'searchcio': 1, 'current': 1, 'new': 1, 'commentator': 1, 'shows': 1, 'focuses': 1, 'run': 1, 'business': 2, 'members': 1, 'news': 1, 'on': 5, 'about': 3, 'many': 1, 'caruana': 3, 'david': 1, 'melbourne': 3, 'april': 1, 'magazine': 2, 'section': 1, 'writes': 1, 'executives': 1, 'raf': 1, 'appeared': 1, 'one': 1, 'anthony': 1, 'contributor': 1, 'corporations': 1, 'macworld': 1, 'given': 1, 'from': 3, 'spoke': 1, 'start': 1, 'addition': 1, 'segment': 1, 'been': 1, 'next': 1, 'pc': 1, '2': 1, 'editor': 3, 'convention': 1, 'techtarget': 1, 'australian': 3, 'was': 3, 'journo': 1, 'influencershe': 1, 'that': 2, 'club': 1, 'broadcast': 1, 'part': 1, 'commission': 1, 'review': 1, 'he': 5, 'october': 1, 'this': 1, '2011': 2, 'air': 1, 'reviews': 1, 'publications': 1, 'of': 6, 'launched': 1, 'and': 5, 'pocket': 1, 'is': 3, 'it': 2, 'an': 1, 'topic': 1, 'as': 5, 'australia': 2, 'au': 1, 'at': 3, 'in': 3, 'founding': 1, 'technology': 5, 'anz': 1, 'affairs': 1, 'needs': 1, '1968': 1, 'media': 1, 'epsteins': 1, 'write': 1, 'how': 1, 'other': 2, 'speaks': 1, 'events': 1, '774': 1, 'product': 1, 'advice': 1, 'who': 1, 'nationally': 1, 'regular': 2, 'opportunity': 1, 'the': 11, 'thoughts': 1, 'a': 6, 'geek': 1, 'age': 1, 'well': 1, 'drive': 1, 'chief': 1, 'broadcasting': 2, '330pmsince': 1, 'senior': 1, 'original': 1}, {'office': 1, 'issued': 1, 'islay': 1, 'mainly': 2, 'centralized': 1, 'ngos': 1, 'founded': 1, 'london': 2, 'controversial': 1, 'years': 1, 'children': 1, 'aldingtontolstoy': 1, 'staff': 1, 'founder': 1, 'yugoslav': 1, 'concerned': 3, 'had': 1, 'ele': 1, 'to': 5, 'lord': 1, 'has': 4, 'thousands': 1, 'do': 1, 'aspects': 1, 'africa': 1, '6': 1, 'brigadier': 1, 'grew': 1, 'exdeputy': 1, 'communities': 1, 'now': 1, 'him': 1, 'themes': 1, 'and': 10, 'like': 1, 'called': 2, 'journalist': 1, 'works': 1, 'refugees': 1, 'apparentlyvirtuous': 1, 'view': 1, 'people': 1, 'back': 1, 'society': 1, 'cost': 1, 'are': 1, 'operation': 1, 'delivered': 1, 'both': 2, 'for': 3, 'defend': 1, 'conservative': 1, 'written': 1, 'tens': 1, 'lecture': 1, 'birds': 1, 'public': 1, 'behavior': 1, '1945': 2, 'dictators': 1, 'protection': 1, 'from': 2, 'fifteen': 1, 'by': 2, 'on': 3, 'about': 2, 'forum': 1, 'ministry': 1, 'where': 2, 'british': 1, 'foreign': 1, 'april': 1, 'place': 1, 'west': 1, 'organisation': 2, 'south': 1, 'seeing': 1, 'point': 1, 'royal': 1, 'norse': 1, 'scottish': 2, 'actually': 1, 'cossack': 1, 'isles': 2, 'ian': 1, 'described': 1, 'army': 1, 'illegal': 1, 'three': 1, '1989': 1, 'their': 1, 'too': 1, 'libel': 1, 'was': 2, 'defensemitchell': 1, 'lived': 1, 'north': 1, 'that': 2, 'moscow': 2, 'heritage': 1, 'took': 1, 'but': 1, 'broadcast': 1, 'environmental': 1, 'part': 1, 'lives': 1, 'realms': 1, 'with': 1, 'he': 6, 'hebridean': 2, 'places': 1, 'this': 1, 'up': 1, 'stalin': 1, 'books': 2, 'historical': 1, 'of': 19, 'voice': 1, 'mitchell': 3, 'russia': 1, 'imposts': 1, 'bureaucracymitchell': 1, 'is': 3, 'trial': 2, 'it': 1, 'an': 3, 'critic': 1, 'himself': 1, 'at': 2, 'in': 10, 'orders': 1, 'as': 4, 'compared': 1, 'author': 3, 'tito': 1, 'island': 1, 'scotland': 2, 'damage': 1, 'handed': 1, 'also': 1, 'book': 2, 'chairman': 1, 'which': 4, 'party': 1, 'illegally': 1, 'aldington': 1, 'voyage': 2, 'may': 1, 'who': 2, 'director': 1, 'most': 1, 'rural': 2, 'a': 9, 'natural': 1, 'nazismitchell': 1, 'reputation': 1, '2007': 1, 'perjured': 1, 'claims': 2, 'the': 25, 'operate': 1, 'assisted': 1, 'bodies': 1}, {'albion': 1, 'coach': 1, 'managed': 1, 'athletic': 1, 'over': 1, 'league': 1, 'month': 1, 'steve': 1, 'manager': 2, 'apprentice': 2, 'nephew': 1, 'still': 1, 'scoring': 1, '21': 1, 'threemonth': 1, 'wes': 1, 'to': 10, 'only': 1, 'rejoined': 2, 'soccer': 1, 'footballer': 1, 'into': 1, 'town': 4, 'his': 5, 'march': 1, 'returning': 1, 'hodges': 1, 'musker': 1, 'break': 1, 'torquay': 7, 'immediately': 1, 'minute': 1, 'liskeard': 1, 'february': 2, 'clevedon': 1, 'january': 1, 'debut': 1, 'joined': 1, 'serves': 1, 'mccall': 1, 'injury': 1, 'where': 1, 'side': 2, 'the': 10, 'plainmoor': 1, '2004on': 1, 'england': 2, 'villa': 1, 'september': 1, 'peripheral': 1, 'back': 1, 'born': 2, 'second': 1, 'extended': 1, 'sean': 1, 'tauntons': 1, 'noncontract': 1, 'substitute': 2, 'for': 3, 'while': 1, '7': 2, 'argyle': 1, 'terms': 1, 'august': 3, 'initially': 1, 'turned': 1, 'however': 1, 'merthyr': 1, 'duane': 1, 'represented': 1, 'november': 1, 'by': 3, 'russell': 1, 'resumed': 1, 'on': 9, 'great': 1, 'career': 2, 'of': 2, '30': 1, 'against': 1, 'trial': 1, 'american': 1, 'first': 1, '20072008': 1, 'saunders': 1, 'taunton': 2, 'win': 2, 'loan': 2, 'arsenal': 1, 'leon': 1, '1979is': 1, 'hapgood': 2, 'conference': 1, 'has': 1, 'from': 1, 'bideford': 3, 'initial': 1, 'coaching': 1, 'pilgrims': 1, 'schoolboyshapgood': 1, '6': 1, 'calgary': 1, 'brighton': 1, 'was': 6, 'hapgoodleon': 1, 'recovered': 1, 'amateur': 1, 'that': 1, 'club': 1, 'season': 3, 'offered': 1, 'but': 3, 'teamin': 1, 'teaming': 1, 'with': 5, 'former': 4, 'he': 13, '11': 1, '10': 1, 'october': 1, 'join': 2, '1997': 1, '1999': 2, '1998': 1, 'work': 1, 'yeovil': 1, 'up': 1, 'signed': 1, 'final': 1, 'plymouth': 2, 'parkhe': 1, 'uk': 1, 'following': 1, 'at': 4, 'and': 3, 'later': 1, 'played': 1, 'almost': 1, 'december': 1, 'is': 1, 'in': 14, 'moved': 4, 'an': 4, 'states': 1, 'player': 2, 'as': 6, 'contract': 3, 'allowed': 1, 'north': 1, 'eddie': 1, 'tydfil': 1, 'bidefordhe': 1, 'united': 3, 'berkhamsted': 1, 'began': 1, 'when': 1, 'foothills': 1, 'role': 1, 'kevin': 1, 'which': 1, 'academy': 1, 'hove': 1, 'injured': 1, 'play': 1, 'joyces': 1, 'onemonth': 1, 'may': 2, 'after': 2, 'june': 3, 'william': 1, 'fa': 1, 'coming': 1, 'vase': 1, 'expired': 1, '2008': 1, 'a': 6, 'released': 2, '38th': 1, 'failing': 1, '2002': 1, '2003': 1, '2000': 2, '2001': 2, '2007': 2, 'english': 1, 'professional': 1, 'subsequently': 2, 'starting': 1, 'playing': 1, 'left': 2}, {'giggles': 1, 'over': 1, 'actress': 1, 'produced': 1, 'dont': 2, 'tv': 1, 'character': 1, 'young': 1, 'to': 1, 'lets': 1, '2014': 2, 'costarring': 1, 'has': 1, '2011': 1, '2010': 3, '2013': 1, 'march': 1, 'hannah': 3, 'records': 1, 'game': 1, '1992': 1, 'one': 1, 'dreams': 1, 'cyberbully': 1, 'like': 1, 'lost': 1, 'cleaners': 1, 'dreamosments': 1, 'debut': 1, 'lilly': 1, 'l': 1, 'morris': 1, 'she': 6, 'rock': 1, 'went': 1, 'emmy': 1, 'songwriter': 1, 'series': 3, 'crackle': 1, 'born': 2, 'second': 1, 'recently': 3, 'alternativeindie': 1, 'album': 2, 'abc': 2, 'lead': 1, 'diamondosment': 1, 'movie': 5, 'nightmare': 1, 'currently': 1, 'recorded': 1, 'stines': 1, 'melissa': 1, 'emily': 1, 'disney': 2, '3d': 1, 'be': 1, 'after': 1, 'truscott': 1, 'june': 1, 'california': 1, 'costar': 2, 'starred': 2, 'gained': 1, 'on': 3, 'hits': 1, 'kids': 2, 'her': 3, 'where': 1, 'sitcom': 1, 'angeles': 1, 'american': 1, 'awardnominated': 1, 'childhood': 1, 'via': 1, 'features': 1, 'family': 2, 'into': 1, 'pop': 2, 'mitchel': 1, 'osment': 1, 'or': 1, 'service': 1, 'fight': 1, 'los': 1, '2': 1, 'music': 1, 'gerti': 1, 'stars': 1, 'films': 1, 'lovesick': 1, 'was': 4, 'more': 1, 'teen': 1, 'flight': 1, 'about': 2, 'volume': 1, 'repertoire': 1, 'jordan': 1, '8': 1, 'working': 1, '10': 1, 'television': 2, 'october': 2, 'hour': 1, 'windup': 1, '19': 1, 'expanded': 1, 'single': 2, 'r': 1, 'of': 1, 'didnt': 1, 'musso': 1, 'and': 8, 'spy': 2, 'is': 1, 'alongside': 1, 'it': 3, 'an': 1, 'as': 7, 'have': 1, 'in': 8, 'lifetime': 1, 'fame': 1, 'cassie': 1, 'if': 1, 'dadnapped': 1, 'also': 1, '5': 1, 'which': 1, 'online': 1, 'you': 1, 'several': 1, 'channel': 2, 'entitled': 1, 'island': 1, 'upon': 1, 'most': 2, 'montana': 3, 'haunting': 1, 'friends': 1, 'a': 2, 'singer': 1, 'off': 1, 'for': 2, 'released': 3, 'i': 2, 'well': 1, 'hungry': 1, 'think': 2, 'daughters': 1, 'gabi': 1, 'the': 13, 'original': 2, 'once': 1}, {'all': 1, 'selection': 2, 'shot': 3, 'fifthhighest': 1, 'switched': 1, 'being': 1, 'when': 1, 'accurate': 1, 'years': 1, 'four': 1, 'ended': 1, 'aggressive': 1, 'still': 1, 'gasping': 1, 'roanoke': 1, '25': 1, 'style': 1, '696': 1, '21': 1, 'earned': 1, 'admission': 1, 'writer': 1, 'fans': 1, 'to': 4, 'dickinson': 1, 'worth': 1, '201112': 1, 'division': 2, 'his': 7, 'big': 1, 'schoola': 1, 'virginia': 2, 'game': 1, 'made': 2, 'despite': 1, 'world': 1, 'bit': 1, 'him': 2, 'school': 1, 'crisp': 1, 'prolific': 1, 'university': 1, 'lexington': 1, '2310': 1, 'team': 2, 'alltime': 1, 'brill': 1, 'wrote': 1, 'right': 1, 'back': 1, 'l': 1, 'jump': 2, 'located': 1, 'second': 1, 'wlbill': 1, 'are': 1, 'year': 2, 'explosive': 1, 'lee': 1, 'for': 4, 'jumped': 1, '195455': 1, 'per': 1, 'behind': 1, 'score': 1, 'new': 1, 'shooters': 1, 'foundation': 1, 'led': 1, 'ability': 1, 'defenses': 1, 'southern': 1, 'wl': 2, 'free': 2, '109': 1, 'baseball': 1, 'razzledazzle': 1, '1935': 1, 'become': 1, 'news': 1, 'by': 2, 'on': 1, 'dribbled': 1, 'generals': 1, 'standout': 1, 'career': 3, 'of': 9, 'ncaa': 2, 'times': 1, 'american': 1, 'games': 1, 'throws': 1, 'jersey': 2, 'first': 2, 'named': 1, 'point': 1, 'into': 1, 'washington': 1, 'one': 2, 'guard': 1, 'total': 1, 'conference': 2, 'city': 1, 'helms': 1, 'basketball': 2, 'from': 1, 'top': 1, 'sports': 1, '730': 1, 'was': 6, 'flora': 6, 'season': 1, 'about': 1, 'finished': 1, 'opposing': 1, 'allsouthern': 1, '696for954': 1, 'with': 3, 'former': 1, 'he': 5, 'high': 2, 'throw': 1, '12': 1, 'born': 1, 'double': 1, 'straight': 1, 'air': 1, 'ballhandling': 1, 'while': 1, 'college': 1, 'history': 3, 'and': 7, 'played': 4, 'is': 1, 'it': 1, 'an': 2, 'helped': 1, 'player': 2, 'as': 2, 'at': 3, 'in': 7, 'native': 1, 'allamerica': 1, 'floraflora': 1, 'six': 1, 'able': 1, 'also': 2, 'which': 2, 'conclusion': 1, 'play': 1, 'ball': 1, 'floras': 1, 'price': 1, 'tripleteamed': 1, 'hand': 2, 'william': 1, 'most': 1, 'dominick': 1, 'scorer': 1, '195758': 2, 'the': 17, 'a': 6, 'whose': 1, 'dom': 2, 'i': 2, 'average': 1, 'june': 1, 'points': 2, 'time': 1, 'senior': 1, 'once': 1, 'left': 2}, {'operations': 1, 'serving': 1, 'mexican': 1, 'polytechnic': 1, 'lester': 1, 'emeritus': 1, 'postdoctoral': 1, 'captain': 1, 'probability': 1, 'sciences': 1, '1943': 1, '28': 1, 'aviv': 1, 'to': 1, 'under': 1, 'natonsf': 1, 'rica': 1, 'division': 1, 'his': 4, 'returned': 1, 'mathematics': 3, 'school': 2, 'scholar': 2, 'mathematician': 1, 'university': 11, 'hawaii': 1, 'academy': 2, 'secretary': 1, 'mathematical': 2, 'tel': 1, 'fair': 1, 'born': 1, 'computer': 1, 'for': 4, 'currently': 1, 'fulbright': 2, 'obispo': 1, 'research': 4, 'state': 1, 'hill': 1, 'new': 2, 'dubins': 1, 'theory': 1, 'free': 1, 'ranger': 1, 'appointments': 1, 'california': 2, 'york': 1, 'advisor': 1, 'luis': 1, 'phd': 1, 'on': 2, 'career': 1, 'residence': 1, 'study': 1, 'studied': 1, 'american': 1, 'military': 1, 'surviving': 1, 'point': 1, 'berkeley': 1, 'washington': 1, 'amsterdam': 1, 'army': 2, 'west': 1, '25th': 1, 'is': 2, 'cimat': 1, 'benfords': 1, 'gttingen': 3, 'gauss': 1, 'particular': 1, 'divisionborn': 1, 'an': 2, 'with': 1, 'he': 3, 'georgia': 2, 'ma': 1, 'stanford': 1, 'work': 2, 'engineering': 1, 'us': 1, 'theories': 1, 'institute': 2, 'ms': 1, 'of': 18, 'stopping': 1, 'distinguished': 1, 'engineers': 1, 'and': 8, 'san': 1, 'mexico': 1, 'december': 1, 'preston': 1, 'infantry': 1, 'fellow': 1, 'states': 1, 'as': 4, 'at': 10, 'in': 9, 'technology': 2, 'united': 1, '1966': 1, 'graduate': 1, 'adjunct': 1, 'universityhe': 1, 'electrical': 1, 'leiden': 1, 'optimal': 1, 'known': 1, 'temporary': 1, 'combat': 1, 'centre': 1, 'theodore': 1, 'after': 1, 'problems': 1, 'flatbush': 1, 'most': 1, 'law': 1, 'class': 1, 'a': 1, 'costa': 1, 'professor': 5, 'spent': 1, 'vietnam': 1, 'the': 17}, {'unified': 1, 'neopagan': 1, 'being': 1, 'known': 1, 'antisemitism': 1, 'its': 1, 'police': 1, 'personal': 1, 'workers': 1, 'lithuania': 2, 'zionism': 1, 'to': 9, 'citizen': 1, 'refusedin': 1, 'volunteer': 1, '2011': 1, 'pending': 1, '2012': 1, 'eventually': 1, 'his': 4, 'seized': 1, 'municipal': 1, 'moribund': 1, 'government': 1, 'nation': 1, '12': 1, 'they': 1, 'not': 1, 'using': 1, 'gyvenimo': 1, 'him': 1, 'paramilitary': 1, 'name': 1, 'did': 1, 'married': 1, 'leave': 1, 'these': 1, 'rituals': 1, 'forces': 1, 'iauliai': 2, 'population': 1, 'gervaldas': 3, 'jews': 1, 'national': 5, 'hard': 1, 'up': 1, 'born': 1, 'computer': 1, 'preaching': 1, 'year': 1, 'gervaldass': 1, 'out': 1, 'defence': 1, 'for': 4, 'partija': 1, 'legal': 1, 'globalism': 1, '3': 1, 'investigation': 1, 'poles': 1, 'demanded': 1, 'new': 2, 'conditions': 1, 'leader': 1, 'movement': 1, 'be': 2, 'lithuanian': 6, 'led': 1, 'members': 1, 'november': 1, 'by': 1, 'change': 1, 'on': 2, 'antisemitic': 2, 'prosecutors': 1, 'carried': 1, 'of': 13, 'computers': 1, 'against': 1, 'minorities': 2, 'april': 2, 'conducted': 1, 'logic': 1, 'hatred': 1, 'alliance': 2, 'reasons': 1, 'win': 1, 'municipality': 1, 'one': 1, 'registration': 1, 'establish': 1, 'city': 2, 'from': 1, 'would': 2, 'basis': 1, 'political': 1, 'revive': 1, 'next': 1, 'their': 1, 'passed': 1, 'logikos': 1, 'was': 2, 'until': 1, 'life': 1, 'creation': 1, 'attacked': 1, 'attempted': 1, 'russian': 1, 'radical': 1, 'former': 2, 'he': 3, 'colleagues': 1, 'made': 1, 'politician': 1, '16': 1, '19': 1, '1998': 1, 'socialist': 2, 'statementsin': 1, 'elections': 1, 'aims': 1, 'marriage': 1, 'publications': 1, 'voice': 1, 'called': 1, 'and': 6, 'nationalist': 1, 'december': 1, 'is': 2, 'an': 1, 'at': 1, 'council': 2, 'in': 3, 'encompass': 1, 'unbearable': 1, 'compared': 1, 'court': 1, 'russians': 1, 'zlata': 1, 'that': 2, 'when': 1, 'member': 3, 'unity': 1, 'other': 1, 'rapova': 1, 'which': 1, 'party': 6, 'nationalistsocialist': 1, 'plans': 1, 'time': 1, 'prosecution': 1, 'drives': 1, 'sponsored': 1, 'lithuanias': 1, 'neonazi': 1, 'a': 4, 'murza': 3, '1973': 1, '2001': 1, 'so': 2, 'allow': 1, '2005': 2, 'mindaugas': 5, 'organization': 1, 'the': 11, 'democratic': 1, 'gervaldason': 1}, {'leagues': 1, 'all': 1, 'tomlin': 1, 'cincinnati': 1, 'september': 2, 'years': 1, 'four': 1, 'held': 1, 'scott': 1, 'graduate': 1, '1': 1, 'expos': 6, 'with': 4, 'denver': 2, 'bases': 1, 'then': 2, 'batted': 3, 'his': 8, 'hit': 3, 'big': 1, '672': 1, 'early': 1, 'game': 3, '1951': 1, 'international': 1, 'during': 3, 'hall': 2, 'association': 1, 'catcher': 3, 'appearing': 1, 'pounds': 1, 'pinch': 1, 'university': 1, 'braves': 1, 'doubled': 1, 'affiliate': 1, 'january': 1, '296': 1, 'scored': 1, 'pirates': 1, 'gamesin': 1, '195': 1, 'righthanded': 1, '190': 1, 'born': 1, 'second': 3, 'kgreece': 1, 'blues': 1, '86': 1, 'out': 1, 'rarely': 1, 'stood': 1, 'for': 5, 'robert': 1, 'nondrafted': 1, 'farm': 1, '7': 1, 'between': 2, 'got': 1, 'run': 2, 'free': 1, 'baseball': 1, 'no': 1, 'triplea': 1, 'beginning': 1, 'by': 3, 'on': 3, 'hits': 1, 'career': 1, 'of': 16, 'days': 1, 'contract': 1, 'times': 1, 'trial': 1, 'american': 2, 'mlb': 4, 'niekro': 1, 'or': 1, 'montreal': 4, 'first': 2, 'reds': 1, 'major': 2, 'striking': 1, 'into': 1, 'two': 4, 'feet': 1, 'seasons': 1, 'bats': 1, 'another': 1, 'gary': 1, 'reached': 1, 'total': 1, 'appearancereece': 1, 'carter': 1, 'would': 1, '1981': 1, 'bears': 1, 'top': 1, 'system': 2, '185': 1, 'collected': 2, 'was': 4, 'final': 2, 'minor': 2, 'threw': 1, 'league': 5, 'started': 2, 'season': 3, '6': 1, 'pitcher': 1, 'dave': 1, 'ended': 1, 'riverfront': 1, 'don': 1, 'atlanta': 1, 'level': 1, 'memphis': 1, 'former': 1, 'those': 1, 'he': 9, '11': 1, 'balls': 1, '16': 1, 'signed': 2, 'future': 2, 'nine': 2, 'three': 1, 'following': 1, 'famer': 2, 'at': 4, 'and': 9, 'seven': 1, 'phil': 1, 'played': 3, '1973': 1, 'is': 1, 'agent': 1, 'an': 1, 'weighed': 1, 'player': 2, 'as': 3, 'stanford': 1, 'against': 1, 'in': 13, 'robinson': 1, 'stadiumhe': 1, 'bigleague': 1, 'reece': 5, 'april': 1, '47': 1, 'rout': 1, 'six': 1, 'when': 1, 'atbats': 1, 'stint': 1, 'member': 2, 'pittsburgh': 1, 'parts': 1, '5': 1, 'which': 1, 'inch': 1, 'games': 5, 'development': 1, 'may': 1, 'after': 1, 'june': 1, 'regular': 1, 'professional': 1, 'end': 1, 'singled': 1, 'a': 10, 'bearsin': 1, 'off': 2, 'third': 1, '1978': 2, '1975': 1, 'later': 1, 'm': 1, 'spent': 1, 'spend': 1, 'lateseason': 1, 'doubleheader': 1, 'relief': 1, 'tall': 1, 'the': 25, 'careerhigh': 1, 'playing': 1, 'hitless': 1}, {'anglican': 1, 'writings': 1, 'contemporary': 1, 'nottingham': 1, 'including': 1, 'before': 1, 'death': 4, 'graves': 1, 'title': 1, '1947': 1, 'to': 1, 'degrees': 1, 'projects': 1, 'cowrote': 1, 'born': 1, 'wales': 1, 'has': 3, 'mortality': 1, 'then': 1, 'his': 3, 'federation': 1, 'read': 1, 'leadershipborn': 1, 'christianityprofessor': 1, 'symbolism': 1, 'one': 1, 'association': 1, 'articles': 1, 'masters': 1, 'prize': 1, 'innerspeech': 1, 'university': 6, '20002003': 1, 'large': 1, 'rituals': 1, 'common': 1, 'james': 1, 'popular': 1, 'old': 1, 'achieved': 1, 'doing': 1, 'globe': 1, 'authority': 1, 'society': 2, 'taught': 1, 'college': 2, 'belief': 3, 'sociology': 1, 'for': 1, 'uppsala': 1, 'brief': 1, 'douglas': 1, 'research': 1, 'current': 1, 'religion': 5, 'sociological': 2, 'won': 1, 'attitudes': 1, 'international': 1, 'yearhis': 1, 'various': 1, 'recently': 1, 'editorial': 2, 'degree': 1, 'anthropology': 2, 'bachelor': 1, 'group': 1, 'teaches': 2, 'both': 2, 'boards': 1, 'oxford': 1, 'of': 20, 'study': 3, 'ritual': 3, 'british': 3, 'published': 1, 'theologyhe': 1, 'letters': 1, 'fields': 1, 'johns': 1, 'number': 1, 'two': 1, 'durham': 4, 'undergraduate': 1, 'purityhe': 1, 'conference': 2, 'arts': 1, 'from': 1, 'guest': 1, 'three': 1, 'been': 2, 'awarded': 1, 'master': 1, 'was': 1, 'board': 1, 'interests': 1, 'alastair': 1, 'funerary': 1, 'honorary': 1, 'booksellerdiagram': 1, 'with': 2, 'those': 1, 'he': 7, 'include': 2, '1995': 1, 'room': 1, 'surrounding': 1, 'scandinavian': 1, 'chads': 1, 'sweden': 1, 'clergy': 1, 'involved': 1, 'report': 1, 'doctorate': 1, 'beliefs': 1, 'reusing': 1, 'history': 2, 'and': 20, 'conferences': 1, 'cover': 1, 'is': 3, 'in': 7, 'an': 2, 'expertise': 1, 'at': 5, 'prayer': 1, 'st': 2, 'around': 1, 'cremation': 3, 'shaw': 1, 'doctor': 1, 'studying': 1, 'member': 1, 'also': 4, 'book': 1, 'speaker': 1, 'chairman': 1, 'which': 1, 'department': 1, 'davies': 2, 'rites': 1, 'phd': 1, '19402000': 1, 'mormonism': 1, 'on': 3, 'the': 18, 'identity': 1, 'a': 5, 'oddest': 1, 'professor': 1, 'modules': 1, 'barcelona': 1, 'theology': 4, 'encyclopedia': 1, '2004': 1, 'senior': 1, '2003within': 1}, {'gdr': 2, 'german': 3, 'asteroids': 3, 'resistance': 1, 'merit': 1, 'discovered': 2, 'sources': 1, 'fighters': 1, 'human': 1, 'retired': 1, 'religious': 1, 'had': 1, 'enough': 1, 'to': 5, 'include': 2, '3859': 1, 'lowell': 1, 'his': 5, 'geographical': 1, 'continues': 1, 'ahnert': 1, 'choice': 1, 'famous': 1, 'cultural': 1, 'october': 1, 'not': 1, 'during': 1, 'him': 1, 'bande': 1, 'thuringia': 1, 'name': 1, 'systematically': 1, '3245': 1, 'byproduct': 1, 'small': 1, 'references': 1, 'telescope': 1, 'achieved': 1, '3941': 1, 'related': 1, 'born': 1, 'astronomer': 1, 'examples': 1, 'year': 1, 'ribbon': 1, 'scientific': 2, 'namings': 1, 'for': 4, 'federal': 1, 'restricted': 1, 'research': 2, 'wellsubstantiated': 1, 'honoured': 2, 'scientists': 1, 'international': 1, 'numerous': 1, 'haydn': 1, 'be': 1, 'chose': 1, 'arizonain': 1, 'asteroid': 1, 'galaxies': 1, '1930': 1, 'spare': 1, 'khler': 1, 'tautenburg': 2, 'by': 3, 'on': 2, 'great': 1, 'of': 5, 'studied': 1, 'against': 1, 'times': 1, '519': 1, 'objects': 1, 'jensch': 1, 'or': 3, 'first': 1, 'schmidt': 1, 'managers': 1, 'community': 1, 'done': 1, 'names': 3, 'president': 1, 'has': 3, 'freimuthhe': 1, 'awarded': 1, 'few': 1, 'anderson': 1, 'horst': 1, 'iau': 1, 'was': 3, 'topics': 1, 'himself': 1, 'amateur': 1, 'schwarzschild': 1, '2424': 1, 'search': 1, 'but': 1, 'interestfreimut': 1, 'neutral': 1, 'july': 1, 'reunification': 1, 'with': 2, 'he': 4, 'observatory': 3, '1995': 1, '17': 1, 'brngen': 4, 'work': 2, 'historical': 1, 'politically': 1, 'and': 4, 'give': 1, 'is': 1, 'am': 1, 'prestigious': 1, 'as': 6, 'at': 3, 'in': 4, 'station': 1, 'nazi': 1, 'karl': 1, 'regime': 1, 'cross': 1, 'astronomers': 1, 'also': 1, 'other': 1, '3181': 1, 'which': 1, 'bundesverdienstkreuz': 1, 'document': 1, 'composers': 1, 'wrongly': 1, 'bowell': 1, 'after': 1, 'germany': 1, 'suppression': 1, 'such': 1, 'mesa': 1, 'a': 5, 'e': 1, 'freelancer': 1, 'considered': 1, 'freimut': 1, 'reputation': 1, '2006': 2, 'qualities': 1, 'time': 1, 'the': 16}, {'brahms': 1, 'german': 1, 'berkeleyfrom': 1, 'rector': 1, 'paul': 2, 'conservatoire': 1, 'music': 7, 'basel': 4, '1944': 1, 'to': 7, 'board': 2, '8': 1, 'piano': 1, 'include': 1, 'heidelberg': 1, 'gave': 1, 'then': 1, 'cagehe': 1, 'curtis': 1, 'gdanskbrm': 1, '10': 1, 'binningenbasel': 1, 'school': 2, 'famous': 1, 'regio': 1, 'du': 1, 'association': 1, 'conservatory': 1, 'sortisatio': 1, 'university': 3, 'argentinahe': 1, 'choir': 1, 'chamber': 2, '2000': 1, 'schatt': 1, 'musique': 1, 'works': 1, 'luci': 1, 'groupe': 1, 'czech': 1, 'national': 1, 'pierre': 1, 'competition': 1, 'born': 1, 'college': 1, 'webern': 1, 'fribourg': 1, 'musicales': 1, 'composers': 1, 'for': 1, 'anton': 1, 'requiem': 1, 'research': 1, 'classes': 1, 'international': 1, 'lacroix': 1, 'angelus': 1, 'jury': 1, 'philharmonic': 1, 'klee': 2, 'jeunesses': 1, 'arts': 1, 'litteri': 1, 'california': 1, 'graduated': 1, '100': 1, 'rptiteur': 1, 'by': 1, 'on': 2, 'conducting': 1, 'institute': 1, 'of': 21, 'studied': 1, 'april': 1, 'hokuto': 1, 'thring': 1, 'boulez': 1, 'honor': 1, 'composed': 1, 'among': 1, 'zentralschweiz': 1, 'cd': 1, 'suissebrm': 1, 'silesius': 1, 'brm': 1, 'composer': 2, 'such': 1, 'cs': 1, 'lucerne': 2, 'variously': 1, '1987': 3, '1984': 1, 'from': 6, 'guest': 2, 'festival': 3, 'composition': 2, 'compositions': 1, 'johannes': 1, 'cantata': 1, 'master': 2, 'slovakia': 1, 'john': 1, 'was': 6, 'more': 1, 'concours': 1, 'musicology': 1, 'conductor': 3, 'academy': 2, 'city': 1, 'worked': 2, 'with': 1, 'than': 1, 'painter': 1, 'he': 10, '1990': 1, '1999': 2, 'science': 1, 'des': 1, 'un': 1, 'ombre': 1, 'called': 1, 'and': 15, 'is': 4, 'head': 1, 'pieces': 1, 'high': 1, 'as': 3, 'his': 1, 'at': 3, 'council': 1, 'in': 6, 'founding': 1, 'influenced': 1, 'holds': 1, 'foundationfrom': 1, 'member': 4, 'republic': 1, 'sacred': 1, 'conductorbrm': 1, 'ensemble': 1, 'junge': 1, 'de': 3, 'aspen': 1, 'director': 1, 'most': 1, 'regular': 1, 'president': 1, 'philharmonie': 1, 'a': 11, 'europenne': 1, 'e': 1, 'pardubice': 1, '1973': 1, 'chief': 1, '2001': 1, '2006': 2, 'swiss': 3, 'the': 26}, {'son': 2, 'aharon': 2, 'corps': 1, 'inducted': 1, 'settlements': 1, 'years': 3, 'quotes': 1, 'london': 1, 'same': 1, 'nadav': 1, 'only': 1, '25': 1, 'le': 1, 'rosh': 1, '22': 1, 'freediving': 2, 'raffray': 1, '1941': 1, 'had': 2, 'young': 1, 'micronesia': 1, 'him': 1, 'to': 3, 'finally': 1, 'edward': 1, 'east': 1, '2010': 1, '1958': 1, 'kingdom': 1, 'then': 2, 'his': 10, 'returned': 1, 'cuba': 1, 'sussex': 1, 'early': 1, '1957': 1, 'sons': 1, 'they': 1, 'traveled': 1, 'harrow': 1, 'association': 1, 'chapel': 1, 'institut': 1, 'school': 2, 'name': 1, 'who': 1, 'married': 3, 'joined': 1, '1946': 1, 'officer': 1, 'team': 2, 'served': 1, 'spent': 1, 'where': 2, 'husband': 1, 'england': 2, 'trained': 1, 'disciplines': 1, 'intelligence': 1, 'fathers': 1, 'aida': 1, 'aldrich': 1, 'born': 1, 'second': 1, 'freedivingsolomons': 1, 'are': 2, 'greece': 2, 'greatwood': 1, 'best': 1, 'israeli': 2, 'jackson': 1, 'for': 3, 'mt': 2, 'currently': 1, 'trainers': 1, 'foundation': 1, 'attended': 1, 'wallis': 1, 'joy': 1, 'were': 1, 'corisande': 1, 'met': 1, '27': 1, 'taught': 1, 'members': 1, 'barracks': 1, 'brokerage': 1, 'teach': 1, 'kirk': 1, 'b': 3, 'mariateresa': 1, 'both': 1, 'limits': 1, '1932': 1, 'many': 1, 'changed': 1, 'shipping': 1, 'scuba': 1, 'ideology': 1, 'april': 1, 'ferreras': 1, 'action': 1, 'wellington': 1, 'settled': 1, 'childhood': 1, 'egypt': 1, 'father': 3, 'into': 1, 'two': 1, 'regiment': 1, 'national': 1, 'huntemuller': 1, '1939': 1, 'weight': 1, 'from': 1, 'ten': 1, 'system': 1, 'heights': 1, 'baptised': 1, 'switzerlandin': 1, 'spence': 1, 'house': 1, 'aharons': 2, 'was': 5, 'sinai': 1, 'separated': 1, 'a': 4, 'israel': 2, 'lived': 1, 'an': 1, 'pinna': 1, 'india': 1, 'but': 1, 'train': 1, 'westbourne': 1, 'child': 3, 'known': 1, 'hc': 1, 'instructor': 1, 'with': 3, 'former': 2, 'he': 8, '1992': 1, '1997': 1, '1998': 1, 'work': 1, 'mexicomarcus': 1, 'mary': 2, 'guards': 2, 'record': 1, 'defense': 1, 'viii': 1, 'uk': 3, 'henry': 2, 'ernest': 4, 'freedivers': 1, 'september': 2, 'zeev': 1, 'and': 25, 'firm': 1, 'pipin': 1, 'constant': 1, 'mexico': 1, 'caicos': 1, 'of': 9, 'is': 2, 'year': 1, 'moved': 1, '196768': 1, 'middle': 1, 'as': 4, 'at': 1, 'in': 27, 'partner': 1, 'saw': 1, 'communal': 1, 'united': 1, 'us': 1, 'no': 1, '1964': 1, '1960': 1, 'ne': 1, '1962': 1, '1965the': 1, 'another': 1, 'forces': 1, 'rosey': 1, 'holderborn': 1, 'golan': 1, 'francisco': 1, 'agricultural': 1, 'mother': 1, 'student': 1, 'on': 3, 'friends': 1, 'the': 22, 'died': 2, 'freediver': 1, 'eilat': 1, 'solomons': 10, 'turks': 1, 'third': 1, 'wife': 2, 'pennsylvania': 1, '1975': 1, 'later': 1, '1973': 1, 'uri': 1, 'together': 1, 'ibiza': 1, '2001': 1, 'time': 1, 'commissioned': 1, '2008': 1, 'coldstream': 1, 'simpson': 6}, {'administration': 1, 'over': 1, 'torah': 1, 'four': 1, 'committee': 1, 'yael': 1, 'endowment': 1, 'medrash': 1, 'hills': 2, 'internationally': 1, 'earned': 1, 'dick': 1, 'cheney': 1, 'young': 1, 'to': 1, 'bush': 1, 'school': 2, 'stephen': 1, 'has': 4, 'mayors': 1, 'ordained': 1, 'then': 1, 'his': 2, 'increased': 3, 'lakewood': 1, 'michigan': 1, 'term': 1, 'govoha': 1, 'congregation': 2, 'arnold': 1, 'closely': 1, 'jacob': 2, 'township': 1, 'masters': 1, 'scholar': 1, 'h': 2, 'university': 2, 'across': 1, 'beverly': 2, 'served': 1, 'webb': 1, 'leaders': 1, 'steven': 1, 'invocations': 1, 'wife': 1, 'substantially': 1, 'businessweil': 1, 'delivered': 1, 'for': 2, 'visiting': 1, 'currently': 1, 'new': 5, 'public': 1, 'theological': 1, 'attended': 1, 'business': 1, 'weil': 2, 'california': 1, 'york': 3, 'vice': 1, 'by': 1, 'both': 1, 'congregations': 2, 'resides': 1, 'residence': 1, 'programming': 1, 'american': 2, 'became': 1, 'w': 1, 'jersey': 1, 'strongly': 1, 'jimmy': 1, 'synagogues': 1, 'fundraiser': 1, 'stern': 1, '250': 1, 'george': 1, 'from': 1, 'isaac': 1, 'girls': 1, 'three': 1, 'their': 1, 'yeshivat': 1, 'was': 2, 'israel': 4, '750': 1, 'families': 2, 'on': 1, 'jewish': 1, 'park': 1, 'fund': 1, 'kerem': 1, 'teaneck': 1, 'worked': 2, 'with': 3, 'he': 7, 'grew': 1, 'advocating': 1, 'expanded': 1, 'up': 1, 'governor': 1, 'while': 1, 'of': 5, 'byavneh': 1, 'seminary': 1, 'country': 1, 'and': 12, 'yeshiva': 1, 'is': 1, 'cattle': 1, 'an': 1, 'high': 1, 'as': 2, 'at': 2, 'in': 10, 'education': 1, 'ohr': 1, 'schwarzenegger': 1, 'affairs': 1, 'jerseyin': 1, 'rabbi': 4, 'oak': 1, 'successful': 1, 'elchanan': 1, 'delshad': 1, 'farm': 1, 'who': 1, 'southern': 1, 'californiaweil': 1, 'most': 1, 'membership': 2, 'president': 2, 'beth': 3, 'upstate': 1, 'a': 2, 'boys': 1, 'considered': 1, 'the': 7}, {'all': 2, 'currently': 1, 'office': 1, 'executive': 1, 'serving': 1, 'including': 1, 'committee': 2, 'dakota': 4, 'emineth': 1, '24': 1, 'retirement': 1, 'candidate': 1, 'chosen': 1, 'thingit': 1, 'to': 3, 'finally': 1, 'candidates': 1, 'board': 1, '2010': 1, 'partys': 1, 'his': 1, 'increased': 1, 'foremost': 1, 'every': 1, 'know': 1, 'not': 1, 'during': 1, 'republican': 5, '1958': 1, '2007s': 1, 'victory': 1, 'become': 1, 'wrote': 1, 'significantly': 1, 'be': 1, 'senate': 1, 'house': 1, 'national': 1, 'born': 1, 'election': 2, 'led': 1, 'for': 1, 'since': 1, 'state': 3, 'won': 1, 'fargo': 1, 'learned': 1, 'ken': 1, 'terms': 1, 'houses': 1, 'job': 1, 'members': 1, 'come': 1, 'by': 3, 'legislature': 1, 'both': 2, 'about': 2, 'getting': 1, 'of': 6, 'motion': 1, 'place': 1, 'senator': 1, 'wheels': 1, 'first': 1, 'statewide': 1, 'into': 1, 'one': 1, 'gary': 1, '6925': 1, 'your': 1, 'figure': 1, 'would': 1, '3512': 1, 'distracted': 1, 'political': 1, 'their': 1, 'marginin': 1, 'karls': 1, 'meeting': 1, 'north': 4, 'beltway': 1, 'successful': 1, 'republicans': 2, 'train': 1, 'representative': 1, 'july': 2, 'with': 1, 'former': 1, 'he': 3, 'me': 1, 'october': 1, 'was': 2, 'inside': 1, 'single': 1, 'us': 3, 'margin': 1, 'and': 6, '2007in': 1, 'wasnt': 1, 'is': 2, 'it': 1, 'pieces': 1, 'heard': 1, 'as': 4, 'at': 1, 'in': 6, 'station': 1, 'finance': 2, 'siren': 1, 'that': 1, '1': 1, 'setting': 1, 'chairman': 5, 'party': 4, 'exactly': 1, 'description': 1, 'director': 2, 'letter': 1, 'rolling': 1, 'on': 2, 'a': 6, 'majorities': 1, 'lead': 1, 'i': 1, 'so': 1, 'time': 1, 'the': 17, 'songs': 1}, {'since': 1, 'kosovo': 1, 'unrest': 1, 'including': 1, 'world': 1, 'soldiers': 1, 'australian': 1, 'july': 1, 'issues': 1, 'based': 1, 'francegrucza': 1, 'la': 1, 'paris': 1, 'had': 1, 'young': 1, 'to': 1, 'has': 1, 'veterans': 1, 'then': 1, 'australia': 3, 'enclave': 1, 'safe': 1, 'baghdad': 1, 'were': 1, 'during': 1, 'documented': 1, 'unique': 1, 'pbs': 1, 'covering': 1, 'refugees': 1, 'cynical': 1, 'pacific': 1, 'zones': 1, 'born': 1, 'individual': 1, 'entering': 1, 'year': 1, 'frontline': 2, 'afghanistan': 2, 'network': 1, 'banff': 1, 'section': 1, 'selected': 1, 'extensively': 1, 'won': 1, 'currently': 1, 'international': 1, 'briefinghe': 1, 'cameraman': 1, 'idealistic': 1, 'men': 1, 'french': 1, 'yuri': 1, 'news': 1, 'along': 1, 'iraq': 4, 'on': 2, 'working': 1, 'canadian': 1, 'career': 1, 'country': 1, 'leaving': 1, 'melbourne': 1, 'length': 2, 'aka': 1, 'entered': 1, 'documentary': 6, 'maker': 1, 'south': 1, 'first': 1, 'pakistan': 1, 'named': 1, 'own': 1, 'civil': 1, 'one': 1, 'such': 1, 'canal': 1, 'timothy': 1, 'platoon': 2, 'palestinian': 1, 'festival': 1, 'west': 1, 'awarded': 1, 'territories': 1, 'films': 1, 'white': 2, 'bitter': 1, 'war': 2, 'grucza': 4, 'festivalin': 1, 'israel': 1, 'north': 1, 'released': 1, 'craft': 1, 'known': 1, 'worked': 2, 'maldavsky': 1, 'with': 1, 'haven': 1, 'he': 6, 'television': 1, 'look': 1, '1999': 1, 'was': 2, 'work': 2, 'of': 3, 'and': 9, 'emmy': 1, 'kosovan': 1, 'outstanding': 1, 'is': 4, 'pieces': 1, 'escaped': 1, 'as': 4, 'his': 5, 'at': 2, 'in': 13, 'film': 5, 'papua': 1, 'granted': 1, 'when': 1, 'feature': 2, '1': 1, 'cinematography': 1, 'hot': 1, 'best': 2, 'docs': 1, 'conflict': 1, 'continues': 1, 'frontlinein': 1, 'who': 2, 'produce': 1, 'invasion': 1, 'the': 14, 'achievement': 1, 'began': 2, 'a': 6, 'kurdish': 1, 'correspondent': 1, 'for': 7, '1976': 1, 'sometimes': 1, '2002': 1, '2003': 1, '2006': 1, 'repatriated': 1, '2009': 1, 'spend': 1}, {'coach': 3, 'being': 1, 'scientologist': 1, 'executive': 1, 'years': 1, 'four': 1, 'facilities': 1, 'including': 2, 'during': 2, '15': 1, 'captain': 1, 'its': 1, 'happiness': 1, 'position': 1, 'religion': 1, 'had': 1, 'better': 1, 'to': 7, 'association': 2, 'attended': 1, 'under': 1, '2010': 1, 'his': 2, 'secular': 1, 'end': 1, 'utah': 1, 'camino': 1, 'spokespersons': 1, 'supervise': 1, 'not': 1, 'world': 1, 'traveled': 1, 'continued': 1, 'narconon': 1, 'founded': 1, 'school': 2, 'adams': 6, 'religions': 1, 'companies': 1, 'chuck': 1, 'teams': 1, 'scholastics': 1, 'fitness': 1, 'el': 1, 'served': 1, 'where': 2, 'the': 30, 'procareer': 1, 'national': 3, '1960s': 1, 'born': 1, 'officials': 1, 'college': 4, 'professional': 1, 'doug': 1, 'out': 1, 'living': 1, 'said': 1, 'for': 6, 'falcons': 1, 'bob': 1, 'reverend': 1, 'international': 2, 'public': 1, 'steelers': 2, 'newswriters': 1, 'drafted': 1, 'full': 1, 'august': 1, 'scovil': 1, 'free': 1, 'california': 3, 'members': 1, 'become': 1, 'represented': 1, 'by': 5, 'received': 1, 'high': 2, 'of': 20, 'professions': 1, 'scientology': 8, 'participating': 1, 'american': 1, 'became': 1, 'nonprofit': 1, 'stockton': 1, 'recruited': 1, '1946': 1, 'within': 3, 'football': 7, 'one': 1, 'church': 6, 'owning': 1, 'conference': 2, 'city': 1, 'basketball': 1, 'working': 1, 'there': 1, '1988': 1, 'sports': 1, 'listed': 1, 'way': 1, 'hollywood': 1, 'was': 6, 'league': 3, 'pittsburgh': 2, 'season': 1, 'serve': 1, 'took': 1, 'robert': 1, 'finished': 1, 'pacific': 1, 'worked': 1, 'an': 1, 'with': 2, 'former': 2, 'he': 11, 'applied': 1, 'organizations': 1, 'applying': 1, 'consultant': 1, 'official': 1, 'up': 1, 'signed': 1, 'while': 2, 'programs': 1, 'atlanta': 1, 'and': 11, 'seven': 1, 'san': 2, 'played': 2, 'december': 1, 'is': 1, 'criminon': 1, 'agent': 1, 'mateo': 2, 'helped': 1, 'teacherin': 1, 'australia': 1, 'held': 1, 'at': 5, 'in': 11, 'offense': 1, 'education': 1, 'as': 6, 'affairs': 1, '1968': 1, 'media': 1, '1966': 1, 'able': 1, 'member': 2, 'tight': 1, 'methodology': 1, 'other': 2, '2006': 2, 'encouraged': 1, 'play': 2, 'redwood': 1, 'schoolhe': 1, 'bruce': 1, 'after': 1, 'melbourne': 1, 'president': 4, 'subsequently': 1, 'single': 1, 'a': 15, 'noll': 1, 'center': 1, 'vice': 4, 'performance': 1, '1973': 1, 'trackandfield': 1, 'tech': 1, '2004': 1, 'organization': 2, 'senior': 1, '2009': 2, 'playing': 1, 'scholarship': 1}, {'years': 2, 'roy': 5, 'interim': 1, 'including': 1, 'mayor': 1, '26': 1, '27': 1, 'candidate': 1, 'la': 1, 'merger': 1, '29': 1, 'to': 3, 'permanent': 1, 'qubcois': 1, 'riding': 1, 'sylvie': 1, '2012': 3, 'partys': 1, 'his': 1, 'march': 1, 'easily': 1, 'regional': 1, 'bcancour': 1, 'politician': 1, 'du': 1, 'barreau': 1, 'february': 1, '59': 1, 'admitted': 1, 'she': 5, 'served': 1, 'universit': 1, 'reelected': 2, 'lotbinire': 1, 'mental': 1, 'house': 1, 'national': 2, 'elected': 1, 'second': 1, 'quebec': 2, 'lawyer': 1, 'year': 1, 'declined': 1, 'even': 1, 'tuque': 1, 'for': 4, 'electoral': 1, 'won': 1, 'health': 1, 'worked': 1, 'leader': 3, 'announced': 1, 'assembly': 2, 'degree': 1, 'initially': 1, 'mauricie': 1, 'gilles': 1, 'opposition': 1, 'represented': 1, 'dumont': 1, 'arthabaska': 1, 'on': 1, 'district': 1, 'of': 12, 'adq': 3, '37': 1, 'became': 1, 'first': 1, 'named': 1, 'her': 1, 'deputy': 1, 'previously': 1, 'into': 1, '22': 1, 'municipality': 1, 'county': 1, 'laval': 1, 'vote': 2, 'voteon': 1, 'avenir': 1, 'november': 1, '1987': 1, 'pq': 1, 'from': 3, 'taillon': 1, '2012she': 1, 'support': 1, '1988': 1, 'awarded': 1, 'was': 7, 'until': 3, '4': 1, 'that': 2, 'finished': 2, 'sharply': 1, 'jeanguy': 1, 'quebecroy': 1, 'with': 6, 'appointed': 1, 'organizations': 1, 'saintsophiedelvrard': 1, '12': 1, '15': 1, 'born': 1, '1998': 1, 'caq': 2, 'official': 1, 'coalition': 1, 'merged': 1, 'election': 4, 'and': 4, 'voteparti': 1, 'liberal': 1, 'is': 1, 'nowdefunct': 1, 'as': 2, 'in': 9, 'votein': 1, 'par': 1, '1964': 1, '44': 1, 'leaderin': 1, 'member': 2, 'also': 1, 'incumbent': 1, 'party': 2, 'resignation': 1, 'reelection': 1, 'canada': 1, 'though': 1, 'qubec': 2, 'mario': 1, 'law': 1, '2008': 1, 'a': 3, 'laurent': 1, 'third': 1, 'later': 1, 'boissonneault': 1, '2003': 3, '2007': 2, 'the': 24, '2009': 1}, {'gq': 1, 'rob': 1, 'random': 1, 'bright': 1, 'radio': 1, 'thanks': 1, 'crists': 1, 'weekly': 1, 'death': 1, 'how': 1, 'with': 1, 'childrensheffield': 1, 'folded': 1, 'young': 1, 'writing': 1, 'late': 1, 'to': 3, 'tape': 2, 'charlottesville': 1, '2010': 1, '2013': 1, 'his': 2, 'dj': 1, 'around': 1, 'song': 1, 'blender': 1, 'couple': 1, 'continues': 1, 'virginia': 1, 'quest': 1, '2': 1, 'crist': 1, 'loss': 1, 'february': 1, 'cooler': 1, 'january': 2, 'university': 1, 'married': 1, 'rituals': 1, 'journalist': 1, 'yale': 1, 'become': 1, 'starred': 1, 'where': 1, 'house': 1, 'excerpt': 1, 'library': 1, 'yorksheffields': 1, 'culture': 1, 'second': 2, 'attended': 1, 'for': 1, 'currently': 1, 'virginiahis': 1, 'contributing': 2, 'version': 1, 'print': 1, 'new': 2, 'wtju': 1, 'before': 1, 'issue': 1, 'publishers': 1, 'after': 1, 'august': 1, 'sheffield': 3, 'remarried': 1, 'met': 2, 'york': 1, 'by': 1, 'on': 1, 'about': 1, 'mans': 1, 'of': 8, 'turn': 1, 'american': 1, 'place': 1, 'spin': 1, 'discusses': 1, 'first': 1, 'love': 6, 'author': 1, 'had': 1, 'pop': 1, 'one': 2, 'featured': 1, 'journalmost': 1, 'city': 1, 'takes': 1, 'would': 1, 'girls': 1, 'their': 1, 'station': 1, 'music': 3, 'editor': 2, 'essays': 1, 'was': 3, 'life': 1, 'that': 1, 'stone': 1, 'it': 1, 'released': 3, 'lives': 1, 'july': 1, 'an': 2, 'true': 1, 'karaoke': 1, 'he': 3, '1997': 1, 'born': 1, 'reviews': 2, 'duran': 2, 'called': 2, 'and': 13, 'rene': 1, 'boston': 1, 'is': 6, 'received': 1, 'eyes': 1, 'fellow': 1, 'talking': 1, 'woman': 1, 'at': 5, 'in': 12, 'native': 1, 'mutual': 1, 'prior': 1, '1966': 1, 'magazine': 1, 'mix': 2, 'book': 3, 'which': 1, 'who': 1, 'brooklyn': 1, 'fell': 1, 'rolling': 1, 'ally': 1, 'a': 8, 'third': 1, 'wife': 2, 'no': 1, '2006': 1, '2007': 2, 'time': 1, 'the': 7, '2009': 1, 'haircutsheffields': 1}, {'gassolid': 1, 'particularly': 1, 'being': 1, '196971': 1, 'joannides': 1, 'japan': 2, 'coordination': 1, 'devoted': 1, 'based': 1, '1995his': 1, 'paris': 2, 'organisation': 2, 'royal': 1, 'chemistrys': 1, 'to': 5, 'preparationmichel': 1, '400': 1, 'born': 1, '2014': 1, 'has': 5, 'his': 3, 'junction': 1, 'federation': 1, 'very': 1, 'de': 1, 'famous': 1, 'solidstate': 1, 'cracow': 1, 'emergence': 1, 'now': 1, 'geo': 1, 'him': 1, 'association': 1, 'societies': 2, 'processes': 2, 'several': 2, 'prize': 1, 'h': 1, 'assemblies': 1, 'culminating': 1, 'specific': 1, 'p': 2, 'leopoldinain': 1, 'activity': 1, 'postdoctoral': 1, 'university': 3, 'bucharest': 1, 'work': 2, 'ches': 1, 'supramolecular': 1, 'eg': 1, 'creation': 1, 'pierre': 1, 'society': 2, 'molecular': 1, 'include': 1, 'lisbon': 1, 'et': 1, 'techniques': 1, 'universities': 1, 'provided': 1, 'sue': 1, 'colloidal': 1, 'for': 1, 'lectureship': 1, 'contributed': 1, 'research': 1, 'iacs': 1, 'highranking': 1, 'gaylussac': 1, 'dioxide': 1, 'causa': 1, 'international': 3, 'approach': 1, 'universitaire': 1, 'europaea': 1, 'led': 2, 'interfacial': 1, 'opening': 1, 'interfaces': 1, 'understanding': 1, 'pioneered': 1, 'awards': 1, 'naturforscher': 1, 'active': 1, 'epr': 1, 'improve': 1, 'isotopes': 1, 'on': 2, 'involved': 1, 'study': 1, 'transition': 1, 'biennial': 1, 'netherlands': 1, 'promotion': 2, 'studies': 1, 'romania': 1, 'humboldt': 1, 'sklodowskacurie': 1, 'congresses': 1, 'europacat': 1, 'elementary': 1, 'faraday': 1, 'france': 3, 'poland': 2, 'institut': 1, 'che': 1, 'been': 2, 'awarded': 1, 'taken': 1, 'probes': 1, 'was': 2, 'von': 1, 'vant': 1, 'liquidsolid': 1, 'lyon': 2, 'solidsolid': 1, 'catalyst': 1, 'an': 1, 'with': 3, 'appointed': 1, 'he': 5, 'presidentfounder': 1, '1993': 1, 'curie': 2, 'princeton': 1, 'science': 1, 'der': 1, 'j': 1, 'efcats': 1, 'publications': 1, 'of': 19, 'heterogeneous': 1, 'doctorate': 1, 'professor': 2, 'and': 12, 'studied': 1, 'portugal': 1, 'vi': 1, 'is': 1, 'fellow': 1, '13th': 1, 'titanium': 1, 'as': 2, 'at': 4, 'have': 1, 'in': 13, '200004': 1, 'laboratoryindustrial': 1, 'around': 1, '1968': 1, 'doctor': 1, 'member': 2, 'field': 1, 'which': 1, 'honoris': 1, 'catalysis': 7, 'electro': 1, 'completed': 1, 'european': 1, 'elements': 1, 'congress': 1, 'academies': 1, 'hoff': 1, '2004his': 1, 'akademie': 1, 'involving': 1, 'germany': 1, 'president': 1, 'marie': 1, 'journals': 1, 'the': 14, 'cycle': 1, 'a': 3, 'physical': 1, 'largely': 2, '1975': 1, 'm': 1, 'deutsche': 1, 'chemistries': 1, 'academia': 1, 'watermediated': 1, 'position': 1, 'senior': 1, 'chemistry': 1, 'original': 1, 'michel': 1}, {'interpretation': 1, 'including': 2, 'islam': 1, 'industries': 2, 'scholarshe': 1, 'literary': 1, 'neoliberal': 1, 'cultuur': 1, 'born': 1, 'has': 3, '2011': 1, '2010': 1, 'his': 1, 'founding': 2, 'doukkali': 1, 'arab': 1, 'cultural': 11, 'african': 1, 'ma': 1, 'association': 1, 'societies': 2, 'numerous': 1, 'university': 4, 'serves': 3, 'academic': 1, 'fields': 1, 'azemmour': 1, 'vision': 1, 'lateral': 3, 'series': 1, 'ofand': 1, 'mediterranean': 1, 'society': 1, 'books': 1, 'college': 2, 'sean': 1, 'lawyers': 1, 'special': 2, 'theory': 1, 'network': 1, 'for': 4, 'chicago': 2, 'currently': 1, 'legal': 1, 'mason': 2, 'critical': 3, 'sirah': 1, 'international': 1, 'issue': 2, 'edited': 2, 'who': 2, 'ba': 1, 'associate': 1, 'journal': 4, 'muslim': 1, 'awards': 1, 'andrews': 1, 'from': 3, 'on': 5, 'boards': 1, 'language': 1, 'of': 10, 'industry': 1, 'beta': 1, 'times': 1, 'jaafar': 1, 'american': 2, 'colloquium': 1, 'published': 1, 'history': 1, 'studies': 14, 'honor': 1, 'appeared': 1, 'en': 1, 'george': 2, 'forms': 1, 'america': 1, 'migratie': 1, 'editor': 1, 'cultures': 1, 'antar': 1, 'north': 1, 'eastern': 2, 'award': 2, 'includecultural': 1, 'delta': 1, 'an': 4, 'with': 1, 'he': 8, 'middle': 2, 'marquis': 1, 'culture': 1, 'consultant': 1, 'work': 1, 'as': 2, 'reviews': 1, 'morocco': 3, 'taught': 1, 'publications': 1, 'editorial': 1, '2014arab': 1, 'landscapes': 1, 'lateralhis': 1, 'and': 18, 'chouaib': 1, '1974': 1, 'interventions': 1, 'is': 5, 'received': 1, 'engaged': 1, 'al': 1, 'general': 1, 'states': 1, 'coordinator': 1, 'critic': 1, 'at': 3, 'in': 9, 'comparative': 1, 'politics': 2, 'united': 1, 'humanities': 1, 'media': 2, 'holds': 2, 'inaugural': 1, 'scholarly': 1, 'illinois': 1, 'member': 1, 'also': 4, 'other': 1, 'widely': 1, 'several': 1, 'akhawayn': 1, 'phi': 1, 'literature': 1, 'columbia': 2, 'modernities2009': 1, 'phd': 1, 'islamic': 2, 'membership': 1, 'president': 1, 'law': 1, 'journals': 2, 'a': 4, 'purchase': 1, 'communitybased': 1, 'johnson': 1, 'aksikas': 2, 'professor': 1, '2002his': 1, 'includeculture': 1, '2003': 1, 'volumes': 1, 'english': 1, 'the': 17, 'mediaculture': 1, 'scholarship': 1}, {'zen': 1, 'steve': 1, 'through': 1, 'maine': 1, 'outer': 1, 'zone': 1, 'waterville': 1, 'writer': 1, 'unity': 1, 'theme': 1, 'colby': 1, 'speaker': 2, 'circle': 2, 'has': 3, 'administrative': 1, '2010': 1, '2012': 1, 'his': 3, 'compassion': 1, 'online': 2, 'vegan': 3, 'amazon': 1, '1953': 1, 'international': 2, 'world': 2, 'societies': 1, 'carman': 1, 'masters': 1, 'progressive': 1, 'university': 2, 'debut': 1, 'cofounder': 1, 'where': 1, 'spiritual': 1, 'classical': 1, 'born': 1, 'korea': 1, 'college': 1, 'for': 1, 'since': 2, 'centers': 1, 'state': 1, 'new': 1, 'diethe': 1, 'who': 1, 'august': 1, 'degree': 2, '1995': 1, 'local': 1, 'california': 1, 'berkeley': 1, 'veganism': 1, 'guest': 1, 'obtained': 1, 'on': 1, 'about': 1, 'of': 9, 'vegetarian': 2, 'studied': 1, 'monk': 1, 'conference': 2, 'bestseller': 1, 'american': 1, 'context': 1, 'frequent': 1, 'first': 1, 'church': 1, 'throughout': 1, 'specializing': 1, 'from': 3, 'spoke': 1, '1980': 1, 'festival': 1, 'been': 1, 'music': 2, 'inner': 1, 'was': 1, 'north': 1, 'musician': 1, 'tuttle': 3, 'with': 2, 'former': 1, 'he': 6, '1990': 1, 'made': 1, 'animals': 1, 'rights': 2, 'science': 1, 'will': 1, 'judy': 1, 'bachelors': 1, 'performed': 1, 'and': 17, 'san': 2, 'conferences': 1, 'is': 4, 'prayer': 1, 'organized': 2, 'an': 3, 'at': 3, 'in': 9, 'education': 1, 'diego': 1, 'humanities': 1, 'peace': 3, '1': 1, 'emphasis': 1, 'other': 2, '1115': 1, 'harmony': 1, 'animal': 2, 'veganpalooza': 1, 'events': 1, 'worldwide': 1, 'literature': 1, 'philosophy': 1, 'june': 1, 'diet': 1, 'phd': 1, 'prussack': 1, 'lectured': 1, 'america': 1, 'francisco': 1, 'a': 4, 'calls': 1, '1975': 1, 'author': 1, 'm': 1, 'thought': 1, 'inspirational': 1, 'the': 12, 'audio': 1, '8th': 1}, {'currently': 1, 'letterman': 1, 'text': 1, 'actress': 1, 'press': 1, 'including': 1, 'chair': 1, 'concerned': 1, 'behind': 1, 'late': 1, 'to': 1, 'only': 1, 'explicitly': 1, 'edmund': 1, '2014': 2, 'has': 2, 'lacey': 1, 'songwriting': 1, 'his': 1, 'mainstream': 1, 'stokers': 1, 'song': 1, 'vanessa': 1, 'jazz': 1, 'television': 2, '1955': 1, 'b': 1, 'every': 1, 'depaul': 1, 'despite': 1, 'schools': 1, 'world': 1, 'dr': 1, 'school': 1, 'success': 2, 'artist': 2, 'die': 1, 'university': 5, '1990': 1, 'goofy': 1, 'she': 3, 'night': 2, 'glendale': 1, 'virginia': 1, 'development': 1, 'art': 1, 'achieved': 1, 'prizzis': 1, 'hard': 1, 'january': 1, 'born': 1, 'taught': 1, 'college': 2, 'musician': 1, 'best': 1, 'universities': 1, 'for': 4, 'chicago': 1, 'movie': 1, 'since': 2, 'state': 4, 'won': 1, 'net': 1, 'ever': 1, 'shows': 1, 'foley': 5, 'dracula': 1, 'california': 1, 'exhusband': 1, 'phd': 1, 'by': 1, 'personalities': 1, 'on': 2, 'stone': 1, 'working': 2, 'ministry': 1, 'career': 1, 'of': 5, 'industry': 1, 'cagney': 1, 'experience': 1, 'foreign': 1, 'american': 1, 'her': 7, 'grail': 1, 'published': 1, 'studies': 1, 'honor': 1, 'bram': 1, 'first': 1, 'knots': 1, 'major': 1, 'author': 1, 'image': 1, 'primary': 1, 'cd': 1, 'featured': 1, 'dancer': 1, '1990s': 1, 'telecommunications': 1, 'awardwinning': 1, 'from': 2, 'guest': 1, 'platoon': 1, 'theme': 1, '1989': 1, 'returns': 1, 'program': 1, 'editor': 1, 'correspondents': 1, 'films': 1, '2001': 1, 'started': 1, 'batman': 1, 'starr': 1, 'landing': 1, 'released': 1, '8': 1, 'known': 2, 'with': 2, 'sound': 2, 'king': 1, '1993': 1, 'georgia': 2, 'f': 1, '1999': 1, 'work': 1, 'appearance': 1, 'other': 1, 'ament': 4, 'voice': 1, 'invited': 1, 'history': 1, 'and': 14, 'endowed': 1, 'is': 4, 'updated': 1, 'an': 4, '1980s': 1, 'as': 6, 'at': 1, 'in': 11, 'elsevier': 1, 'david': 2, 'film': 2, 'noises': 1, 'edwin': 1, 'also': 3, 'book': 1, 'which': 1, 'academy': 1, 'entitled': 1, 'gaining': 1, 'ball': 3, 'columbia': 1, 'beauty': 1, 'though': 1, 'after': 1, 'predator': 1, 'beast': 1, 'moving': 1, 'lent': 1, 'such': 2, 'cuesta': 1, 'focal': 1, 'a': 5, 'singer': 1, 'off': 1, '1978': 1, 'professor': 1, 'dallas': 1, 'well': 2, 'postproduction': 1, 'academic': 2, 'mdiv': 1, 'without': 1, '2004': 1, 'the': 14, '2009': 1, 'having': 1}, {'cincinnati': 1, 'just': 1, 'kickoff': 1, 'years': 2, 'four': 1, 'logan': 1, 'still': 1, 'enjoyed': 1, 'fifth': 1, 'before': 1, '25': 1, '1830': 1, 'had': 1, 'winning': 1, 'to': 2, 'xxix': 1, 'td': 1, 'kick': 1, 'wearing': 1, 'then': 1, 'his': 5, 'return': 2, 'very': 1, 'records': 1, '123': 1, 'five': 1, 'longest': 2, 'hall': 1, 'sophomore': 2, 'miami': 1, 'university': 1, 'nfl': 1, 'team': 1, 'went': 1, 'round': 1, 'weighs': 1, 'national': 1, 'back': 1, 'scrimmage': 1, 'added': 1, 'college': 1, '85': 1, 'plays': 1, 'stands': 1, 'for': 5, 'selected': 1, 'per': 2, '3': 1, '1391': 1, 'attended': 1, '1135': 1, 'redskins': 1, 'yards': 8, 'tds': 2, 'super': 2, 'by': 1, 'mvp': 1, 'on': 4, 'career': 1, 'of': 4, 'ncaa': 2, 'carries': 1, 'marc': 7, 'touchdowns': 1, 'washington': 1, 'number': 1, '60': 1, '63': 1, 'carry': 1, 'throughout': 1, '1987': 2, '1985': 1, 'from': 2, 'rushed': 1, 'leading': 1, 'two': 2, 'eleven': 1, 'returns': 1, 'draft': 1, 'was': 2, 'xxiii': 1, 'today': 1, 'league': 1, 'successful': 1, 'bengals': 3, 'anthony': 1, 'part': 1, 'former': 1, '228': 1, '92': 1, 'with': 3, 'junior': 1, 'he': 3, '15': 1, '1997': 1, 'born': 1, 'kentucky': 2, 'record': 1, '89': 1, 'and': 3, 'lbs': 1, 'san': 2, 'played': 2, 'averaging': 3, 'is': 1, 'as': 3, 'at': 2, 'in': 10, 'fame': 1, '1965': 1, '44': 1, 'that': 1, 'bowl': 4, '49ers': 2, '1': 1, 'also': 2, 'setting': 1, '325': 1, '9': 1, 'performance': 1, 'scored': 1, 'play': 2, 'francisco': 2, 'receptions': 2, '206': 1, 'may': 1, 'football': 2, 'running': 1, 'seasons': 1, 'nflmarc': 1, 'the': 13, 'dolphins': 1, 'a': 3, 'well': 1, 'd1a': 1, 'reception': 1, 'american': 1, 'senior': 1, 'playing': 1}, {'all': 2, 'serving': 1, 'rhinos': 1, 'four': 1, 'aleague': 1, 'coach': 1, 'before': 1, 'scoring': 1, 'jose': 1, '26': 1, 'minnesota': 1, 'mens': 2, 'riverhounds': 1, 'rico': 1, 'only': 1, 'puerto': 1, 'suffered': 1, 'soccer': 3, 'earthquakes': 2, 'then': 2, 'his': 1, 'preseason': 2, 'assistant': 1, 'michigan': 2, 'overall': 1, 'february': 3, 'game': 1, 'foot': 1, 'him': 1, 'school': 2, 'lost': 1, 'university': 2, '1996': 1, 'joined': 1, 'teams': 1, 'donovan': 1, 'planning': 1, 'team': 4, 'where': 3, 'round': 1, 'born': 1, 'second': 1, 'islanders': 1, 'silverbacks': 1, 'thunder': 1, 'dayton': 1, 'forwardwoolfolk': 1, 'pioneer': 1, 'state': 1, 'drafted': 1, 'attended': 2, 'degree': 1, 'woolfolk': 4, 'june': 1, 'free': 1, 'nscaa': 1, 'bachelor': 1, 'graduated': 1, 'on': 5, 'superdraft': 1, 'of': 4, '30': 1, 'american': 2, 'games': 2, 'first': 1, 'one': 1, 'from': 1, '1983': 1, 'to': 3, 'leading': 1, '5th': 1, 'usl': 1, 'three': 1, '6': 1, 'was': 2, 'is': 1, 'urban': 1, 'league': 1, 'pittsburgh': 1, 'season': 1, 'released': 1, 'part': 1, 'goals': 2, 'broke': 1, 'atlanta': 1, 'with': 7, 'former': 1, 'he': 13, '1997': 1, 'stanford': 1, '18': 1, 'up': 1, 'signed': 2, 'mls': 1, 'nine': 1, 'and': 4, 'seven': 1, 'san': 1, 'played': 5, 'december': 1, 'ann': 1, 'premier': 1, 'moved': 1, 'an': 1, 'high': 2, 'as': 1, 'gemini': 1, 'in': 12, 'arbor': 1, 'rochester': 1, 'landon': 1, '1': 1, 'corey': 1, 'vancouver': 2, 'fracture': 1, 'whitecaps': 1, '49th': 1, 'development': 1, 'roster': 1, 'may': 1, '2005': 1, 'spot': 1, 'most': 1, 'scorer': 1, 'a': 5, 'stress': 1, 'for': 3, 'waived': 1, '2002': 1, '2003': 1, '2000': 1, '2001': 4, '2006': 2, '2007': 1, '2004': 1, 'time': 1, 'the': 20, 'playing': 1}, {'colleges': 1, 'show': 1, 'lasell': 1, 'all': 2, 'years': 1, 'course': 1, 'radio': 1, 'committee': 1, 'battle': 1, 'follow': 1, 'album': 4, 'doctoral': 1, 'candidate': 1, 'tv': 1, 'segments': 1, 'to': 5, 'only': 1, 'other': 1, 'east': 1, 'regularly': 1, 'lowell': 1, 'his': 2, 'hop': 3, 'zulu': 1, 'nation': 1, 'early': 1, 'they': 1, 'nyc': 1, 'schools': 1, 'world': 1, 'areas': 1, 'worlds': 1, 'several': 2, 'artist': 1, 'university': 1, 'rapper': 1, 'bay': 1, 'courses': 2, 'math': 2, 'including': 1, 'went': 1, 'umasslowell': 1, 'em': 2, 'england': 1, 'albook': 1, 'college': 3, 'year': 1, 'morning': 1, 'even': 1, 'appear': 1, 'for': 3, 'entertainment': 2, 'state': 1, 'won': 1, 'performs': 1, 'new': 1, 'filled': 1, 'shows': 1, 'bostonhe': 1, 'awards': 1, 'bs': 1, 'put': 2, 'news': 1, 'teaches': 1, 'lyrical': 3, 'received': 1, 'created': 1, 'institute': 1, 'of': 4, 'industry': 1, 'akrobatik': 2, 'fulltime': 1, 'competed': 1, 'invitation': 1, 'jamn': 1, 'first': 1, 'appeared': 1, 'win': 1, 'northeastern': 2, 'venues': 1, 'highly': 1, 'primarily': 2, '82013': 1, '1990s': 1, 'arts': 1, 'rated': 1, 'from': 2, 'been': 2, 'sports': 1, 'is': 6, 'more': 1, 'both': 1, 'freestyle': 1, 'curriculum': 1, 'but': 1, 'part': 2, 'fellow': 1, 'he': 6, 'television': 1, 'has': 4, 'coast': 1, 'up': 1, 'movies': 1, 'ms': 1, 'many': 3, 'at': 8, 'and': 11, 'hip': 3, 'boston': 1, 'universal': 1, 'an': 3, 'supremacy': 1, 'shame': 2, 'as': 2, 'daily': 1, 'rap': 1, 'in': 9, 'different': 2, 'perform': 1, 'mic': 1, 'when': 1, 'mid': 1, 'battles': 1, 'adjunct': 1, 'also': 2, 'book': 2, 'which': 1, '2005': 1, 'mathematics': 1, 'speaks': 1, 'entitled': 1, 'lecturer': 1, 'universities': 1, 'who': 1, 'infiniti': 1, 'massachusetts': 2, 'such': 1, 'on': 4, 'finals': 1, 'unavailable': 1, 'a': 6, 'parttime': 1, 'programs': 1, 'professor': 2, '945': 1, 'together': 1, 'mass': 1, '617live': 1, 'occasion': 1, 'the': 13, 'latest': 1}, {'sector': 1, 'limited': 1, '2006apart': 1, 'chinese': 3, 'xuan': 2, 'actress': 1, 'month': 1, 'worked': 1, 'happiness': 1, 'before': 1, 'group': 1, 'producer': 1, 'dewey': 1, 'had': 1, 'winning': 1, 'to': 6, 'production': 1, 'rich': 2, 'has': 1, 'skies': 1, 'then': 1, 'evening': 1, 'get': 1, 'ye': 6, 'february': 1, 'famous': 2, 'cctvshe': 1, 'accepted': 1, 'association': 1, '14': 1, 'school': 1, 'mc': 1, 'lost': 1, 'hengdian': 1, 'dramas': 1, 'chamber': 1, 'she': 11, 'science': 1, 'starred': 1, 'where': 1, 'triumph': 1, 'olympic': 1, 'titled': 1, 'fair': 1, 'series': 1, 'competition': 1, 'born': 1, 'productions': 1, 'college': 1, 'special': 1, 'wellesley': 1, 'graduating': 1, 'tvbs': 1, 'for': 1, 'entertainment': 1, 'movie': 2, 'currently': 1, 'acting': 1, 'won': 2, 'lue': 1, 'icableye': 1, 'mandarin': 1, 'international': 3, 'after': 3, 'cantonese': 1, 'ruo': 1, 'reporter': 1, 'loveye': 1, 'eternal': 1, 'host': 1, 'china': 1, 'immigrated': 1, 'shui': 1, 'onsite': 1, 'on': 2, 'talent': 1, '1980': 1, 'restaurant': 1, 'career': 2, 'of': 5, 'industry': 1, 'contract': 2, 'atv': 1, 'games': 1, 'ltd': 1, 'or': 1, 'first': 1, 'botany': 1, 'student': 1, 'number': 1, 'one': 1, 'president': 1, 'owner': 2, 'miss': 2, 'management': 1, 'from': 2, 'her': 1, 'leading': 1, 'athens': 1, 'by': 1, 'few': 1, 'careerye': 1, 'john': 1, 'was': 3, 'more': 1, 'offered': 1, '1999': 3, 'shang': 1, 'but': 1, 'broadcast': 1, 'attended': 1, 'july': 2, 'with': 3, '10': 1, 'television': 1, 'pageant': 1, 'mcin': 1, 'roles': 1, 'pursue': 2, '1998': 1, 'as': 2, 'signed': 2, 'states': 1, 'midautumn': 1, 'and': 9, 'gong': 1, 'bohai': 1, 'is': 3, 'sushi': 1, 'moved': 1, 'an': 1, 'high': 1, 'engineering': 1, 'at': 4, 'in': 12, 'film': 1, 'autobiography': 1, 'united': 1, 'also': 1, 'chairman': 1, '2005': 2, 'place': 1, 'tvb': 4, 'shan': 1, 'company': 1, 'industryin': 1, 'published': 1, 'june': 1, 'additionally': 1, 'such': 1, 'exposure': 1, 'a': 12, 'michelle': 2, 'vice': 1, 'age': 1, 'studioszhejiang': 1, 'fluent': 1, '2004': 1, 'english': 1, 'the': 12, 'left': 3, 'scholarship': 1}, {'waive': 2, 'issued': 1, 'woody': 1, 'certainly': 1, 'young': 1, 'to': 30, 'under': 1, 'circumstances': 2, 'brown': 1, 'very': 1, 'childpornography': 1, 'minded': 1, 'advised': 1, 'school': 1, 'compassionate': 1, 'michael': 2, 'try': 1, 'circuit': 5, 'yale': 3, 'prevent': 1, 'rate': 1, 'lawyer': 1, 'even': 1, 'section': 1, 'version': 1, 'himchatigny': 1, 'new': 1, 'appeal': 3, 'full': 1, 'clerk': 1, 'never': 1, 'cocounsel': 1, 'understanding': 1, 'minor': 1, 'alone': 1, 'strong': 2, 'prosecutors': 2, 'study': 1, 'conti': 1, 'action': 1, 'opinion': 1, 'dutyrequired': 1, 'makes': 1, 'punishment': 1, 'appropriately': 1, 'taunton': 1, 'sadism': 1, 'standing': 1, 'from': 7, 'proceed': 1, 'chatigny': 16, 'call': 1, 'prosecutor': 1, 'more': 1, 'abusing': 1, 'award': 1, 'connecticut': 7, 'cases': 1, 'behalf': 1, 'women': 1, 'ma': 1, '1994': 5, 'rights': 2, 'this': 1, '1998': 1, 'ohara': 1, 'advocacy': 1, 'minimum': 1, 'stated': 1, 'judge': 24, 'december': 1, 'in': 23, 'states': 5, 'unbiased': 1, 'his': 8, 'council': 2, 'allens': 1, 'united': 3, 'court': 12, 'dismissed': 3, 'sic': 1, 'fourth': 1, 'samuel': 1, 'tried': 1, 'may': 1, 'different': 2, '2008he': 1, 'sentencing': 2, 'president': 2, 'appealed': 1, 'law': 6, 'nomination': 5, 'eighth': 1, 'a': 21, 'light': 1, 'departure': 2, 'chief': 1, 'agenda': 1, 'subsequently': 1, 'order': 1, 'executed': 1, 'september': 3, 'indeed': 1, 'over': 1, 'years': 2, 'course': 1, 'attitude': 1, 'committee': 7, 'committed': 1, 'cold': 1, 'its': 1, 'warren': 1, '1': 1, '26': 2, '28': 1, '29': 1, 'criminal': 2, '2010': 4, 'then': 1, 'motivated': 1, 'practice': 1, 'newman': 1, 'qualified': 2, 'they': 2, 'half': 1, 'inception': 1, 'republican': 1, 'association': 1, 'attorneys': 1, 'name': 1, 'james': 1, 'university': 3, 'reasonable': 2, 'each': 1, 'found': 3, 'upward': 1, 'neil': 1, 'mental': 1, 'house': 1, 'crimes': 1, 'challenges': 1, 'our': 1, 'suzanne': 1, 'sexual': 2, 'plans': 1, '20059': 1, 'dismissal': 1, 'since': 1, 'impartial': 1, 'investigation': 1, 'cause': 1, 'shows': 1, 'perception': 1, 'dealt': 1, 'threatened': 1, 'delegates': 1, 'california': 1, 'thrust': 1, 'longrange': 1, 'language': 1, 'times': 1, 'american': 1, '19801981judge': 1, 'place': 1, 'w': 1, 'ruination': 1, 'appeals': 3, 'velde': 2, 'one': 3, 'date': 1, 'stonewalledof': 1, 'vote': 1, 'city': 1, 'district': 8, 'girls': 1, '2': 1, 'georgetown': 2, '2006judge': 1, 'appointees': 1, 'that': 20, 'centered': 1, 'reversed': 2, 'serve': 1, 'jovin': 1, 'july': 1, 'believe': 2, 'than': 2, 'obama': 1, '10': 1, '12': 1, '15': 1, '16': 1, 'eighttime': 1, 'second': 4, 'were': 2, 'toward': 1, 'and': 21, 'outstanding': 1, '1973': 1, 'chatignys': 6, 'have': 5, 'sentences': 2, 'allen': 1, 'any': 2, 'megans': 1, 'thorough': 1, 'note': 1, 'recommended': 1, 'appellate': 1, 'take': 2, 'bruce': 1, 'who': 6, 'most': 1, 'involving': 1, 'letter': 2, 'prisoner': 1, 'approved': 1, 'professor': 1, 'rating': 1, 'violation': 1, 'nominated': 2, 'considerationopposition': 1, 'judges': 3, 'northern': 1, 'justice': 1, 'sentence': 2, 'state': 2, 'haven': 1, 'penalty': 1, 'failed': 1, 'only': 2, 'sued': 1, 'assistant': 1, 'de': 3, 'prohibition': 1, 'killers': 1, 'him': 5, 'bar': 2, 'where': 1, 'wrote': 3, 'view': 1, 'seventeen': 1, 'set': 1, 'aspect': 1, 'fair': 2, 'national': 1, '20052006': 1, 'veldes': 1, 'elected': 1, 'are': 1, 'close': 1, 'said': 1, 'probable': 1, 'federal': 9, 'away': 1, 'favor': 1, '3': 1, 'enumerated': 1, 'before': 2, 'we': 4, 'august': 1, 'attention': 1, 'competent': 2, 'cabranes': 1, 'jon': 1, 'received': 3, 'license': 1, 'career': 1, 'against': 4, 'april': 1, 's': 1, 'whole': 1, 'grounds': 1, 'duty': 1, 'partyline': 1, '2nd': 1, 'jd': 1, 'unusual': 2, 'three': 2, 'been': 5, 'commission': 2, 'temperatein': 1, 'temperament': 1, 'worked': 1, 'former': 3, 'present': 1, 'case': 7, 'publicly': 1, 'developing': 1, 'judicial': 5, 'bill': 1, 'while': 2, 'editorial': 1, 'elaborate': 1, 'robert': 1, 'is': 4, 'it': 1, 'sentencings': 1, 'bias': 1, '440some': 1, 'claimed': 1, 'victims': 1, 'if': 2, 'confirmed': 1, 'sensitive': 1, 'potentially': 1, 'lenient': 1, 'used': 1, 'restraint': 1, 'upon': 2, 'director': 1, 'average': 1, 'misconductin': 1, 'student': 1, 'complained': 1, 'center': 2, '1978': 1, 'charges': 1, 'forceful': 1, 'well': 2, 'analysis': 1, 'person': 1, 'without': 2, 'solve': 1, 'claims': 3, 'the': 91, 'stating': 1, 'left': 1, 'opinions': 1, 'less': 1, '24page': 1, 'executive': 1, 'actions': 2, 'victimsupport': 1, 'not': 2, 'questions': 1, 'facts': 1, 'yet': 1, 'jose': 1, 'death': 4, 'candidate': 1, 'had': 3, 'bench': 2, 'barack': 1, '4': 1, 'has': 12, 'ross': 6, 'associations': 1, 'complaint': 2, 'march': 2, 'government': 1, 'judiciary': 6, 'matters': 1, 'supervisory': 1, 'execution': 1, 'imposed': 1, 'steps': 1, 'either': 1, 'offenders': 1, 'served': 5, 'downward': 1, 'disorder': 1, 'amendment': 1, 'shed': 1, 'senate': 4, 'tempered': 1, 'born': 1, '117': 1, 'provided': 1, 'proceeding': 1, 'for': 19, 'decision': 1, '12page': 1, 'unsuccessfully': 1, 'be': 3, 'murderer': 2, 'june': 1, 'journal': 1, 'fitness': 2, 'pressure': 1, 'departures': 1, 'relating': 1, 'by': 12, 'gained': 1, 'on': 19, 'of': 44, 'o': 1, 'ensure': 1, 'efforts': 1, 'or': 2, 'allowing': 2, 'own': 1, 'clinton': 1, 'childrens': 2, 'rosss': 1, 'civil': 1, 'into': 2, 'washington': 1, 'attorney': 2, 'appropriate': 1, 'determine': 1, 'discharge': 2, 'defendants': 1, 'van': 3, '1980': 1, 'support': 1, 'there': 2, 'long': 1, 'awarded': 1, 'editor': 1, 'vacated': 1, 'was': 12, 'himself': 2, 'delayed': 1, 'but': 2, 'tasked': 1, 'courts': 1, 'filed': 3, 'line': 1, 'with': 5, 'he': 11, 'made': 1, 'us': 7, 'record': 2, 'cruel': 1, 'unanimous': 1, 'defendant': 1, 'called': 1, 'supreme': 1, 'ab': 1, 'leaked': 1, '1952': 1, 'proven': 1, 'an': 8, 'as': 9, 'at': 2, '19791980': 1, 'amendments': 1, 'no': 2, 'when': 3, 'stepchild': 1, '5': 2, '2006': 1, 'reportedly': 1, 'prosecution': 1, 'includes': 1, 'important': 1, 'registry': 1, 'authorities': 1, 'reservation': 1, 'eginton': 1, 'fiscal': 1, 'e': 1, 'examination': 1, 'sexoffender': 1, 'rule': 2, 'seat': 2, '2003': 2, '2001': 2, 'u': 1, '2004': 1, '2005': 1, '2009': 1, 'resolution': 1, 'having': 1}, {'just': 1, 'contemporary': 1, 'nominated': 1, 'kong': 1, 'produced': 1, 'melody': 2, 'fusing': 1, 'sung': 1, 'decade': 1, 'runin': 1, 'limelight': 1, 'style': 3, 'rapidly': 1, 'lyrics': 3, 'wnshn': 1, 'had': 1, 'writing': 2, 'to': 7, 'won': 1, 'samples': 1, 'su': 1, 'chinese': 6, 'has': 1, 'sent': 1, 'then': 1, 'songwriting': 1, 'his': 7, 'rhyme': 1, 'fusion': 1, 'grew': 1, 'using': 1, 'covering': 1, 'january': 1, 'companies': 1, 'rock': 1, 'popular': 1, '2000s': 1, 'vincent': 1, 'noted': 1, 'titled': 1, 'taiwanese': 1, 'born': 1, 'are': 1, 'beyond': 1, 'taiwan': 1, 'best': 2, 'blue': 1, 'what': 1, 'fang': 6, 'esp': 1, 'since': 1, 'please': 1, 'asia': 1, 'find': 1, '19th': 1, 'singersongwriter': 1, 'passion': 1, 'issues': 1, 'rb': 1, 'new': 2, 'contributes': 1, 'across': 1, 'refer': 1, 'porcelain': 1, '26': 1, 'wu': 1, 'awards': 1, 'become': 1, 'genre': 1, 'by': 2, 'on': 2, 'career': 2, 'of': 4, 'jay': 4, 'discussed': 1, 'entrepreneurvincent': 1, 'fng': 1, 'chou': 5, 'frequent': 1, 'first': 1, 'golden': 1, 'love': 1, 'family': 1, 'into': 1, 'lyricist': 2, 'entrepreneur': 1, 'references': 1, 'owner': 1, 'impressed': 1, 'from': 2, 'lyrical': 1, 'yan': 1, 'music': 2, 'white': 1, 'was': 2, 'war': 1, 'form': 1, 'that': 1, 'started': 1, 'pinyin': 1, 'company': 1, 'award': 1, 'jacky': 1, 'released': 1, 'folklore': 1, 'known': 2, 'albums': 1, 'with': 4, 'he': 4, 'wide': 1, 'made': 1, 'chous': 1, '1997': 1, 'work': 2, 'record': 2, 'making': 1, 'similar': 1, 'history': 1, 'and': 5, 'hoping': 1, 'is': 3, 'modern': 2, 'as': 1, 'pulling': 1, 'at': 1, 'in': 7, 'fame': 1, 'hong': 1, '1969': 1, 'poetry': 4, 'majority': 1, 'which': 2, 'album': 1, 'literature': 1, 'complemented': 1, 'collaboration': 1, 'who': 1, 'hired': 1, 'wellfangs': 1, 'ballads': 1, 'a': 7, 'for': 6, 'calls': 1, 'multigolden': 1, 'together': 1, 'musical': 1, 'traditional': 2, '2000': 1, 'the': 6, 'normally': 1, 'hualien': 1}, {'exclusive': 1, 'samoan': 3, 'help': 1, 'german': 2, 'money': 1, 'colony': 1, 'years': 1, 'held': 1, 'lemalu': 1, 'human': 1, 'paul': 1, 'before': 1, 'leader': 1, '21': 1, '22': 1, 'auckland': 3, 'marrying': 1, 'had': 1, 'young': 2, 'winning': 1, 'to': 10, 'going': 1, 'inherited': 1, 'hermann': 2, 'telefoni': 5, 'has': 3, '2011': 4, '1991': 1, 'his': 7, 'march': 1, 'government': 1, 'portfolios': 1, 'practice': 1, 'february': 1, 'introduce': 1, 'early': 1, 'misa': 3, '1952': 1, 'not': 1, 'electionretzlaff': 1, 'postal': 1, 'tribute': 2, 'prime': 2, 'articles': 1, 'school': 1, 'name': 2, 'falelatai': 1, 'servant': 1, 'university': 1, 'rights': 1, 'joined': 1, 'grandfather': 2, 'true': 1, 'samoa': 3, 'observer': 1, 'seat': 2, 'born': 1, 'see': 1, 'books': 1, 'college': 1, 'election': 2, 'resigned': 1, 'agriculture': 1, 'for': 2, 'currently': 1, 'paternal': 1, 'health': 1, 'new': 2, 'falling': 1, 'public': 1, 'be': 2, 'run': 1, 'initially': 1, 'given': 1, 'richest': 1, 'bachelor': 1, 'ancestry': 1, 'twentieth': 1, 'opposition': 1, 'by': 2, 'kitchen': 1, 'on': 1, 'about': 1, 'country': 1, 'industry': 1, 'studied': 1, 'shipping': 1, 'became': 1, 'published': 2, 'retain': 1, 'eti': 1, 'partyretzlaff': 1, 'own': 1, 'love': 3, 'deputy': 3, 'alesana': 1, 'community': 1, 'son': 1, 'kings': 1, 'germanswedishsamoan': 1, 'standing': 1, 'story': 1, 'from': 3, '1986in': 1, 'addition': 1, 'stated': 1, 'two': 1, '1988': 1, 'was': 4, 'zealand': 2, 'educated': 1, 'that': 2, 'speeches': 1, 'fisheries': 1, 'part': 1, 'minister': 4, 'former': 1, 'with': 1, 'appointed': 1, 'poemsin': 1, 'he': 11, 'boarding': 1, 'commerce': 1, 'samatau': 1, '1996': 1, 'will': 1, 'of': 12, 'and': 8, 'tofilau': 1, 'labourhe': 1, 'century': 1, 'httpwwwsamoaobserverwsindexphpoptioncomcontentviewarticleid31878tributetocatid1latestnewsitemid50': 1, 'is': 3, 'telephone': 1, 'general': 1, 'as': 3, 'at': 3, 'in': 13, 'politics': 1, 'confirmed': 1, 'descent': 1, 'retiring': 1, 'self': 1, 'holds': 1, 'when': 1, 'forests': 1, 'thine': 1, 'role': 1, '9': 1, 'protection': 1, 'may': 1, 'retzlaff': 3, 'attorneygeneral': 2, 'collection': 1, 'arrived': 1, 'services': 1, 'law': 2, 'a': 5, 'short': 1, 'theodor': 1, '2001': 1, 'position': 1, 'the': 19, 'having': 1}, {'all': 1, 'particularly': 1, 'developed': 1, 'over': 1, 'paper': 1, 'radio': 1, 'sustained': 1, 'economist': 2, 'its': 2, 'weekly': 1, 'solitary': 1, 'anglofrench': 1, 'smith': 1, 'meantime': 1, 'to': 6, '4': 1, 'late': 2, 'editorship': 1, 'dispute': 1, 'then': 1, 'views': 1, 'trenchant': 1, '1993': 1, 'documentaries': 2, 'five': 1, 'oxford': 1, 'lady': 1, 'hall': 1, 'university': 1, 'journalism': 1, 'predicted': 1, 'analytical': 1, 'become': 1, 'where': 1, 'noted': 1, 'wrote': 1, 'programme': 2, 'be': 2, 'spring': 1, '1960s': 1, 'critique': 1, 'out': 1, 'what': 1, 'wellfounded': 1, 'for': 5, 'burnet': 1, 'journalist': 1, 'above': 1, 'surprise': 1, 'staff': 1, 'goldring': 4, 'she': 6, 'edited': 1, 'noise': 1, 'business': 2, 'commercial': 1, 'mcrae': 1, 'aircraft': 1, 'disastrous': 1, 'graduated': 1, 'by': 1, 'on': 1, 'would': 1, 'column': 1, 'of': 12, 'economics': 1, 'british': 1, 'became': 3, 'pollution': 1, 'economists': 1, 'deputy': 1, 'suddenly': 1, 'into': 1, 'rank': 1, 'one': 1, 'presenters': 1, 'rising': 1, '1987': 1, '1998in': 1, 'andreas': 1, 'from': 2, 'her': 2, 'basis': 1, 'bbc': 2, 'long': 1, 'screened': 1, 'currentaffairs': 1, 'editor': 3, 'series': 2, 'broadcasteran': 1, 'was': 1, 'until': 1, 'authored': 1, 'main': 1, 'an': 1, 'alastair': 1, 'moved': 1, 'wake': 1, 'aviation': 1, 'departure': 1, 'with': 1, 'television': 1, 'made': 1, 'whittam': 1, 'mary': 2, 'flagship': 1, 'following': 1, 'voice': 1, 'at': 3, 'and': 5, 'obe': 1, 'investors': 1, 'almost': 1, 'dissent': 1, 'is': 1, 'alongside': 1, 'turned': 2, 'it': 2, 'concorde': 1, '1940s': 1, 'as': 1, 'analysis': 1, 'in': 4, 'member': 1, 'also': 2, 'expressgoldring': 1, 'channel': 1, 'development': 1, 'staying': 1, 'norman': 1, 'who': 2, 'margaret': 1, 'regular': 1, 'a': 6, 'audit': 1, 'supersonic': 1, 'correspondent': 1, 'chronicle': 1, '1976': 1, '1974': 1, '4s': 1, 'daily': 1, 'time': 3, 'the': 18, 'left': 2}, {'thomas': 1, 'currently': 1, 'september': 1, 'executive': 1, 'years': 1, 'including': 1, 'southwestern': 1, 'before': 1, '1942': 1, 'outside': 1, 'to': 3, 'dartmouth': 1, '2013': 1, 'carolina': 1, 'woman': 1, 'legislators': 1, 'returning': 1, 'ceo': 1, 'reviewshe': 1, 'term': 1, 'historic': 1, 'community': 1, 'schools': 1, 'during': 1, 'association': 2, 'masters': 1, 'scholar': 1, 'university': 2, 'stanford': 3, 'she': 12, 'small': 1, 'alphin': 1, 'where': 1, 'dean': 4, 'school': 3, 'senate': 1, 'house': 1, 'prager': 2, 'born': 1, 'second': 1, 'college': 2, 'sloughhouse': 1, 'senator': 1, 'for': 2, 'served': 1, 'giving': 1, 'since': 1, 'representatives': 1, 'legal': 1, 'state': 1, 'porter': 1, 'assembly': 1, 'degree': 3, 'sixth': 1, 'focused': 1, 'become': 1, 'kuchel': 1, 'november': 1, 'received': 3, 'longest': 1, 'of': 20, 'through': 1, 'american': 3, 'became': 1, 'california': 4, 'first': 2, 'editorinchief': 1, 'family': 1, 'number': 1, 'preservation': 1, 'one': 1, 'durham': 1, 'female': 1, 'undergraduate': 1, 'from': 4, 'her': 4, 'ucla': 7, '1982': 1, 'was': 7, 'westerberg': 1, 'north': 1, 'on': 1, 'serve': 1, 'worked': 1, 'town': 1, 'grew': 1, '14': 1, '1996': 1, 'up': 1, 'us': 3, 'schoolsprager': 1, 'property': 1, 'history': 3, 'and': 9, 'alumnusalumna': 1, 'is': 2, 'an': 1, 'states': 1, 'provost': 1, 'at': 2, 'in': 10, 'any': 1, 'as': 2, 'trustee': 1, 'united': 1, '1964': 1, 'schoolpreviously': 1, '1': 1, 'also': 1, 'administrator': 1, 'sacramento': 2, 'director': 1, 'faculty': 1, 'president': 2, 'law': 15, 'the': 18, 'a': 5, 'practiced': 1, 'susan': 1, 'later': 1, 'occidental': 1, 'deans': 1, 'tenure': 1, '2008': 1, 'starting': 1, 'powe': 1}, {'mayom': 1, 'both': 2, 'garang': 1, 'kong': 1, 'ended': 1, 'janaigatliek': 1, 'including': 1, 'soldiersthe': 1, 'whose': 1, 'now': 1, 'based': 1, 'liberation': 1, 'had': 2, 'considerable': 1, 'to': 2, 'commander': 2, 'bank': 1, 'under': 5, '8': 1, 'has': 1, 'gave': 1, 'then': 1, 'his': 1, 'made': 1, 'yohannes': 3, 'during': 1, 'accepted': 1, 'killed': 1, 'splmanasir': 1, 'militiathe': 1, 'january': 2, 'sobat': 1, 'become': 1, 'river': 1, 'upper': 1, 'declared': 1, 'matip': 1, 'people': 1, 'paulino': 2, 'retaliation': 1, 'second': 1, 'defense': 1, 'are': 1, 'cattle': 1, 'said': 1, 'for': 2, 'riek': 1, 'sudan': 3, 'section': 1, 'jonglei': 1, 'state': 1, 'hill': 1, 'waat': 1, 'leader': 1, 'announced': 1, 'be': 1, 'breakaway': 1, 'august': 1, 'matiep': 1, 'men': 1, '1993the': 1, 'revenge': 1, 'akol': 1, 'difficulty': 1, 'soldiers': 1, 'civilians': 1, 'group': 1, 'along': 1, 'by': 1, 'spla': 2, 'on': 4, 'machar': 1, '8th': 1, 'of': 7, '30': 1, 'juba': 1, 'nile': 1, '19832005in': 1, 'april': 1, 'militia': 2, 'gordon': 1, 'or': 1, 'south': 2, 'major': 1, 'alliance': 1, 'deputy': 1, 'civil': 2, 'bath': 3, 'primarily': 1, 'yoal': 3, 'george': 1, 'east': 1, 'from': 2, 'army': 2, 'alleged': 1, 'been': 3, 'johannes': 2, 'attack': 3, '2': 2, 'combined': 1, 'raids': 1, 'lou': 3, 'john': 1, 'was': 3, 'war': 2, 'more': 1, 'doleib': 1, 'ejected': 1, 'anyanya': 2, 'athor': 1, 'part': 1, 'bul': 1, 'declaration': 1, 'an': 1, 'with': 1, 'than': 1, 'he': 1, '1991': 2, 'divisions': 1, '12': 1, '1995': 1, '1994': 1, 'these': 1, 'until': 1, 'jikany': 1, 'involved': 1, 'called': 2, 'launched': 1, 'and': 8, 'statea': 1, 'division': 1, 'duar': 1, 'splm': 1, 'is': 1, 'general': 1, 'sudanese': 1, 'at': 2, 'in': 10, 'united': 1, 'rieklater': 1, 'etc': 1, 'that': 2, 'dengjohannes': 1, 'other': 1, 'forces': 5, 'peoples': 1, 'command': 2, 'nuer': 5, 'lam': 1, 'ayod': 1, 'faction': 2, 'may': 1, 'nasir': 2, 'governmentsponsored': 1, '4th': 1, 'yual': 3, 'a': 3, 'nyayin': 1, 'mobile': 1, 'ssdf': 1, 'ulang': 1, '2006': 2, '2005': 1, 'the': 17, 'democratic': 1, 'joining': 1}, {'son': 1, 'subtly': 1, 'moments': 1, 'reviewers': 1, 'authors': 1, 'focus': 1, 'inaugural': 1, 'playful': 1, 'ended': 1, 'session': 1, 'saga': 1, 'carefully': 1, 'children': 1, 'simon': 1, '20': 1, 'booksin': 1, 'with': 4, 'writer': 3, 'father': 1, 'behind': 1, 'literary': 1, 'to': 3, 'playback': 1, 'sorrentino': 5, 'dickinson': 1, 'bookworld': 1, 'puerto': 1, 'has': 2, '2010': 1, 'eugene': 1, 'them': 1, 'his': 4, 'proctor': 1, 'format': 1, 'fairleigh': 1, 'minna': 1, 'first': 1, 'period': 1, 'novel': 3, 'christopher': 1, 'hyperliterary': 1, 'fall': 2, 'press': 2, 'mcsweeneys': 1, 'innovations': 1, 'but': 2, 'secondary': 1, 'school': 2, 'scamssorrentinos': 1, 'name': 1, 'artist': 1, 'university': 2, 'longlisted': 1, 'ivan': 1, 'bookforum': 1, 'soft': 1, 'essential': 1, 'wrote': 1, 'mets': 2, 'detail': 1, 'conklin': 1, 'series': 1, 'national': 1, 'conjunctions': 1, 'born': 1, 'many': 3, 'taught': 1, 'college': 1, 'descriptions': 1, 'titles': 1, 'novelist': 2, 'percussion': 1, 'best': 1, 'techniques': 1, 'poke': 1, 'draws': 1, 'for': 5, 'visiting': 1, 'riveting': 1, 'section': 1, 'currently': 1, 'publish': 1, 'its': 2, 'patty': 1, 'otherssorrentino': 1, 'international': 1, 'epic': 1, 'announced': 1, 'we': 1, 'tempura': 2, 'attention': 1, 'commercial': 1, 'story': 1, 'death': 1, 'unterberg': 1, 'moviemaking': 1, 'victoria': 1, '20102011': 1, 'by': 3, 'on': 4, 'about': 2, 'of': 18, 'dublin': 1, 'according': 2, 'times': 1, 'angeles': 2, 'april': 1, 'magazine': 1, 'incorporated': 1, 'published': 3, 'writers': 2, 'book': 5, 'monograph': 1, 'york': 3, 'granta': 1, 'named': 2, 'structured': 1, 'appeared': 1, 'into': 1, 'lethem': 1, 'one': 2, '61': 1, 'rican': 1, 'fiction': 1, 'open': 1, 'second': 1, 'city': 2, 'arts': 2, 'would': 1, 'los': 2, 'ortiz': 1, 'contains': 1, 'satire': 1, 'next': 2, 'their': 1, 'praised': 1, 'editor': 1, 'modernist': 1, 'house': 1, 'gilbert': 1, 'jonathan': 1, 'was': 9, 'treatment': 1, 'finalist': 1, 'a': 10, 'believeniks': 1, 'playboy': 1, 'corresponding': 1, 'that': 3, 'season': 1, 'lists': 1, 'it': 1, 'lives': 1, 'hearst': 1, '2014': 1, 'postmodernist': 1, 'postmodern': 1, 'he': 3, 'sound': 4, 'harpers': 1, 'account': 1, 'echoes': 1, '1995': 1, 'skull': 1, 'characterizations': 1, 'wish': 1, 'work': 2, 'reads': 1, 'recording': 1, 'experimental': 1, 'street': 1, 'vocals': 1, 'publications': 1, 'were': 1, 'pioneered': 1, 'entries': 1, 'boshier': 1, 'novella': 1, 'and': 15, 'imaginative': 1, 'liberal': 1, 'up': 1, 'pseudonymous': 1, 'is': 5, 'year': 1, 'lush': 1, 'dialogue': 1, 'deep': 1, 'an': 2, 'as': 4, 'impac': 1, 'at': 5, 'in': 9, 'partner': 1, 'forthhis': 1, 'schustersorrentinos': 1, 'film': 2, 'descent': 1, 'trance': 3, 'timesin': 1, 'poetry': 1, 'same': 2, '1963': 1, 'member': 1, 'also': 1, 'tin': 1, 'other': 1, 'derek': 1, 'widely': 1, 'esquire': 1, 'new': 4, 'several': 1, 'text': 1, '2007': 2, 'departures': 1, 'used': 1, 'columbia': 1, 'intended': 1, 'may': 1, 'collaboration': 1, 'felt': 1, 'upon': 1, '92nd': 1, 'harris': 1, 'award': 2, 'faculty': 1, 'nothing': 1, 'such': 1, 'revealed': 1, 'lang': 1, 'short': 1, 'so': 1, 'center': 1, '1974': 1, 'fictional': 1, 'more': 1, '2006': 1, 'fugitives': 1, '2005': 4, 'y': 1, 'american': 3, 'the': 31, '2009': 1, 'multitrack': 1}, {'summer': 1, 'emerging': 1, 'listening': 1, 'all': 2, 'produced': 1, 'industrial': 1, 'through': 2, 'collegehe': 1, 'multichannel': 1, 'member': 1, 'tapecollages': 1, 'death': 1, 'with': 1, 'writer': 1, 'should': 1, '20012004': 1, 'broadcasts': 1, 'lower': 1, 'tape': 1, 'has': 2, 'match': 1, 'his': 3, 'around': 1, 'material': 1, 'early': 1, 'words': 1, 'lecture': 4, 'world': 1, 'bullshit': 1, 'bank': 1, 'abandoned': 1, 'whitman': 1, 'artist': 1, 'transmission': 1, 'curator': 1, 'alexis': 1, 'radio': 2, 'repaired': 1, 'concerts': 1, 'lobbies': 1, 'art': 1, 'generation': 1, 'practicing': 1, 'unpublished': 1, 'authority': 1, 'born': 1, 'catalyze': 1, 'design': 1, 'mirror': 1, 'discussions': 2, 'organizing': 1, 'goddard': 2, 'chinas': 1, 'for': 2, 'sun': 1, 'recorded': 1, 'version': 2, 'new': 2, 'be': 1, 'says': 2, 'installations': 2, 'possibility': 1, 'notably': 1, 'york': 2, 'lounges': 1, 'active': 1, 'panel': 1, 'on': 6, 'about': 1, '19992009': 1, '1994': 1, 'of': 4, 'atm': 1, 'side': 1, 'or': 1, 'first': 1, 'and': 12, 'raised': 1, 'lands': 1, 'spoken': 1, 'scene': 1, 'one': 1, 'utilized': 1, 'collages': 1, 'artists': 2, '1990s': 1, 'speak': 1, 'everybody': 2, 'city': 1, 'arts': 1, 'from': 2, 'publication': 1, 'working': 1, 'to': 1, 'their': 1, '2': 1, 'was': 2, 'opens': 1, 'a': 3, 'life': 1, 'airwaves': 1, 'that': 3, 'ages': 1, 'interviewed': 1, 'neutral': 1, 'train': 1, 'crosssection': 1, 'producing': 1, 'he': 5, 'sound': 6, 'east': 1, 'word': 1, 'look': 1, 'convocations': 1, 'project': 2, 'college': 1, 'voice': 1, 'sculpture': 1, 'radioplays': 1, 'studied': 1, 'is': 4, 'organized': 1, 'deep': 1, 'an': 2, 'as': 3, 'at': 2, 'in': 9, 'strength': 1, 'democracy': 2, 'no': 2, 'began': 1, 'poetry': 2, 'same': 1, '1': 1, 'book': 1, 'paj': 1, 'lectures': 1, 'free103point9': 1, 'ecological': 1, 'moving': 1, 'blood': 1, 'included': 1, 'the': 11, 'manifested': 1, 'ghost': 1, 'stereo': 1, 'bandshell': 1, 'performances': 1, 'bhagat': 1, 'threechannel': 1, '2003': 1, 'without': 1, 'senior': 1, 'songs': 1}, {'anglican': 2, 'holds': 1, 'synodte': 1, 'chapters': 1, 'issues': 2, 'occupation': 1, 'member': 1, 'doctoral': 1, 'auckland': 1, 'churchs': 1, 'professorhe': 1, 'former': 1, 'to': 7, 'book': 1, 'degrees': 1, 'voted': 1, 'aucklands': 1, 'employed': 1, 'te': 3, 'adviser': 1, 'them': 1, 'his': 1, 'contracts': 1, 'capacities': 1, 'indigenous': 1, 'schoolhis': 1, 'dar': 1, 'oxford': 2, 'during': 1, 'rental': 2, 'formal': 1, 'articles': 1, 'scholar': 1, 'university': 6, 'manual': 1, 'bay': 1, 'balliol': 1, 'zealand': 5, 'where': 1, 'wrote': 1, 'whenua': 1, 'england': 2, 'collegiate': 1, 'whanui': 1, 'national': 1, 'crown': 2, 'related': 1, 'practising': 1, '18641909': 1, 'es': 1, 'universities': 1, 'for': 3, 'colonial': 2, 'contracted': 1, 'legal': 4, 'research': 2, 'include': 1, 'new': 5, 'numerous': 1, 'publishers': 1, 'full': 1, 'phopatanga': 1, 'degree': 1, 'associate': 1, 'never': 1, 'vernon': 1, 'victoria': 1, 'by': 2, 'on': 3, 'wanganui': 1, '1999he': 1, 'barrister': 2, 'region': 1, 'o': 1, 'david': 1, 'waitangirelated': 1, 'qualification': 1, 'published': 3, 'deputy': 1, 'acted': 2, 'primary': 1, 'huia': 1, 'church': 1, 'respect': 1, 'trust': 2, 'undergraduate': 1, 'tertiary': 1, 'has': 3, 'moriowned': 1, 'from': 6, 'certificate': 1, '1971': 1, 'puni': 1, 'legislation': 1, 'arbitrator': 1, 'tango': 1, 'commission': 1, 'diptheolhe': 1, 'mori': 1, 'was': 8, 'kooti': 1, 'williams': 1, 'a': 12, 'educated': 1, 'that': 2, 'honorary': 1, 'but': 1, 'solicitor': 1, 'an': 3, 'with': 1, 'appointed': 1, 'he': 9, '1991': 1, '1992': 1, '1995': 1, '1994': 1, 'consultant': 1, 'act': 1, 'ballb': 1, 'waitangifrom': 1, 'of': 18, 'promoted': 1, 'college': 1, 'professor': 3, 'history': 3, 'and': 17, 'kkiri': 1, 'is': 4, 'general': 1, 'high': 1, 'as': 4, 'campaigned': 1, 'at': 4, 'in': 17, 'education': 1, 'native': 1, 'court': 2, 'author': 1, '1966': 1, 'responsible': 1, 'graduate': 1, 'forestry': 3, 'also': 1, 'dean': 1, 'hinota': 1, 'which': 1, 'theology': 1, 'party': 1, 'rhodes': 1, '2005': 1, 'qualifications': 1, 'diploma': 1, 'phd': 1, 'two': 1, 'faculty': 1, 'included': 1, 'salaam': 1, 'law': 8, 'hawkes': 1, 'bcl': 1, 'land': 3, 'database': 1, 'tanzania': 2, 'variety': 1, 'aotearoa': 1, 'wellington': 1, 'analysis': 1, 'treaty': 2, 'academic': 1, '2000': 1, '2001': 1, 'volumes': 1, 'time': 1, 'the': 17, 'came': 1}, {'bottega': 1, 'is': 1, '1960': 1, 'themes': 1, 'london': 1, 'still': 1, 'fine': 1, '1948': 1, 'konex': 1, 'earned': 1, 'paris': 1, 'father': 1, 'to': 8, 'citizen': 1, 'teaching': 1, 'argentina': 2, 'include': 1, 'wellknown': 1, 'relocated': 1, 'his': 5, 'returned': 2, 'cupola': 1, 'assistant': 1, 'reopened': 1, 'dc': 1, 'munich': 1, 'cultural': 1, '1956': 1, 'they': 1, 'international': 1, 'traveled': 1, 'continued': 1, 'projects': 1, 'four': 1, 'school': 1, 'exhibiting': 1, 'prize': 2, 'galeras': 1, 'shapes': 1, 'where': 2, 'italian': 1, 'uruguayan': 1, 'often': 1, 'born': 2, 'taught': 1, 'are': 1, '1929': 1, 'honors': 1, 'for': 1, 'contributed': 1, 'extensively': 1, 'new': 2, 'geometric': 1, '1991roux': 1, 'york': 1, 'from': 1, 'by': 1, 'surrealistic': 1, 'created': 1, 'of': 4, 'studied': 1, 'biennial': 1, 'first': 1, 'jujuy': 1, 'among': 1, 'named': 1, 'own': 1, 'followed': 1, 'sicily': 1, 'washington': 1, 'one': 1, 'rouxs': 1, 'collages': 1, 'art': 2, 'city': 1, 'arts': 1, '1982': 1, 'arcade': 1, 'there': 1, 'illustrious': 1, '1988': 1, 'workshop': 1, 'harlequins': 1, 'travelled': 1, 'was': 6, 'ral': 1, 'nonnis': 1, 'life': 1, 'lived': 1, 'shopping': 1, 'that': 1, 'award': 1, 'berlin': 1, 'known': 1, 'worked': 2, 'highest': 1, 'painter': 3, 'he': 9, 'illustrator': 1, '1997': 1, 'this': 1, 'work': 1, 'until': 1, 'guillermo': 1, 'argentine': 2, 'were': 1, 'umberto': 1, 'and': 12, 'frescoes': 1, 'it': 1, 'an': 3, 'decoration': 1, 'prestigious': 1, 'as': 2, 'xiii': 1, 'at': 1, 'in': 17, 'realm': 1, 'roux': 3, '1966': 1, '1967': 1, 'when': 1, 'paulo': 1, 'phillips': 1, 'other': 1, 'actors': 1, 'buenos': 4, 'painthe': 1, 'province': 1, 'added': 2, 'collection': 1, 'restoration': 1, 'aires': 4, 'a': 2, '1975': 1, 'pacfico': 1, 'frescoesroux': 1, 'rome': 1, 'so': 1, '2007': 1, 'watercolors': 1, 'the': 8}, {'golf': 2, 'corps': 1, 'merit': 1, 'course': 1, 'world': 1, 'japan': 1, 'oldest': 1, 'children': 1, '25': 1, 'avid': 1, 'retirement': 1, '20': 1, 'wed': 1, '1940': 1, 'point': 2, 'had': 1, '29': 1, 'to': 3, '1930s': 1, '2015': 1, '2014': 1, 'include': 1, '2011': 1, 'gave': 1, 'eventually': 1, 'australia': 1, 'march': 1, 'mountford': 1, 'during': 1, 'son': 1, 'silver': 1, 'february': 1, 'd': 1, 'married': 2, 'she': 1, 'logistic': 1, 'served': 2, 'legions': 1, 'sycamore': 1, 'born': 2, 'delray': 1, 'operated': 1, 'home': 1, 'living': 1, 'golfer': 1, 'guinea': 1, 'near': 1, '3': 1, 'new': 1, 'islands': 2, 'turned': 1, 'jr': 1, '1933': 1, 'lieutenant': 2, '1937': 1, '100': 2, 'bronze': 1, 'on': 1, 'meyers': 1, 'resides': 1, 'of': 10, 'florida': 1, 'awards': 1, 'midway': 1, 'retired': 2, 'formerly': 1, 'deputy': 2, 'rank': 1, 'three': 1, 'from': 1, 'service': 1, 'army': 6, 'west': 2, 'two': 1, 'whom': 1, 'ely': 4, 'jane': 1, 'military': 1, 'was': 5, 'war': 1, 'general': 3, 'stationed': 1, 'materiel': 1, 'pittsburgh': 1, 'academy': 1, 'helen': 1, '1911': 1, 'commander': 1, 'with': 3, 'former': 1, 'he': 12, '10': 1, 'jonas': 1, 'j': 1, 'up': 1, 'us': 1, 'pennsylvania': 2, 'states': 4, 'ross': 1, 'distinguished': 1, 'engineers': 1, 'and': 8, 'nursing': 1, 'december': 1, 'is': 4, 'philippine': 1, 'an': 1, 'ii': 1, 'as': 1, 'his': 2, 'at': 3, 'in': 7, 'united': 4, 'when': 2, 'graduate': 2, 'also': 1, 'beach': 1, 'development': 1, 'star': 3, 'may': 1, 'after': 1, 'frances': 1, 'william': 1, 'designed': 1, 'commanding': 1, 'medal': 1, 'died': 1, 'a': 5, 'i': 1, 'age': 1, 'command': 2, 'the': 13}, {'now': 1, 'played': 1, 'september': 1, 'when': 1, 'over': 1, 'years': 1, 'wolverhampton': 1, 'alzheimers': 1, 'still': 1, 'children': 1, 'scoring': 1, '27': 1, 'cup': 1, 'to': 3, '400': 1, '2014': 1, 'has': 1, 'division': 1, 'his': 4, 'march': 1, 'express': 1, 'break': 1, 'tiptonhe': 1, 'nearly': 1, 'they': 1, 'not': 1, 'tipton': 2, 'girlshe': 1, 'debut': 1, 'twice': 1, 'landlord': 1, 'team': 2, 'married': 1, 'england': 2, 'walsall': 2, 'house': 1, 'related': 1, 'born': 3, 'second': 1, 'year': 1, 'for': 2, 'since': 1, 'dudley': 1, 'fellows': 1, 'seriously': 1, 'unable': 1, 'between': 1, 'public': 1, 'seasonafter': 1, 'who': 1, 'of': 6, 'from': 2, '1939': 1, 'beginning': 1, 'league': 2, 'career': 2, '32': 1, 'staffordshire': 1, 'diseasehe': 1, 'wanderers': 1, 'games': 1, 'first': 1, 'teenage': 1, 'there': 1, 'retired': 1, 'win': 1, 'into': 1, 'three': 1, '60': 1, 'middlesbrough': 1, 'steven': 1, 'ian': 1, '1982': 2, '196465': 1, 'union': 1, 'top': 1, 'roper': 3, 'two': 2, 'been': 1, 'footballerhe': 1, 'was': 3, 'until': 1, 'today': 1, '1950s': 1, 'mostly': 1, 'that': 1, 'club': 2, 'park': 1, 'alan': 1, 'lives': 2, 'with': 1, 'he': 2, '10': 1, '2008references': 1, 'made': 1, '1995': 1, '16': 1, 'car': 1, 'signed': 1, 'youth': 1, 'were': 1, 'making': 1, '1962': 1, 'and': 7, 'remained': 1, 'is': 2, 'one': 1, 'as': 1, 'at': 3, 'have': 1, 'in': 13, 'claimed': 1, 'crash': 1, 'wolves': 1, 'end': 1, 'retiring': 1, '1966': 1, 'lesley': 2, 'mid': 1, 'fullback': 1, '1': 1, 'other': 1, 'which': 1, 'injured': 1, 'star': 1, 'may': 2, 'appearances': 1, 'football': 2, 'hometown': 1, 'but': 2, 'midlands': 1, 'sides': 1, 'a': 4, 'suffers': 1, 'valerie': 1, 'age': 1, 'spent': 1, '1970': 1, '1964': 1, 'professional': 1, 'the': 12, 'began': 1}, {'serving': 1, 'show': 3, 'dance': 2, 'money': 1, 'labels': 1, 'years': 2, 'pops': 1, 'schools': 1, 'during': 2, 'campbell': 1, 'fidelity': 1, '1982following': 1, 'line': 1, 'weekly': 1, 'orleans': 3, 'group': 1, '23': 1, 'tv': 1, 'pier': 1, 'freelance': 1, 'who': 1, 'to': 7, 'fellow': 1, 'raising': 1, 'southland': 1, 'peanuts': 1, 'bourbon': 1, 'local': 1, 'carolina': 1, 'havens': 4, 'move': 1, 'victims': 1, 'very': 1, 'big': 1, 'michigan': 1, 'continues': 1, 'coast': 1, '1955': 1, 'famous': 1, '1957': 1, '1956': 1, 'jack': 1, 'scholarship': 1, 'front': 1, 'world': 1, 'continued': 1, 'illinoisafter': 1, 'school': 1, 'held': 2, 'university': 1, 'featured': 1, 'soloist': 1, 'benefit': 1, 'saxophone': 1, 'clarinetist': 1, 'popular': 1, 'concerts': 1, 'girard': 1, 'often': 1, 'series': 1, 'national': 1, 'pacific': 1, 'joined': 2, 'born': 1, 'street': 1, 'symphony': 1, 'trombone': 3, 'chair': 2, 'interlochen': 1, 'pete': 1, 'throughout': 2, 'appear': 1, 'for': 4, 'orchestra': 4, 'both': 1, 'label': 1, '3': 1, 'fountain': 1, 'tromboneborn': 1, 'new': 3, 'girards': 1, 'trombonist': 1, 'led': 1, 'lawrence': 2, 'bandsman': 1, '1995': 1, 'met': 1, 'job': 1, 'dixieland': 1, 'groups': 1, 'from': 3, 'along': 1, 'by': 2, 'on': 4, 'about': 1, 'talent': 1, 'many': 2, 'recognized': 1, 'later': 1, 'tour': 1, '1930': 1, 'katrinabob': 1, 'bob': 6, 'teagardenin': 1, 'persuaded': 1, 'first': 4, 'vic': 1, 'family': 1, 'appeared': 1, 'instruments': 1, 'seven': 1, 'guard': 1, 'ralph': 1, 'crosby': 1, 'jazz': 4, '1985': 1, '250': 1, 'benny': 1, 'george': 1, 'concert': 2, 'hurricane': 1, '1982': 1, 'working': 1, 'instrument': 1, 'west': 1, 'there': 1, 'their': 1, 'cats': 1, 'music': 1, 'ringwald': 1, 'was': 2, 'until': 2, 'idol': 1, 'door': 1, 'that': 1, 'zarchy': 1, 'formed': 1, 'great': 1, 'landed': 1, 'lives': 1, 'albums': 2, 'an': 1, 'with': 13, 'vocalspiano': 1, 'he': 12, '12': 1, 'join': 1, 'left': 1, '16': 1, 'this': 2, 'when': 2, 'dans': 1, 'war': 1, 'record': 1, 'while': 1, 'hirt': 4, 'of': 3, 'piece': 1, 'at': 6, 'and': 13, 'his': 7, 'camp': 1, '600': 1, 'played': 2, 'is': 2, 'al': 1, 'trumpetin': 1, 'as': 4, 'good': 1, 'performed': 1, 'in': 14, 'violin': 1, 'times': 1, 'ava': 1, 'dozen': 1, 'recorded': 2, 'studying': 1, 'began': 1, '1960': 2, 'american': 1, 'stayed': 1, 'illinois': 3, 'also': 2, 'goodman': 1, 'other': 1, '2005': 1, 'korean': 1, 'zeke': 1, 'musician': 1, 'star': 1, 'may': 1, 'time': 1, 'ended': 1, 'musiciansbob': 1, 'barber': 1, 'festivals': 1, 'hucko': 1, 'a': 9, 'don': 1, 'lead': 1, 'band': 7, 'verve': 1, 'age': 3, 'welk': 3, 'lasted': 1, 'flanagan': 1, 'playing': 1, 'quincy': 4, 'nelson': 1, 'tenure': 1, 'north': 1, 'professional': 2, 'the': 24, 'audio': 1, 'musical': 1, 'consisted': 1}, {'weavers': 1, 'singersongwriter': 1, 'recorded': 1, 'queen': 1, 'london': 1, 'renewed': 1, 'tv': 1, 'breathy': 1, 'had': 1, 'fared': 1, 'late': 1, 'to': 2, 'only': 1, '1930s': 1, 'i': 3, 'votel': 2, 'peaked': 1, 'his': 1, 'dj': 1, 'song': 1, 'food': 1, 'watch': 1, 'languished': 1, 'dark': 1, 'records': 1, 'manchesterbased': 1, 'christie': 5, 'lady': 1, 'hall': 1, 'appearing': 1, 'lost': 1, 'artist': 2, 'performing': 1, 'cochrane': 1, 'chorus': 1, 'she': 1, 'release': 1, 'went': 1, 'concert': 1, 'national': 1, 'donald': 1, 'billboard': 1, 'folk': 3, 'canada': 1, 'project': 1, 'for': 3, 'novelty': 1, 'label': 1, 'reminiscent': 1, 'track': 1, 'written': 1, 'songbirdchristie': 1, 'hill': 1, 'three': 1, 'ever': 1, 'philadelphia': 1, 'filled': 1, 'be': 1, 'august': 1, 'reaching': 1, 'compilation': 1, 'attention': 1, 'commercial': 2, 'however': 1, 'free': 1, 'funyuns': 1, 'snack': 1, 'vinyl': 1, 'backed': 1, 'from': 2, '100': 2, 'weaver': 1, 'on': 5, 'canadian': 1, 'of': 4, 'players': 1, 'magazine': 1, 'spin': 1, 'backup': 1, 'unreleased': 1, 'ladies': 2, 'love': 3, 'obscurity': 1, 'appeared': 1, 'kazoo': 1, 'cd': 1, 'brought': 1, 'onionflavored': 1, '63': 1, 'rpm': 1, 'brilliantly': 1, 'better': 1, 'described': 3, 'guest': 1, 'copies': 1, 'by': 5, 'paint': 1, 'much': 1, 'andy': 1, 'psychedelic': 1, 'jane': 1, 'music': 1, 'bird': 1, 'john': 1, 'participated': 1, 'until': 1, 'minor': 1, 'received': 1, 'with': 3, 'fallen': 1, 'spearheaded': 1, 'copy': 1, '1980signed': 1, 'sound': 1, 'television': 1, 'turtles': 1, '19': 1, 'was': 3, 'as': 7, 'vocal': 1, '2010': 1, 'recording': 1, 'considered': 1, 'pressed': 1, 'were': 1, 'male': 1, 'at': 2, 'and': 8, 'is': 2, 'it': 1, 'an': 3, 'single': 1, 'dropped': 1, 'in': 8, 'hit': 1, '1970': 1, 'onions': 1, '1966': 2, 'when': 1, 'funky': 1, '1': 1, 'hot': 1, 'strange': 1, 'which': 3, 'album': 7, 'bearded': 1, 'columbia': 2, 'elizabeth': 1, '60s': 1, 'singles': 1, 'chart': 2, 'christies': 1, 'noncommercial': 1, 'spouse': 1, '2008': 1, 'tune': 2, 'a': 10, 'susan': 1, 'pennsylvania': 1, 'adapted': 2, 'later': 1, 'having': 1, '2006': 1, 'american': 1, 'the': 16, 'singersin': 1, 'original': 1, 'songs': 1}, {'precisiontooled': 1, 'developed': 1, 'results': 1, 'quarters': 1, 'helena': 1, 'including': 1, 'before': 1, 'apartment': 1, 'police': 1, 'deserts': 1, 'earned': 1, 'writer': 3, 'sky': 1, 'minnesota': 2, 'to': 7, 'include': 1, 'mystery': 1, 'jake': 1, 'around': 1, 'regional': 1, 'dell': 1, 'grew': 1, 'owned': 1, 'they': 1, 'stasio': 1, 'years': 1, 'desire': 1, 'articles': 1, '1999': 1, 'she': 4, 'small': 1, 'where': 2, 'husband': 1, 'set': 2, 'series': 2, 'second': 1, 'result': 1, 'diver': 1, 'techniques': 1, 'canada': 1, 'living': 1, 'motel': 2, 'extensively': 1, 'research': 1, 'above': 1, 'new': 1, 'burke': 1, 'europe': 1, 'publishers': 1, 'arizona': 1, 'of': 9, 'southeast': 1, 'york': 1, 'path': 1, 'beginning': 1, 'marilyn': 1, 'harlequin': 1, 'license': 1, 'career': 2, 'many': 1, 'according': 1, 'times': 1, 'american': 1, 'became': 1, 'fulltime': 1, 'published': 1, 'pilots': 1, 'raised': 1, 'family': 1, 'into': 1, 'private': 1, 'one': 1, 'sailor': 1, 'directly': 1, 'sarah': 1, 'city': 1, 'her': 11, 'two': 1, 'their': 1, 'liveaboard': 1, 'travelled': 1, 'was': 2, 'mountains': 1, 'lived': 1, 'becoming': 1, 'novelsgunn': 1, 'innkeeper': 1, 'lives': 1, 'careful': 1, 'with': 1, 'those': 1, 'hines': 1, 'made': 1, 'sailing': 1, 'this': 1, 'phillip': 1, 'rutherford': 1, 'up': 1, 'us': 2, 'while': 1, 'were': 1, 'scuba': 1, 'and': 7, 'mexico': 1, 'is': 3, 'moved': 2, 'an': 2, 'as': 5, 'together': 1, 'in': 9, 'tucson': 3, 'author': 1, 'retiring': 1, 'began': 1, 'write': 1, 'setting': 1, 'which': 1, 'papers': 1, 'forge': 1, 'several': 1, 'daughters': 1, 'gunn': 5, 'elizabeth': 1, 'novels': 1, 'houseprior': 1, 'montana': 1, 'lobby': 1, 'a': 9, 'hiked': 1, 'procedurals': 1, 'later': 1, 'fictional': 1, 'cramped': 1, 'walker': 1, 'severn': 1, 'the': 9, 'travel': 2}, {'all': 2, 'savannah': 1, 'over': 2, 'sleepy': 1, 'hampton': 2, 'years': 1, 'including': 1, 'fletcher': 1, 'atlanta': 1, 'before': 1, 'tv': 2, 'highlights': 1, 'to': 1, 'animation': 1, 'pearson': 1, 'include': 2, 'viking': 1, 'his': 1, 'means': 1, 'horror': 1, 'dc': 2, '1954': 1, 'storyboard': 1, 'ghostbusters': 1, 'sony': 1, 'hollow': 1, 'smash': 1, 'school': 1, 'motorola': 1, 'always': 1, 'noted': 1, 'popular': 1, 'page': 1, 'realism': 1, 'warner': 1, 'work': 2, 'england': 1, 'bo': 1, 'some': 1, 'born': 1, 'video': 1, 'nbm': 1, 'year': 1, 'mashhe': 1, 'cocacola': 1, 'bellsouth': 1, 'network': 1, 'for': 7, 'behind': 1, 'sequential': 1, 'new': 1, 'fricksfirestone': 1, 'shows': 1, 'full': 1, 'papa': 1, 'incarnation': 1, 'commercial': 1, 'agencies': 1, 'drew': 1, 'york': 1, 'graduated': 1, 'legend': 1, 'extreme': 1, 'on': 1, 'design': 1, 'animated': 1, 'many': 1, 'graphic': 2, 'times': 1, 'length': 1, 'wrote': 1, 'into': 1, 'johns': 1, 'washington': 1, 'period': 1, 'one': 1, 'done': 1, 'art': 2, 'comic': 1, 'bent': 1, 'city': 1, 'arts': 2, 'from': 2, 'publishing': 2, 'live': 1, 'their': 1, '96': 1, 'program': 1, 'was': 2, 'more': 2, 'medium': 1, 'that': 3, 'painted': 2, 'batman': 1, 'tundra': 1, 'visual': 1, 'realms': 1, 'worked': 1, 'with': 1, 'he': 3, 'has': 2, '15': 1, 'glory': 1, 'comics': 2, 'clients': 1, 'us': 1, 'uk': 1, 'of': 7, 'college': 1, 'toward': 1, 'and': 12, 'regularly': 1, 'ad': 1, 'is': 1, 'novel': 1, 'artisthe': 1, 'bros': 1, 'states': 1, 'as': 3, 'at': 1, 'in': 2, 'story': 1, 'superman': 1, 'united': 1, 'develop': 1, 'commercials': 1, 'feature': 1, '40': 1, 'book': 1, 'pizza': 1, 'fairly': 1, 'indianapolis': 1, 'advets': 1, 'novels': 1, 'use': 1, 'spot': 1, 'helping': 1, 'most': 1, 'mccannerickson': 1, 'moving': 1, 'uncommon': 1, 'cowritten': 1, 'cartoon': 2, 'a': 6, 'storyboarding': 1, 'mcmahon': 1, 'professor': 1, 'well': 1, 'spent': 1, 'verdilak': 1, 'the': 6, 'original': 1}, {'particularly': 1, 'german': 1, 'over': 1, 'ordre': 1, 'contemporary': 1, 'merit': 2, 'nicknamed': 1, 'world': 1, 'japan': 1, 'july': 1, 'lettres': 1, 'panther': 1, 'paris': 2, 'recognised': 1, 'to': 2, 'only': 1, 'has': 5, 'personality': 1, 'republics': 1, 'actress': 1, 'birth': 1, 'press': 1, 'honours': 1, 'day': 1, '17': 1, 'success': 1, 'artist': 1, 'numerous': 1, 'having': 1, 'names': 1, 'milva': 1, 'officer': 1, 'each': 1, 'popular': 4, 'officier': 1, 'where': 1, 'italian': 9, 'americahaving': 1, 'often': 1, 'september': 1, 'triumphed': 1, 'national': 1, '1960s': 1, 'hair': 1, 'born': 1, 'greece': 1, 'et': 1, 'programmes': 1, 'theatrical': 1, 'by': 1, 'televised': 1, 'both': 1, 'for': 1, 'federal': 1, 'officially': 1, 'red': 1, 'she': 6, 'korea': 1, 'simultaneously': 1, 'honour': 1, 'french': 2, 'singers': 2, '1939': 1, 'abroad': 1, 'stage': 1, 'on': 1, 'enormous': 1, 'internationally': 1, 'of': 19, 'la': 1, 'times': 1, 'legion': 1, 'south': 1, 'fields': 1, 'one': 1, 'rossa': 1, 'female': 1, 'arts': 1, 'biolcati': 1, 'from': 1, 'personalities': 1, 'her': 4, 'remains': 1, 'chevalier': 1, 'due': 1, 'been': 1, 'france': 1, 'pronunciation': 1, '2': 1, 'music': 1, 'participated': 1, 'an': 1, 'received': 2, 'successful': 1, 'released': 1, 'berlin': 1, 'stems': 1, 'known': 2, 'albums': 1, 'highest': 1, 'with': 1, 'spain': 1, 'goro': 1, '11': 1, 'television': 1, 'animals': 1, 'places': 1, 'this': 1, 'des': 2, 'three': 1, 'stature': 1, 'stages': 1, 'and': 14, 'acclaim': 1, 'is': 4, 'combining': 1, 'commander': 2, 'as': 3, 'have': 1, 'in': 9, 'film': 1, 'native': 1, 'omri': 1, 'italy': 3, 'also': 2, 'republic': 3, 'which': 2, 'events': 1, '2007': 1, 'theatre': 1, 'who': 1, 'june': 1, 'bjolkati': 1, 'most': 2, 'germany': 2, 'additionally': 1, 'maria': 2, 'singer': 1, 'bestowed': 1, 'colour': 1, 'order': 3, 'rome': 1, '2006': 1, 'artistic': 1, '1995': 1, 'the': 22, '2009': 1, 'ilva': 2, 'musical': 3, 'fact': 1}, {'untold': 1, 'producer': 3, 'fox': 2, 'raised': 1, 'credits': 2, 'produced': 1, 'asian': 1, 'yes': 1, 'economist': 1, 'before': 2, 'based': 1, 'tv': 2, 'winner': 1, 'to': 4, 'bush': 1, 'presidential': 1, 'under': 2, 'cum': 1, 'has': 1, 'formosa': 1, 'his': 4, 'michigan': 1, 'dark': 1, 'starbucks': 1, 'association': 1, 'university': 3, 'manhattan': 1, 'leave': 1, 'become': 1, 'starred': 1, 'where': 1, 'cbs': 1, 'series': 1, 'activists': 1, 'taiwanese': 2, 'surrounding': 1, 'decided': 1, 'entering': 1, 'dear': 1, 'extremities': 1, 'er': 1, 'for': 3, 'fulbright': 1, 'research': 1, 'waiting': 1, 'internet': 1, 'international': 4, 'independence': 1, 'ba': 1, 'writertranslator': 1, 'however': 1, 'lefty': 1, 'southeast': 1, 'magna': 1, 'betrayed': 1, 'philippinestiao': 1, 'went': 1, 'stage': 1, 'marty': 1, 'on': 3, 'central': 1, 'tiao': 2, 'career': 1, 'of': 5, 'tlc': 1, 'american': 1, 'w': 1, 'major': 1, 'writer': 1, 'clinton': 1, 'scene': 1, 'george': 1, 'awardwinning': 1, 'story': 1, 'management': 1, 'from': 2, 'relations': 1, 'mencia': 1, 'entertainmenttiao': 1, 'hollywood': 1, 'was': 1, 'received': 2, 'transferring': 1, 'worked': 3, 'fellow': 1, 'true': 1, 'he': 6, 'include': 2, 'ma': 1, 'room': 1, 'born': 1, 'pursue': 1, 'nations': 1, 'will': 1, 'stories': 1, 'cello': 1, 'proof': 1, 'and': 11, 'is': 2, 'mind': 1, 'an': 2, '1980s': 1, 'madtv': 1, 'as': 4, 'at': 1, 'in': 10, 'politics': 2, 'film': 3, 'affairs': 1, 'democracy': 1, 'administration': 2, 'feature': 1, 'actor': 3, 'field': 1, 'boom': 2, 'manila': 1, 'performance': 1, 'comedy': 2, 'events': 1, 'independent': 1, 'columbia': 1, 'theatre': 1, 'kansas': 1, 'stan': 1, 'laude': 1, 'tufts': 1, 'a': 8, 'quarterlife': 1, 'short': 1, 'well': 1, '2002': 1, 'the': 15, 'scholarship': 1}, {'limited': 4, 'yearprimos': 1, 'founder': 1, 'institutional': 1, 'money': 2, 'global': 3, 'domestic': 1, 'nonexecutive': 1, 'llc': 2, 'oldest': 1, 'baldwin': 1, 'children': 1, 'move': 1, 'whose': 1, 'hills': 1, 'acumen': 1, 'with': 1, 'to': 5, 'forbes': 1, 'black': 1, 'board': 2, 'developed': 1, 'has': 1, '2013': 1, '2012': 1, 'advises': 1, 'his': 4, 'march': 1, 'africanamerican': 1, 'moms': 1, 'saluted': 1, 'early': 1, 'matters': 2, 'not': 1, 'world': 1, 'one': 5, 'investor': 1, 'firms': 2, 'listprimo': 1, 'primo': 7, 'become': 1, 'cofounder': 1, 'side': 1, 'quintin': 1, 'signing': 1, 'financial': 3, 'billion': 1, 'september': 1, 'minorityowned': 3, 'funds': 1, 'born': 1, 'investment': 1, '1947in': 1, 'opened': 1, 'for': 4, 'chicago': 1, 'capri': 8, 'its': 1, 'capital': 7, 'international': 1, 'newly': 1, 'fundsas': 1, 'who': 1, 'business': 1, 'partners': 2, 'commercial': 1, 'richest': 1, 'leadership': 1, 'chairman': 3, 'on': 4, 'kids': 1, 'of': 13, 'industry': 1, 'plaza': 1, 'visionary': 1, 'americas': 3, 'angeles': 1, 'magazine': 1, 'ranked': 1, 'twenty': 1, 'south': 1, 'first': 3, 'alliance': 1, 'companyin': 1, 'strategic': 1, 'included': 1, 'americans': 1, 'homeless': 1, 'contributor': 1, 'management': 2, 'estate': 4, 'los': 1, 'addition': 1, 'west': 1, 'top': 1, 'innovation': 1, 'center': 1, 'their': 1, 'philanthropy': 1, '404': 1, 'listed': 1, 'formed': 1, 'was': 4, 'firm': 3, 'urban': 2, 'african': 1, 'becomes': 1, 'company': 1, 'under': 2, 'serve': 1, 'known': 2, 'industrys': 1, 'appointed': 1, 'women': 1, 'also': 1, 'crenshaw': 1, '14': 1, 'publicly': 1, 'this': 1, 'markets': 1, 'mr': 2, 'primos': 1, 'renaming': 1, 'launched': 2, 'and': 9, 'real': 4, 'cnbc': 1, 'transition': 1, 'investors': 1, 'is': 7, 'india': 2, 'an': 2, 'states': 1, 'as': 3, 'malls': 1, 'purchased': 1, 'in': 13, 'iii': 1, 'if': 1, 'united': 1, 'that': 3, 'directors': 1, 'located': 1, 'other': 1, 'ceo': 1, 'which': 2, 'largest': 1, 'regional': 1, 'shelter': 1, 'after': 1, 'director': 1, 'regular': 1, 'services': 3, 'such': 1, 'invest': 1, 'the': 15, 'a': 4, '1955': 1, 'e': 1, 'assets': 1, 'limiteds': 1, 'mezzanine': 1, 'indianregistered': 1, '2000': 1, '2006': 1, 'pension': 1, 'underserved': 1, 'enterprise': 1, 'position': 1, 'overseas': 1, 'latest': 1}, {'portraying': 1, 'catweazle': 1, 'show': 1, 'sheltering': 1, 'displayed': 1, 'pops': 1, 'episodes': 1, 'including': 2, 'bayldon': 2, 'paul': 1, 'envy': 1, 'based': 1, 'title': 1, 'wizard': 1, 'had': 1, 'yorkshire': 1, 'to': 3, 'theme': 1, 'dramatisation': 1, 'riding': 1, 'has': 3, 'mortality': 1, 'first': 2, 'his': 1, 'blott': 1, 'big': 1, 'watch': 1, '1993': 1, 'finish': 1, 'game': 1, 'five': 1, 'schools': 1, 'magic': 1, 'leeds': 1, 'bayldons': 1, 'january': 1, 'dramas': 1, 'organon': 1, 'where': 1, 'university': 1, 'revolution': 1, 'series': 6, 'magnificent': 1, 'tvs': 1, 'born': 2, 'second': 1, 'productions': 1, 'video': 1, 'turning': 1, 'programmes': 1, 'alternative': 1, 'provided': 1, 'rex': 1, 'unbound': 1, 'grandad': 1, 'for': 2, 'open': 1, 'tales': 1, 'boogie': 1, 'include': 2, 'version': 1, 'shakespeare': 1, '7': 1, 'new': 1, 'porridge': 2, 'who': 4, 'recently': 1, 'sins': 1, 'longrunning': 2, 'royale': 1, 'by': 1, 'after': 2, 'guest': 2, 'on': 3, 'of': 12, 'casino': 1, 'british': 1, '1965': 1, 'became': 1, '1995bayldon': 1, '1970s': 1, 'vocals': 1, 'other': 1, 'otherwise': 1, 'among': 1, 'plays': 1, 'love': 1, 'childrens': 1, 'appeared': 1, 'number': 2, 'down': 2, 'newtons': 1, 'boyard': 1, 'singing': 1, 'landscape': 1, '1986': 1, '1987': 1, 'he': 7, '1985': 1, 'from': 1, '1983': 1, 'marc': 1, 'west': 1, 'top': 1, 'bbc': 4, 'two': 2, 'fiction': 1, 'geoffrey': 1, 'storm': 1, 'was': 3, 'more': 2, 'both': 1, 'leonard': 1, 'cops': 1, 'talents': 1, 'crowman': 1, '1960s': 1, 'doctors': 1, 'known': 1, 'with': 1, 'fort': 1, 'king': 1, 'television': 6, 'made': 2, 'roles': 2, 'science': 1, 'appearance': 2, 'as': 6, 'vocal': 1, 'governoramong': 1, 'simplicio': 1, 'many': 1, '1924': 1, 'angelsother': 1, 'and': 7, 'seven': 1, 'played': 2, 'is': 1, 'an': 1, 'rat': 1, 'bolant': 1, '1971': 1, '197072': 1, 'in': 18, 'pit': 1, 'film': 3, 'sir': 1, 'unexpected': 1, 'doctor': 5, 'deadly': 1, '1967': 3, '1961': 1, 'actor': 1, 'also': 3, 'unexploited': 1, 'parts': 2, 'role': 1, 'auld': 1, 'which': 1, 'several': 1, 'creature': 1, 'play': 1, 'used': 1, 'star': 1, 'palms': 1, 'gummidge': 1, 'appearances': 2, 'worzel': 1, 'such': 1, 'segment': 1, 'avengers': 1, 'recent': 1, 'a': 6, 'episode': 1, '1979': 2, 'tricks': 1, 'caseyin': 1, '197981': 1, '1998he': 1, 'q': 1, 'without': 1, '2007': 1, 'hardcastles': 1, 'the': 31, 'audio': 1, 'opportunity': 1, 'playing': 1}, {'sonoma': 1, 'german': 2, 'years': 1, 'founded': 1, 'experiments': 2, 'assessment': 1, 'chair': 1, 'its': 2, 'ikerbasque': 3, 'based': 1, 'web': 2, 'causality': 1, 'iscience': 2, 'title': 1, 'privatdozent': 1, 'had': 2, 'young': 1, 'leibniz': 1, 'won': 1, 'habilitation': 1, 'prof': 1, 'founders': 1, '2013': 1, '2012': 1, 'real': 1, 'tests': 1, 'his': 5, 'founding': 1, 'big': 1, 'de': 1, 'honorable': 1, 'world': 1, 'dr': 1, 'him': 2, 'uwe': 1, 'articles': 1, 'rhetoric': 1, 'elected': 1, 'cognition': 1, 'university': 7, 'standards': 1, 'tenured': 1, 'scientist': 1, 'switzerland': 1, 'where': 2, 'wrote': 1, 'methods': 2, 'zurich': 1, 'dgof': 1, 'spanish': 1, 'society': 3, 'konstanz': 1, 'full': 1, 'measurement': 1, '7th': 1, 'laboratory': 1, 'universities': 1, 'psychology': 10, 'for': 6, 'undergraduate': 1, 'currently': 1, 'research': 4, 'state': 1, 'majored': 1, 'scientists': 1, 'international': 1, 'method': 1, 'attended': 1, 'superior': 1, 'ma': 1, 'journal': 2, 'jointly': 1, 'experimenting': 2, 'ranked': 1, 'california': 1, 'matzat': 1, 'affiliated': 2, 'article': 1, 'between': 1, 'chapter': 1, 'both': 1, 'conducting': 2, 'of': 21, 'computers': 1, 'bilbao': 1, 'american': 1, 'became': 1, 'fulltime': 1, 'assistant': 1, 'social': 1, 'internetbased': 4, 'or': 1, 'experimental': 3, 'first': 3, 'via': 1, 'colorado': 1, 'consejo': 1, 'political': 1, 'jens': 1, 'scipulfdietrich': 1, 'private': 1, 'one': 2, 'psychological': 2, 'president': 1, 'kolleg': 1, 'nonnorth': 1, 'tbingen': 2, 'from': 3, 'working': 2, 'basis': 1, 'remains': 1, 'journals': 1, 'top': 1, 'venia': 1, 'by': 1, 'editor': 1, 'was': 4, 'is': 4, 'minor': 1, 'legendi': 1, 'field': 1, 'that': 1, 'award': 2, 'reips': 6, 'particular': 1, 'general': 1, 'with': 4, 'spain': 2, 'he': 9, 'wide': 1, '1992': 1, '1995': 1, '1994': 1, '1997': 2, 'affiliation': 1, 'science': 3, 'until': 1, 'deusto': 1, 'cientificas': 1, 'walter': 1, 'and': 15, 'boulder': 1, 'seven': 1, '2014ulfdietrich': 1, 'defined': 1, 'cited': 1, 'received': 3, 'ulfdietrich': 2, 'an': 3, 'as': 1, 'at': 5, 'in': 17, 'investigaciones': 1, 'since': 1, 'media': 1, 'holds': 1, 'graduate': 1, 'serving': 1, 'sciences': 1, 'methodology': 1, 'book': 1, 'online': 2, 'department': 2, 'lecturer': 1, 'used': 1, 'internet': 4, 'lab': 1, 'phd': 1, 'most': 2, 'germany': 1, 'student': 1, 'faculty': 1, 'neuroscience': 1, 'on': 5, 'data': 1, 'oberassistent': 1, 'a': 8, 'methodologies': 1, 'professor': 3, 'later': 1, 'spent': 1, '2002': 1, '2004': 1, '2005': 1, 'the': 26, '2009': 2}, {'pense': 1, 'scientist': 1, 'committee': 1, 'biologist': 1, 'issues': 1, 'ncehr': 1, 'group': 1, 'la': 1, 'representing': 1, 'codirector': 2, 'to': 2, 'program': 1, 'screening': 1, 'has': 2, 'division': 1, 'his': 2, 'founding': 1, 'lambertprofessor': 1, 'interdisciplinary': 1, 'camus': 3, 'de': 6, 'collge': 2, 'sant': 1, 'du': 2, 'articles': 1, 'masters': 1, 'committees': 1, 'd': 1, 'served': 1, 'universit': 3, 'works': 1, 'where': 2, 'programme': 1, 'ethical': 1, 'en': 1, 'reference': 1, 'testing': 1, 'some': 1, 'society': 1, 'books': 1, 'quebec': 1, 'canada': 1, 'sociology': 1, 'genetics': 3, 'network': 1, 'richard': 1, 'currently': 1, 'philosopher': 2, 'religion': 1, 'various': 1, 'sshrc': 1, 'medicine': 1, 'evaluation': 1, 'who': 1, 'fribourg': 1, 'degree': 1, 'associate': 1, 'french': 1, 'teaches': 1, 'by': 2, 'received': 1, 'recherche': 1, 'canadian': 1, 'of': 10, 'funded': 2, 'interinstitutional': 1, 'experimental': 1, 'researcher': 1, 'laval': 1, 'qubec': 1, 'des': 1, '1986': 1, 'from': 3, 'mlanon': 4, 'analyse': 1, 'two': 1, '1988': 1, 'genetic': 1, 'clinical': 1, 'authored': 1, 'more': 1, 'gnthiq': 1, 'mostly': 2, 'on': 3, 'bioethicshe': 1, 'albert': 3, 'specialty': 1, 'frsqprofessor': 1, 'particular': 1, 'known': 1, 'worked': 1, 'with': 3, 'than': 1, 'he': 6, 'j': 1, 'doctorate': 1, 'at': 2, 'and': 12, 'soutien': 1, 'vicepresident': 1, 'is': 8, 'marcel': 1, 'an': 2, 'as': 1, 'together': 1, 'in': 13, 'fonds': 1, 'switzerlandprofessor': 1, 'bioethics': 3, 'graduate': 1, 'member': 3, 'also': 3, 'book': 1, 'department': 2, 'chercheurs': 1, 'philosophy': 2, 'director': 1, 'ethics': 4, 'law': 1, 'sa': 1, 'qubecfrsq': 1, 'a': 9, 'chicoutimi': 2, 'for': 1, 'professor': 1, 'analysis': 1, 'thought': 1, 'researchers': 1, 'the': 14, 'pscche': 1}, {'surrey': 1, 'operations': 1, 'tomorrows': 1, 'gold': 2, 'being': 1, 'over': 1, 'companieswhile': 1, 'four': 1, 'radio': 15, 'its': 4, 'departed': 1, '24': 1, '20': 1, 'the': 13, 'platform': 1, 'program': 1, 'listing': 1, '2014': 1, 'merged': 1, 'eventually': 1, 'his': 1, 'format': 1, 'ceo': 4, 'transitioning': 1, 'pirate': 3, 'kiss': 1, 'new': 2, 'world': 2, 'day': 1, 'joined': 2, 'londonafter': 1, 'officer': 1, 'served': 1, 'where': 1, 'programme': 1, 'newspaper': 1, 'set': 1, 'a': 6, 'hosted': 2, 'star': 1, 'based': 1, 'investment': 1, 'network': 1, 'for': 3, 'radioin': 1, 'fox': 1, 'research': 1, 'current': 1, 'senior': 2, 'berkshires': 1, 'then': 3, 'capital': 1, 'international': 2, 'before': 1, 'consisting': 1, 'shows': 1, 'pioneering': 1, 'eagle': 1, 'after': 2, 'uk': 4, '1984': 1, 'jointly': 1, 'hours': 1, 'promoted': 2, 'concentrate': 1, 'studio': 1, 'york': 1, 'key': 1, '102': 1, 'group': 3, 'on': 3, '1980': 1, 'division': 1, 'launch': 6, 'of': 8, 'newspapers': 1, 'compliance': 1, 'programming': 1, 'british': 1, 'exeter': 1, 'became': 2, 'software': 1, 'and': 10, 'uks': 1, 'innovations': 1, 'county': 6, 'services': 1, 'featured': 1, 'news': 2, 'market': 1, '1986': 2, 'awardwinning': 1, 'use': 2, 'management': 2, 'from': 3, '1983': 1, 'working': 1, 'to': 12, 'played': 1, 'bbc': 1, 'system': 1, 'rcs': 3, 'plains': 1, 'station': 4, 'music': 2, 'editor': 1, 'master': 1, 'white': 1, 'was': 4, 'launching': 1, 'separated': 1, 'introducing': 1, 'head': 1, 'form': 1, 'technologiesin': 1, 'company': 1, 'cornwall': 1, 'selector': 1, 'delta': 1, 'role': 1, 'with': 3, 'former': 1, 'he': 6, 'customer': 1, 'october': 2, '1995': 1, 'joint': 2, 'ukrd': 3, 'stations': 3, 'up': 1, 'venture': 1, 'growing': 1, 'taking': 1, 'launched': 1, 'control': 1, 'associated': 1, 'computing': 1, 'is': 1, 'moved': 1, 'mike': 1, 'as': 5, 'at': 3, 'in': 9, 'breakfast': 1, 'technology': 1, '1991': 1, 'musicscheduling': 1, 'affairs': 1, 'manchesters': 1, 'westcountry': 1, 'torbay': 1, 'media': 1, 'sound': 6, 'computerised': 2, 'chairman': 1, 'which': 3, 'digital': 1, 'several': 1, 'powell': 7, 'stock': 1, 'infinity': 3, 'provincial': 1, 'who': 1, 'automation': 1, 'director': 1, 'running': 1, 'playoutshortly': 1, 'designed': 1, 'showpowell': 1, 'included': 1, 'president': 2, 'guildford': 1, 'fm': 5, 'building': 1, 'journalist': 2, 'vice': 2, 'later': 1, 'headquarters': 1, '2002': 1, '964': 1, 'chief': 1, '2001': 1, 'devonair': 1, 'first': 2}, {'all': 2, 'help': 1, 'september': 1, 'belarusian': 2, 'including': 1, 'footballers': 1, 'scoring': 1, '26': 1, 'cut': 1, 'group': 1, '21': 1, '22': 1, 'earned': 1, 'toulon': 1, 'to': 4, '4': 1, '2011': 4, 'friendly': 2, 'match': 2, '2012': 2, 'his': 6, 'qualifier': 1, 'was': 6, 'matches': 2, '12': 2, 'not': 1, 'under21': 4, 'did': 1, 'denmark': 1, 'debut': 1, 'twice': 1, 'latvia': 1, '18': 1, 'london': 1, 'side': 1, 'the': 19, 'salihorskyurchenko': 1, 'competition': 1, 'born': 1, 'callup': 1, 'plays': 1, 'missed': 1, 'for': 8, 'selected': 2, 'senior': 1, 'olympics': 1, 'nominees': 1, 'football': 4, 'august': 1, 'opening': 1, 'team': 4, 'yurchenko': 4, 'uladzimir': 1, 'november': 1, 'by': 1, 'stage': 1, 'on': 3, 'championshipon': 1, 'country': 1, '30': 1, 'against': 4, 'players': 1, 'games': 1, 'u21': 6, 'qualification': 1, 'first': 2, 'shakhtyor': 1, 'win': 2, 'netted': 2, 'austria': 1, 'national': 1, 'yurchanka': 1, 'withdrawn': 1, 'from': 2, 'three': 2, '1989': 1, '2': 1, 'injury': 1, 'participated': 2, 'final': 1, 'aliaksandr': 1, 'secured': 1, 'that': 1, 'but': 3, 'omanon': 1, 'part': 3, 'perepechka': 1, 'russian': 1, 'he': 4, 'october': 1, 'footballer': 1, 'vasilyevich': 1, '2010': 2, 'replaced': 1, 'of': 4, 'following': 1, 'pretournament': 1, 'and': 4, 'is': 1, 'tournament': 1, 'as': 1, 'reserves': 1, 'in': 10, 'made': 3, 'italy': 1, 'goal': 1, 'january': 1, 'make': 1, '43': 1, 'mogilev': 1, '1': 1, 'also': 1, 'belarussian': 1, 'squad': 3, 'take': 1, 'which': 1, '9': 1, 'european': 4, 'injured': 2, 'championship': 3, 'appearances': 1, 'who': 1, 'june': 1, 'preliminary': 1, '2008': 1, 'recovery': 1, 'a': 5, 'home': 1, 'belarus': 2, 'subsequently': 1, '2009': 2, 'uefa': 4}, {'fukui': 1, 'developed': 1, 'years': 1, 'including': 1, 'worked': 2, 'scoring': 1, '21': 1, 'earthbound': 1, 'to': 2, 'black': 1, 'smile': 1, 'piano': 1, 'has': 3, '2010': 1, 'his': 4, 'march': 1, 'records': 1, 'game': 5, 'ones': 1, 'they': 1, '1959': 1, 'organ': 1, 'keyboards': 1, 'joined': 1, 'roth': 1, 'rock': 2, 'found': 1, 'works': 1, 'where': 1, 'concerts': 2, 'twelve': 1, 'square': 4, 'creator': 1, 'series': 2, 'influenceuematsu': 1, 'japanese': 1, 'born': 1, 'titles': 2, 'video': 5, 'best': 1, 'composers': 1, 'elton': 1, 'for': 2, 'nobuo': 2, 'since': 2, 'please': 1, 'label': 1, 'freelancer': 1, 'notably': 1, 'met': 1, 'studio': 1, 'compositions': 1, 'on': 2, 'selftaught': 1, 'many': 2, 'games': 2, 'tsuyoshi': 1, 'or': 1, 'composed': 1, 'enix': 2, 'own': 1, 'grammy': 1, 'sakaguchi': 1, 'community': 1, 'one': 1, 'fantasy': 5, 'papas': 1, 'composer': 1, 'electronic': 1, '1986': 1, 'awardwinning': 1, 'from': 2, 'famous': 1, 'been': 2, 'by': 1, 'eleven': 1, 'music': 2, 'biggest': 1, 'john': 1, 'was': 1, 'final': 5, 'conductor': 1, 'company': 1, 'musician': 1, 'released': 1, 'known': 1, 'albums': 1, 'ear': 1, 'with': 5, 'he': 8, 'colleagues': 1, 'mistwalkersoundtracks': 1, 'arranged': 2, 'versions': 1, 'these': 1, '18': 1, 'uematsus': 2, 'of': 6, 'mages': 1, 'kenichiro': 1, 'called': 2, 'at': 1, 'and': 6, 'played': 2, 'is': 2, 'hironobu': 1, 'pieces': 1, 'respected': 1, 'sekito': 1, 'as': 2, 'performed': 2, 'have': 3, 'in': 8, 'arnie': 1, 'began': 1, 'majority': 1, 'other': 2, 'which': 1, 'uematsu': 3, 'several': 1, 'development': 1, 'after': 1, 'most': 2, 'scores': 1, 'a': 4, 'band': 3, 'considered': 1, 'age': 1, 'later': 1, 'dog': 1, 'together': 1, '2002': 1, '2004': 1, 'the': 11, 'sakaguchis': 1, 'playing': 1, 'left': 1}, {'john': 1, 'focus': 1, 'yellow': 1, 'reviewed': 1, 'four': 1, 'course': 1, 'lsu': 1, 'books': 3, 'shoe': 1, 'griffith': 1, 'tendency': 1, 'weekly': 1, 'with': 1, 'writer': 3, 'distributed': 1, 'writing': 2, 'to': 4, 'has': 2, 'his': 3, 'press': 1, 'mcsweeneys': 1, 'day': 1, 'imprint': 1, 'university': 1, 'debut': 1, 'michael': 1, 'morning': 1, 'man': 1, 'contain': 1, 'warner': 2, 'edited': 1, 'seagerhe': 1, 'series': 2, 'kirkus': 1, 'allan': 1, 'born': 2, 'taught': 1, 'college': 1, 'what': 1, 'humor': 2, 'for': 1, 'collaborates': 1, 'creative': 4, 'students': 1, 'internet': 1, 'czar': 1, 'publishers': 1, 'dictionary': 1, 'warners': 1, 'news': 1, 'teach': 1, 'teaches': 1, 'by': 4, 'publication': 1, 'great': 1, 'most': 2, 'of': 6, 'inspired': 1, 'american': 2, 'published': 1, 'charleston': 2, 'frequent': 1, 'tough': 1, 'previously': 1, 'tow': 1, 'northbrook': 1, '2008currently': 1, 'contributor': 1, 'story': 1, 'publishing': 1, 'working': 1, 'army': 1, 'create': 1, 'three': 1, 'been': 2, 'fiction': 1, 'humorous': 1, 'editor': 2, 'resulted': 1, 'guilfoile': 1, 'was': 5, 'more': 1, 'uncle': 1, 'fictionhe': 1, 'he': 5, 'novel': 1, 'this': 2, 'stumbling': 1, 'work': 1, 'reviews': 1, 'future': 1, 'publications': 1, 'clemson': 2, 'politically': 1, 'and': 9, 'dedicated': 1, 'raging': 1, 'is': 7, 'it': 1, 'an': 1, 'at': 2, 'in': 7, 'kevin': 1, 'funny': 1, 'author': 1, 'nuts': 1, 'illinois': 1, 'how': 1, 'book': 1, 'inquiry': 2, 'incwarner': 1, 'fw': 1, 'may': 1, 'collection': 1, 'director': 1, 'sc': 2, 'student': 1, 'frequently': 1, 'america': 1, 'recent': 1, 'a': 5, 'short': 1, '1970': 1, 'chief': 1, 'anthologized': 1, 'the': 12}, {'coach': 1, 'years': 1, 'illustrated': 1, 'through': 1, 'title': 1, 'champions': 1, 'to': 2, 'coaching': 1, 'he': 5, 'surprised': 1, 'his': 5, 'game': 2, 'they': 1, 'not': 1, 'lilburn': 1, 'rebounds': 2, 'him': 1, 'hall': 1, 'school': 1, 'sophomore': 1, 'wooden': 3, 'university': 1, 'cofounded': 1, 'mcinstosh': 1, 'woodens': 1, 'went': 1, '57': 1, 'national': 2, 'hard': 1, 'college': 2, 'gameyears': 1, 'doug': 3, 'nba': 1, '1965mcintosh': 1, 'currently': 1, 'per': 2, 'won': 2, 'theological': 1, 'drafted': 1, 'attended': 1, 'mcintosh': 5, 'california': 1, 'key': 1, 'anchoring': 1, 'cornerstone': 1, 'on': 1, 'bible': 1, '543': 1, 'career': 2, 'didnt': 1, '30': 1, 'against': 1, 'bruin': 1, 'angeles': 1, 'players': 1, 'magazine': 1, 'became': 1, 'workfollowing': 1, 'first': 1, 'duke': 1, 'retired': 1, 'appeared': 1, 'one': 1, '64': 1, 'church': 1, 'contributor': 1, 'pivot': 1, 'next': 1, 'bruins': 1, 'basketball': 2, 'from': 1, 'would': 2, 'their': 2, 'west': 1, 'ucla': 1, 'sports': 1, 'los': 1, 'much': 1, 'draft': 1, 'john': 2, 'was': 3, 'that': 4, 'grabbing': 1, 'pastor': 1, 'but': 1, 'championships': 1, 'believe': 1, 'junior': 2, 'starter': 2, 'center': 1, '11': 1, 'georgia': 1, 'fulfilling': 1, 'say': 1, 'kentucky': 1, 'future': 1, 'of': 4, 'seminary': 2, 'minutes': 1, 'and': 7, 'stated': 1, 'is': 2, 'high': 1, 'player': 1, 'as': 4, 'at': 4, 'in': 7, 'fame': 1, 'dallas': 1, '1964': 1, '1965': 1, '1966': 1, 'american': 1, 'potential': 1, 'lily': 2, 'scored': 1, 'play': 2, 'championship': 1, 'closest': 1, 'who': 1, 'two': 3, 'significant': 1, 'seasons': 1, 'the': 9, 'a': 9, 'for': 5, 'later': 2, 'cover': 1, '486': 1, 'points': 1, 'tenure': 1, 'senior': 1, 'playing': 1, 'came': 1, 'reserve': 1}, {'ito': 1, 'powering': 1, 'founder': 2, 'cofounded': 2, 'september': 3, 'over': 1, 'executive': 1, 'focus': 1, 'entrepreneurin': 1, 'its': 1, 'partners': 1, '22': 1, 'jeff': 1, 'exclusively': 1, 'to': 3, 'citing': 1, 'other': 1, 'under': 1, '2014': 1, 'worth1000': 1, '2011': 1, '2010': 1, '2013': 1, '2012': 2, 'march': 1, 'around': 1, 'ceo': 2, 'amazon': 1, 'brought': 1, 'school': 1, 'galpert': 1, 'artist': 1, 'michael': 1, 'reid': 1, 'officer': 1, 'popular': 1, 'served': 1, 'raised': 1, 'stalling': 1, 'adobe': 1, 'acquired': 1, 'phones': 1, 'born': 1, 'growth': 2, 'year': 1, 'programmer': 1, 'network': 1, 'review': 1, 'multimedia': 3, 'aviary': 3, 'creative': 2, '3': 1, 'closed': 1, 'capital': 3, 'new': 1, 'across': 1, 'announced': 1, 'benjamin': 1, 'edited': 1, 'chose': 1, 'business': 1, 'web': 2, 'hoffman': 1, 'million': 2, 'notable': 1, 'mits': 1, 'tobias': 1, 'attending': 1, 'avi': 1, 'active': 1, 'joi': 1, 'spark': 1, 'peggs': 1, 'by': 2, 'on': 4, 'enormous': 1, 'cardozo': 1, '3500': 1, 'of': 5, '35': 3, 'magazine': 1, 'passing': 1, 'seeing': 1, 'named': 1, 'point': 1, 'into': 1, 'one': 2, 'down': 1, 'awardwinning': 1, 'from': 1, 'derdik': 1, 'monthly': 1, 'top': 1, 'apps': 2, 'strategy': 1, 'photoediting': 1, 'innovators': 1, 'was': 2, 'until': 1, 'firm': 1, 'a': 1, 'direction': 1, 'that': 1, 'company': 2, 'israel': 2, 'immediate': 1, 'site': 1, 'photos': 1, 'suite': 3, 'with': 2, 'former': 1, 'he': 6, '15': 1, '17': 1, 'this': 1, 'n': 1, 'while': 1, 'smart': 1, 'venture': 2, 'at': 1, 'and': 6, 'shifted': 1, 'investors': 1, 'december': 1, 'is': 1, 'aviarys': 2, 'derdikin': 1, 'linkedin': 1, 'an': 2, 'as': 3, 'bezos': 1, 'contest': 1, 'in': 4, 'partner': 1, 'technology': 1, 'built': 1, 'author': 1, 'media': 1, 'when': 1, 'application': 3, 'systemsmuchnick': 1, 'role': 1, 'take': 1, 'which': 1, 'stepped': 1, 'mit': 1, 'product': 1, 'thirdparty': 1, 'users': 1, 'lab': 1, 'director': 1, 'muchnick': 3, 'walmart': 1, 'law': 1, 'consumerfacing': 1, 'billion': 1, '1979': 1, 'mobile': 1, 'later': 1, 'together': 1, '2002': 1, 'chief': 1, '2007': 1, 'the': 6}, {'producer': 1, 'executive': 1, 'nominated': 1, 'years': 1, 'including': 1, 'asylum': 1, 'industries': 2, 'whose': 1, 'to': 1, 'production': 1, 'board': 2, 'has': 1, '2011': 1, '2010': 1, 'liarafter': 1, 'made': 1, 'napiereducated': 1, '1959': 1, 'secondary': 1, 'school': 1, 'finnish': 1, 'university': 4, 'stirling': 1, 'joined': 2, 'where': 2, 'butterfly': 1, 'art': 1, 'independent': 1, 'national': 1, 'born': 2, 'college': 1, 'year': 1, 'eu': 1, 'halfhour': 1, 'established': 1, 'estonian': 1, 'for': 2, 'pictures': 1, 'since': 1, 'creative': 5, 'current': 1, 'glasgow': 2, 'led': 1, 'screen': 4, 'by': 1, 'engage': 1, 'institute': 2, 'of': 9, 'industry': 1, 'drama': 2, 'april': 1, 'became': 1, 'documentary': 2, 'first': 1, 'scottishbafta': 1, 'garthamlock': 1, 'scottish': 2, 'trust': 1, 'awardwinning': 1, 'two': 1, '1989': 1, 'workshop': 1, 'films': 1, 'entered': 1, 'was': 2, 'academy': 3, 'company': 1, 'fellini': 1, 'with': 2, 'appointed': 2, 'he': 9, 'television': 1, 'include': 1, '1997': 1, 'tree': 1, 'mediafunded': 1, 'following': 1, 'schoolsin': 1, 'robin': 1, 'and': 6, 'irish': 1, 'is': 1, 'partnership': 1, 'an': 2, 'as': 4, 'im': 1, 'at': 7, 'in': 5, 'film': 4, 'affairs': 1, 'media': 1, 'government': 1, 'scotland': 4, 'skillset': 1, 'development': 1, 'edinburgh': 7, 'fellers': 1, 'coproducer': 1, 'collaboration': 1, 'director': 3, 'napier': 3, 'baftanominated': 1, '2008': 1, 'man': 1, 'a': 3, 'macpherson': 1, 'professor': 1, '2002': 1, '2005': 1, 'the': 14}, {'krog': 1, 'indigo': 1, 'lyrics': 1, 'similarity': 1, 'dance': 2, 'leader': 1, 'style': 1, 'just': 1, 'ny': 1, 'writes': 1, 'had': 2, 'to': 2, 'lori': 1, 'marriage': 1, 'piano': 2, 'has': 7, '2011': 1, 'his': 1, 'jazz': 3, 'watercolor': 1, 'records': 1, '1951': 1, 'moods': 1, 'silvano': 5, 'silverman': 1, 'jeanne': 1, 'school': 1, 'name': 1, 'university': 2, 'performing': 1, 'standards': 1, 'chamber': 1, 'vibes': 1, 'she': 7, 'river': 1, 'husband': 1, 'sketches': 1, 'work': 1, 'art': 2, 'some': 1, 'born': 1, 'taught': 1, 'college': 1, 'waldron': 1, 'composers': 1, 'pastel': 1, 'paintings': 1, 'since': 1, 'collaborated': 1, '3': 1, 'performs': 1, 'new': 1, 'temple': 1, 'shows': 1, 'europe': 2, 'solo': 1, 'recently': 1, 'lee': 1, 'degree': 1, 'upon': 1, 'attending': 1, 'joe': 2, 'underrepresented': 1, 'beginning': 1, 'compositions': 1, 'on': 4, 'great': 1, '10th': 1, 'many': 2, 'changed': 1, 'american': 1, 'wrote': 2, 'karin': 1, 'frisell': 1, 'womens': 1, 'or': 1, 'york': 1, 'sheila': 1, 'wallkill': 1, 'formerly': 1, 'researches': 1, 'cd': 2, 'featured': 1, 'werner': 2, 'composer': 3, 'singing': 1, 'empathetic': 1, 'city': 1, 'from': 4, 'her': 8, 'bears': 1, 'philadelphia': 2, 'been': 1, 'by': 1, 'percussion': 2, 'music': 3, 'scholar': 1, 'narrator': 1, 'part': 1, 'jordan': 1, 'an': 1, 'with': 4, 'jazzed': 1, 'women': 1, 'judi': 1, 'collegesshe': 1, 'bill': 1, 'vocal': 1, 'recording': 1, 'rutgers': 1, 'bachelors': 1, 'of': 7, 'stages': 1, 'and': 16, 'trio': 1, 'studied': 1, 'kenny': 2, 'played': 2, 'is': 5, 'tenor': 1, 'pieces': 1, 'states': 1, 'as': 3, 'at': 2, 'in': 7, 'voice': 2, 'trumpet': 1, 'native': 1, 'united': 1, 'end': 1, 'no': 2, 'studying': 1, 'aside': 1, 'montgomery': 1, 'also': 1, 'other': 1, 'which': 1, 'toured': 1, 'pianist': 1, 'ensemble': 1, 'dobbins': 1, 'scored': 1, 'jsl': 1, 'flute': 1, 'songbook': 1, 'collection': 1, 'lovano': 2, 'norwegian': 1, 'mal': 1, 'saxophonist': 1, 'a': 5, 'singer': 2, 'for': 5, 'silvanobefore': 1, 'well': 1, 'without': 1, 'media': 1, 'the': 4, 'painting': 1, 'original': 1, 'wind': 1, 'songs': 1}, {'doctorates': 1, 'peace': 2, 'traditions': 1, 'chinese': 1, 'being': 1, 'when': 1, 'hamburg': 4, 'chapters': 1, 'years': 3, 'russian': 1, 'lhomme': 1, 'philosopher': 1, 'human': 3, 'japan': 1, 'hameln': 1, 'one': 1, 'doctoral': 1, 'candidate': 1, 'sciences': 2, 'chosen': 1, 'dr': 2, 'concerned': 1, 'ngo': 1, 'had': 1, 'ideal': 1, 'who': 1, 'better': 1, 'to': 7, 'book': 5, 'black': 1, '4': 1, 'under': 1, 'born': 1, 'familys': 1, 'german': 1, 'east': 1, 'norway': 7, '2010': 1, 'founding': 1, 'honor': 1, 'lindner': 3, 'indonesian': 1, 'australia': 1, 'rwanda': 1, 'greater': 1, 'humandhs': 1, 'means': 1, 'very': 1, 'familiar': 1, 'de': 1, '13': 1, 'choice': 2, 'academics': 1, 'cultural': 1, 'grew': 1, 'humanities': 1, 'background': 1, 'new': 3, 'belgium': 1, 'world': 2, 'unique': 1, 'tutu': 1, 'hebrewsince': 1, 'advanced': 1, 'psychol': 1, 'workin': 1, 'stability': 1, 'displaced': 1, 'several': 1, 'equality': 5, 'scholar': 1, 'founded': 1, 'level': 1, 'did': 1, 'gender': 1, 'university': 7, 'inequality': 1, 'she': 22, 'wish': 1, 'sustainable': 1, 'evelin': 1, 'security': 1, 'where': 2, 'wrote': 1, 'programme': 1, 'accessible': 1, 'portuguese': 1, 'because': 1, 'honored': 1, 'often': 1, 'humiliation': 4, 'be': 1, 'councils': 1, 'cairo': 2, 'japanese': 1, 'universitys': 1, 'culture': 1, 'second': 2, 'individual': 1, 'election': 1, 'believes': 3, 'maison': 1, 'impact': 1, 'enemies': 1, 'dissertation': 1, 'med': 1, 'psychology': 3, 'for': 8, 'deeply': 1, 'furthermore': 1, 'since': 3, 'asia': 1, 'research': 4, '2009lindner': 1, 'fellowship': 1, '3': 2, 'health': 1, 'somalia': 1, 'cooperation': 1, 'ac4': 1, 'medicine': 3, 'international': 1, 'enjoys': 1, 'numerous': 1, 'decent': 1, 'europe': 1, 'core': 1, 'focuses': 1, 'foreword': 1, 'written': 1, 'importance': 1, 'journal': 1, 'points': 1, 'french': 1, 'understanding': 1, 'experiences': 1, 'switzerland': 1, 'base': 1, 'awards': 1, 'york': 1, '1954': 1, 'others': 1, 'graduated': 1, 'affiliated': 3, 'articles': 1, 'fluently': 1, 'by': 3, 'obtained': 1, 'received': 1, 'practitioners': 1, 'english': 1, 'of': 15, 'title': 1, 'paris': 1, 'american': 1, 'her': 11, 'stand': 1, 'published': 2, 'testament': 1, 'china': 1, 'global': 3, 'studies': 1, 'cultures': 1, 'comes': 1, 'first': 2, 'emotion': 1, 'among': 3, 'own': 1, 'rooted': 1, 'egypt': 1, '1946': 1, 'prisoners': 1, 'africa': 2, 'number': 1, 'community': 2, 'highly': 1, 'psychological': 1, 'thailand': 1, 'message': 2, 'languages': 1, '1984': 2, 'law': 1, 'from': 7, 'usa': 2, 'festival': 1, 'west': 2, 'locally': 2, 'two': 1, 'been': 1, 'france': 1, 'clinical': 1, 'therefore': 1, 'way': 1, 'heritage': 2, 'parents': 1, 'participated': 1, 'more': 2, 'danish': 1, 'parliament': 1, 'mostly': 1, 'both': 2, 'am': 1, 'formed': 1, 'award': 1, 'it': 3, 'part': 1, 'dagfinn': 1, 'desmond': 1, 'likeverd': 1, 'worked': 1, 'promote': 1, 'with': 6, 'silesia': 1, '1991': 1, 'globally': 3, '1993': 1, 'has': 9, 'humiliationher': 1, '1994': 2, '1997': 2, 'rights': 1, 'holds': 1, 'was': 3, '1994she': 1, 'des': 1, 'up': 1, 'heidelberg': 1, 'other': 2, '1977': 1, 'while': 1, 'future': 1, 'marriage': 1, 'historical': 1, 'were': 1, 'following': 1, 'making': 1, 'doctorate': 2, 'counselor': 1, 'example': 1, 'social': 2, 'and': 34, 'transcend': 1, 'gerda': 1, 'studied': 2, 'that': 7, 'outstanding': 1, 'is': 12, 'modern': 1, 'organized': 1, 'them': 1, 'genocides': 1, 'an': 2, 'high': 1, 'middle': 1, 'as': 2, 'lived': 2, 'at': 7, 'have': 1, '2001': 3, 'burundi': 1, 'kenya': 1, 'arabic': 1, 'spends': 1, 'sinology': 1, 'swedish': 1, 'confirmed': 1, 'transdisciplinary': 2, 'anthology': 1, 'academic': 1, 'oslo': 2, 'make': 1, 'egyptian': 1, 'bernt': 1, 'consortium': 1, 'same': 1, 'fllesdalsince': 1, 'also': 6, 'recommended': 1, 'reputation': 1, 'which': 1, 'main': 2, 'hierarchical': 1, 'speaks': 1, 'conflict': 3, 'european': 1, 'practice': 1, 'columbia': 1, 'dignity': 8, 'traumatic': 1, 'may': 2, 'philosophy': 1, 'dutch': 1, 'norwegian': 7, 'important': 3, 'germany': 3, 'a': 13, 'strongest': 1, 'president': 1, 'ethics': 1, 'on': 5, 'the': 31, 'zealand': 1, 'in': 40, 'third': 1, '1978': 1, 'hagtvets': 1, 'obstacles': 1, 'psychologist': 1, 'goetheuniversitt': 1, '2003': 1, 'complexity': 1, 'advocates': 1, 'responsibility': 1, '2007': 1, 'time': 2, 'position': 1, '2008': 1, '2009': 1, 'frankfurt': 1}, {'houston': 1, 'suny': 2, 'help': 1, 'gold': 8, 'heavily': 1, 'years': 3, 'partnered': 1, 'course': 2, 'through': 2, 'human': 2, 'during': 2, 'chair': 1, 'july': 1, 'before': 1, 'position': 1, 'knowledge': 1, 'dividing': 1, 'duncan': 3, 'personal': 1, 'including': 1, 'to': 7, 'absence': 1, 'potential': 1, 'systems': 1, 'abledata': 1, 'orange': 1, 'maryland': 5, 'include': 1, 'texas': 2, 'division': 1, 'seventy': 1, 'his': 7, 'returned': 2, 'klein': 1, 'organizations': 1, 'siuc': 3, 'assistant': 1, 'practice': 1, 'emphasizes': 1, 'klaus': 1, 'new': 1, 'world': 1, 'advanced': 1, 'articles': 1, 'school': 5, 'several': 3, 'multimediabased': 1, 'textbooks': 1, 'university': 11, 'developing': 1, 'joined': 3, 'associate': 2, 'leave': 1, '1999': 1, 'served': 1, 'works': 1, 'where': 3, 'wrote': 1, 'application': 2, 'dean': 2, 'mental': 2, 'cologne': 1, 'society': 1, 'second': 2, 'taught': 1, 'video': 1, '19701974': 1, 'computer': 2, 'expert': 1, 'brockports': 1, 'decision': 1, 'since': 1, 'research': 3, 'collaborated': 1, 'umd': 1, 'state': 1, 'educationhealth': 1, 'health': 28, 'between': 1, 'international': 1, 'evaluation': 2, 'public': 6, 'biology': 1, 'after': 1, 'degree': 1, 'tenure': 1, 'journal': 1, 'use': 1, 'commercially': 1, 'york': 1, 'bs': 1, 'informatics': 1, 'beginning': 1, 'by': 1, 'on': 4, 'training': 1, '1980': 3, 'column': 1, 'of': 42, 'invited': 1, 'computers': 4, 'david': 1, 'prior': 1, 'american': 1, 'regular': 1, 'fulltime': 1, 'published': 2, 'promotion': 2, 'first': 1, 'healthquest': 1, 'followed': 1, 'cancer': 1, 'researcher': 1, 'community': 3, 'county': 1, 'initiative': 1, '1988': 1, 'such': 1, 'umds': 1, 'next': 1, 'earning': 1, '1986': 1, '1984': 1, 'management': 1, 'from': 8, '1983': 1, 'working': 1, 'support': 1, 'there': 1, 'two': 2, 'been': 1, '1989': 1, 'whos': 1, 'dozens': 1, 'was': 2, 'ranging': 1, 'more': 1, 'an': 3, 'offering': 1, 'that': 1, 'park': 2, 'oregon': 1, 'brockport': 2, 'drph': 1, 'technologies': 1, 'instructor': 1, 'with': 3, 'than': 1, 'he': 15, '1990': 1, 'has': 1, '1994': 1, 'f': 1, 'these': 1, 'science': 2, '1978': 1, 'us': 1, 'while': 1, 'defense': 1, 'publications': 1, 'ms': 1, '1976': 2, 'college': 5, 'doctorate': 1, 'completing': 1, 'interactive': 1, 'and': 21, 'computing': 1, 'is': 3, 'received': 1, 'pieces': 1, 'as': 6, 'at': 13, 'in': 25, 'education': 12, 'technology': 2, 'summers': 1, 'educational': 1, '1969': 1, 'pcbased': 1, 'began': 1, '1967': 1, 's': 1, 'same': 1, 'illinois': 2, 'also': 1, 'became': 2, 'papers': 1, 'department': 5, 'carbondale': 1, 'reestablish': 1, 'entitled': 1, 'serve': 1, 'time': 1, 'southern': 2, 'earned': 3, 'lab': 2, 'phd': 2, 'director': 3, 'applications': 2, 'explored': 1, 'faculty': 3, 'services': 1, 'president': 1, 'evaluator': 1, 'specialization': 1, 'a': 10, 'for': 2, 'vice': 1, 'performance': 1, 'macro': 1, 'professor': 4, 'later': 2, 'spent': 1, '2002': 1, '2005': 1, 'retardation': 1, 'organization': 1, 'the': 30, 'software': 3, 'robert': 1, 'parkhe': 1}, {'soon': 1, 'cenerentola': 1, 'austrian': 1, 'rusticana': 1, 'before': 2, 'la': 2, 'guidance': 1, '1944': 1, 'to': 5, 'going': 1, 'campanello': 1, 'under': 2, 'piano': 1, 'has': 2, 'donizetti': 1, 'then': 1, 'di': 1, 'munich': 1, 'trovatore': 1, 'rosenkavalier': 1, 'fan': 1, 'performance': 1, '1958': 1, 'litaliana': 1, 'georges': 1, 'callas': 1, 'opera': 5, 'herbert': 1, '19': 1, 'continue': 1, 'she': 6, 'starred': 1, 'works': 1, 'carlos': 1, 'national': 1, 'aida': 1, 'graduated': 1, 'born': 2, 'et': 1, 'lefkada': 1, 'rossini': 1, 'appear': 1, 'mascagni': 1, '1992': 1, 'sung': 2, 'state': 2, 'destino': 1, 'marriage': 1, 'jos': 1, 'capuleti': 1, 'stuardashe': 1, 'notably': 1, 'concentrate': 1, 'figaro': 1, 'november': 1, 'conservatoire': 1, 'by': 2, 'mezzosopranobaltsa': 1, 'on': 2, 'cos': 1, 'saintsans': 1, 'of': 6, 'kammersngerin': 1, 'times': 1, 'became': 2, 'dalila': 1, 'first': 1, 'number': 1, '1980her': 1, 'singing': 1, 'from': 1, 'her': 1, 'festival': 1, 'leading': 1, 'tutte': 1, 'athens': 1, 'cherubino': 1, 'semiramide': 1, 'von': 1, 'vienna': 2, 'siviglia': 1, 'bellini': 1, 'that': 1, 'known': 1, 'don': 1, 'forza': 1, 'with': 1, 'travelled': 1, 'barbiere': 1, 'verdi': 1, 'made': 1, 'prestigious': 1, 'salzburg': 1, 'was': 1, 'der': 1, 'appearance': 1, 'baltsa': 2, 'del': 1, 'octavian': 1, 'carmen': 1, 'at': 4, 'and': 2, 'm': 1, 'is': 2, 'duett': 1, 'an': 2, 'bizet': 1, 'as': 2, 'il': 3, 'in': 12, 'algeri': 1, 'film': 1, '1968': 1, '1965': 1, 'began': 1, 'six': 1, 'karajan': 1, 'also': 2, 'cavalleria': 1, 'which': 1, 'samson': 1, 'most': 1, 'regular': 1, 'moving': 1, 'maria': 2, 'a': 5, 'montecchi': 1, 'singer': 1, 'e': 1, 'mozart': 1, 'i': 2, 'age': 1, 'well': 1, 'carreras': 1, '1970': 1, 'greek': 3, 'studying': 1, 'the': 8, 'agnes': 1, 'frankfurt': 1, 'playing': 2, 'scholarship': 1}, {'produced': 1, '1971': 1, '10part': 1, 'to': 5, 'tv': 2, 'failed': 1, '1980s': 1, 'award': 1, 'teenager': 1, 'hometown': 1, 'his': 2, 'returned': 1, 'zagreb': 2, 'zvonimir': 1, '199192': 1, 'screenwriterborn': 1, 'croatias': 1, 'primary': 1, 'during': 1, 'secondary': 1, 'psychological': 1, 'school': 1, 'submission': 1, 'university': 1, 'debut': 1, 'deals': 1, 'croatia': 1, 'popular': 1, 'went': 1, 'grad': 1, 'croatian': 4, 'titled': 1, 'series': 4, 'national': 1, 'directing': 2, 'born': 1, 'best': 2, 'graduating': 1, 'for': 3, 'partisan': 1, 'selected': 1, 'codirected': 1, 'won': 1, 'independence': 1, 'be': 1, 'loyola': 1, 'awards': 2, '1982': 1, 'by': 1, 'arena': 1, 'on': 1, 'language': 1, '1982after': 1, 'of': 4, 'foreign': 1, 'angeles': 1, 'juri': 5, 'golden': 1, 'childrens': 1, 'appeared': 1, '83rd': 1, 'number': 1, 'down': 1, 'semester': 1, 'art': 1, 'unit': 1, 'from': 1, 'army': 1, 'festival': 1, 'arms': 1, 'los': 1, 'smogovci': 1, 'films': 1, 'osijek': 1, 'was': 1, 'final': 1, 'minor': 1, '4': 1, 'shortlist': 1, 'academy': 4, 'but': 1, 'ceasefire': 1, 'finished': 1, 'dramatic': 1, 'goran': 1, 'with': 2, 'he': 3, 'directed': 1, 'directorial': 1, '1992': 1, 'critically': 1, 'roles': 1, 'pula': 1, 'war': 2, 'while': 1, 'documentarieshis': 1, 'and': 7, 'marymount': 1, 'tesla': 1, 'is': 1, 'it': 2, 'high': 1, 'as': 3, 'at': 4, 'acclaimed': 1, 'in': 8, 'education': 1, 'their': 1, 'film': 9, 'drama': 1, 'nikola': 1, 'studying': 1, 'make': 1, 'feature': 1, 'which': 1, 'department': 1, 'several': 1, 'nepokoreni': 1, 'who': 1, 'june': 1, 'director': 2, 'lay': 1, 'student': 1, 'such': 1, 'cowritten': 1, 'a': 7, 'refuse': 1, 'short': 1, 'blacks': 1, '1977': 1, 'biographical': 1, 'devi': 2, 'spent': 1, 'fictional': 1, 'enrolled': 1, 'the': 19, '2009': 2}, {'interpretation': 1, 'edmonton': 1, 'both': 1, 'holodomor': 1, '1970s80s': 1, 'polish': 1, '1949': 1, 'title': 1, 'late': 1, 'to': 4, '2014in': 1, 'alberta': 2, '2012': 1, 'his': 6, 'contention': 1, 'views': 1, 'michigan': 2, 'nationalists': 1, 'background': 1, 'not': 1, 'during': 1, 'that': 2, 'mothers': 1, 'did': 1, 'university': 4, 'detroit': 1, 'priest': 1, 'become': 1, 'byzantineslavonic': 1, 'side': 1, 'view': 1, 'challenged': 1, 'fathers': 1, 'church': 1, '1960s': 1, 'culture': 1, 'bandera': 1, 'taught': 1, 'stamford': 1, 'subject': 1, 'dissertation': 1, 'what': 1, 'since': 1, 'ukrainian': 5, 'increasing': 1, 'full': 1, 'ba': 1, 'habsburg': 1, 'initially': 1, 'respectively': 1, 'however': 1, 'focused': 1, 'yushchenko': 1, 'by': 2, 'glorification': 1, 'ukraine': 4, 'on': 4, 'canadian': 1, 'of': 16, 'studied': 1, 'diaspora': 1, 'roman': 1, 'became': 3, 'genocide': 1, 'mixed': 1, 'classics': 1, 'studies': 1, 'or': 1, 'and': 14, 'retired': 2, 'shukhevych': 1, 'historian': 2, 'johnpaul': 1, 'austria': 1, 'heated': 1, '1990s': 2, 'italian': 1, 'wanted': 1, 'from': 2, 'vocationhimka': 1, 'political': 1, 'due': 1, 'myths': 1, 'defined': 1, 'opposed': 1, 'basil': 1, 'was': 2, 'interests': 1, 'north': 1, 'postmodernism': 1, 'eastern': 1, 'but': 1, 'connecticut': 1, 'galicia': 1, 'particular': 1, 'with': 1, 'he': 8, 'none': 2, '1992': 1, 'debates': 1, 'presidency': 1, 'born': 1, 'pursue': 1, '18': 1, 'official': 1, 'holocaust': 2, 'socialism': 2, 'historical': 1, 'himka': 4, 'seminary': 1, 'history': 5, 'iconography': 1, 'stepan': 1, 'nationalist': 1, 'played': 1, 'almost': 1, 'is': 2, 'received': 1, 'as': 4, 'at': 2, 'in': 20, 'nationalism': 1, 'catholic': 2, 'marxist': 1, 'end': 1, 'academic': 1, 'radicalization': 1, 'viktor': 1, 'also': 1, 'methodology': 1, 'role': 1, 'sacred': 1, 'department': 1, '18671890': 1, 'influenced': 1, 'may': 1, 'phd': 2, 'slavs': 1, 'eclecticsince': 1, 'ethnic': 1, 'such': 1, 'heroes': 1, 'america': 1, 'a': 5, 'especially': 1, 'calls': 1, 'nationalistic': 1, '1977': 2, 'professor': 2, 'sometimes': 1, '1971': 1, 'st': 1, 'greek': 2, 'the': 16, 'left': 1}, {'aharon': 1, 'john': 1, 'years': 1, 'front': 1, 'attitude': 1, 'breaching': 1, 'still': 1, 'its': 1, 'copyright': 1, 'had': 7, 'should': 1, 'late': 1, 'longoverdue': 1, '4': 1, 'text': 1, 'has': 1, 'decades': 1, 'photographs': 1, 'eventually': 1, 'them': 1, 'his': 4, 'sense': 1, 'which': 4, 'permission': 1, 'material': 1, 'colleagues': 1, 'early': 1, 'made': 3, 'reconstructions': 2, 'they': 1, 'international': 1, 'judge': 2, 'unique': 1, '1959': 1, 'scholar': 1, 'several': 1, 'bas': 1, 'qimrons': 1, 'university': 2, 'aggravation': 1, 'verdict': 1, 'team': 3, 'translated': 1, 'found': 1, 'teamduring': 1, 'some': 4, 'dead': 5, 'edition': 1, 'decided': 2, 'sea': 5, 'even': 1, 'halakhic': 2, 'sue': 1, 'qumranin': 1, 'for': 4, 'since': 1, 'twovolume': 1, 'research': 1, 'access': 1, 'favor': 1, 'currently': 1, 'reconstruction': 1, 'facsimile': 1, 'fragments': 1, 'appeal': 1, 'frustrated': 1, 'available': 2, 'be': 2, 'assist': 1, 'scrolls': 7, 'of': 17, 'barak': 1, 'others': 1, 'alone': 1, 'dorner': 1, 'by': 2, 'publishing': 1, 'on': 11, 'about': 2, 'property': 1, 'hebrew': 4, 'working': 4, 'language': 1, 'many': 1, 'completing': 1, 'against': 2, 'strugnell': 2, '1970s': 1, 'shanks': 2, 'first': 1, 'editorinchief': 1, 'intellectual': 1, 'one': 1, 'texts': 2, 'bengurion': 1, 'strugnells': 1, 'impossible': 1, 'writing': 1, 'given': 2, 'ancient': 1, 'publication': 1, 'would': 1, 'to': 6, 'been': 5, 'awarded': 1, 'eleven': 1, 'upheld': 1, 'titleqimron': 1, 'hundred': 2, 'dalia': 1, 'complained': 1, 'israel': 1, 'biblical': 2, 'that': 5, '4qmmt': 2, 'completed': 1, 'took': 1, 'but': 1, 'particular': 1, 'known': 1, 'highest': 1, 'jerusalem': 1, 'he': 5, '1980s': 1, '1993': 1, '1992': 1, '1994': 1, 'society': 2, 'was': 6, 'work': 2, 'negev': 1, 'coopted': 1, 'compensation': 2, 'were': 2, 'toward': 1, 'study': 1, 'published': 4, 'and': 4, 'supreme': 1, 'proprietary': 1, 'is': 3, 'allowed': 1, 'it': 1, 'an': 1, 'reconstructed': 1, 'as': 1, 'elisha': 1, 'at': 4, 'in': 17, 'hershel': 1, 'if': 2, 'different': 2, 'court': 1, 'not': 2, 'cave': 1, 'generally': 1, '40': 1, 'delay': 1, 'also': 1, 'qimron': 6, 'caseshershel': 1, 'department': 1, 'document': 1, 'difficult': 1, 'dissertation': 1, 'felt': 1, 'israeli': 2, 'phd': 1, 'most': 1, 'letter': 2, 'included': 1, 'such': 1, 'law': 1, 'scholars': 3, 'a': 5, '1979': 1, '1976': 1, 'professor': 1, 'original': 1, 'academic': 1, '2000': 1, 'without': 1, 'so': 1, 'the': 38, 'grounds': 1, 'archaeology': 2, 'researchers': 2}, {'summer': 2, 'all': 1, 'holds': 1, 'four': 1, 'held': 1, 'including': 1, 'endowment': 1, 'principal': 1, 'simon': 1, 'had': 4, 'acres': 1, 'late': 1, 'to': 11, 'won': 1, 'degrees': 1, 'has': 4, '196869': 1, 'his': 8, 'return': 2, 'entire': 1, 'press': 3, 'photography': 1, 'advocate': 1, 'virginia': 1, 'historic': 1, 'not': 2, 'world': 1, 'dr': 2, 'day': 1, 'societies': 1, 'discovered': 2, 'prize': 1, 'lost': 1, 'kennedy': 1, 'undertaking': 1, 'university': 4, 'f': 1, 'alice': 1, 'oppenheimer': 1, 'book': 4, 'grants': 1, 'architecture': 2, 'yale': 6, 'become': 1, 'balliol': 1, 'because': 1, 'art': 2, 'be': 1, 'fellowships': 1, 'national': 2, 'creation': 1, 'born': 1, 'second': 1, 'taught': 1, 'college': 4, 'empire': 2, 'herbert': 1, 'universities': 1, 'dissertation': 2, 'material': 1, 'for': 4, 'foundationdr': 1, 'oxford': 2, 'highest': 1, 'fulbright': 1, 'recoup': 1, 'research': 5, 'fellowship': 1, 'activist': 1, 'trunks': 1, 'surfaced': 1, 'new': 2, 'learned': 1, 'locate': 1, 'foundation': 1, 'airways': 1, 'were': 2, 'story': 1, '1931': 1, 'irvings': 1, 'architectural': 2, 'trunk': 2, 'news': 1, 'article': 2, 'lawsuit': 1, 'permitted': 1, 'scottishcanadian': 1, 'on': 2, 'conducting': 1, 'luggage': 1, 'institute': 1, 'of': 17, '1981': 1, 'through': 1, 'museums': 1, 'shipped': 1, 'became': 1, 'airline': 1, 'davis': 1, 'studies': 2, 'honor': 1, 'cambridge': 1, 'historians': 1, 'search': 1, 'wesleyan': 1, 'berkeley': 1, 'africa': 1, 'one': 1, '60': 1, 'weather': 1, '15000': 1, 'kings': 1, 'trust': 1, 'redo': 1, 'specializing': 1, 'awardwinning': 1, 'use': 1, 'from': 3, 'practitioners': 1, 'basis': 1, 'leading': 1, 'visit': 1, 'two': 2, 'been': 2, 'damaged': 1, 'too': 1, '1982': 1, 'parents': 1, 'john': 2, 'was': 3, 'is': 2, 'trinity': 1, 'more': 1, 'british': 3, 'grandest': 1, 'educated': 1, 'an': 1, 'continents': 1, 'that': 2, 'successful': 1, 'completed': 1, 'irving': 8, 'but': 1, 'robert': 1, 'connecticut': 1, 'hartford': 3, 'filed': 1, '1911': 1, 'fellow': 1, 'than': 1, 'he': 5, 'hitchcock': 1, '16': 1, 'britain': 2, 'preparation': 1, 'placed': 1, 'mr': 4, 'accrued': 1, 'ernest': 1, 'history': 4, 'and': 18, 'imperial': 1, 'stated': 2, 'boston': 1, 'guggenheim': 1, 'india': 3, 'expenses': 1, 'states': 1, 'as': 4, 'at': 6, 'council': 2, 'in': 15, 'lifetime': 1, 'contents': 1, 'sir': 2, 'memorial': 2, 'united': 1, '1969': 1, 'humanities': 2, 'author': 1, 'edwin': 1, 'six': 1, 'able': 1, 'airport': 2, 'lutyens': 2, 'useless': 1, 'warehouse': 1, 'pan': 1, 'lecturer': 1, 'delhi': 3, 'indian': 3, 'architects': 1, 'after': 1, 'upon': 1, 'wilson': 1, 'woodrow': 1, 'phd': 1, 'unclaimed': 1, 'lectured': 1, 'preservationduring': 1, 'society': 1, 'awarddr': 1, 'exposure': 1, 'a': 7, 'baker': 2, 'grant': 1, 'well': 1, 'yearsthe': 1, '35000': 1, 'american': 3, 'the': 27, 'order': 1, 'scholarship': 1}, {'emerging': 1, 'gold': 1, 'noteworthy': 1, 'contemporary': 1, 'years': 1, 'held': 1, 'including': 1, 'macquarie': 1, 'still': 1, 'fine': 2, 'completion': 1, 'office': 1, 'also': 1, 'similarities': 1, 'to': 2, 'only': 1, 'won': 2, 'collections': 2, 'has': 2, '2010': 2, 'his': 4, 'horror': 1, 'regional': 2, 'coast': 1, 'newcastle': 1, 'wynne': 2, 'prize': 4, 'hawkesbury': 1, 'university': 4, 'artist': 3, 'the': 17, 'work': 3, 'art': 8, 'museum': 3, 'doing': 1, 'some': 1, 'born': 2, 'year': 2, 'portrait': 2, 'minchin': 1, 'neo': 1, 'darkness': 1, 'for': 3, 'currently': 1, 'whiteley': 1, 'dutch': 1, 'gippsland': 1, 'public': 1, 'shows': 1, 'goth': 1, 'degree': 3, 'bachelor': 1, 'pynacker': 1, 'come': 1, 'between': 1, 'resides': 1, 'of': 12, 'economics': 1, 'controversy': 1, 'melbourne': 1, 'became': 1, 'exhibited': 1, 'south': 1, 'win': 1, 'potter': 1, 'harbour': 1, 'one': 2, 'coffs': 1, 'landscape': 2, 'ian': 1, 'geelong': 1, 'australias': 1, 'dobell': 1, 'due': 1, 'been': 1, 'by': 2, 'master': 1, 'proposal': 1, 'was': 1, 'leach': 4, 'completed': 1, 'award': 1, 'prizes': 1, 'worked': 1, 'australian': 2, 'he': 4, 'landscaped': 1, 'shilo': 1, 'optimism': 1, 'project': 1, 'many': 1, 'melbourneleachs': 1, 'cosmos': 1, 'and': 10, 'sam': 1, 'acknowledged': 1, 'is': 2, 'galleries': 1, 'tax': 1, 'an': 1, 'australia': 1, 'comedian': 1, 'at': 6, 'in': 14, 'adelaide': 1, 'same': 2, 'tim': 1, 'archibald': 2, 'rmit': 1, 'several': 1, 'after': 2, 'brett': 1, 'diploma': 1, 'victoria': 1, 'william': 1, 'most': 1, 'generated': 1, 'queensland': 3, 'seventeenthcentury': 1, 'gallery': 3, 'a': 3, 'third': 1, '1973': 1, 'latrobe': 1, 'so': 1, 'adam': 1, '2008': 1, '2009': 1, 'musical': 1}, {'passages': 1, 'wiccanpatricia': 1, 'september': 1, 'laura': 1, 'programmercrowther': 1, 'underlying': 1, 'also': 1, '1943': 1, 'had': 2, 'patricia': 3, 'to': 6, 'unable': 1, 'systems': 1, 'wellknown': 1, 'junction': 1, 'around': 1, 'wiccan': 1, 'couple': 1, 'early': 1, '9': 1, 'historic': 1, 'flint': 3, 'expeditionscrowther': 1, 'discovered': 1, 'pounds': 1, 'married': 2, 'these': 1, 'she': 4, 'where': 1, 'frame': 1, '1960s': 1, '115': 1, 'traits': 1, 'see': 1, 'computer': 1, 'connect': 2, 'sandy': 1, 'for': 2, 'p': 2, 'critical': 1, 'connecting': 1, 'thenhusband': 1, 'caves': 1, 'be': 1, 'led': 2, 'degree': 1, 'slight': 1, 'were': 1, 'met': 1, 'bs': 1, 'dedication': 1, 'article': 1, 'extreme': 1, 'both': 1, 'about': 1, 'of': 5, 'earned': 1, 'connection': 1, '1970s': 1, 'connectioncrowther': 1, 'narrow': 1, 'or': 1, 'among': 1, 'system': 2, 'juncture': 1, 'active': 1, 'canyon': 1, 'leads': 1, 'ridge': 3, 'her': 5, 'leading': 1, 'two': 2, 'john': 1, 'participated': 1, 'final': 1, 'authored': 1, 'surveyed': 1, 'that': 3, 'attempted': 1, 'traversal': 1, 'part': 1, 'particular': 1, 'known': 2, 'attempt': 1, 'worked': 1, 'account': 1, 'valley': 1, 'divorced': 1, 'born': 1, 'pursue': 1, 'was': 2, 'this': 1, 'kentucky': 2, 'will': 1, 'promising': 1, 'houchins': 1, 'and': 10, 'proved': 1, 'expedition': 1, 'cavers': 2, 'is': 3, 'an': 2, 'weighed': 1, 'surveyor': 1, 'as': 3, 'at': 1, 'in': 5, 'expeditions': 2, 'pat': 1, 'cave': 8, 'american': 1, 'note': 1, 'tight': 2, 'other': 1, 'grand': 1, 'crowther': 5, 'unwilling': 1, 'many': 1, 'mit': 1, 'daughters': 1, 'explorer': 2, 'who': 1, 'spot': 2, 'william': 1, 'a': 3, 'wilcox': 2, '1977': 1, '1976': 1, 'later': 1, '1972': 1, 'portion': 1, 'mammoth': 2, 'undertaken': 1, 'the': 18, 'physics': 1}, {'ignatius': 1, 'wgn': 1, 'german': 2, 'actress': 1, 'alamos': 1, 'had': 1, 'young': 1, 'to': 4, 'only': 1, 'won': 1, '2014': 1, 'local': 1, '2013': 1, 'then': 1, 'fate': 1, 'de': 3, 'february': 1, 'munich': 3, 'vera': 1, 'during': 1, 'learned': 1, 'school': 1, 'netherlands': 1, 'herbers': 3, '20002001': 1, 'university': 1, 'rbrs': 1, 'oboist': 1, 'hague': 1, 'stopped': 1, 'trap': 1, 'went': 2, 'nationale': 1, 'composer': 1, 'series': 1, 'gymnasium': 1, 'born': 2, 'year': 1, 'peter': 1, 'kammerspiele': 1, 'psychology': 1, 'for': 1, '19': 2, 'currently': 1, 'violinist': 1, 'wunderschnen': 1, 'moor': 1, 'dutch': 4, 'new': 1, 'theaterschool': 1, 'announced': 1, 'she': 10, 'attended': 1, 'leeuw': 1, 'physicist': 1, 'studio': 1, 'york': 1, '20012005during': 1, 'on': 1, 'daughter': 1, '1980': 2, 'canadian': 1, 'of': 6, '19992000': 1, 'studied': 2, 'graduation': 1, 'americas': 1, 'drama': 1, 'became': 1, 'studies': 2, 'toneel': 1, 'bell': 1, 'pair': 1, 'werner': 1, 'brush': 1, 'female': 1, 'ghent': 1, 'monat': 1, 'amsterdam': 5, 'speak': 1, 'het': 1, 'city': 1, 'from': 1, 'her': 3, 'beths': 1, 'los': 1, 'pronunciation': 1, 'films': 1, 'was': 2, 'conductor': 2, 'that': 1, 'mira': 2, 'award': 1, 'lives': 1, 'hb': 1, 'with': 2, 'upherbers': 1, '1993': 1, 'october': 2, '1999': 1, 'will': 1, 'while': 1, 'guido': 1, 'growing': 1, 'au': 1, 'piece': 1, 'at': 3, 'and': 10, 'played': 1, 'is': 3, 'it': 1, 'im': 1, 'performed': 1, 'in': 13, 'ntgent': 1, 'film': 1, 'reinbert': 1, 'televisionherbers': 1, 'katja': 1, 'talentshe': 1, 'member': 2, 'role': 1, 'pianist': 1, 'manhattan': 1, 'play': 1, 'theatre': 3, 'after': 2, 'but': 1, 'mai': 1, 'the': 15, 'a': 4, '2002': 1, '2003': 1, 'english': 1, 'ktja': 1, '2013in': 1}, {'coach': 1, 'mexican': 1, 'newcastle': 1, 'years': 1, 'shaka': 1, 'world': 1, 'playoffs': 1, 'before': 1, 'slot': 1, 'ham': 1, '22': 1, 'cup': 2, 'had': 1, 'bench': 1, 'to': 3, 'under': 1, 'dispute': 1, 'regularly': 1, 'division': 3, 'his': 2, 'contention': 1, 'matches': 1, 'overall': 1, 'february': 1, 'despite': 1, 'during': 1, 'now': 1, 'him': 1, 'ruled': 1, 'term': 1, 'receiving': 1, 'occasions': 1, 'university': 1, 'team': 4, 'finishing': 1, 'automatic': 1, 'side': 1, 'england': 3, 'liga': 1, 'espn': 1, 'keegans': 1, 'national': 1, 'briefly': 1, 'born': 1, 'second': 3, 'eredivisie': 1, 'goalkeeper': 1, 'out': 1, 'runnerup': 1, 'for': 10, 'tobago': 2, 'won': 1, 'provides': 1, 'international': 1, 'league': 1, 'reading': 1, 'ever': 1, 'full': 1, 'initially': 1, '200203he': 1, 'of': 3, 'losing': 1, 'news': 1, 'starred': 1, 'both': 1, 'working': 1, 'career': 1, 'where': 3, 'eligible': 1, 'against': 1, 'goalkeeping': 1, 'became': 1, 'u21': 1, 'promotion': 1, 'first': 2, 'cm': 1, '1st': 2, 'neil': 1, 'trinidad': 2, 'service': 1, 'countrys': 1, 'west': 1, 'top': 1, 'two': 2, 'sports': 1, 'was': 5, 'on': 4, 'season': 1, '2006he': 1, 'but': 2, 'serie': 1, 'finished': 1, 'part': 1, 'chile': 1, 'worked': 1, 'with': 1, 'former': 1, 'he': 8, 'majority': 1, 'quinnipiac': 1, 'this': 1, 'appearance': 1, 'hislop': 1, 'following': 1, 'mx': 1, 'and': 8, 'portsmouth': 1, 'played': 3, 'is': 2, 'premier': 1, 'an': 2, 'as': 1, 'at': 1, 'in': 9, 'kevin': 1, 'returned': 1, 'united': 2, 'end': 1, '1969': 1, 'also': 2, 'which': 2, 'commentary': 1, 'several': 1, 'play': 3, 'separate': 1, 'football': 2, 'fa': 1, 'successive': 1, 'seasons': 1, 'medal': 1, 'opted': 1, 'a': 6, 'later': 1, 'spent': 1, 'broadcasting': 1, '2006': 1, 'tenure': 1, 'the': 14}, {'miso': 1, 'now': 1, 'producer': 2, 'jazzanova': 1, 'sinclar': 1, 'charles': 1, 'named': 1, 'by': 4, 'influencers': 1, 'imprint': 1, 'including': 3, 'teamed': 1, 'pitch': 1, 'japan': 2, 'frontier': 1, 'album': 4, 'contributions': 1, 'its': 1, 'perfect': 1, 'video': 2, 'one': 1, 'zed': 1, 'panther': 1, 'trying': 1, 'heavily': 2, 'had': 1, 'better': 1, 'to': 15, 'production': 2, 'helps': 1, 'under': 1, 'circle': 1, 'has': 6, 'do': 1, 'collaborations': 1, 'his': 14, 'dj': 1, 'which': 3, 'very': 1, 'synonymous': 1, 'practice': 1, 'soon': 1, 'early': 2, 'records': 1, 'artwork': 1, 'aspirations': 1, 'world': 2, 'years': 1, 'shostakovich': 1, 'projects': 1, 'worlds': 1, 'runs': 1, 'name': 2, 'success': 1, 'artist': 1, 'occasions': 1, '1996': 1, 'emi': 1, 'worldclass': 1, 'whether': 1, 'filling': 1, 'cartoons': 1, 'martin': 8, 'works': 2, 'labresults': 1, 'few': 1, 'development': 1, 'eastern': 1, 'akatsuka': 1, 'england': 1, 'nineties': 1, 'requested': 2, 'house': 2, 'composer': 1, 'still': 1, 'some': 1, 'licensed': 1, 'british': 1, 'companyfrom': 1, 'productions': 1, 'design': 1, 'are': 1, 'skateboarding': 1, 'close': 1, 'soulhe': 1, 'ep': 1, 'martins': 2, 'out': 1, 'even': 1, 'established': 1, 'scenemartin': 1, 'debut': 2, 'croft': 1, '3rd': 1, 'ashes': 1, 'diluted': 1, 'label': 2, 'content': 1, 'lara': 1, 'version': 1, 'hill': 1, 'print': 1, 'new': 3, 'iveson': 3, 'across': 1, 'deborah': 1, 'be': 1, 'records2009': 1, 'after': 3, 'replife': 1, 'vocalists': 1, 'atjazz': 7, 'of': 9, 'here': 1, 'ranges': 1, 'recordings': 1, 'concentrate': 1, 'studio': 2, 'invite': 1, 'along': 1, 'illustrations': 1, 'legend': 1, 'chapter': 1, 'on': 4, 'great': 1, 'voice': 1, 'midland': 1, 'launch': 1, 'career': 1, 'many': 2, 'industry': 3, 'allows': 1, 'job': 1, 'mantis': 1, 'sonykioon': 1, 'musicians': 2, 'games': 3, 'omar': 1, 'concentrates': 1, 'arrived': 1, 'bob': 1, 'changes': 1, 'or': 1, 'first': 1, 'samethe': 1, 'appropriately': 1, 'fantastic': 1, 'own': 2, 'tomb': 2, 'continuation': 1, 'into': 2, 'within': 3, 'clara': 1, 'scene': 1, 'two': 1, 'featured': 1, 'moniker': 1, 'been': 2, 'another': 1, 'artists': 1, 'throughout': 1, 'sawhney': 1, 'your': 1, 'environment': 1, 'story': 1, 'raider': 2, 'from': 2, 'writes': 1, 'working': 1, 'songs': 1, 'distinct': 1, 'top': 1, 'trademark': 3, 'due': 1, 'long': 1, 'heights': 1, 'their': 3, 'returns': 1, 'music': 4, 'mancinis': 1, 'way': 1, 'series': 1, 'forward': 1, 'john': 2, 'was': 3, 'is': 5, 'williams': 1, 'gives': 1, 'remixing': 4, 'shoulders': 1, 'himself': 1, 'north': 1, 'reworking': 1, 'releases': 2, 'that': 2, 'labfunk': 1, 'company': 4, 'but': 2, 'towns': 1, 'jordan': 1, 'demand': 1, 'known': 3, 'albums': 1, 'hold': 1, 'with': 6, 'he': 3, 'sound': 2, 'helped': 1, '13': 1, 'soundmartin': 1, 'full': 1, 'henri': 1, 'these': 1, '1998': 1, 'misspent': 1, 'this': 5, 'up': 1, 'youth': 1, 'record': 3, 'computer': 1, 'owns': 1, 'following': 1, 'webster': 1, 'rework': 1, 'animated': 1, 'at': 2, 'and': 21, 'heart': 1, 'angel': 1, 'uks': 1, 'cover': 1, 'rubbing': 1, 'in': 8, 'it': 1, 'deep': 1, 'states': 1, 'player': 1, 'as': 5, 'bias': 1, 'something': 1, 'fujio': 1, 'further': 2, 'sought': 2, 'seen': 1, 'work': 1, 'saw': 1, 'cites': 1, 'remixer': 2, 'pink': 1, 'renowned': 1, 'realm': 1, 'harsh': 1, 'floor': 1, 'breaking': 1, 'ideas': 1, 'for': 10, 'also': 5, 'amazing': 1, 'other': 1, 'take': 1, 'spacemartins': 1, 'digital': 1, 'underground': 1, 'most': 1, 'techniques': 1, 'nu': 1, 'channel': 1, 'mould': 1, 'hone': 1, 'jazz': 1, 'led': 1, 'frizzell': 1, 'stravinsky': 1, 'ltd': 1, 'wellreceived': 1, 'soundtrack': 1, 'nitin': 1, 'hiphop': 1, 'flown': 1, 'producers': 2, 'scoring': 1, 'such': 1, 'core': 1, 'class': 1, 'mainstream': 1, 'darkness': 1, 'a': 9, 'prolific': 1, 'famous': 1, 'later': 2, 'well': 1, 'more': 1, 'gamesnot': 1, 'inspirational': 1, 'time': 1, 'the': 24, 'audio': 1, 'musical': 1, 'came': 1, 'left': 1}, {'erol': 1, 'rymanher': 1, 'pilcher': 1, 'show': 1, 'german': 4, 'able': 1, 'twoyear': 1, 'soon': 1, 'actress': 1, 'clinic': 1, 'zev': 1, 'fear': 1, 'children': 1, 'lessons': 2, '1': 1, 'also': 1, 'tv': 5, 'sexiest': 1, 'enough': 1, 'crime': 1, 'to': 6, 'only': 1, 'writers': 1, 'black': 1, 'differently': 1, '19951996while': 1, 'bellringer': 1, 'express': 1, 'properlyin': 1, 'olivia': 1, '17': 1, 'accepted': 1, 'rebecca': 1, 'advanced': 1, 'school': 1, 'heaven': 1, 'appearing': 1, 'roles': 1, 'january': 1, 'episodes': 2, 'twentyyearold': 1, 'roth': 1, 'she': 14, 'eva': 3, 'zdf': 1, 'two': 3, 'investigators': 1, 'greenlit': 1, 'the': 25, 'old': 1, 'deal': 1, 'series': 6, 'up': 1, 'born': 1, 'fhmgermanys': 1, 'ard': 1, 'clown': 1, 'best': 1, 'ultimately': 2, 'appear': 1, 'for': 2, 'courses': 1, 'movie': 1, 'leah': 1, 'sanderin': 1, 'ice': 1, 'payday': 1, 'unable': 1, 'moderated': 1, 'seebergwhile': 1, 'between': 2, 'new': 1, 'habermann': 1, 'numerous': 1, 'rosa': 1, 'after': 1, 'schedule': 1, 'equivalent': 1, 'however': 1, 'free': 1, 'ranked': 1, 'conflicts': 1, '100': 1, 'by': 2, 'obtained': 1, 'on': 2, 'of': 7, 'hiatus': 1, 'graduation': 1, 'drama': 1, 'angelsin': 1, 'commit': 1, 'first': 3, 'love': 1, 'appeared': 2, 'character': 1, 'scene': 1, 'due': 1, 'sisters': 1, 'such': 1, 'singing': 1, 'sander': 1, 'monkey': 1, 'her': 5, 'lexx': 3, 'beer': 1, '2': 1, '2002in': 1, 'films': 1, 'felicitas': 1, 'was': 9, 'commissioner': 1, 'received': 1, 'club': 1, 'season': 2, 'took': 1, 'gap': 1, 'broadcast': 1, 'known': 1, 'pumuckl': 1, 'with': 3, 'women': 1, 'television': 2, 'has': 1, '1997': 1, '16': 1, '1999': 1, 'when': 1, 'second': 2, 'xenia': 1, 'loves': 1, 'wild': 1, 'and': 11, 'promises': 1, 'angel': 1, 'played': 3, 'is': 2, 'alongside': 1, 'thus': 1, 'high': 1, 'as': 4, 'cans': 1, 'in': 16, 'scheduling': 1, 'seen': 1, 'film': 2, 'again': 1, 'no': 1, 'studying': 1, 'orourke': 1, 'who': 2, 'write': 1, 'fire': 1, 'other': 1, 'role': 5, 'forest': 1, 'you': 1, 'comedy': 1, 'beach': 1, 'diehlin': 1, '2005': 2, 'diploma': 1, 'allowing': 1, 'included': 1, 'seasons': 2, '2008': 1, 'unavailable': 1, 'a': 2, 'rosamunde': 1, 'placement': 1, 'succeeded': 1, '1976': 1, 'dancing': 1, 'well': 1, '2003': 1, '2001': 1, '2006': 1, 'projects': 1, 'time': 1, 'senior': 1, 'playing': 1}, {'dunstable': 1, 'shilton': 1, 'six': 1, 'playoffs': 1, 'barking': 1, 'golden': 1, 'brisbane': 1, 'developed': 1, 'over': 1, 'league': 2, 'recordbreaking': 1, 'ending': 1, 'steve': 2, 'manager': 3, 'own': 1, 'birmingham': 2, 'thanks': 1, 'feat': 1, 'playercoach': 1, 'before': 1, 'style': 2, '20': 2, '22': 1, 'personal': 1, 'highlights': 1, 'angilley': 1, 'had': 2, 'worth': 1, 'winning': 1, 'late': 1, 'athletic': 1, 'charge': 1, 'coaching': 1, 'voted': 1, 'indeed': 1, 'halftime': 1, '2014': 1, '2011': 1, 'argyle': 7, '2013': 1, 'eventually': 1, 'them': 1, 'his': 13, 'preseason': 1, 'seeking': 1, 'matches': 1, 'assistant': 1, 'secondhalf': 1, 'senior': 1, 'pfa': 2, '122': 1, 'scout': 1, 'foot': 1, 'continued': 1, 'net': 1, 'midfielder': 1, 'bobby': 1, 'debut': 1, 'joined': 1, 'mccall': 1, 'royston': 1, '225000': 1, 'barnstorming': 1, 'team': 2, 'alltime': 1, 'injured': 1, 'september': 1, 'twitter': 1, 'fixture': 1, 'back': 1, 'rally': 1, 'up': 1, 'born': 1, 'clubs': 1, 'wigan': 1, 'year': 2, 'incidentally': 1, 'home': 3, 'peter': 1, 'hattrick': 1, 'orient': 3, 'out': 1, 'bagging': 1, 'poll': 2, 'unitedon': 1, 'fine': 1, '1992': 1, 'midfield': 3, 'attracted': 1, 'enough': 1, 'between': 1, 'new': 1, 'wembley': 1, 'undisputed': 2, 'ever': 1, 'christmas': 1, 'victory': 1, 'be': 2, 'combative': 1, 'intimate': 1, 'attention': 1, 'free': 2, 'promptly': 1, 'day': 1, 'allaction': 1, 'instructing': 1, 'licence': 1, 'captainhe': 1, 'boss': 2, 'super': 1, 'by': 2, 'wait': 2, 'gained': 1, 'on': 5, 'orients': 1, 'division': 2, 'stevie': 1, '32': 1, 'friendly': 1, 'against': 1, 'became': 3, 'place': 1, 'action': 1, 'fans': 2, 'castle': 8, 'road': 1, 'first': 1, 'and': 12, 'named': 3, 'cambridge': 1, 'retired': 1, 'campaign': 1, 'headed': 1, 'win': 1, 'football': 3, 'one': 2, 'county': 1, 'playoff': 1, 'denis': 1, 'quinn': 1, 'seasons': 2, 'jimmy': 1, 'table': 1, 'total': 1, 'second': 2, 'city': 2, '1984': 1, 'fee': 1, 'from': 1, 'would': 1, 'to': 13, 'transfer': 2, 'top': 1, 'played': 4, 'due': 1, 'next': 1, 'their': 1, 'of': 11, 'expected': 1, 'amassing': 1, 'injuryin': 1, 'final': 3, 'dalglish': 1, 'more': 1, 'firm': 1, 'liverpool': 1, 'relationship': 1, 'that': 2, 'duly': 1, 'moved': 1, 'transferring': 1, 'park': 1, 'took': 1, 'but': 1, 'taken': 1, '199394': 1, 'game': 3, 'goals': 3, 'general': 1, 'with': 4, 'former': 1, 'he': 10, 'town': 2, 'newlook': 1, '1993': 1, 'october': 1, 'target': 1, '17': 1, '16': 1, 'was': 6, 'boy': 1, 'see': 1, 'until': 1, 'career': 1, 'plymouth': 1, 'three': 3, 'gould': 1, 'were': 1, 'following': 2, 'highlight': 1, 'stockport': 1, 'similar': 1, 'minutes': 1, 'notched': 1, 'at': 6, 'castles': 1, 'website': 1, 'kenny': 1, '200001': 1, 'december': 2, 'is': 1, 'alongside': 1, 'turned': 1, 'it': 1, 'an': 2, '13th': 1, 'as': 5, 'vs': 1, 'unitedplymouth': 1, 'have': 1, 'seen': 1, 'spells': 1, 'partner': 1, 'saw': 1, 'negotiations': 1, 'appearances': 1, 'confirmed': 1, '199798': 1, 'end': 1, 'peterborough': 2, '1966': 1, 'boxing': 1, 'parks': 1, '322': 1, 'also': 1, 'squad': 1, '199091': 1, 'season': 5, 'xi': 1, '12': 1, 'start': 1, 'wimbledon': 1, 'scored': 2, 'gillingham': 1, 'may': 1, 'separate': 1, 'favourite': 1, 'advice': 1, 'who': 1, 'paid': 1, 'director': 1, 'marched': 1, '1995castle': 1, 'tier': 1, 'knee': 1, 'meaningful': 1, 'leyton': 2, 'vein': 1, 'a': 19, 'in': 22, 'for': 6, 'third': 1, 'relegation': 1, 'well': 1, 'persistent': 1, 'astonishing': 1, '2001': 1, '2006': 1, 'greatest': 1, 'english': 1, 'the': 26, 'left': 2, 'uefa': 1, 'marvel': 1}, {'ikebana': 1, 'cameo': 1, 'show': 1, 'tehran': 1, 'wiener': 1, 'including': 1, 'laments': 1, 'dietch': 1, 'la': 1, 'representing': 1, 'glamourhe': 1, 'theremin': 4, 'to': 1, 'arrangementra': 1, '2014': 1, 'has': 4, '2010': 3, 'boulder': 1, 'his': 8, 'combination': 1, 'song': 1, 'very': 1, 'bands': 1, 'records': 1, 'musicarmen': 1, 'judge': 1, 'arias': 1, 'projects': 2, 'lincoln': 1, 'pianist': 1, 'konzerthaus': 1, 'opera': 1, 'debut': 1, 'standards': 1, 'joes': 1, 'release': 1, 'californiain': 1, 'concerts': 1, 'vogue': 1, 'art': 1, 'concert': 1, 'classical': 2, 'appearance': 1, 'almond': 1, 'mozartsaal': 1, 'born': 1, 'taught': 1, 'are': 1, 'logo': 1, 'folk': 2, 'album': 2, 'plays': 1, 'network': 1, 'for': 3, 'currently': 1, 'recorded': 1, 'factory': 1, 'various': 1, 'ra': 2, 'cnn': 1, 'new': 2, 'solo': 1, 'iran': 1, 'bb': 1, 'pg13': 1, 'pub': 1, 'york': 2, 'post': 1, 'by': 2, 'on': 6, 'stone': 1, 'resides': 1, 'of': 3, 'british': 1, 'times': 1, 'etc': 1, 'american': 1, 'armenian': 2, 'raised': 2, 'madness': 1, 'appeared': 3, 'cd': 1, 'featured': 1, 'bats': 1, 'armen': 2, 'village': 1, 'along': 1, 'sharon': 1, 'arts': 1, 'from': 1, 'guest': 1, 'cbgbs': 1, 'marc': 1, 'museum': 2, 'vh1': 1, 'been': 1, 'their': 1, 'fuses': 1, 'music': 2, 'heritage': 1, 'mama': 1, 'master': 1, 'hollywood': 1, 'was': 1, 'vienna': 1, 'melodic': 1, 'himself': 1, 'both': 2, 'halloween': 1, 'hotel': 1, 'hbo': 1, 'released': 1, 'visual': 1, 'needles': 1, 'known': 1, 'armens': 1, 'with': 4, 'he': 5, 'king': 1, 'october': 1, 'mtv': 1, 'nations': 1, 'recording': 1, 'many': 2, 'voice': 1, 'my': 1, 'performed': 1, 'and': 12, 'fork': 1, 'performer': 1, 'played': 2, 'is': 2, 'modern': 2, 'influence': 1, 'an': 2, 'as': 1, 'at': 1, 'voltaires': 1, 'in': 6, 'everyday': 1, 'film': 1, 'instrumentation': 1, 'united': 1, 'descent': 1, 'bowl': 1, 'lounge': 1, 'iranianarmenian': 1, 'variet': 1, 'showcases': 1, 'party': 1, 'gershwin': 1, 'play': 1, 'knitting': 1, 'track': 1, 'collaboration': 1, 'artist': 2, 'rolling': 1, 'a': 4, 'singer': 1, 'center': 1, 'monsterhe': 1, 'i': 1, 'cover': 1, 'musical': 1, 'aunt': 1, 'mother': 1, 'the': 13, 'first': 1, 'playing': 1, 'songs': 1}, {'all': 1, 'mackintosh': 1, 'producer': 4, 'show': 1, 'executive': 1, 'eton': 1, 'held': 1, 'tours': 1, 'directs': 1, 'cameron': 1, 'barony': 1, 'geoffrey': 1, 'producing': 1, 'freelance': 1, 'writer': 2, 'father': 1, 'young': 1, 'to': 4, 'repertory': 1, 'actors': 1, 'acted': 1, 'started': 1, 'then': 1, 'schoettle': 1, 'charles': 1, 'around': 2, 'amy': 1, 'world': 1, 'now': 1, 'school': 1, 'james': 1, 'brother': 2, 'shaughnessy': 4, 'gameshis': 1, 'cartoons': 1, 'including': 1, 'went': 2, 'old': 1, 'upstairs': 1, 'scriptwriter': 1, 'series': 1, 'national': 1, 'directing': 1, 'video': 1, 'wife': 1, 'our': 1, 'best': 2, 'ultimately': 1, 'and': 18, 'for': 5, 'daytime': 1, 'provides': 1, 'anne': 2, 'principal': 1, 'bold': 1, 'sheffield': 1, 'nanny': 1, 'become': 1, 'by': 1, 'on': 4, 'central': 1, 'of': 5, 'months': 1, 'days': 1, 'david': 2, 'angeles': 1, 'presumptive': 1, 'beautiful': 1, 'vic': 1, 'maxwell': 1, 'into': 1, 'touring': 1, 'wade': 1, 'shaughnessey': 1, 'katie': 1, 'voiceovers': 1, 'service': 1, 'basis': 1, 'three': 1, 'restless': 1, 'los': 1, 'live': 1, 'alfred': 1, 'films': 1, 'was': 2, 'head': 1, 'educated': 1, 'both': 1, 'downstairs': 1, 'moved': 1, 'company': 1, 'heir': 1, 'lives': 1, 'known': 2, 'with': 2, 'former': 1, 'he': 7, 'television': 4, 'developing': 1, '18': 1, 'work': 1, 'london': 2, 'movies': 1, 'while': 1, 'uk': 2, 'college': 1, 'godspell': 1, 'is': 6, 'speech': 1, 'turned': 1, 'spelled': 1, 'as': 2, 'his': 4, 'at': 1, 'have': 1, 'in': 7, 'seen': 1, 'drama': 2, 'perform': 1, 'commercials': 1, 'actor': 3, 'also': 2, 'josiehe': 1, 'which': 1, 'becoming': 1, 'daughters': 1, 'theatre': 3, 'director': 2, 'a': 5, 'older': 1, 'theatres': 1, 'the': 16, 'britishborn': 1, 'uslater': 1}, {'serving': 1, 'suburban': 1, 'coastsea': 1, 'interim': 1, 'fifth': 1, '24': 1, 'retirement': 1, 'candidate': 2, '1942': 1, 'folded': 1, 'better': 1, 'to': 6, 'stephen': 1, 'role': 1, 'tory': 1, 'eventually': 1, 'his': 5, 'returned': 1, 'government': 3, 'very': 1, 'bid': 1, 'credit': 2, 'criticized': 1, 'they': 1, 'stockwell': 1, 'accepted': 1, 'continued': 1, 'day': 3, 'progressive': 1, 'january': 2, 'chuck': 1, '19': 1, 'red': 1, 'crossing': 1, 'served': 3, 'stronachs': 1, 'people': 1, 'house': 3, 'commons': 1, 'elected': 2, 'election': 2, 'resigned': 4, 'whip': 1, 'said': 1, 'for': 3, 'reform': 2, 'federal': 1, 'douglas': 1, 'conservative': 3, 'new': 2, 'approach': 1, 'leader': 5, 'caucus': 1, 'told': 1, 'legislative': 1, 'after': 2, 'assembly': 1, 'got': 1, 'however': 1, 'leadership': 1, 'joe': 1, 'belinda': 1, 'conservatives': 2, 'active': 1, 'which': 2, 'faced': 1, 'on': 2, 'about': 1, 'canadian': 2, 'country': 1, 'british': 4, 'david': 1, 'chosen': 1, 'place': 1, '1970s': 1, 'asked': 1, 'harpers': 1, 'first': 1, 'criticism': 1, 'and': 10, 'named': 1, 'alliance': 2, 'opposition': 3, 'campaign': 1, 'had': 2, 'into': 1, 'speaker': 1, '1990s': 1, 'sky': 1, '1986': 1, 'from': 2, '1983': 1, 'west': 1, 'been': 1, 'pc': 1, 'liberals': 1, 'convention': 1, 'resulted': 1, 'john': 1, 'was': 13, 'until': 3, 'happy': 1, 'parliament': 3, 'triggered': 1, 'that': 3, 'but': 1, 'cabinet': 2, 'leaderreynolds': 1, 'reelectionreynolds': 1, 'minister': 4, 'riding': 3, 'with': 1, 'he': 11, '1991': 1, 'politician': 1, '1997': 2, 'born': 1, 'this': 1, 'reelected': 1, 'bargain': 1, 'emerson': 3, 'mp': 3, 'of': 13, 'newspaper': 1, 'social': 2, 'strongly': 1, 'liberal': 1, 'remained': 2, 'well': 1, 'is': 1, 'defeated': 1, 'an': 1, '1980s': 1, 'coordinator': 1, 'as': 13, 'someone': 2, 'at': 2, 'have': 1, 'in': 22, 'claimed': 1, 'politics': 1, 'reynolds': 5, 'party': 4, 'end': 1, 'floor': 1, 'harper': 2, 'offer': 1, 'when': 4, 'switch': 1, 'member': 1, 'also': 1, 'vancouver': 2, 'policiesbeginning': 1, 'instead': 1, 'clarks': 1, 'columbia': 4, 'minority': 1, 'provincial': 2, 'who': 2, 'leftleaning': 1, 'coming': 1, 'strahl': 1, 'a': 13, 'emersons': 1, '1977': 1, '1974': 1, 'revolt': 1, '1972': 1, 'disagreeing': 1, 'chief': 1, '2001': 1, '2006': 2, 'firestorm': 1, '2005': 1, 'the': 25, 'having': 1, 'vancouversunshine': 1}, {'coach': 1, 'managed': 1, 'vfagrieg': 1, 'is': 1, 'polled': 1, 'years': 1, 'whilst': 1, 'carltona': 1, 'fine': 1, 'its': 3, 'onset': 1, 'votes': 1, '21': 1, '23': 2, 'had': 2, 'winning': 1, 'to': 6, 'only': 1, 'award': 1, 'under': 1, 'suffered': 1, 'team': 1, 'footballer': 1, 'suburban': 1, 'his': 3, 'preseason': 1, 'rules': 1, 'compiled': 1, 'handballs': 1, 'nearly': 1, 'despite': 1, 'not': 2, 'during': 1, 'listin': 1, 'him': 2, 'association': 1, 'name': 1, 'captaining': 1, 'did': 1, 'debut': 1, 'wish': 1, 'noted': 1, 'the': 15, 'dean': 1, 'ten': 1, 'griegs': 1, 'some': 1, 'mishap': 1, 'born': 1, 'clubs': 1, 'best': 1, 'out': 1, 'for': 4, 'creative': 1, 'progress': 1, 'be': 1, 'after': 1, 'leg': 2, 'greig': 1, 'sole': 1, '19s': 1, 'broken': 1, 'disposals': 1, 'by': 1, 'trophy': 1, 'on': 1, '39': 1, 'last': 1, 'of': 3, '31': 1, 'changed': 1, 'against': 1, 'round': 1, 'games': 2, 'collingwood': 1, 'retain': 1, 'and': 6, 'kilda': 2, 'gary': 1, 'ailing': 1, 'midfielder': 1, '1985': 2, 'described': 1, 'due': 1, 'handballin': 1, 'brice': 1, 'expected': 1, 'australian': 3, 'recruited': 2, 'fairest': 1, 'league': 3, 'club': 3, 'season': 1, 'but': 1, 'released': 1, 'kicks': 1, 'with': 1, 'former': 1, 'he': 5, '1991': 2, '1990': 2, 'october': 1, '16': 1, 'this': 1, 'was': 3, 'j': 2, 'record': 1, 'victorian': 2, 'nine': 1, 'performances': 1, 'following': 1, 'didnt': 1, 'strongly': 1, 'played': 2, 'winless': 1, 'turned': 1, 'it': 1, 'an': 1, '1980s': 1, 'as': 2, 'hawthorn': 2, 'at': 3, 'in': 10, 'leaguegreig': 1, 'end': 1, 'built': 1, 'liston': 1, 'amputated': 1, 'also': 1, '2001': 1, 'which': 2, 'gangrene': 1, 'shining': 1, 'scoresby': 1, 'football': 7, 'infection': 1, 'camberwell': 2, '1968': 1, 'subsequently': 1, 'a': 5, 'lower': 1, 'vfl': 2, 'onfield': 1, 'grieg': 1, 'nevertheless': 1, 'light': 1, 'age': 1, 'st': 2, 'trialled': 1, 'senior': 1, 'playing': 1}, ... ]"
      ]
     },
     "execution_count": 14,
     "metadata": {},
     "output_type": "execute_result"
    }
   ],
   "source": [
    "people['word_count']"
   ]
  },
  {
   "cell_type": "code",
   "execution_count": 15,
   "metadata": {},
   "outputs": [
    {
     "data": {
      "text/html": [
       "<div style=\"max-height:1000px;max-width:1500px;overflow:auto;\"><table frame=\"box\" rules=\"cols\">\n",
       "    <tr>\n",
       "        <th style=\"padding-left: 1em; padding-right: 1em; text-align: center\">URI</th>\n",
       "        <th style=\"padding-left: 1em; padding-right: 1em; text-align: center\">name</th>\n",
       "        <th style=\"padding-left: 1em; padding-right: 1em; text-align: center\">text</th>\n",
       "        <th style=\"padding-left: 1em; padding-right: 1em; text-align: center\">word_count</th>\n",
       "    </tr>\n",
       "    <tr>\n",
       "        <td style=\"padding-left: 1em; padding-right: 1em; text-align: center; vertical-align: top\">&lt;http://dbpedia.org/resou<br>rce/Digby_Morrell&gt; ...</td>\n",
       "        <td style=\"padding-left: 1em; padding-right: 1em; text-align: center; vertical-align: top\">Digby Morrell</td>\n",
       "        <td style=\"padding-left: 1em; padding-right: 1em; text-align: center; vertical-align: top\">digby morrell born 10<br>october 1979 is a former ...</td>\n",
       "        <td style=\"padding-left: 1em; padding-right: 1em; text-align: center; vertical-align: top\">{'selection': 1,<br>'carltons': 1, 'being': ...</td>\n",
       "    </tr>\n",
       "    <tr>\n",
       "        <td style=\"padding-left: 1em; padding-right: 1em; text-align: center; vertical-align: top\">&lt;http://dbpedia.org/resou<br>rce/Alfred_J._Lewy&gt; ...</td>\n",
       "        <td style=\"padding-left: 1em; padding-right: 1em; text-align: center; vertical-align: top\">Alfred J. Lewy</td>\n",
       "        <td style=\"padding-left: 1em; padding-right: 1em; text-align: center; vertical-align: top\">alfred j lewy aka sandy<br>lewy graduated from ...</td>\n",
       "        <td style=\"padding-left: 1em; padding-right: 1em; text-align: center; vertical-align: top\">{'precise': 1, 'thomas':<br>1, 'closely': 1, ...</td>\n",
       "    </tr>\n",
       "    <tr>\n",
       "        <td style=\"padding-left: 1em; padding-right: 1em; text-align: center; vertical-align: top\">&lt;http://dbpedia.org/resou<br>rce/Harpdog_Brown&gt; ...</td>\n",
       "        <td style=\"padding-left: 1em; padding-right: 1em; text-align: center; vertical-align: top\">Harpdog Brown</td>\n",
       "        <td style=\"padding-left: 1em; padding-right: 1em; text-align: center; vertical-align: top\">harpdog brown is a singer<br>and harmonica player who ...</td>\n",
       "        <td style=\"padding-left: 1em; padding-right: 1em; text-align: center; vertical-align: top\">{'just': 1, 'issued': 1,<br>'mainly': 1, 'nominat ...</td>\n",
       "    </tr>\n",
       "    <tr>\n",
       "        <td style=\"padding-left: 1em; padding-right: 1em; text-align: center; vertical-align: top\">&lt;http://dbpedia.org/resou<br>rce/Franz_Rottensteiner&gt; ...</td>\n",
       "        <td style=\"padding-left: 1em; padding-right: 1em; text-align: center; vertical-align: top\">Franz Rottensteiner</td>\n",
       "        <td style=\"padding-left: 1em; padding-right: 1em; text-align: center; vertical-align: top\">franz rottensteiner born<br>in waidmannsfeld lower ...</td>\n",
       "        <td style=\"padding-left: 1em; padding-right: 1em; text-align: center; vertical-align: top\">{'all': 1,<br>'bauforschung': 1, ...</td>\n",
       "    </tr>\n",
       "    <tr>\n",
       "        <td style=\"padding-left: 1em; padding-right: 1em; text-align: center; vertical-align: top\">&lt;http://dbpedia.org/resou<br>rce/G-Enka&gt; ...</td>\n",
       "        <td style=\"padding-left: 1em; padding-right: 1em; text-align: center; vertical-align: top\">G-Enka</td>\n",
       "        <td style=\"padding-left: 1em; padding-right: 1em; text-align: center; vertical-align: top\">henry krvits born 30<br>december 1974 in tallinn ...</td>\n",
       "        <td style=\"padding-left: 1em; padding-right: 1em; text-align: center; vertical-align: top\">{'they': 1,<br>'gangstergenka': 1, ...</td>\n",
       "    </tr>\n",
       "    <tr>\n",
       "        <td style=\"padding-left: 1em; padding-right: 1em; text-align: center; vertical-align: top\">&lt;http://dbpedia.org/resou<br>rce/Sam_Henderson&gt; ...</td>\n",
       "        <td style=\"padding-left: 1em; padding-right: 1em; text-align: center; vertical-align: top\">Sam Henderson</td>\n",
       "        <td style=\"padding-left: 1em; padding-right: 1em; text-align: center; vertical-align: top\">sam henderson born<br>october 18 1969 is an ...</td>\n",
       "        <td style=\"padding-left: 1em; padding-right: 1em; text-align: center; vertical-align: top\">{'currently': 1, 'less':<br>1, 'being': 1, ...</td>\n",
       "    </tr>\n",
       "    <tr>\n",
       "        <td style=\"padding-left: 1em; padding-right: 1em; text-align: center; vertical-align: top\">&lt;http://dbpedia.org/resou<br>rce/Aaron_LaCrate&gt; ...</td>\n",
       "        <td style=\"padding-left: 1em; padding-right: 1em; text-align: center; vertical-align: top\">Aaron LaCrate</td>\n",
       "        <td style=\"padding-left: 1em; padding-right: 1em; text-align: center; vertical-align: top\">aaron lacrate is an<br>american music producer ...</td>\n",
       "        <td style=\"padding-left: 1em; padding-right: 1em; text-align: center; vertical-align: top\">{'exclusive': 2,<br>'producer': 1, 'show' ...</td>\n",
       "    </tr>\n",
       "    <tr>\n",
       "        <td style=\"padding-left: 1em; padding-right: 1em; text-align: center; vertical-align: top\">&lt;http://dbpedia.org/resou<br>rce/Trevor_Ferguson&gt; ...</td>\n",
       "        <td style=\"padding-left: 1em; padding-right: 1em; text-align: center; vertical-align: top\">Trevor Ferguson</td>\n",
       "        <td style=\"padding-left: 1em; padding-right: 1em; text-align: center; vertical-align: top\">trevor ferguson aka john<br>farrow born 11 november ...</td>\n",
       "        <td style=\"padding-left: 1em; padding-right: 1em; text-align: center; vertical-align: top\">{'taxi': 1, 'salon': 1,<br>'gangs': 1, 'being': 1, ...</td>\n",
       "    </tr>\n",
       "    <tr>\n",
       "        <td style=\"padding-left: 1em; padding-right: 1em; text-align: center; vertical-align: top\">&lt;http://dbpedia.org/resou<br>rce/Grant_Nelson&gt; ...</td>\n",
       "        <td style=\"padding-left: 1em; padding-right: 1em; text-align: center; vertical-align: top\">Grant Nelson</td>\n",
       "        <td style=\"padding-left: 1em; padding-right: 1em; text-align: center; vertical-align: top\">grant nelson born 27<br>april 1971 in london  ...</td>\n",
       "        <td style=\"padding-left: 1em; padding-right: 1em; text-align: center; vertical-align: top\">{'houston': 1, 'frankie':<br>1, 'labels': 1, ...</td>\n",
       "    </tr>\n",
       "    <tr>\n",
       "        <td style=\"padding-left: 1em; padding-right: 1em; text-align: center; vertical-align: top\">&lt;http://dbpedia.org/resou<br>rce/Cathy_Caruth&gt; ...</td>\n",
       "        <td style=\"padding-left: 1em; padding-right: 1em; text-align: center; vertical-align: top\">Cathy Caruth</td>\n",
       "        <td style=\"padding-left: 1em; padding-right: 1em; text-align: center; vertical-align: top\">cathy caruth born 1955 is<br>frank h t rhodes ...</td>\n",
       "        <td style=\"padding-left: 1em; padding-right: 1em; text-align: center; vertical-align: top\">{'phenomenon': 1,<br>'deborash': 1, 'both' ...</td>\n",
       "    </tr>\n",
       "</table>\n",
       "[59071 rows x 4 columns]<br/>Note: Only the head of the SFrame is printed.<br/>You can use print_rows(num_rows=m, num_columns=n) to print more rows and columns.\n",
       "</div>"
      ],
      "text/plain": [
       "Columns:\n",
       "\tURI\tstr\n",
       "\tname\tstr\n",
       "\ttext\tstr\n",
       "\tword_count\tdict\n",
       "\n",
       "Rows: 59071\n",
       "\n",
       "Data:\n",
       "+-------------------------------+---------------------+\n",
       "|              URI              |         name        |\n",
       "+-------------------------------+---------------------+\n",
       "| <http://dbpedia.org/resour... |    Digby Morrell    |\n",
       "| <http://dbpedia.org/resour... |    Alfred J. Lewy   |\n",
       "| <http://dbpedia.org/resour... |    Harpdog Brown    |\n",
       "| <http://dbpedia.org/resour... | Franz Rottensteiner |\n",
       "| <http://dbpedia.org/resour... |        G-Enka       |\n",
       "| <http://dbpedia.org/resour... |    Sam Henderson    |\n",
       "| <http://dbpedia.org/resour... |    Aaron LaCrate    |\n",
       "| <http://dbpedia.org/resour... |   Trevor Ferguson   |\n",
       "| <http://dbpedia.org/resour... |     Grant Nelson    |\n",
       "| <http://dbpedia.org/resour... |     Cathy Caruth    |\n",
       "+-------------------------------+---------------------+\n",
       "+-------------------------------+-------------------------------+\n",
       "|              text             |           word_count          |\n",
       "+-------------------------------+-------------------------------+\n",
       "| digby morrell born 10 octo... | {'selection': 1, 'carltons... |\n",
       "| alfred j lewy aka sandy le... | {'precise': 1, 'thomas': 1... |\n",
       "| harpdog brown is a singer ... | {'just': 1, 'issued': 1, '... |\n",
       "| franz rottensteiner born i... | {'all': 1, 'bauforschung':... |\n",
       "| henry krvits born 30 decem... | {'they': 1, 'gangstergenka... |\n",
       "| sam henderson born october... | {'currently': 1, 'less': 1... |\n",
       "| aaron lacrate is an americ... | {'exclusive': 2, 'producer... |\n",
       "| trevor ferguson aka john f... | {'taxi': 1, 'salon': 1, 'g... |\n",
       "| grant nelson born 27 april... | {'houston': 1, 'frankie': ... |\n",
       "| cathy caruth born 1955 is ... | {'phenomenon': 1, 'deboras... |\n",
       "+-------------------------------+-------------------------------+\n",
       "[59071 rows x 4 columns]\n",
       "Note: Only the head of the SFrame is printed.\n",
       "You can use print_rows(num_rows=m, num_columns=n) to print more rows and columns."
      ]
     },
     "execution_count": 15,
     "metadata": {},
     "output_type": "execute_result"
    }
   ],
   "source": [
    "people\n"
   ]
  },
  {
   "cell_type": "code",
   "execution_count": 26,
   "metadata": {
    "collapsed": true
   },
   "outputs": [],
   "source": [
    "people['tfidf'] = graphlab.text_analytics.tf_idf(people['word_count'])"
   ]
  },
  {
   "cell_type": "code",
   "execution_count": 27,
   "metadata": {
    "scrolled": true
   },
   "outputs": [
    {
     "data": {
      "text/html": [
       "<div style=\"max-height:1000px;max-width:1500px;overflow:auto;\"><table frame=\"box\" rules=\"cols\">\n",
       "    <tr>\n",
       "        <th style=\"padding-left: 1em; padding-right: 1em; text-align: center\">URI</th>\n",
       "        <th style=\"padding-left: 1em; padding-right: 1em; text-align: center\">name</th>\n",
       "        <th style=\"padding-left: 1em; padding-right: 1em; text-align: center\">text</th>\n",
       "        <th style=\"padding-left: 1em; padding-right: 1em; text-align: center\">word_count</th>\n",
       "    </tr>\n",
       "    <tr>\n",
       "        <td style=\"padding-left: 1em; padding-right: 1em; text-align: center; vertical-align: top\">&lt;http://dbpedia.org/resou<br>rce/Digby_Morrell&gt; ...</td>\n",
       "        <td style=\"padding-left: 1em; padding-right: 1em; text-align: center; vertical-align: top\">Digby Morrell</td>\n",
       "        <td style=\"padding-left: 1em; padding-right: 1em; text-align: center; vertical-align: top\">digby morrell born 10<br>october 1979 is a former ...</td>\n",
       "        <td style=\"padding-left: 1em; padding-right: 1em; text-align: center; vertical-align: top\">{'selection': 1,<br>'carltons': 1, 'being': ...</td>\n",
       "    </tr>\n",
       "    <tr>\n",
       "        <td style=\"padding-left: 1em; padding-right: 1em; text-align: center; vertical-align: top\">&lt;http://dbpedia.org/resou<br>rce/Alfred_J._Lewy&gt; ...</td>\n",
       "        <td style=\"padding-left: 1em; padding-right: 1em; text-align: center; vertical-align: top\">Alfred J. Lewy</td>\n",
       "        <td style=\"padding-left: 1em; padding-right: 1em; text-align: center; vertical-align: top\">alfred j lewy aka sandy<br>lewy graduated from ...</td>\n",
       "        <td style=\"padding-left: 1em; padding-right: 1em; text-align: center; vertical-align: top\">{'precise': 1, 'thomas':<br>1, 'closely': 1, ...</td>\n",
       "    </tr>\n",
       "    <tr>\n",
       "        <td style=\"padding-left: 1em; padding-right: 1em; text-align: center; vertical-align: top\">&lt;http://dbpedia.org/resou<br>rce/Harpdog_Brown&gt; ...</td>\n",
       "        <td style=\"padding-left: 1em; padding-right: 1em; text-align: center; vertical-align: top\">Harpdog Brown</td>\n",
       "        <td style=\"padding-left: 1em; padding-right: 1em; text-align: center; vertical-align: top\">harpdog brown is a singer<br>and harmonica player who ...</td>\n",
       "        <td style=\"padding-left: 1em; padding-right: 1em; text-align: center; vertical-align: top\">{'just': 1, 'issued': 1,<br>'mainly': 1, 'nominat ...</td>\n",
       "    </tr>\n",
       "    <tr>\n",
       "        <td style=\"padding-left: 1em; padding-right: 1em; text-align: center; vertical-align: top\">&lt;http://dbpedia.org/resou<br>rce/Franz_Rottensteiner&gt; ...</td>\n",
       "        <td style=\"padding-left: 1em; padding-right: 1em; text-align: center; vertical-align: top\">Franz Rottensteiner</td>\n",
       "        <td style=\"padding-left: 1em; padding-right: 1em; text-align: center; vertical-align: top\">franz rottensteiner born<br>in waidmannsfeld lower ...</td>\n",
       "        <td style=\"padding-left: 1em; padding-right: 1em; text-align: center; vertical-align: top\">{'all': 1,<br>'bauforschung': 1, ...</td>\n",
       "    </tr>\n",
       "    <tr>\n",
       "        <td style=\"padding-left: 1em; padding-right: 1em; text-align: center; vertical-align: top\">&lt;http://dbpedia.org/resou<br>rce/G-Enka&gt; ...</td>\n",
       "        <td style=\"padding-left: 1em; padding-right: 1em; text-align: center; vertical-align: top\">G-Enka</td>\n",
       "        <td style=\"padding-left: 1em; padding-right: 1em; text-align: center; vertical-align: top\">henry krvits born 30<br>december 1974 in tallinn ...</td>\n",
       "        <td style=\"padding-left: 1em; padding-right: 1em; text-align: center; vertical-align: top\">{'they': 1,<br>'gangstergenka': 1, ...</td>\n",
       "    </tr>\n",
       "    <tr>\n",
       "        <td style=\"padding-left: 1em; padding-right: 1em; text-align: center; vertical-align: top\">&lt;http://dbpedia.org/resou<br>rce/Sam_Henderson&gt; ...</td>\n",
       "        <td style=\"padding-left: 1em; padding-right: 1em; text-align: center; vertical-align: top\">Sam Henderson</td>\n",
       "        <td style=\"padding-left: 1em; padding-right: 1em; text-align: center; vertical-align: top\">sam henderson born<br>october 18 1969 is an ...</td>\n",
       "        <td style=\"padding-left: 1em; padding-right: 1em; text-align: center; vertical-align: top\">{'currently': 1, 'less':<br>1, 'being': 1, ...</td>\n",
       "    </tr>\n",
       "    <tr>\n",
       "        <td style=\"padding-left: 1em; padding-right: 1em; text-align: center; vertical-align: top\">&lt;http://dbpedia.org/resou<br>rce/Aaron_LaCrate&gt; ...</td>\n",
       "        <td style=\"padding-left: 1em; padding-right: 1em; text-align: center; vertical-align: top\">Aaron LaCrate</td>\n",
       "        <td style=\"padding-left: 1em; padding-right: 1em; text-align: center; vertical-align: top\">aaron lacrate is an<br>american music producer ...</td>\n",
       "        <td style=\"padding-left: 1em; padding-right: 1em; text-align: center; vertical-align: top\">{'exclusive': 2,<br>'producer': 1, 'show' ...</td>\n",
       "    </tr>\n",
       "    <tr>\n",
       "        <td style=\"padding-left: 1em; padding-right: 1em; text-align: center; vertical-align: top\">&lt;http://dbpedia.org/resou<br>rce/Trevor_Ferguson&gt; ...</td>\n",
       "        <td style=\"padding-left: 1em; padding-right: 1em; text-align: center; vertical-align: top\">Trevor Ferguson</td>\n",
       "        <td style=\"padding-left: 1em; padding-right: 1em; text-align: center; vertical-align: top\">trevor ferguson aka john<br>farrow born 11 november ...</td>\n",
       "        <td style=\"padding-left: 1em; padding-right: 1em; text-align: center; vertical-align: top\">{'taxi': 1, 'salon': 1,<br>'gangs': 1, 'being': 1, ...</td>\n",
       "    </tr>\n",
       "    <tr>\n",
       "        <td style=\"padding-left: 1em; padding-right: 1em; text-align: center; vertical-align: top\">&lt;http://dbpedia.org/resou<br>rce/Grant_Nelson&gt; ...</td>\n",
       "        <td style=\"padding-left: 1em; padding-right: 1em; text-align: center; vertical-align: top\">Grant Nelson</td>\n",
       "        <td style=\"padding-left: 1em; padding-right: 1em; text-align: center; vertical-align: top\">grant nelson born 27<br>april 1971 in london  ...</td>\n",
       "        <td style=\"padding-left: 1em; padding-right: 1em; text-align: center; vertical-align: top\">{'houston': 1, 'frankie':<br>1, 'labels': 1, ...</td>\n",
       "    </tr>\n",
       "    <tr>\n",
       "        <td style=\"padding-left: 1em; padding-right: 1em; text-align: center; vertical-align: top\">&lt;http://dbpedia.org/resou<br>rce/Cathy_Caruth&gt; ...</td>\n",
       "        <td style=\"padding-left: 1em; padding-right: 1em; text-align: center; vertical-align: top\">Cathy Caruth</td>\n",
       "        <td style=\"padding-left: 1em; padding-right: 1em; text-align: center; vertical-align: top\">cathy caruth born 1955 is<br>frank h t rhodes ...</td>\n",
       "        <td style=\"padding-left: 1em; padding-right: 1em; text-align: center; vertical-align: top\">{'phenomenon': 1,<br>'deborash': 1, 'both' ...</td>\n",
       "    </tr>\n",
       "</table>\n",
       "<table frame=\"box\" rules=\"cols\">\n",
       "    <tr>\n",
       "        <th style=\"padding-left: 1em; padding-right: 1em; text-align: center\">tfidf</th>\n",
       "    </tr>\n",
       "    <tr>\n",
       "        <td style=\"padding-left: 1em; padding-right: 1em; text-align: center; vertical-align: top\">{'selection':<br>3.836578553093086, ...</td>\n",
       "    </tr>\n",
       "    <tr>\n",
       "        <td style=\"padding-left: 1em; padding-right: 1em; text-align: center; vertical-align: top\">{'precise':<br>6.44320060695519, ...</td>\n",
       "    </tr>\n",
       "    <tr>\n",
       "        <td style=\"padding-left: 1em; padding-right: 1em; text-align: center; vertical-align: top\">{'just':<br>2.7007299687108643, ...</td>\n",
       "    </tr>\n",
       "    <tr>\n",
       "        <td style=\"padding-left: 1em; padding-right: 1em; text-align: center; vertical-align: top\">{'all':<br>1.6431112434912472, ...</td>\n",
       "    </tr>\n",
       "    <tr>\n",
       "        <td style=\"padding-left: 1em; padding-right: 1em; text-align: center; vertical-align: top\">{'they':<br>1.8993401178193898, ...</td>\n",
       "    </tr>\n",
       "    <tr>\n",
       "        <td style=\"padding-left: 1em; padding-right: 1em; text-align: center; vertical-align: top\">{'currently':<br>1.637088969126014, ...</td>\n",
       "    </tr>\n",
       "    <tr>\n",
       "        <td style=\"padding-left: 1em; padding-right: 1em; text-align: center; vertical-align: top\">{'exclusive':<br>10.455187230695827, ...</td>\n",
       "    </tr>\n",
       "    <tr>\n",
       "        <td style=\"padding-left: 1em; padding-right: 1em; text-align: center; vertical-align: top\">{'taxi':<br>6.0520214560945025, ...</td>\n",
       "    </tr>\n",
       "    <tr>\n",
       "        <td style=\"padding-left: 1em; padding-right: 1em; text-align: center; vertical-align: top\">{'houston':<br>3.935505942157149, ...</td>\n",
       "    </tr>\n",
       "    <tr>\n",
       "        <td style=\"padding-left: 1em; padding-right: 1em; text-align: center; vertical-align: top\">{'phenomenon':<br>5.750053426395245, ...</td>\n",
       "    </tr>\n",
       "</table>\n",
       "[59071 rows x 5 columns]<br/>Note: Only the head of the SFrame is printed.<br/>You can use print_rows(num_rows=m, num_columns=n) to print more rows and columns.\n",
       "</div>"
      ],
      "text/plain": [
       "Columns:\n",
       "\tURI\tstr\n",
       "\tname\tstr\n",
       "\ttext\tstr\n",
       "\tword_count\tdict\n",
       "\ttfidf\tdict\n",
       "\n",
       "Rows: 59071\n",
       "\n",
       "Data:\n",
       "+-------------------------------+---------------------+\n",
       "|              URI              |         name        |\n",
       "+-------------------------------+---------------------+\n",
       "| <http://dbpedia.org/resour... |    Digby Morrell    |\n",
       "| <http://dbpedia.org/resour... |    Alfred J. Lewy   |\n",
       "| <http://dbpedia.org/resour... |    Harpdog Brown    |\n",
       "| <http://dbpedia.org/resour... | Franz Rottensteiner |\n",
       "| <http://dbpedia.org/resour... |        G-Enka       |\n",
       "| <http://dbpedia.org/resour... |    Sam Henderson    |\n",
       "| <http://dbpedia.org/resour... |    Aaron LaCrate    |\n",
       "| <http://dbpedia.org/resour... |   Trevor Ferguson   |\n",
       "| <http://dbpedia.org/resour... |     Grant Nelson    |\n",
       "| <http://dbpedia.org/resour... |     Cathy Caruth    |\n",
       "+-------------------------------+---------------------+\n",
       "+-------------------------------+-------------------------------+\n",
       "|              text             |           word_count          |\n",
       "+-------------------------------+-------------------------------+\n",
       "| digby morrell born 10 octo... | {'selection': 1, 'carltons... |\n",
       "| alfred j lewy aka sandy le... | {'precise': 1, 'thomas': 1... |\n",
       "| harpdog brown is a singer ... | {'just': 1, 'issued': 1, '... |\n",
       "| franz rottensteiner born i... | {'all': 1, 'bauforschung':... |\n",
       "| henry krvits born 30 decem... | {'they': 1, 'gangstergenka... |\n",
       "| sam henderson born october... | {'currently': 1, 'less': 1... |\n",
       "| aaron lacrate is an americ... | {'exclusive': 2, 'producer... |\n",
       "| trevor ferguson aka john f... | {'taxi': 1, 'salon': 1, 'g... |\n",
       "| grant nelson born 27 april... | {'houston': 1, 'frankie': ... |\n",
       "| cathy caruth born 1955 is ... | {'phenomenon': 1, 'deboras... |\n",
       "+-------------------------------+-------------------------------+\n",
       "+-------------------------------+\n",
       "|             tfidf             |\n",
       "+-------------------------------+\n",
       "| {'selection': 3.8365785530... |\n",
       "| {'precise': 6.443200606955... |\n",
       "| {'just': 2.700729968710864... |\n",
       "| {'all': 1.6431112434912472... |\n",
       "| {'they': 1.899340117819389... |\n",
       "| {'currently': 1.6370889691... |\n",
       "| {'exclusive': 10.455187230... |\n",
       "| {'taxi': 6.052021456094502... |\n",
       "| {'houston': 3.935505942157... |\n",
       "| {'phenomenon': 5.750053426... |\n",
       "+-------------------------------+\n",
       "[59071 rows x 5 columns]\n",
       "Note: Only the head of the SFrame is printed.\n",
       "You can use print_rows(num_rows=m, num_columns=n) to print more rows and columns."
      ]
     },
     "execution_count": 27,
     "metadata": {},
     "output_type": "execute_result"
    }
   ],
   "source": [
    "people"
   ]
  },
  {
   "cell_type": "code",
   "execution_count": 28,
   "metadata": {
    "collapsed": true
   },
   "outputs": [],
   "source": [
    "obama = people[people['name'] == 'Barack Obama']"
   ]
  },
  {
   "cell_type": "code",
   "execution_count": 29,
   "metadata": {},
   "outputs": [
    {
     "data": {
      "text/html": [
       "<div style=\"max-height:1000px;max-width:1500px;overflow:auto;\"><table frame=\"box\" rules=\"cols\">\n",
       "    <tr>\n",
       "        <th style=\"padding-left: 1em; padding-right: 1em; text-align: center\">URI</th>\n",
       "        <th style=\"padding-left: 1em; padding-right: 1em; text-align: center\">name</th>\n",
       "        <th style=\"padding-left: 1em; padding-right: 1em; text-align: center\">text</th>\n",
       "        <th style=\"padding-left: 1em; padding-right: 1em; text-align: center\">word_count</th>\n",
       "    </tr>\n",
       "    <tr>\n",
       "        <td style=\"padding-left: 1em; padding-right: 1em; text-align: center; vertical-align: top\">&lt;http://dbpedia.org/resou<br>rce/Barack_Obama&gt; ...</td>\n",
       "        <td style=\"padding-left: 1em; padding-right: 1em; text-align: center; vertical-align: top\">Barack Obama</td>\n",
       "        <td style=\"padding-left: 1em; padding-right: 1em; text-align: center; vertical-align: top\">barack hussein obama ii<br>brk husen bm born august ...</td>\n",
       "        <td style=\"padding-left: 1em; padding-right: 1em; text-align: center; vertical-align: top\">{'operations': 1,<br>'represent': 1, 'offi ...</td>\n",
       "    </tr>\n",
       "</table>\n",
       "<table frame=\"box\" rules=\"cols\">\n",
       "    <tr>\n",
       "        <th style=\"padding-left: 1em; padding-right: 1em; text-align: center\">tfidf</th>\n",
       "    </tr>\n",
       "    <tr>\n",
       "        <td style=\"padding-left: 1em; padding-right: 1em; text-align: center; vertical-align: top\">{'operations':<br>3.811771079388818, ...</td>\n",
       "    </tr>\n",
       "</table>\n",
       "[? rows x 5 columns]<br/>Note: Only the head of the SFrame is printed. This SFrame is lazily evaluated.<br/>You can use sf.materialize() to force materialization.\n",
       "</div>"
      ],
      "text/plain": [
       "Columns:\n",
       "\tURI\tstr\n",
       "\tname\tstr\n",
       "\ttext\tstr\n",
       "\tword_count\tdict\n",
       "\ttfidf\tdict\n",
       "\n",
       "Rows: Unknown\n",
       "\n",
       "Data:\n",
       "+-------------------------------+--------------+-------------------------------+\n",
       "|              URI              |     name     |              text             |\n",
       "+-------------------------------+--------------+-------------------------------+\n",
       "| <http://dbpedia.org/resour... | Barack Obama | barack hussein obama ii br... |\n",
       "+-------------------------------+--------------+-------------------------------+\n",
       "+-------------------------------+-------------------------------+\n",
       "|           word_count          |             tfidf             |\n",
       "+-------------------------------+-------------------------------+\n",
       "| {'operations': 1, 'represe... | {'operations': 3.811771079... |\n",
       "+-------------------------------+-------------------------------+\n",
       "[? rows x 5 columns]\n",
       "Note: Only the head of the SFrame is printed. This SFrame is lazily evaluated.\n",
       "You can use sf.materialize() to force materialization."
      ]
     },
     "execution_count": 29,
     "metadata": {},
     "output_type": "execute_result"
    }
   ],
   "source": [
    "obama"
   ]
  },
  {
   "cell_type": "code",
   "execution_count": 35,
   "metadata": {
    "scrolled": true
   },
   "outputs": [
    {
     "data": {
      "text/html": [
       "<div style=\"max-height:1000px;max-width:1500px;overflow:auto;\"><table frame=\"box\" rules=\"cols\">\n",
       "    <tr>\n",
       "        <th style=\"padding-left: 1em; padding-right: 1em; text-align: center\">word</th>\n",
       "        <th style=\"padding-left: 1em; padding-right: 1em; text-align: center\">tfidf</th>\n",
       "    </tr>\n",
       "    <tr>\n",
       "        <td style=\"padding-left: 1em; padding-right: 1em; text-align: center; vertical-align: top\">obama</td>\n",
       "        <td style=\"padding-left: 1em; padding-right: 1em; text-align: center; vertical-align: top\">43.2956530721</td>\n",
       "    </tr>\n",
       "    <tr>\n",
       "        <td style=\"padding-left: 1em; padding-right: 1em; text-align: center; vertical-align: top\">act</td>\n",
       "        <td style=\"padding-left: 1em; padding-right: 1em; text-align: center; vertical-align: top\">27.678222623</td>\n",
       "    </tr>\n",
       "    <tr>\n",
       "        <td style=\"padding-left: 1em; padding-right: 1em; text-align: center; vertical-align: top\">iraq</td>\n",
       "        <td style=\"padding-left: 1em; padding-right: 1em; text-align: center; vertical-align: top\">17.747378588</td>\n",
       "    </tr>\n",
       "    <tr>\n",
       "        <td style=\"padding-left: 1em; padding-right: 1em; text-align: center; vertical-align: top\">control</td>\n",
       "        <td style=\"padding-left: 1em; padding-right: 1em; text-align: center; vertical-align: top\">14.8870608452</td>\n",
       "    </tr>\n",
       "    <tr>\n",
       "        <td style=\"padding-left: 1em; padding-right: 1em; text-align: center; vertical-align: top\">law</td>\n",
       "        <td style=\"padding-left: 1em; padding-right: 1em; text-align: center; vertical-align: top\">14.7229357618</td>\n",
       "    </tr>\n",
       "    <tr>\n",
       "        <td style=\"padding-left: 1em; padding-right: 1em; text-align: center; vertical-align: top\">ordered</td>\n",
       "        <td style=\"padding-left: 1em; padding-right: 1em; text-align: center; vertical-align: top\">14.5333739509</td>\n",
       "    </tr>\n",
       "    <tr>\n",
       "        <td style=\"padding-left: 1em; padding-right: 1em; text-align: center; vertical-align: top\">military</td>\n",
       "        <td style=\"padding-left: 1em; padding-right: 1em; text-align: center; vertical-align: top\">13.1159327785</td>\n",
       "    </tr>\n",
       "    <tr>\n",
       "        <td style=\"padding-left: 1em; padding-right: 1em; text-align: center; vertical-align: top\">involvement</td>\n",
       "        <td style=\"padding-left: 1em; padding-right: 1em; text-align: center; vertical-align: top\">12.7843852412</td>\n",
       "    </tr>\n",
       "    <tr>\n",
       "        <td style=\"padding-left: 1em; padding-right: 1em; text-align: center; vertical-align: top\">response</td>\n",
       "        <td style=\"padding-left: 1em; padding-right: 1em; text-align: center; vertical-align: top\">12.7843852412</td>\n",
       "    </tr>\n",
       "    <tr>\n",
       "        <td style=\"padding-left: 1em; padding-right: 1em; text-align: center; vertical-align: top\">democratic</td>\n",
       "        <td style=\"padding-left: 1em; padding-right: 1em; text-align: center; vertical-align: top\">12.4106886973</td>\n",
       "    </tr>\n",
       "</table>\n",
       "[273 rows x 2 columns]<br/>Note: Only the head of the SFrame is printed.<br/>You can use print_rows(num_rows=m, num_columns=n) to print more rows and columns.\n",
       "</div>"
      ],
      "text/plain": [
       "Columns:\n",
       "\tword\tstr\n",
       "\ttfidf\tfloat\n",
       "\n",
       "Rows: 273\n",
       "\n",
       "Data:\n",
       "+-------------+---------------+\n",
       "|     word    |     tfidf     |\n",
       "+-------------+---------------+\n",
       "|    obama    | 43.2956530721 |\n",
       "|     act     |  27.678222623 |\n",
       "|     iraq    |  17.747378588 |\n",
       "|   control   | 14.8870608452 |\n",
       "|     law     | 14.7229357618 |\n",
       "|   ordered   | 14.5333739509 |\n",
       "|   military  | 13.1159327785 |\n",
       "| involvement | 12.7843852412 |\n",
       "|   response  | 12.7843852412 |\n",
       "|  democratic | 12.4106886973 |\n",
       "+-------------+---------------+\n",
       "[273 rows x 2 columns]\n",
       "Note: Only the head of the SFrame is printed.\n",
       "You can use print_rows(num_rows=m, num_columns=n) to print more rows and columns."
      ]
     },
     "execution_count": 35,
     "metadata": {},
     "output_type": "execute_result"
    }
   ],
   "source": [
    "obama[['tfidf']].stack('tfidf', new_column_name=['word', 'tfidf']).sort('tfidf', ascending=False)"
   ]
  },
  {
   "cell_type": "code",
   "execution_count": 36,
   "metadata": {
    "collapsed": true
   },
   "outputs": [],
   "source": [
    "clinton = people[people['name'] == 'Bill Clinton']"
   ]
  },
  {
   "cell_type": "code",
   "execution_count": 37,
   "metadata": {},
   "outputs": [
    {
     "data": {
      "text/html": [
       "<div style=\"max-height:1000px;max-width:1500px;overflow:auto;\"><table frame=\"box\" rules=\"cols\">\n",
       "    <tr>\n",
       "        <th style=\"padding-left: 1em; padding-right: 1em; text-align: center\">URI</th>\n",
       "        <th style=\"padding-left: 1em; padding-right: 1em; text-align: center\">name</th>\n",
       "        <th style=\"padding-left: 1em; padding-right: 1em; text-align: center\">text</th>\n",
       "        <th style=\"padding-left: 1em; padding-right: 1em; text-align: center\">word_count</th>\n",
       "    </tr>\n",
       "    <tr>\n",
       "        <td style=\"padding-left: 1em; padding-right: 1em; text-align: center; vertical-align: top\">&lt;http://dbpedia.org/resou<br>rce/Bill_Clinton&gt; ...</td>\n",
       "        <td style=\"padding-left: 1em; padding-right: 1em; text-align: center; vertical-align: top\">Bill Clinton</td>\n",
       "        <td style=\"padding-left: 1em; padding-right: 1em; text-align: center; vertical-align: top\">william jefferson bill<br>clinton born william ...</td>\n",
       "        <td style=\"padding-left: 1em; padding-right: 1em; text-align: center; vertical-align: top\">{'rating': 1, 'serving':<br>1, 'surplus': 1, ...</td>\n",
       "    </tr>\n",
       "</table>\n",
       "<table frame=\"box\" rules=\"cols\">\n",
       "    <tr>\n",
       "        <th style=\"padding-left: 1em; padding-right: 1em; text-align: center\">tfidf</th>\n",
       "    </tr>\n",
       "    <tr>\n",
       "        <td style=\"padding-left: 1em; padding-right: 1em; text-align: center; vertical-align: top\">{'rating':<br>5.377023594040234, ...</td>\n",
       "    </tr>\n",
       "</table>\n",
       "[? rows x 5 columns]<br/>Note: Only the head of the SFrame is printed. This SFrame is lazily evaluated.<br/>You can use sf.materialize() to force materialization.\n",
       "</div>"
      ],
      "text/plain": [
       "Columns:\n",
       "\tURI\tstr\n",
       "\tname\tstr\n",
       "\ttext\tstr\n",
       "\tword_count\tdict\n",
       "\ttfidf\tdict\n",
       "\n",
       "Rows: Unknown\n",
       "\n",
       "Data:\n",
       "+-------------------------------+--------------+-------------------------------+\n",
       "|              URI              |     name     |              text             |\n",
       "+-------------------------------+--------------+-------------------------------+\n",
       "| <http://dbpedia.org/resour... | Bill Clinton | william jefferson bill cli... |\n",
       "+-------------------------------+--------------+-------------------------------+\n",
       "+-------------------------------+-------------------------------+\n",
       "|           word_count          |             tfidf             |\n",
       "+-------------------------------+-------------------------------+\n",
       "| {'rating': 1, 'serving': 1... | {'rating': 5.3770235940402... |\n",
       "+-------------------------------+-------------------------------+\n",
       "[? rows x 5 columns]\n",
       "Note: Only the head of the SFrame is printed. This SFrame is lazily evaluated.\n",
       "You can use sf.materialize() to force materialization."
      ]
     },
     "execution_count": 37,
     "metadata": {},
     "output_type": "execute_result"
    }
   ],
   "source": [
    "clinton"
   ]
  },
  {
   "cell_type": "code",
   "execution_count": 39,
   "metadata": {},
   "outputs": [],
   "source": [
    "beckham = people[people['name'] == 'David Beckham']"
   ]
  },
  {
   "cell_type": "code",
   "execution_count": 40,
   "metadata": {},
   "outputs": [
    {
     "data": {
      "text/html": [
       "<div style=\"max-height:1000px;max-width:1500px;overflow:auto;\"><table frame=\"box\" rules=\"cols\">\n",
       "    <tr>\n",
       "        <th style=\"padding-left: 1em; padding-right: 1em; text-align: center\">URI</th>\n",
       "        <th style=\"padding-left: 1em; padding-right: 1em; text-align: center\">name</th>\n",
       "        <th style=\"padding-left: 1em; padding-right: 1em; text-align: center\">text</th>\n",
       "        <th style=\"padding-left: 1em; padding-right: 1em; text-align: center\">word_count</th>\n",
       "    </tr>\n",
       "    <tr>\n",
       "        <td style=\"padding-left: 1em; padding-right: 1em; text-align: center; vertical-align: top\">&lt;http://dbpedia.org/resou<br>rce/David_Beckham&gt; ...</td>\n",
       "        <td style=\"padding-left: 1em; padding-right: 1em; text-align: center; vertical-align: top\">David Beckham</td>\n",
       "        <td style=\"padding-left: 1em; padding-right: 1em; text-align: center; vertical-align: top\">david robert joseph<br>beckham obe bkm born 2 ...</td>\n",
       "        <td style=\"padding-left: 1em; padding-right: 1em; text-align: center; vertical-align: top\">{'bending': 1, 'fifa': 3,<br>'six': 2, 'beckham': 8, ...</td>\n",
       "    </tr>\n",
       "</table>\n",
       "<table frame=\"box\" rules=\"cols\">\n",
       "    <tr>\n",
       "        <th style=\"padding-left: 1em; padding-right: 1em; text-align: center\">tfidf</th>\n",
       "    </tr>\n",
       "    <tr>\n",
       "        <td style=\"padding-left: 1em; padding-right: 1em; text-align: center; vertical-align: top\">{'bending':<br>7.808441558877249, ...</td>\n",
       "    </tr>\n",
       "</table>\n",
       "[? rows x 5 columns]<br/>Note: Only the head of the SFrame is printed. This SFrame is lazily evaluated.<br/>You can use sf.materialize() to force materialization.\n",
       "</div>"
      ],
      "text/plain": [
       "Columns:\n",
       "\tURI\tstr\n",
       "\tname\tstr\n",
       "\ttext\tstr\n",
       "\tword_count\tdict\n",
       "\ttfidf\tdict\n",
       "\n",
       "Rows: Unknown\n",
       "\n",
       "Data:\n",
       "+-------------------------------+---------------+-------------------------------+\n",
       "|              URI              |      name     |              text             |\n",
       "+-------------------------------+---------------+-------------------------------+\n",
       "| <http://dbpedia.org/resour... | David Beckham | david robert joseph beckha... |\n",
       "+-------------------------------+---------------+-------------------------------+\n",
       "+-------------------------------+-------------------------------+\n",
       "|           word_count          |             tfidf             |\n",
       "+-------------------------------+-------------------------------+\n",
       "| {'bending': 1, 'fifa': 3, ... | {'bending': 7.808441558877... |\n",
       "+-------------------------------+-------------------------------+\n",
       "[? rows x 5 columns]\n",
       "Note: Only the head of the SFrame is printed. This SFrame is lazily evaluated.\n",
       "You can use sf.materialize() to force materialization."
      ]
     },
     "execution_count": 40,
     "metadata": {},
     "output_type": "execute_result"
    }
   ],
   "source": [
    "beckham"
   ]
  },
  {
   "cell_type": "code",
   "execution_count": 41,
   "metadata": {},
   "outputs": [
    {
     "data": {
      "text/plain": [
       "0.8339854936884276"
      ]
     },
     "execution_count": 41,
     "metadata": {},
     "output_type": "execute_result"
    }
   ],
   "source": [
    "graphlab.distances.cosine(obama['tfidf'][0], clinton['tfidf'][0])"
   ]
  },
  {
   "cell_type": "code",
   "execution_count": 42,
   "metadata": {},
   "outputs": [
    {
     "data": {
      "text/plain": [
       "0.9791305844747478"
      ]
     },
     "execution_count": 42,
     "metadata": {},
     "output_type": "execute_result"
    }
   ],
   "source": [
    "graphlab.distances.cosine(obama['tfidf'][0], beckham['tfidf'][0])"
   ]
  },
  {
   "cell_type": "code",
   "execution_count": 43,
   "metadata": {},
   "outputs": [
    {
     "data": {
      "text/html": [
       "<pre>Starting brute force nearest neighbors model training.</pre>"
      ],
      "text/plain": [
       "Starting brute force nearest neighbors model training."
      ]
     },
     "metadata": {},
     "output_type": "display_data"
    }
   ],
   "source": [
    "knn_model = graphlab.nearest_neighbors.create(people,features=['tfidf'],label='name')"
   ]
  },
  {
   "cell_type": "code",
   "execution_count": 45,
   "metadata": {},
   "outputs": [
    {
     "data": {
      "text/html": [
       "<pre>Starting pairwise querying.</pre>"
      ],
      "text/plain": [
       "Starting pairwise querying."
      ]
     },
     "metadata": {},
     "output_type": "display_data"
    },
    {
     "data": {
      "text/html": [
       "<pre>+--------------+---------+-------------+--------------+</pre>"
      ],
      "text/plain": [
       "+--------------+---------+-------------+--------------+"
      ]
     },
     "metadata": {},
     "output_type": "display_data"
    },
    {
     "data": {
      "text/html": [
       "<pre>| Query points | # Pairs | % Complete. | Elapsed Time |</pre>"
      ],
      "text/plain": [
       "| Query points | # Pairs | % Complete. | Elapsed Time |"
      ]
     },
     "metadata": {},
     "output_type": "display_data"
    },
    {
     "data": {
      "text/html": [
       "<pre>+--------------+---------+-------------+--------------+</pre>"
      ],
      "text/plain": [
       "+--------------+---------+-------------+--------------+"
      ]
     },
     "metadata": {},
     "output_type": "display_data"
    },
    {
     "data": {
      "text/html": [
       "<pre>| 0            | 1       | 0.00169288  | 27.35ms      |</pre>"
      ],
      "text/plain": [
       "| 0            | 1       | 0.00169288  | 27.35ms      |"
      ]
     },
     "metadata": {},
     "output_type": "display_data"
    },
    {
     "data": {
      "text/html": [
       "<pre>| Done         |         | 100         | 386.046ms    |</pre>"
      ],
      "text/plain": [
       "| Done         |         | 100         | 386.046ms    |"
      ]
     },
     "metadata": {},
     "output_type": "display_data"
    },
    {
     "data": {
      "text/html": [
       "<pre>+--------------+---------+-------------+--------------+</pre>"
      ],
      "text/plain": [
       "+--------------+---------+-------------+--------------+"
      ]
     },
     "metadata": {},
     "output_type": "display_data"
    },
    {
     "data": {
      "text/html": [
       "<div style=\"max-height:1000px;max-width:1500px;overflow:auto;\"><table frame=\"box\" rules=\"cols\">\n",
       "    <tr>\n",
       "        <th style=\"padding-left: 1em; padding-right: 1em; text-align: center\">query_label</th>\n",
       "        <th style=\"padding-left: 1em; padding-right: 1em; text-align: center\">reference_label</th>\n",
       "        <th style=\"padding-left: 1em; padding-right: 1em; text-align: center\">distance</th>\n",
       "        <th style=\"padding-left: 1em; padding-right: 1em; text-align: center\">rank</th>\n",
       "    </tr>\n",
       "    <tr>\n",
       "        <td style=\"padding-left: 1em; padding-right: 1em; text-align: center; vertical-align: top\">0</td>\n",
       "        <td style=\"padding-left: 1em; padding-right: 1em; text-align: center; vertical-align: top\">Barack Obama</td>\n",
       "        <td style=\"padding-left: 1em; padding-right: 1em; text-align: center; vertical-align: top\">0.0</td>\n",
       "        <td style=\"padding-left: 1em; padding-right: 1em; text-align: center; vertical-align: top\">1</td>\n",
       "    </tr>\n",
       "    <tr>\n",
       "        <td style=\"padding-left: 1em; padding-right: 1em; text-align: center; vertical-align: top\">0</td>\n",
       "        <td style=\"padding-left: 1em; padding-right: 1em; text-align: center; vertical-align: top\">Joe Biden</td>\n",
       "        <td style=\"padding-left: 1em; padding-right: 1em; text-align: center; vertical-align: top\">0.794117647059</td>\n",
       "        <td style=\"padding-left: 1em; padding-right: 1em; text-align: center; vertical-align: top\">2</td>\n",
       "    </tr>\n",
       "    <tr>\n",
       "        <td style=\"padding-left: 1em; padding-right: 1em; text-align: center; vertical-align: top\">0</td>\n",
       "        <td style=\"padding-left: 1em; padding-right: 1em; text-align: center; vertical-align: top\">Joe Lieberman</td>\n",
       "        <td style=\"padding-left: 1em; padding-right: 1em; text-align: center; vertical-align: top\">0.794685990338</td>\n",
       "        <td style=\"padding-left: 1em; padding-right: 1em; text-align: center; vertical-align: top\">3</td>\n",
       "    </tr>\n",
       "    <tr>\n",
       "        <td style=\"padding-left: 1em; padding-right: 1em; text-align: center; vertical-align: top\">0</td>\n",
       "        <td style=\"padding-left: 1em; padding-right: 1em; text-align: center; vertical-align: top\">Kelly Ayotte</td>\n",
       "        <td style=\"padding-left: 1em; padding-right: 1em; text-align: center; vertical-align: top\">0.811989100817</td>\n",
       "        <td style=\"padding-left: 1em; padding-right: 1em; text-align: center; vertical-align: top\">4</td>\n",
       "    </tr>\n",
       "    <tr>\n",
       "        <td style=\"padding-left: 1em; padding-right: 1em; text-align: center; vertical-align: top\">0</td>\n",
       "        <td style=\"padding-left: 1em; padding-right: 1em; text-align: center; vertical-align: top\">Bill Clinton</td>\n",
       "        <td style=\"padding-left: 1em; padding-right: 1em; text-align: center; vertical-align: top\">0.813852813853</td>\n",
       "        <td style=\"padding-left: 1em; padding-right: 1em; text-align: center; vertical-align: top\">5</td>\n",
       "    </tr>\n",
       "</table>\n",
       "[5 rows x 4 columns]<br/>\n",
       "</div>"
      ],
      "text/plain": [
       "Columns:\n",
       "\tquery_label\tint\n",
       "\treference_label\tstr\n",
       "\tdistance\tfloat\n",
       "\trank\tint\n",
       "\n",
       "Rows: 5\n",
       "\n",
       "Data:\n",
       "+-------------+-----------------+----------------+------+\n",
       "| query_label | reference_label |    distance    | rank |\n",
       "+-------------+-----------------+----------------+------+\n",
       "|      0      |   Barack Obama  |      0.0       |  1   |\n",
       "|      0      |    Joe Biden    | 0.794117647059 |  2   |\n",
       "|      0      |  Joe Lieberman  | 0.794685990338 |  3   |\n",
       "|      0      |   Kelly Ayotte  | 0.811989100817 |  4   |\n",
       "|      0      |   Bill Clinton  | 0.813852813853 |  5   |\n",
       "+-------------+-----------------+----------------+------+\n",
       "[5 rows x 4 columns]"
      ]
     },
     "execution_count": 45,
     "metadata": {},
     "output_type": "execute_result"
    }
   ],
   "source": [
    "knn_model.query(obama)"
   ]
  },
  {
   "cell_type": "code",
   "execution_count": 46,
   "metadata": {
    "collapsed": true
   },
   "outputs": [],
   "source": [
    "swift = people[people['name'] == 'Taylor Swift']"
   ]
  },
  {
   "cell_type": "code",
   "execution_count": 47,
   "metadata": {},
   "outputs": [
    {
     "data": {
      "text/html": [
       "<pre>Starting pairwise querying.</pre>"
      ],
      "text/plain": [
       "Starting pairwise querying."
      ]
     },
     "metadata": {},
     "output_type": "display_data"
    },
    {
     "data": {
      "text/html": [
       "<pre>+--------------+---------+-------------+--------------+</pre>"
      ],
      "text/plain": [
       "+--------------+---------+-------------+--------------+"
      ]
     },
     "metadata": {},
     "output_type": "display_data"
    },
    {
     "data": {
      "text/html": [
       "<pre>| Query points | # Pairs | % Complete. | Elapsed Time |</pre>"
      ],
      "text/plain": [
       "| Query points | # Pairs | % Complete. | Elapsed Time |"
      ]
     },
     "metadata": {},
     "output_type": "display_data"
    },
    {
     "data": {
      "text/html": [
       "<pre>+--------------+---------+-------------+--------------+</pre>"
      ],
      "text/plain": [
       "+--------------+---------+-------------+--------------+"
      ]
     },
     "metadata": {},
     "output_type": "display_data"
    },
    {
     "data": {
      "text/html": [
       "<pre>| 0            | 1       | 0.00169288  | 24.165ms     |</pre>"
      ],
      "text/plain": [
       "| 0            | 1       | 0.00169288  | 24.165ms     |"
      ]
     },
     "metadata": {},
     "output_type": "display_data"
    },
    {
     "data": {
      "text/html": [
       "<pre>| Done         |         | 100         | 406.691ms    |</pre>"
      ],
      "text/plain": [
       "| Done         |         | 100         | 406.691ms    |"
      ]
     },
     "metadata": {},
     "output_type": "display_data"
    },
    {
     "data": {
      "text/html": [
       "<pre>+--------------+---------+-------------+--------------+</pre>"
      ],
      "text/plain": [
       "+--------------+---------+-------------+--------------+"
      ]
     },
     "metadata": {},
     "output_type": "display_data"
    },
    {
     "data": {
      "text/html": [
       "<div style=\"max-height:1000px;max-width:1500px;overflow:auto;\"><table frame=\"box\" rules=\"cols\">\n",
       "    <tr>\n",
       "        <th style=\"padding-left: 1em; padding-right: 1em; text-align: center\">query_label</th>\n",
       "        <th style=\"padding-left: 1em; padding-right: 1em; text-align: center\">reference_label</th>\n",
       "        <th style=\"padding-left: 1em; padding-right: 1em; text-align: center\">distance</th>\n",
       "        <th style=\"padding-left: 1em; padding-right: 1em; text-align: center\">rank</th>\n",
       "    </tr>\n",
       "    <tr>\n",
       "        <td style=\"padding-left: 1em; padding-right: 1em; text-align: center; vertical-align: top\">0</td>\n",
       "        <td style=\"padding-left: 1em; padding-right: 1em; text-align: center; vertical-align: top\">Taylor Swift</td>\n",
       "        <td style=\"padding-left: 1em; padding-right: 1em; text-align: center; vertical-align: top\">0.0</td>\n",
       "        <td style=\"padding-left: 1em; padding-right: 1em; text-align: center; vertical-align: top\">1</td>\n",
       "    </tr>\n",
       "    <tr>\n",
       "        <td style=\"padding-left: 1em; padding-right: 1em; text-align: center; vertical-align: top\">0</td>\n",
       "        <td style=\"padding-left: 1em; padding-right: 1em; text-align: center; vertical-align: top\">Carrie Underwood</td>\n",
       "        <td style=\"padding-left: 1em; padding-right: 1em; text-align: center; vertical-align: top\">0.76231884058</td>\n",
       "        <td style=\"padding-left: 1em; padding-right: 1em; text-align: center; vertical-align: top\">2</td>\n",
       "    </tr>\n",
       "    <tr>\n",
       "        <td style=\"padding-left: 1em; padding-right: 1em; text-align: center; vertical-align: top\">0</td>\n",
       "        <td style=\"padding-left: 1em; padding-right: 1em; text-align: center; vertical-align: top\">Alicia Keys</td>\n",
       "        <td style=\"padding-left: 1em; padding-right: 1em; text-align: center; vertical-align: top\">0.764705882353</td>\n",
       "        <td style=\"padding-left: 1em; padding-right: 1em; text-align: center; vertical-align: top\">3</td>\n",
       "    </tr>\n",
       "    <tr>\n",
       "        <td style=\"padding-left: 1em; padding-right: 1em; text-align: center; vertical-align: top\">0</td>\n",
       "        <td style=\"padding-left: 1em; padding-right: 1em; text-align: center; vertical-align: top\">Jordin Sparks</td>\n",
       "        <td style=\"padding-left: 1em; padding-right: 1em; text-align: center; vertical-align: top\">0.769633507853</td>\n",
       "        <td style=\"padding-left: 1em; padding-right: 1em; text-align: center; vertical-align: top\">4</td>\n",
       "    </tr>\n",
       "    <tr>\n",
       "        <td style=\"padding-left: 1em; padding-right: 1em; text-align: center; vertical-align: top\">0</td>\n",
       "        <td style=\"padding-left: 1em; padding-right: 1em; text-align: center; vertical-align: top\">Leona Lewis</td>\n",
       "        <td style=\"padding-left: 1em; padding-right: 1em; text-align: center; vertical-align: top\">0.776119402985</td>\n",
       "        <td style=\"padding-left: 1em; padding-right: 1em; text-align: center; vertical-align: top\">5</td>\n",
       "    </tr>\n",
       "</table>\n",
       "[5 rows x 4 columns]<br/>\n",
       "</div>"
      ],
      "text/plain": [
       "Columns:\n",
       "\tquery_label\tint\n",
       "\treference_label\tstr\n",
       "\tdistance\tfloat\n",
       "\trank\tint\n",
       "\n",
       "Rows: 5\n",
       "\n",
       "Data:\n",
       "+-------------+------------------+----------------+------+\n",
       "| query_label | reference_label  |    distance    | rank |\n",
       "+-------------+------------------+----------------+------+\n",
       "|      0      |   Taylor Swift   |      0.0       |  1   |\n",
       "|      0      | Carrie Underwood | 0.76231884058  |  2   |\n",
       "|      0      |   Alicia Keys    | 0.764705882353 |  3   |\n",
       "|      0      |  Jordin Sparks   | 0.769633507853 |  4   |\n",
       "|      0      |   Leona Lewis    | 0.776119402985 |  5   |\n",
       "+-------------+------------------+----------------+------+\n",
       "[5 rows x 4 columns]"
      ]
     },
     "execution_count": 47,
     "metadata": {},
     "output_type": "execute_result"
    }
   ],
   "source": [
    "knn_model.query(swift)"
   ]
  },
  {
   "cell_type": "code",
   "execution_count": 48,
   "metadata": {
    "collapsed": true
   },
   "outputs": [],
   "source": [
    "jolie = people[people['name'] == 'Angelina Jolie']"
   ]
  },
  {
   "cell_type": "code",
   "execution_count": 49,
   "metadata": {},
   "outputs": [
    {
     "data": {
      "text/html": [
       "<pre>Starting pairwise querying.</pre>"
      ],
      "text/plain": [
       "Starting pairwise querying."
      ]
     },
     "metadata": {},
     "output_type": "display_data"
    },
    {
     "data": {
      "text/html": [
       "<pre>+--------------+---------+-------------+--------------+</pre>"
      ],
      "text/plain": [
       "+--------------+---------+-------------+--------------+"
      ]
     },
     "metadata": {},
     "output_type": "display_data"
    },
    {
     "data": {
      "text/html": [
       "<pre>| Query points | # Pairs | % Complete. | Elapsed Time |</pre>"
      ],
      "text/plain": [
       "| Query points | # Pairs | % Complete. | Elapsed Time |"
      ]
     },
     "metadata": {},
     "output_type": "display_data"
    },
    {
     "data": {
      "text/html": [
       "<pre>+--------------+---------+-------------+--------------+</pre>"
      ],
      "text/plain": [
       "+--------------+---------+-------------+--------------+"
      ]
     },
     "metadata": {},
     "output_type": "display_data"
    },
    {
     "data": {
      "text/html": [
       "<pre>| 0            | 1       | 0.00169288  | 25.066ms     |</pre>"
      ],
      "text/plain": [
       "| 0            | 1       | 0.00169288  | 25.066ms     |"
      ]
     },
     "metadata": {},
     "output_type": "display_data"
    },
    {
     "data": {
      "text/html": [
       "<pre>| Done         |         | 100         | 367.931ms    |</pre>"
      ],
      "text/plain": [
       "| Done         |         | 100         | 367.931ms    |"
      ]
     },
     "metadata": {},
     "output_type": "display_data"
    },
    {
     "data": {
      "text/html": [
       "<pre>+--------------+---------+-------------+--------------+</pre>"
      ],
      "text/plain": [
       "+--------------+---------+-------------+--------------+"
      ]
     },
     "metadata": {},
     "output_type": "display_data"
    },
    {
     "data": {
      "text/html": [
       "<div style=\"max-height:1000px;max-width:1500px;overflow:auto;\"><table frame=\"box\" rules=\"cols\">\n",
       "    <tr>\n",
       "        <th style=\"padding-left: 1em; padding-right: 1em; text-align: center\">query_label</th>\n",
       "        <th style=\"padding-left: 1em; padding-right: 1em; text-align: center\">reference_label</th>\n",
       "        <th style=\"padding-left: 1em; padding-right: 1em; text-align: center\">distance</th>\n",
       "        <th style=\"padding-left: 1em; padding-right: 1em; text-align: center\">rank</th>\n",
       "    </tr>\n",
       "    <tr>\n",
       "        <td style=\"padding-left: 1em; padding-right: 1em; text-align: center; vertical-align: top\">0</td>\n",
       "        <td style=\"padding-left: 1em; padding-right: 1em; text-align: center; vertical-align: top\">Angelina Jolie</td>\n",
       "        <td style=\"padding-left: 1em; padding-right: 1em; text-align: center; vertical-align: top\">0.0</td>\n",
       "        <td style=\"padding-left: 1em; padding-right: 1em; text-align: center; vertical-align: top\">1</td>\n",
       "    </tr>\n",
       "    <tr>\n",
       "        <td style=\"padding-left: 1em; padding-right: 1em; text-align: center; vertical-align: top\">0</td>\n",
       "        <td style=\"padding-left: 1em; padding-right: 1em; text-align: center; vertical-align: top\">Brad Pitt</td>\n",
       "        <td style=\"padding-left: 1em; padding-right: 1em; text-align: center; vertical-align: top\">0.784023668639</td>\n",
       "        <td style=\"padding-left: 1em; padding-right: 1em; text-align: center; vertical-align: top\">2</td>\n",
       "    </tr>\n",
       "    <tr>\n",
       "        <td style=\"padding-left: 1em; padding-right: 1em; text-align: center; vertical-align: top\">0</td>\n",
       "        <td style=\"padding-left: 1em; padding-right: 1em; text-align: center; vertical-align: top\">Julianne Moore</td>\n",
       "        <td style=\"padding-left: 1em; padding-right: 1em; text-align: center; vertical-align: top\">0.795857988166</td>\n",
       "        <td style=\"padding-left: 1em; padding-right: 1em; text-align: center; vertical-align: top\">3</td>\n",
       "    </tr>\n",
       "    <tr>\n",
       "        <td style=\"padding-left: 1em; padding-right: 1em; text-align: center; vertical-align: top\">0</td>\n",
       "        <td style=\"padding-left: 1em; padding-right: 1em; text-align: center; vertical-align: top\">Billy Bob Thornton</td>\n",
       "        <td style=\"padding-left: 1em; padding-right: 1em; text-align: center; vertical-align: top\">0.803069053708</td>\n",
       "        <td style=\"padding-left: 1em; padding-right: 1em; text-align: center; vertical-align: top\">4</td>\n",
       "    </tr>\n",
       "    <tr>\n",
       "        <td style=\"padding-left: 1em; padding-right: 1em; text-align: center; vertical-align: top\">0</td>\n",
       "        <td style=\"padding-left: 1em; padding-right: 1em; text-align: center; vertical-align: top\">George Clooney</td>\n",
       "        <td style=\"padding-left: 1em; padding-right: 1em; text-align: center; vertical-align: top\">0.8046875</td>\n",
       "        <td style=\"padding-left: 1em; padding-right: 1em; text-align: center; vertical-align: top\">5</td>\n",
       "    </tr>\n",
       "</table>\n",
       "[5 rows x 4 columns]<br/>\n",
       "</div>"
      ],
      "text/plain": [
       "Columns:\n",
       "\tquery_label\tint\n",
       "\treference_label\tstr\n",
       "\tdistance\tfloat\n",
       "\trank\tint\n",
       "\n",
       "Rows: 5\n",
       "\n",
       "Data:\n",
       "+-------------+--------------------+----------------+------+\n",
       "| query_label |  reference_label   |    distance    | rank |\n",
       "+-------------+--------------------+----------------+------+\n",
       "|      0      |   Angelina Jolie   |      0.0       |  1   |\n",
       "|      0      |     Brad Pitt      | 0.784023668639 |  2   |\n",
       "|      0      |   Julianne Moore   | 0.795857988166 |  3   |\n",
       "|      0      | Billy Bob Thornton | 0.803069053708 |  4   |\n",
       "|      0      |   George Clooney   |   0.8046875    |  5   |\n",
       "+-------------+--------------------+----------------+------+\n",
       "[5 rows x 4 columns]"
      ]
     },
     "execution_count": 49,
     "metadata": {},
     "output_type": "execute_result"
    }
   ],
   "source": [
    "knn_model.query(jolie)"
   ]
  },
  {
   "cell_type": "code",
   "execution_count": 51,
   "metadata": {},
   "outputs": [],
   "source": [
    "arnold = people[people['name'] == 'Arnold Schwarzenegger']"
   ]
  },
  {
   "cell_type": "code",
   "execution_count": 52,
   "metadata": {},
   "outputs": [
    {
     "data": {
      "text/html": [
       "<pre>Starting pairwise querying.</pre>"
      ],
      "text/plain": [
       "Starting pairwise querying."
      ]
     },
     "metadata": {},
     "output_type": "display_data"
    },
    {
     "data": {
      "text/html": [
       "<pre>+--------------+---------+-------------+--------------+</pre>"
      ],
      "text/plain": [
       "+--------------+---------+-------------+--------------+"
      ]
     },
     "metadata": {},
     "output_type": "display_data"
    },
    {
     "data": {
      "text/html": [
       "<pre>| Query points | # Pairs | % Complete. | Elapsed Time |</pre>"
      ],
      "text/plain": [
       "| Query points | # Pairs | % Complete. | Elapsed Time |"
      ]
     },
     "metadata": {},
     "output_type": "display_data"
    },
    {
     "data": {
      "text/html": [
       "<pre>+--------------+---------+-------------+--------------+</pre>"
      ],
      "text/plain": [
       "+--------------+---------+-------------+--------------+"
      ]
     },
     "metadata": {},
     "output_type": "display_data"
    },
    {
     "data": {
      "text/html": [
       "<pre>| 0            | 1       | 0.00169288  | 27.139ms     |</pre>"
      ],
      "text/plain": [
       "| 0            | 1       | 0.00169288  | 27.139ms     |"
      ]
     },
     "metadata": {},
     "output_type": "display_data"
    },
    {
     "data": {
      "text/html": [
       "<pre>| Done         |         | 100         | 398.359ms    |</pre>"
      ],
      "text/plain": [
       "| Done         |         | 100         | 398.359ms    |"
      ]
     },
     "metadata": {},
     "output_type": "display_data"
    },
    {
     "data": {
      "text/html": [
       "<pre>+--------------+---------+-------------+--------------+</pre>"
      ],
      "text/plain": [
       "+--------------+---------+-------------+--------------+"
      ]
     },
     "metadata": {},
     "output_type": "display_data"
    },
    {
     "data": {
      "text/html": [
       "<div style=\"max-height:1000px;max-width:1500px;overflow:auto;\"><table frame=\"box\" rules=\"cols\">\n",
       "    <tr>\n",
       "        <th style=\"padding-left: 1em; padding-right: 1em; text-align: center\">query_label</th>\n",
       "        <th style=\"padding-left: 1em; padding-right: 1em; text-align: center\">reference_label</th>\n",
       "        <th style=\"padding-left: 1em; padding-right: 1em; text-align: center\">distance</th>\n",
       "        <th style=\"padding-left: 1em; padding-right: 1em; text-align: center\">rank</th>\n",
       "    </tr>\n",
       "    <tr>\n",
       "        <td style=\"padding-left: 1em; padding-right: 1em; text-align: center; vertical-align: top\">0</td>\n",
       "        <td style=\"padding-left: 1em; padding-right: 1em; text-align: center; vertical-align: top\">Arnold Schwarzenegger</td>\n",
       "        <td style=\"padding-left: 1em; padding-right: 1em; text-align: center; vertical-align: top\">0.0</td>\n",
       "        <td style=\"padding-left: 1em; padding-right: 1em; text-align: center; vertical-align: top\">1</td>\n",
       "    </tr>\n",
       "    <tr>\n",
       "        <td style=\"padding-left: 1em; padding-right: 1em; text-align: center; vertical-align: top\">0</td>\n",
       "        <td style=\"padding-left: 1em; padding-right: 1em; text-align: center; vertical-align: top\">Jesse Ventura</td>\n",
       "        <td style=\"padding-left: 1em; padding-right: 1em; text-align: center; vertical-align: top\">0.818918918919</td>\n",
       "        <td style=\"padding-left: 1em; padding-right: 1em; text-align: center; vertical-align: top\">2</td>\n",
       "    </tr>\n",
       "    <tr>\n",
       "        <td style=\"padding-left: 1em; padding-right: 1em; text-align: center; vertical-align: top\">0</td>\n",
       "        <td style=\"padding-left: 1em; padding-right: 1em; text-align: center; vertical-align: top\">John Kitzhaber</td>\n",
       "        <td style=\"padding-left: 1em; padding-right: 1em; text-align: center; vertical-align: top\">0.824615384615</td>\n",
       "        <td style=\"padding-left: 1em; padding-right: 1em; text-align: center; vertical-align: top\">3</td>\n",
       "    </tr>\n",
       "    <tr>\n",
       "        <td style=\"padding-left: 1em; padding-right: 1em; text-align: center; vertical-align: top\">0</td>\n",
       "        <td style=\"padding-left: 1em; padding-right: 1em; text-align: center; vertical-align: top\">Lincoln Chafee</td>\n",
       "        <td style=\"padding-left: 1em; padding-right: 1em; text-align: center; vertical-align: top\">0.833876221498</td>\n",
       "        <td style=\"padding-left: 1em; padding-right: 1em; text-align: center; vertical-align: top\">4</td>\n",
       "    </tr>\n",
       "    <tr>\n",
       "        <td style=\"padding-left: 1em; padding-right: 1em; text-align: center; vertical-align: top\">0</td>\n",
       "        <td style=\"padding-left: 1em; padding-right: 1em; text-align: center; vertical-align: top\">Anthony Foxx</td>\n",
       "        <td style=\"padding-left: 1em; padding-right: 1em; text-align: center; vertical-align: top\">0.833910034602</td>\n",
       "        <td style=\"padding-left: 1em; padding-right: 1em; text-align: center; vertical-align: top\">5</td>\n",
       "    </tr>\n",
       "</table>\n",
       "[5 rows x 4 columns]<br/>\n",
       "</div>"
      ],
      "text/plain": [
       "Columns:\n",
       "\tquery_label\tint\n",
       "\treference_label\tstr\n",
       "\tdistance\tfloat\n",
       "\trank\tint\n",
       "\n",
       "Rows: 5\n",
       "\n",
       "Data:\n",
       "+-------------+-----------------------+----------------+------+\n",
       "| query_label |    reference_label    |    distance    | rank |\n",
       "+-------------+-----------------------+----------------+------+\n",
       "|      0      | Arnold Schwarzenegger |      0.0       |  1   |\n",
       "|      0      |     Jesse Ventura     | 0.818918918919 |  2   |\n",
       "|      0      |     John Kitzhaber    | 0.824615384615 |  3   |\n",
       "|      0      |     Lincoln Chafee    | 0.833876221498 |  4   |\n",
       "|      0      |      Anthony Foxx     | 0.833910034602 |  5   |\n",
       "+-------------+-----------------------+----------------+------+\n",
       "[5 rows x 4 columns]"
      ]
     },
     "execution_count": 52,
     "metadata": {},
     "output_type": "execute_result"
    }
   ],
   "source": [
    "knn_model.query(arnold)"
   ]
  },
  {
   "cell_type": "code",
   "execution_count": null,
   "metadata": {
    "collapsed": true
   },
   "outputs": [],
   "source": []
  }
 ],
 "metadata": {
  "kernelspec": {
   "display_name": "Python 2",
   "language": "python",
   "name": "python2"
  },
  "language_info": {
   "codemirror_mode": {
    "name": "ipython",
    "version": 2
   },
   "file_extension": ".py",
   "mimetype": "text/x-python",
   "name": "python",
   "nbconvert_exporter": "python",
   "pygments_lexer": "ipython2",
   "version": "2.7.13"
  }
 },
 "nbformat": 4,
 "nbformat_minor": 2
}
